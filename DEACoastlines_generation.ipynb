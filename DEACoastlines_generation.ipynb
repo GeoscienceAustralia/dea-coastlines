{
 "cells": [
  {
   "cell_type": "markdown",
   "metadata": {},
   "source": [
    "# DEA Coastlines raster generation <img align=\"right\" src=\"https://github.com/GeoscienceAustralia/dea-notebooks/raw/develop/Supplementary_data/dea_logo.jpg\">\n",
    "\n",
    "This code conducts raster generation for DEA Coastlines:\n",
    "\n",
    "* Load stack of all available Landsat 5, 7 and 8 satellite imagery for a location using [ODC Virtual Products](https://docs.dea.ga.gov.au/notebooks/Frequently_used_code/Virtual_products.html)\n",
    "* Convert each satellite image into a remote sensing water index (MNDWI)\n",
    "* For each satellite image, model ocean tides into a 2 x 2 km grid based on exact time of image acquisition\n",
    "* Interpolate tide heights into spatial extent of image stack\n",
    "* Mask out high and low tide pixels by removing all observations acquired outside of 50 percent of the observed tidal range centered over mean sea level\n",
    "* Combine tidally-masked data into annual median composites from 1988 to the present representing the coastline at approximately mean sea level\n",
    "\n",
    "This is an interactive version of the code intended for prototyping; to run this analysis at scale, use the [`deacoastlines_generation.py`](deacoastlines_generation.py) Python script.\n",
    "\n",
    "**Compatability:**\n",
    "```\n",
    "module use /g/data/v10/public/modules/modulefiles\n",
    "module load dea/20200713\n",
    "pip install --user ruptures\n",
    "pip install --user git+https://github.com/mattijn/topojson/\n",
    "pip install --user --upgrade --extra-index-url=\"https://packages.dea.ga.gov.au\" odc-algo\n",
    "pip install --upgrade dask==2021.1.1\n",
    "```\n",
    "---"
   ]
  },
  {
   "cell_type": "markdown",
   "metadata": {},
   "source": [
    "## Getting started\n"
   ]
  },
  {
   "cell_type": "markdown",
   "metadata": {},
   "source": [
    "### Load packages\n",
    "\n",
    "First we import the required Python packages, then we connect to the database, and load the catalog of virtual products."
   ]
  },
  {
   "cell_type": "code",
   "execution_count": 2,
   "metadata": {},
   "outputs": [
    {
     "name": "stderr",
     "output_type": "stream",
     "text": [
      "/env/lib/python3.6/site-packages/geopandas/_compat.py:88: UserWarning: The Shapely GEOS version (3.7.2-CAPI-1.11.0 ) is incompatible with the GEOS version PyGEOS was compiled with (3.9.1-CAPI-1.14.2). Conversions between both will be slow.\n",
      "  shapely_geos_version, geos_capi_version_string\n"
     ]
    },
    {
     "data": {
      "text/html": [
       "<table style=\"border: 2px solid white;\">\n",
       "<tr>\n",
       "<td style=\"vertical-align: top; border: 0px solid white\">\n",
       "<h3 style=\"text-align: left;\">Client</h3>\n",
       "<ul style=\"text-align: left; list-style: none; margin: 0; padding: 0;\">\n",
       "  <li><b>Scheduler: </b>tcp://127.0.0.1:45141</li>\n",
       "  <li><b>Dashboard: </b><a href='/user/robbibt/proxy/8787/status' target='_blank'>/user/robbibt/proxy/8787/status</a></li>\n",
       "</ul>\n",
       "</td>\n",
       "<td style=\"vertical-align: top; border: 0px solid white\">\n",
       "<h3 style=\"text-align: left;\">Cluster</h3>\n",
       "<ul style=\"text-align: left; list-style:none; margin: 0; padding: 0;\">\n",
       "  <li><b>Workers: </b>1</li>\n",
       "  <li><b>Cores: </b>7</li>\n",
       "  <li><b>Memory: </b>63.57 GB</li>\n",
       "</ul>\n",
       "</td>\n",
       "</tr>\n",
       "</table>"
      ],
      "text/plain": [
       "<Client: 'tcp://127.0.0.1:45141' processes=1 threads=7, memory=63.57 GB>"
      ]
     },
     "metadata": {},
     "output_type": "display_data"
    }
   ],
   "source": [
    "%matplotlib inline\n",
    "%load_ext line_profiler\n",
    "%load_ext autoreload\n",
    "%autoreload 2\n",
    "\n",
    "import deacoastlines_generation as deacl_gen\n",
    "\n",
    "import os\n",
    "import sys\n",
    "import datacube\n",
    "import geopandas as gpd\n",
    "import multiprocessing\n",
    "import xarray as xr\n",
    "from functools import partial\n",
    "import odc.algo\n",
    "import numpy as np\n",
    "from datacube.utils.geometry import Geometry\n",
    "\n",
    "dc = datacube.Datacube(app='DEA_CoastLines')\n",
    "\n",
    "from datacube.utils.dask import start_local_dask\n",
    "client = start_local_dask(mem_safety_margin='3gb')\n",
    "display(client)\n"
   ]
  },
  {
   "cell_type": "markdown",
   "metadata": {},
   "source": [
    "### Load supplementary data"
   ]
  },
  {
   "cell_type": "code",
   "execution_count": 3,
   "metadata": {},
   "outputs": [],
   "source": [
    "study_area = 137\n",
    "raster_version = 'v0.0.2'\n",
    "vector_version = 'v0.0.2'\n",
    "\n",
    "# Tide points are used to model tides across the extent of the satellite data\n",
    "points_gdf = gpd.read_file('input_data/5km_points_africa_coastal.geojson')\n",
    "\n",
    "# Albers grid cells used to process the analysis\n",
    "gridcell_gdf = (gpd.read_file('input_data/32km_grid_africa_coastal.geojson')\n",
    "                .to_crs(epsg=4326)\n",
    "                .set_index('id')\n",
    "                .loc[[study_area]])"
   ]
  },
  {
   "cell_type": "markdown",
   "metadata": {},
   "source": [
    "## Loading data\n",
    "### Create query\n"
   ]
  },
  {
   "cell_type": "code",
   "execution_count": 5,
   "metadata": {},
   "outputs": [],
   "source": [
    "# Create query\n",
    "geopoly = Geometry(gridcell_gdf.iloc[0].geometry, crs=gridcell_gdf.crs)\n",
    "query = {'geopolygon': geopoly.buffer(0.05),\n",
    "         'time': ('1980', '2021'),  # 1999, 2020\n",
    "#          'cloud_cover': [0, 90],\n",
    "         'dask_chunks': {'time': 1, 'x': 3000, 'y': 3000}}\n"
   ]
  },
  {
   "cell_type": "markdown",
   "metadata": {},
   "source": [
    "### Load virtual product"
   ]
  },
  {
   "cell_type": "code",
   "execution_count": 6,
   "metadata": {},
   "outputs": [
    {
     "name": "stdout",
     "output_type": "stream",
     "text": [
      "Using pixel quality parameters for USGS Collection 2\n",
      "Finding datasets\n",
      "    ls5_sr\n",
      "    ls7_sr\n",
      "    ls8_sr\n",
      "Re-scaling Landsat C2 data\n",
      "Returning 641 time steps as a dask array\n"
     ]
    }
   ],
   "source": [
    "# Load virtual product    \n",
    "ds = deacl_gen.load_mndwi(dc, \n",
    "                          query, \n",
    "                          yaml_path='deacoastlines_virtual_products_v1.0.0.yaml',\n",
    "                          product_name='ls_nbart_mndwi')"
   ]
  },
  {
   "cell_type": "code",
   "execution_count": 7,
   "metadata": {},
   "outputs": [
    {
     "name": "stderr",
     "output_type": "stream",
     "text": [
      "/env/lib/python3.6/site-packages/datacube/storage/masking.py:8: DeprecationWarning: datacube.storage.masking has moved to datacube.utils.masking\n",
      "  category=DeprecationWarning)\n"
     ]
    }
   ],
   "source": [
    "from datacube.storage.masking import make_mask\n",
    "nodata = make_mask(ds['pixel_quality'], **{'nodata': True})\n",
    "mask = (\n",
    "    make_mask(ds['pixel_quality'], **{'cloud': 'high_confidence'}) |\n",
    "    make_mask(ds['pixel_quality'], **{'cloud_shadow': 'high_confidence'}) | nodata\n",
    ")"
   ]
  },
  {
   "cell_type": "markdown",
   "metadata": {},
   "source": [
    "### Clean cloud mask"
   ]
  },
  {
   "cell_type": "code",
   "execution_count": 8,
   "metadata": {},
   "outputs": [],
   "source": [
    "# Rechunk if smallest chunk is less than 10\n",
    "if ((len(ds.x) % 3000) <= 10) or ((len(ds.y) % 3000) <= 10):\n",
    "    ds = ds.chunk({'x': 3200, 'y': 3200})\n",
    "\n",
    "# Close mask to remove small holes in cloud, open mask to \n",
    "# remove narrow false positive cloud, then dilate\n",
    "# mask2 = odc.algo.binary_closing(mask, 5)\n",
    "mask_cleaned = odc.algo.mask_cleanup(mask, r=(20, 0))\n",
    "ds = ds.where(~mask_cleaned & ~nodata)\n",
    "\n",
    "# Add new mask as nodata pixels\n",
    "# ds = odc.algo.erase_bad(ds, mask, nodata=np.nan)"
   ]
  },
  {
   "cell_type": "code",
   "execution_count": 9,
   "metadata": {},
   "outputs": [],
   "source": [
    "# ds.mndwi.isel(time=5).plot(vmin=-0.5, vmax=0.5)"
   ]
  },
  {
   "cell_type": "markdown",
   "metadata": {},
   "source": [
    "## Tidal modelling\n",
    "### Model tides at point locations"
   ]
  },
  {
   "cell_type": "code",
   "execution_count": 10,
   "metadata": {},
   "outputs": [
    {
     "name": "stderr",
     "output_type": "stream",
     "text": [
      "/home/jovyan/Robbi/dea-coastlines/deacoastlines_generation.py:213: UserWarning: Geometry is in a geographic CRS. Results from 'centroid' are likely incorrect. Use 'GeoSeries.to_crs()' to re-project geometries to a projected CRS before this operation.\n",
      "\n",
      "  x_vals = subset_gdf.geometry.centroid.x\n",
      "/home/jovyan/Robbi/dea-coastlines/deacoastlines_generation.py:214: UserWarning: Geometry is in a geographic CRS. Results from 'centroid' are likely incorrect. Use 'GeoSeries.to_crs()' to re-project geometries to a projected CRS before this operation.\n",
      "\n",
      "  y_vals = subset_gdf.geometry.centroid.y\n"
     ]
    },
    {
     "data": {
      "text/plain": [
       "<AxesSubplot:>"
      ]
     },
     "execution_count": 10,
     "metadata": {},
     "output_type": "execute_result"
    },
    {
     "data": {
      "image/png": "[encoded data removed]",
      "text/plain": [
       "<Figure size 432x288 with 1 Axes>"
      ]
     },
     "metadata": {
      "needs_background": "light"
     },
     "output_type": "display_data"
    }
   ],
   "source": [
    "tidepoints_gdf = deacl_gen.model_tides(ds, points_gdf)\n",
    "tidepoints_gdf.plot()"
   ]
  },
  {
   "cell_type": "markdown",
   "metadata": {},
   "source": [
    "### Interpolate tides into each satellite timestep"
   ]
  },
  {
   "cell_type": "code",
   "execution_count": 11,
   "metadata": {},
   "outputs": [],
   "source": [
    "# test = [(group.x.values, group.y.values, group.time.values)\n",
    "#  for (i, group) in ds.groupby('time')]"
   ]
  },
  {
   "cell_type": "code",
   "execution_count": 12,
   "metadata": {},
   "outputs": [],
   "source": [
    "# deacl_gen.interpolate_tide(tidepoints_gdf=tidepoints_gdf, timestep_tuple=test[10], factor=50).plot()"
   ]
  },
  {
   "cell_type": "code",
   "execution_count": 13,
   "metadata": {},
   "outputs": [
    {
     "name": "stdout",
     "output_type": "stream",
     "text": [
      "2021-07-19 11:26:13                                                             \r"
     ]
    }
   ],
   "source": [
    "# Interpolate tides for each timestep into the spatial extent of the data \n",
    "out_list = [deacl_gen.interpolate_tide(tidepoints_gdf=tidepoints_gdf, \n",
    "                                       timestep_tuple=(group.x.values, group.y.values, group.time.values), \n",
    "                                       factor=50) \n",
    "                              for (i, group) in ds.groupby('time')]\n",
    "\n",
    "# Combine to match the original dataset\n",
    "ds['tide_m'] = xr.concat(out_list, dim=ds['time'])"
   ]
  },
  {
   "cell_type": "code",
   "execution_count": 14,
   "metadata": {},
   "outputs": [],
   "source": [
    "# pool = multiprocessing.Pool(multiprocessing.cpu_count() - 1)\n",
    "# print(f'Parallelising {multiprocessing.cpu_count() - 1} processes')\n",
    "# out_list = pool.map(partial(deacl_gen.interpolate_tide,\n",
    "#                             tidepoints_gdf=tidepoints_gdf,\n",
    "#                             factor=50), \n",
    "#                     iterable=[(group.x.values, \n",
    "#                                group.y.values, \n",
    "#                                group.time.values) \n",
    "#                               for (i, group) in ds.groupby('time')])\n",
    "\n",
    "# # Combine to match the original dataset\n",
    "# ds['tide_m'] = xr.concat(out_list, dim=ds['time'])"
   ]
  },
  {
   "cell_type": "code",
   "execution_count": 15,
   "metadata": {},
   "outputs": [
    {
     "data": {
      "text/plain": [
       "<AxesSubplot:title={'center':'time = 1986-10-07T10:46:31.362019, spatial_ref ...'}, xlabel='x', ylabel='y'>"
      ]
     },
     "execution_count": 15,
     "metadata": {},
     "output_type": "execute_result"
    },
    {
     "data": {
      "image/png": "[encoded data removed]",
      "text/plain": [
       "<Figure size 1296x864 with 2 Axes>"
      ]
     },
     "metadata": {
      "needs_background": "light"
     },
     "output_type": "display_data"
    }
   ],
   "source": [
    "import matplotlib.pyplot as plt\n",
    "\n",
    "# Plot \n",
    "ds_i = ds['tide_m'].isel(time=18).compute()\n",
    "ds_i.plot.imshow(robust=True, \n",
    "                 cmap='viridis', \n",
    "                 size=12, \n",
    "                 vmin=ds_i.min().item(), \n",
    "                 vmax=ds_i.max().item())\n",
    "tidepoints_gdf.loc[str(ds_i.time.values)[0:10]].plot(ax=plt.gca(), \n",
    "                                                     column='tide_m', \n",
    "                                                     cmap='viridis', \n",
    "                                                     markersize=100,\n",
    "                                                     edgecolor='black',\n",
    "                                                     vmin=ds_i.min().item(),\n",
    "                                                     vmax=ds_i.max().item())\n"
   ]
  },
  {
   "cell_type": "code",
   "execution_count": 16,
   "metadata": {},
   "outputs": [],
   "source": [
    "# Determine tide cutoff\n",
    "tide_cutoff_buff = (\n",
    "    (ds['tide_m'].max(dim='time') - ds['tide_m'].min(dim='time')) * 0.25)\n",
    "tide_cutoff_min = 0.0 - tide_cutoff_buff  #.clip(1)\n",
    "tide_cutoff_max = 0.0 + tide_cutoff_buff  #.clip(1)"
   ]
  },
  {
   "cell_type": "markdown",
   "metadata": {},
   "source": [
    "## Generate yearly composites"
   ]
  },
  {
   "cell_type": "code",
   "execution_count": 17,
   "metadata": {},
   "outputs": [
    {
     "name": "stdout",
     "output_type": "stream",
     "text": [
      "Processing 1984\n",
      "Processing 1985\n",
      "Processing 1986\n",
      "Processing 1987\n",
      "Processing 1988\n",
      "Processing 1989\n",
      "Processing 1990\n",
      "Processing 1994\n",
      "Processing 1995\n",
      "Processing 1998\n",
      "Processing 1999\n",
      "Processing 2000\n",
      "Processing 2001\n",
      "Processing 2002\n",
      "Processing 2003\n",
      "Processing 2004\n",
      "Processing 2005\n",
      "Processing 2006\n",
      "Processing 2007\n",
      "Processing 2008\n",
      "Processing 2009\n",
      "Processing 2010\n",
      "Processing 2011\n",
      "Processing 2012\n",
      "Processing 2013\n",
      "Processing 2014\n",
      "Processing 2015\n",
      "Processing 2016\n",
      "Processing 2017\n",
      "Processing 2018\n",
      "Processing 2019\n",
      "Processing 2020\n",
      "Processing 2021\n",
      "8.4 minutes\n"
     ]
    }
   ],
   "source": [
    "import datetime  \n",
    "start_time = datetime.datetime.now()\n",
    "\n",
    "# If output folder doesn't exist, create it\n",
    "output_dir = f'output_data/{study_area}_{raster_version}'\n",
    "os.makedirs(output_dir, exist_ok=True)\n",
    "\n",
    "# Iterate through each year and export annual and 3-year gapfill composites\n",
    "deacl_gen.export_annual_gapfill(ds.drop_vars(names=['green', 'swir_1', 'pixel_quality']), \n",
    "                                output_dir, \n",
    "                                tide_cutoff_min, \n",
    "                                tide_cutoff_max)\n",
    "\n",
    "print(f'{(datetime.datetime.now() - start_time).seconds / 60:.1f} minutes')"
   ]
  },
  {
   "cell_type": "markdown",
   "metadata": {},
   "source": [
    "## Run from script"
   ]
  },
  {
   "cell_type": "code",
   "execution_count": 1,
   "metadata": {},
   "outputs": [
    {
     "name": "stderr",
     "output_type": "stream",
     "text": [
      "/env/lib/python3.6/site-packages/geopandas/_compat.py:88: UserWarning: The Shapely GEOS version (3.7.2-CAPI-1.11.0 ) is incompatible with the GEOS version PyGEOS was compiled with (3.9.1-CAPI-1.14.2). Conversions between both will be slow.\n",
      "  shapely_geos_version, geos_capi_version_string\n"
     ]
    },
    {
     "name": "stdout",
     "output_type": "stream",
     "text": [
      "57\n",
      "<Client: 'tcp://127.0.0.1:33053' processes=1 threads=7, memory=63.57 GB>\n",
      "Using pixel quality parameters for USGS Collection 2\n",
      "Finding datasets\n",
      "    ls5_sr\n",
      "    ls7_sr\n",
      "    ls8_sr\n",
      "Re-scaling Landsat C2 data\n",
      "Returning 575 time steps as a dask array\n"
     ]
    },
    {
     "name": "stderr",
     "output_type": "stream",
     "text": [
      "/env/lib/python3.6/site-packages/datacube/storage/masking.py:8: DeprecationWarning: datacube.storage.masking has moved to datacube.utils.masking\n",
      "  category=DeprecationWarning)\n",
      "/home/jovyan/Robbi/dea-coastlines/deacoastlines_generation.py:213: UserWarning: Geometry is in a geographic CRS. Results from 'centroid' are likely incorrect. Use 'GeoSeries.to_crs()' to re-project geometries to a projected CRS before this operation.\n",
      "\n",
      "  x_vals = subset_gdf.geometry.centroid.x\n",
      "/home/jovyan/Robbi/dea-coastlines/deacoastlines_generation.py:214: UserWarning: Geometry is in a geographic CRS. Results from 'centroid' are likely incorrect. Use 'GeoSeries.to_crs()' to re-project geometries to a projected CRS before this operation.\n",
      "\n",
      "  y_vals = subset_gdf.geometry.centroid.y\n"
     ]
    },
    {
     "name": "stdout",
     "output_type": "stream",
     "text": [
      "Processing 19991:40                                                             \n",
      "Processing 2000\n",
      "Processing 2001\n",
      "Processing 2002\n",
      "Processing 2003\n",
      "Processing 2004\n",
      "Processing 2005\n",
      "Processing 2006\n",
      "Processing 2007\n",
      "Processing 2008\n",
      "Processing 2009\n",
      "Processing 2010\n",
      "Processing 2011\n",
      "Processing 2012\n",
      "Processing 2013\n",
      "Processing 2014\n",
      "Processing 2015\n",
      "Processing 2016\n",
      "Processing 2017\n",
      "Processing 2018\n",
      "Processing 2019\n",
      "Processing 2020\n",
      "Processing 2021\n",
      "9.8 minutes\n",
      "58\n"
     ]
    },
    {
     "name": "stderr",
     "output_type": "stream",
     "text": [
      "/env/lib/python3.6/site-packages/distributed/node.py:155: UserWarning: Port 8787 is already in use.\n",
      "Perhaps you already have a cluster running?\n",
      "Hosting the HTTP server on port 32895 instead\n",
      "  http_address[\"port\"], self.http_server.port\n"
     ]
    },
    {
     "name": "stdout",
     "output_type": "stream",
     "text": [
      "<Client: 'tcp://127.0.0.1:46369' processes=1 threads=7, memory=63.57 GB>\n",
      "Using pixel quality parameters for USGS Collection 2\n",
      "Finding datasets\n",
      "    ls5_sr\n",
      "    ls7_sr\n",
      "    ls8_sr\n",
      "Re-scaling Landsat C2 data\n",
      "Returning 575 time steps as a dask array\n"
     ]
    },
    {
     "name": "stderr",
     "output_type": "stream",
     "text": [
      "/home/jovyan/Robbi/dea-coastlines/deacoastlines_generation.py:213: UserWarning: Geometry is in a geographic CRS. Results from 'centroid' are likely incorrect. Use 'GeoSeries.to_crs()' to re-project geometries to a projected CRS before this operation.\n",
      "\n",
      "  x_vals = subset_gdf.geometry.centroid.x\n",
      "/home/jovyan/Robbi/dea-coastlines/deacoastlines_generation.py:214: UserWarning: Geometry is in a geographic CRS. Results from 'centroid' are likely incorrect. Use 'GeoSeries.to_crs()' to re-project geometries to a projected CRS before this operation.\n",
      "\n",
      "  y_vals = subset_gdf.geometry.centroid.y\n"
     ]
    },
    {
     "name": "stdout",
     "output_type": "stream",
     "text": [
      "Processing 19991:40                                                             \n",
      "Processing 2000\n",
      "Processing 2001\n",
      "Processing 2002\n",
      "Processing 2003\n",
      "Processing 2004\n",
      "Processing 2005\n",
      "Processing 2006\n",
      "Processing 2007\n",
      "Processing 2008\n",
      "Processing 2009\n",
      "Processing 2010\n",
      "Processing 2011\n",
      "Processing 2012\n",
      "Processing 2013\n",
      "Processing 2014\n",
      "Processing 2015\n",
      "Processing 2016\n",
      "Processing 2017\n",
      "Processing 2018\n",
      "Processing 2019\n",
      "Processing 2020\n",
      "Processing 2021\n",
      "21.5 minutes\n",
      "77\n"
     ]
    },
    {
     "name": "stderr",
     "output_type": "stream",
     "text": [
      "/env/lib/python3.6/site-packages/distributed/node.py:155: UserWarning: Port 8787 is already in use.\n",
      "Perhaps you already have a cluster running?\n",
      "Hosting the HTTP server on port 35755 instead\n",
      "  http_address[\"port\"], self.http_server.port\n"
     ]
    },
    {
     "name": "stdout",
     "output_type": "stream",
     "text": [
      "<Client: 'tcp://127.0.0.1:40419' processes=1 threads=7, memory=63.57 GB>\n",
      "Using pixel quality parameters for USGS Collection 2\n",
      "Finding datasets\n",
      "    ls5_sr\n",
      "    ls7_sr\n",
      "    ls8_sr\n",
      "Re-scaling Landsat C2 data\n",
      "Returning 576 time steps as a dask array\n"
     ]
    },
    {
     "name": "stderr",
     "output_type": "stream",
     "text": [
      "/home/jovyan/Robbi/dea-coastlines/deacoastlines_generation.py:213: UserWarning: Geometry is in a geographic CRS. Results from 'centroid' are likely incorrect. Use 'GeoSeries.to_crs()' to re-project geometries to a projected CRS before this operation.\n",
      "\n",
      "  x_vals = subset_gdf.geometry.centroid.x\n",
      "/home/jovyan/Robbi/dea-coastlines/deacoastlines_generation.py:214: UserWarning: Geometry is in a geographic CRS. Results from 'centroid' are likely incorrect. Use 'GeoSeries.to_crs()' to re-project geometries to a projected CRS before this operation.\n",
      "\n",
      "  y_vals = subset_gdf.geometry.centroid.y\n"
     ]
    },
    {
     "name": "stdout",
     "output_type": "stream",
     "text": [
      "Processing 19991:40                                                             \n",
      "Processing 2000\n",
      "Processing 2001\n",
      "Processing 2002\n",
      "Processing 2003\n",
      "Processing 2004\n",
      "Processing 2005\n",
      "Processing 2006\n",
      "Processing 2007\n",
      "Processing 2008\n",
      "Processing 2009\n",
      "Processing 2010\n",
      "Processing 2011\n",
      "Processing 2012\n",
      "Processing 2013\n",
      "Processing 2014\n",
      "Processing 2015\n",
      "Processing 2016\n",
      "Processing 2017\n",
      "Processing 2018\n",
      "Processing 2019\n",
      "Processing 2020\n",
      "Processing 2021\n",
      "32.0 minutes\n",
      "78\n"
     ]
    },
    {
     "name": "stderr",
     "output_type": "stream",
     "text": [
      "/env/lib/python3.6/site-packages/distributed/node.py:155: UserWarning: Port 8787 is already in use.\n",
      "Perhaps you already have a cluster running?\n",
      "Hosting the HTTP server on port 45351 instead\n",
      "  http_address[\"port\"], self.http_server.port\n"
     ]
    },
    {
     "name": "stdout",
     "output_type": "stream",
     "text": [
      "<Client: 'tcp://127.0.0.1:42379' processes=1 threads=7, memory=63.57 GB>\n",
      "Using pixel quality parameters for USGS Collection 2\n",
      "Finding datasets\n",
      "    ls5_sr\n",
      "    ls7_sr\n",
      "    ls8_sr\n",
      "Re-scaling Landsat C2 data\n",
      "Returning 561 time steps as a dask array\n"
     ]
    },
    {
     "name": "stderr",
     "output_type": "stream",
     "text": [
      "/home/jovyan/Robbi/dea-coastlines/deacoastlines_generation.py:213: UserWarning: Geometry is in a geographic CRS. Results from 'centroid' are likely incorrect. Use 'GeoSeries.to_crs()' to re-project geometries to a projected CRS before this operation.\n",
      "\n",
      "  x_vals = subset_gdf.geometry.centroid.x\n",
      "/home/jovyan/Robbi/dea-coastlines/deacoastlines_generation.py:214: UserWarning: Geometry is in a geographic CRS. Results from 'centroid' are likely incorrect. Use 'GeoSeries.to_crs()' to re-project geometries to a projected CRS before this operation.\n",
      "\n",
      "  y_vals = subset_gdf.geometry.centroid.y\n"
     ]
    },
    {
     "name": "stdout",
     "output_type": "stream",
     "text": [
      "Processing 19992:04                                                             \n",
      "Processing 2000\n",
      "Processing 2001\n",
      "Processing 2002\n",
      "Processing 2003\n",
      "Processing 2004\n",
      "Processing 2005\n",
      "Processing 2006\n",
      "Processing 2007\n",
      "Processing 2008\n",
      "Processing 2009\n",
      "Processing 2010\n",
      "Processing 2011\n",
      "Processing 2012\n",
      "Processing 2013\n",
      "Processing 2014\n",
      "Processing 2015\n",
      "Processing 2016\n",
      "Processing 2017\n",
      "Processing 2018\n",
      "Processing 2019\n",
      "Processing 2020\n",
      "Processing 2021\n",
      "42.6 minutes\n",
      "79\n"
     ]
    },
    {
     "name": "stderr",
     "output_type": "stream",
     "text": [
      "/env/lib/python3.6/site-packages/distributed/node.py:155: UserWarning: Port 8787 is already in use.\n",
      "Perhaps you already have a cluster running?\n",
      "Hosting the HTTP server on port 45615 instead\n",
      "  http_address[\"port\"], self.http_server.port\n"
     ]
    },
    {
     "name": "stdout",
     "output_type": "stream",
     "text": [
      "<Client: 'tcp://127.0.0.1:42261' processes=1 threads=7, memory=63.57 GB>\n",
      "Using pixel quality parameters for USGS Collection 2\n",
      "Finding datasets\n",
      "    ls5_sr\n",
      "    ls7_sr\n",
      "    ls8_sr\n",
      "Re-scaling Landsat C2 data\n",
      "Returning 1018 time steps as a dask array\n"
     ]
    },
    {
     "name": "stderr",
     "output_type": "stream",
     "text": [
      "/home/jovyan/Robbi/dea-coastlines/deacoastlines_generation.py:213: UserWarning: Geometry is in a geographic CRS. Results from 'centroid' are likely incorrect. Use 'GeoSeries.to_crs()' to re-project geometries to a projected CRS before this operation.\n",
      "\n",
      "  x_vals = subset_gdf.geometry.centroid.x\n",
      "/home/jovyan/Robbi/dea-coastlines/deacoastlines_generation.py:214: UserWarning: Geometry is in a geographic CRS. Results from 'centroid' are likely incorrect. Use 'GeoSeries.to_crs()' to re-project geometries to a projected CRS before this operation.\n",
      "\n",
      "  y_vals = subset_gdf.geometry.centroid.y\n"
     ]
    },
    {
     "name": "stdout",
     "output_type": "stream",
     "text": [
      "Processing 19992:04                                                             \n",
      "Processing 2000\n",
      "Processing 2001\n",
      "Processing 2002\n",
      "Processing 2003\n",
      "Processing 2004\n",
      "Processing 2005\n",
      "Processing 2006\n",
      "Processing 2007\n",
      "Processing 2008\n",
      "Processing 2009\n",
      "Processing 2010\n",
      "Processing 2011\n",
      "Processing 2012\n",
      "Processing 2013\n",
      "Processing 2014\n",
      "Processing 2015\n",
      "Processing 2016\n",
      "Processing 2017\n",
      "Processing 2018\n",
      "Processing 2019\n",
      "Processing 2020\n",
      "Processing 2021\n",
      "61.5 minutes\n",
      "80\n"
     ]
    },
    {
     "name": "stderr",
     "output_type": "stream",
     "text": [
      "/env/lib/python3.6/site-packages/distributed/node.py:155: UserWarning: Port 8787 is already in use.\n",
      "Perhaps you already have a cluster running?\n",
      "Hosting the HTTP server on port 34133 instead\n",
      "  http_address[\"port\"], self.http_server.port\n"
     ]
    },
    {
     "name": "stdout",
     "output_type": "stream",
     "text": [
      "<Client: 'tcp://127.0.0.1:45695' processes=1 threads=7, memory=63.57 GB>\n",
      "Using pixel quality parameters for USGS Collection 2\n",
      "Finding datasets\n",
      "    ls5_sr\n",
      "    ls7_sr\n",
      "    ls8_sr\n",
      "Re-scaling Landsat C2 data\n",
      "Returning 1142 time steps as a dask array\n"
     ]
    },
    {
     "name": "stderr",
     "output_type": "stream",
     "text": [
      "/home/jovyan/Robbi/dea-coastlines/deacoastlines_generation.py:213: UserWarning: Geometry is in a geographic CRS. Results from 'centroid' are likely incorrect. Use 'GeoSeries.to_crs()' to re-project geometries to a projected CRS before this operation.\n",
      "\n",
      "  x_vals = subset_gdf.geometry.centroid.x\n",
      "/home/jovyan/Robbi/dea-coastlines/deacoastlines_generation.py:214: UserWarning: Geometry is in a geographic CRS. Results from 'centroid' are likely incorrect. Use 'GeoSeries.to_crs()' to re-project geometries to a projected CRS before this operation.\n",
      "\n",
      "  y_vals = subset_gdf.geometry.centroid.y\n"
     ]
    },
    {
     "name": "stdout",
     "output_type": "stream",
     "text": [
      "Processing 19992:04                                                             \n",
      "Processing 2000\n",
      "Processing 2001\n",
      "Processing 2002\n",
      "Processing 2003\n",
      "Processing 2004\n",
      "Processing 2005\n",
      "Processing 2006\n",
      "Processing 2007\n",
      "Processing 2008\n",
      "Processing 2009\n",
      "Processing 2010\n",
      "Processing 2011\n",
      "Processing 2012\n",
      "Processing 2013\n",
      "Processing 2014\n",
      "Processing 2015\n",
      "Processing 2016\n",
      "Processing 2017\n",
      "Processing 2018\n",
      "Processing 2019\n",
      "Processing 2020\n",
      "Processing 2021\n",
      "82.0 minutes\n",
      "81\n"
     ]
    },
    {
     "name": "stderr",
     "output_type": "stream",
     "text": [
      "/env/lib/python3.6/site-packages/distributed/node.py:155: UserWarning: Port 8787 is already in use.\n",
      "Perhaps you already have a cluster running?\n",
      "Hosting the HTTP server on port 45825 instead\n",
      "  http_address[\"port\"], self.http_server.port\n"
     ]
    },
    {
     "name": "stdout",
     "output_type": "stream",
     "text": [
      "<Client: 'tcp://127.0.0.1:44201' processes=1 threads=7, memory=63.57 GB>\n",
      "Using pixel quality parameters for USGS Collection 2\n",
      "Finding datasets\n",
      "    ls5_sr\n",
      "    ls7_sr\n",
      "    ls8_sr\n",
      "Re-scaling Landsat C2 data\n",
      "Returning 1142 time steps as a dask array\n"
     ]
    },
    {
     "name": "stderr",
     "output_type": "stream",
     "text": [
      "/home/jovyan/Robbi/dea-coastlines/deacoastlines_generation.py:213: UserWarning: Geometry is in a geographic CRS. Results from 'centroid' are likely incorrect. Use 'GeoSeries.to_crs()' to re-project geometries to a projected CRS before this operation.\n",
      "\n",
      "  x_vals = subset_gdf.geometry.centroid.x\n",
      "/home/jovyan/Robbi/dea-coastlines/deacoastlines_generation.py:214: UserWarning: Geometry is in a geographic CRS. Results from 'centroid' are likely incorrect. Use 'GeoSeries.to_crs()' to re-project geometries to a projected CRS before this operation.\n",
      "\n",
      "  y_vals = subset_gdf.geometry.centroid.y\n"
     ]
    },
    {
     "name": "stdout",
     "output_type": "stream",
     "text": [
      "Processing 19992:04                                                             \n",
      "Processing 2000\n",
      "Processing 2001\n",
      "Processing 2002\n",
      "Processing 2003\n",
      "Processing 2004\n",
      "Processing 2005\n",
      "Processing 2006\n",
      "Processing 2007\n",
      "Processing 2008\n",
      "Processing 2009\n",
      "Processing 2010\n",
      "Processing 2011\n",
      "Processing 2012\n",
      "Processing 2013\n",
      "Processing 2014\n",
      "Processing 2015\n",
      "Processing 2016\n",
      "Processing 2017\n",
      "Processing 2018\n",
      "Processing 2019\n",
      "Processing 2020\n",
      "Processing 2021\n",
      "99.4 minutes\n",
      "82\n"
     ]
    },
    {
     "name": "stderr",
     "output_type": "stream",
     "text": [
      "/env/lib/python3.6/site-packages/distributed/node.py:155: UserWarning: Port 8787 is already in use.\n",
      "Perhaps you already have a cluster running?\n",
      "Hosting the HTTP server on port 41829 instead\n",
      "  http_address[\"port\"], self.http_server.port\n"
     ]
    },
    {
     "name": "stdout",
     "output_type": "stream",
     "text": [
      "<Client: 'tcp://127.0.0.1:46141' processes=1 threads=7, memory=63.57 GB>\n",
      "Using pixel quality parameters for USGS Collection 2\n",
      "Finding datasets\n",
      "    ls5_sr\n",
      "    ls7_sr\n",
      "    ls8_sr\n",
      "Re-scaling Landsat C2 data\n",
      "Returning 1041 time steps as a dask array\n"
     ]
    },
    {
     "name": "stderr",
     "output_type": "stream",
     "text": [
      "/home/jovyan/Robbi/dea-coastlines/deacoastlines_generation.py:213: UserWarning: Geometry is in a geographic CRS. Results from 'centroid' are likely incorrect. Use 'GeoSeries.to_crs()' to re-project geometries to a projected CRS before this operation.\n",
      "\n",
      "  x_vals = subset_gdf.geometry.centroid.x\n",
      "/home/jovyan/Robbi/dea-coastlines/deacoastlines_generation.py:214: UserWarning: Geometry is in a geographic CRS. Results from 'centroid' are likely incorrect. Use 'GeoSeries.to_crs()' to re-project geometries to a projected CRS before this operation.\n",
      "\n",
      "  y_vals = subset_gdf.geometry.centroid.y\n"
     ]
    },
    {
     "name": "stdout",
     "output_type": "stream",
     "text": [
      "Processing 19992:04                                                             \n",
      "Processing 2000\n",
      "Processing 2001\n",
      "Processing 2002\n",
      "Processing 2003\n",
      "Processing 2004\n",
      "Processing 2005\n",
      "Processing 2006\n",
      "Processing 2007\n",
      "Processing 2008\n",
      "Processing 2009\n",
      "Processing 2010\n",
      "Processing 2011\n",
      "Processing 2012\n",
      "Processing 2013\n",
      "Processing 2014\n",
      "Processing 2015\n",
      "Processing 2016\n",
      "Processing 2017\n",
      "Processing 2018\n",
      "Processing 2019\n",
      "Processing 2020\n",
      "Processing 2021\n",
      "114.0 minutes\n",
      "97\n"
     ]
    },
    {
     "name": "stderr",
     "output_type": "stream",
     "text": [
      "/env/lib/python3.6/site-packages/distributed/node.py:155: UserWarning: Port 8787 is already in use.\n",
      "Perhaps you already have a cluster running?\n",
      "Hosting the HTTP server on port 41561 instead\n",
      "  http_address[\"port\"], self.http_server.port\n"
     ]
    },
    {
     "name": "stdout",
     "output_type": "stream",
     "text": [
      "<Client: 'tcp://127.0.0.1:39731' processes=1 threads=7, memory=63.57 GB>\n",
      "Using pixel quality parameters for USGS Collection 2\n",
      "Finding datasets\n",
      "    ls5_sr\n",
      "    ls7_sr\n",
      "    ls8_sr\n",
      "Re-scaling Landsat C2 data\n",
      "Returning 1063 time steps as a dask array\n"
     ]
    },
    {
     "name": "stderr",
     "output_type": "stream",
     "text": [
      "/home/jovyan/Robbi/dea-coastlines/deacoastlines_generation.py:213: UserWarning: Geometry is in a geographic CRS. Results from 'centroid' are likely incorrect. Use 'GeoSeries.to_crs()' to re-project geometries to a projected CRS before this operation.\n",
      "\n",
      "  x_vals = subset_gdf.geometry.centroid.x\n",
      "/home/jovyan/Robbi/dea-coastlines/deacoastlines_generation.py:214: UserWarning: Geometry is in a geographic CRS. Results from 'centroid' are likely incorrect. Use 'GeoSeries.to_crs()' to re-project geometries to a projected CRS before this operation.\n",
      "\n",
      "  y_vals = subset_gdf.geometry.centroid.y\n"
     ]
    },
    {
     "name": "stdout",
     "output_type": "stream",
     "text": [
      "Processing 19992:06                                                             \n",
      "Processing 2000\n",
      "Processing 2001\n",
      "Processing 2002\n",
      "Processing 2003\n",
      "Processing 2004\n",
      "Processing 2005\n",
      "Processing 2006\n",
      "Processing 2007\n",
      "Processing 2008\n",
      "Processing 2009\n",
      "Processing 2010\n",
      "Processing 2011\n",
      "Processing 2012\n",
      "Processing 2013\n",
      "Processing 2014\n",
      "Processing 2015\n",
      "Processing 2016\n",
      "Processing 2017\n",
      "Processing 2018\n",
      "Processing 2019\n",
      "Processing 2020\n",
      "Processing 2021\n",
      "131.2 minutes\n",
      "106\n"
     ]
    },
    {
     "name": "stderr",
     "output_type": "stream",
     "text": [
      "/env/lib/python3.6/site-packages/distributed/node.py:155: UserWarning: Port 8787 is already in use.\n",
      "Perhaps you already have a cluster running?\n",
      "Hosting the HTTP server on port 36081 instead\n",
      "  http_address[\"port\"], self.http_server.port\n"
     ]
    },
    {
     "name": "stdout",
     "output_type": "stream",
     "text": [
      "<Client: 'tcp://127.0.0.1:33061' processes=1 threads=7, memory=63.57 GB>\n",
      "Using pixel quality parameters for USGS Collection 2\n",
      "Finding datasets\n",
      "    ls5_sr\n",
      "    ls7_sr\n",
      "    ls8_sr\n",
      "Re-scaling Landsat C2 data\n",
      "Returning 1111 time steps as a dask array\n"
     ]
    },
    {
     "name": "stderr",
     "output_type": "stream",
     "text": [
      "/home/jovyan/Robbi/dea-coastlines/deacoastlines_generation.py:213: UserWarning: Geometry is in a geographic CRS. Results from 'centroid' are likely incorrect. Use 'GeoSeries.to_crs()' to re-project geometries to a projected CRS before this operation.\n",
      "\n",
      "  x_vals = subset_gdf.geometry.centroid.x\n",
      "/home/jovyan/Robbi/dea-coastlines/deacoastlines_generation.py:214: UserWarning: Geometry is in a geographic CRS. Results from 'centroid' are likely incorrect. Use 'GeoSeries.to_crs()' to re-project geometries to a projected CRS before this operation.\n",
      "\n",
      "  y_vals = subset_gdf.geometry.centroid.y\n"
     ]
    },
    {
     "name": "stdout",
     "output_type": "stream",
     "text": [
      "Processing 19992:04                                                             \n",
      "Processing 2000\n",
      "Processing 2001\n",
      "Processing 2002\n",
      "Processing 2003\n",
      "Processing 2004\n",
      "Processing 2005\n",
      "Processing 2006\n",
      "Processing 2007\n",
      "Processing 2008\n",
      "Processing 2009\n",
      "Processing 2010\n",
      "Processing 2011\n",
      "Processing 2012\n",
      "Processing 2013\n",
      "Processing 2014\n",
      "Processing 2015\n",
      "Processing 2016\n",
      "Processing 2017\n",
      "Processing 2018\n",
      "Processing 2019\n",
      "Processing 2020\n",
      "Processing 2021\n",
      "146.2 minutes\n",
      "107\n"
     ]
    },
    {
     "name": "stderr",
     "output_type": "stream",
     "text": [
      "/env/lib/python3.6/site-packages/distributed/node.py:155: UserWarning: Port 8787 is already in use.\n",
      "Perhaps you already have a cluster running?\n",
      "Hosting the HTTP server on port 35927 instead\n",
      "  http_address[\"port\"], self.http_server.port\n"
     ]
    },
    {
     "name": "stdout",
     "output_type": "stream",
     "text": [
      "<Client: 'tcp://127.0.0.1:35553' processes=1 threads=7, memory=63.57 GB>\n",
      "Using pixel quality parameters for USGS Collection 2\n",
      "Finding datasets\n",
      "    ls5_sr\n",
      "    ls7_sr\n",
      "    ls8_sr\n",
      "Re-scaling Landsat C2 data\n",
      "Returning 1111 time steps as a dask array\n"
     ]
    },
    {
     "name": "stderr",
     "output_type": "stream",
     "text": [
      "/home/jovyan/Robbi/dea-coastlines/deacoastlines_generation.py:213: UserWarning: Geometry is in a geographic CRS. Results from 'centroid' are likely incorrect. Use 'GeoSeries.to_crs()' to re-project geometries to a projected CRS before this operation.\n",
      "\n",
      "  x_vals = subset_gdf.geometry.centroid.x\n",
      "/home/jovyan/Robbi/dea-coastlines/deacoastlines_generation.py:214: UserWarning: Geometry is in a geographic CRS. Results from 'centroid' are likely incorrect. Use 'GeoSeries.to_crs()' to re-project geometries to a projected CRS before this operation.\n",
      "\n",
      "  y_vals = subset_gdf.geometry.centroid.y\n"
     ]
    },
    {
     "name": "stdout",
     "output_type": "stream",
     "text": [
      "Processing 19992:04                                                             \n",
      "Processing 2000\n",
      "Processing 2001\n",
      "Processing 2002\n",
      "Processing 2003\n",
      "Processing 2004\n",
      "Processing 2005\n",
      "Processing 2006\n",
      "Processing 2007\n",
      "Processing 2008\n",
      "Processing 2009\n",
      "Processing 2010\n",
      "Processing 2011\n",
      "Processing 2012\n",
      "Processing 2013\n",
      "Processing 2014\n",
      "Processing 2015\n",
      "Processing 2016\n",
      "Processing 2017\n",
      "Processing 2018\n",
      "Processing 2019\n",
      "Processing 2020\n",
      "Processing 2021\n",
      "162.1 minutes\n",
      "108\n"
     ]
    },
    {
     "name": "stderr",
     "output_type": "stream",
     "text": [
      "/env/lib/python3.6/site-packages/distributed/node.py:155: UserWarning: Port 8787 is already in use.\n",
      "Perhaps you already have a cluster running?\n",
      "Hosting the HTTP server on port 46423 instead\n",
      "  http_address[\"port\"], self.http_server.port\n"
     ]
    },
    {
     "name": "stdout",
     "output_type": "stream",
     "text": [
      "<Client: 'tcp://127.0.0.1:40615' processes=1 threads=7, memory=63.57 GB>\n",
      "Using pixel quality parameters for USGS Collection 2\n",
      "Finding datasets\n",
      "    ls5_sr\n",
      "    ls7_sr\n",
      "    ls8_sr\n",
      "Re-scaling Landsat C2 data\n",
      "Returning 1114 time steps as a dask array\n"
     ]
    },
    {
     "name": "stderr",
     "output_type": "stream",
     "text": [
      "/home/jovyan/Robbi/dea-coastlines/deacoastlines_generation.py:213: UserWarning: Geometry is in a geographic CRS. Results from 'centroid' are likely incorrect. Use 'GeoSeries.to_crs()' to re-project geometries to a projected CRS before this operation.\n",
      "\n",
      "  x_vals = subset_gdf.geometry.centroid.x\n",
      "/home/jovyan/Robbi/dea-coastlines/deacoastlines_generation.py:214: UserWarning: Geometry is in a geographic CRS. Results from 'centroid' are likely incorrect. Use 'GeoSeries.to_crs()' to re-project geometries to a projected CRS before this operation.\n",
      "\n",
      "  y_vals = subset_gdf.geometry.centroid.y\n"
     ]
    },
    {
     "name": "stdout",
     "output_type": "stream",
     "text": [
      "Processing 19992:04                                                             \n",
      "Processing 2000\n",
      "Processing 2001\n",
      "Processing 2002\n",
      "Processing 2003\n",
      "Processing 2004\n",
      "Processing 2005\n",
      "Processing 2006\n",
      "Processing 2007\n",
      "Processing 2008\n",
      "Processing 2009\n",
      "Processing 2010\n",
      "Processing 2011\n",
      "Processing 2012\n",
      "Processing 2013\n",
      "Processing 2014\n",
      "Processing 2015\n",
      "Processing 2016\n",
      "Processing 2017\n",
      "Processing 2018\n",
      "Processing 2019\n",
      "Processing 2020\n",
      "Processing 2021\n",
      "180.4 minutes\n",
      "109\n"
     ]
    },
    {
     "name": "stderr",
     "output_type": "stream",
     "text": [
      "/env/lib/python3.6/site-packages/distributed/node.py:155: UserWarning: Port 8787 is already in use.\n",
      "Perhaps you already have a cluster running?\n",
      "Hosting the HTTP server on port 36309 instead\n",
      "  http_address[\"port\"], self.http_server.port\n"
     ]
    },
    {
     "name": "stdout",
     "output_type": "stream",
     "text": [
      "<Client: 'tcp://127.0.0.1:37993' processes=1 threads=7, memory=63.57 GB>\n",
      "Using pixel quality parameters for USGS Collection 2\n",
      "Finding datasets\n",
      "    ls5_sr\n",
      "    ls7_sr\n",
      "    ls8_sr\n",
      "Re-scaling Landsat C2 data\n",
      "Returning 1140 time steps as a dask array\n"
     ]
    },
    {
     "name": "stderr",
     "output_type": "stream",
     "text": [
      "/home/jovyan/Robbi/dea-coastlines/deacoastlines_generation.py:213: UserWarning: Geometry is in a geographic CRS. Results from 'centroid' are likely incorrect. Use 'GeoSeries.to_crs()' to re-project geometries to a projected CRS before this operation.\n",
      "\n",
      "  x_vals = subset_gdf.geometry.centroid.x\n",
      "/home/jovyan/Robbi/dea-coastlines/deacoastlines_generation.py:214: UserWarning: Geometry is in a geographic CRS. Results from 'centroid' are likely incorrect. Use 'GeoSeries.to_crs()' to re-project geometries to a projected CRS before this operation.\n",
      "\n",
      "  y_vals = subset_gdf.geometry.centroid.y\n"
     ]
    },
    {
     "name": "stdout",
     "output_type": "stream",
     "text": [
      "Processing 19992:04                                                             \n",
      "Processing 2000\n",
      "Processing 2001\n",
      "Processing 2002\n",
      "Processing 2003\n",
      "Processing 2004\n",
      "Processing 2005\n",
      "Processing 2006\n",
      "Processing 2007\n",
      "Processing 2008\n",
      "Processing 2009\n",
      "Processing 2010\n",
      "Processing 2011\n",
      "Processing 2012\n",
      "Processing 2013\n",
      "Processing 2014\n",
      "Processing 2015\n",
      "Processing 2016\n",
      "Processing 2017\n",
      "Processing 2018\n",
      "Processing 2019\n",
      "Processing 2020\n",
      "Processing 2021\n",
      "198.4 minutes\n",
      "110\n"
     ]
    },
    {
     "name": "stderr",
     "output_type": "stream",
     "text": [
      "/env/lib/python3.6/site-packages/distributed/node.py:155: UserWarning: Port 8787 is already in use.\n",
      "Perhaps you already have a cluster running?\n",
      "Hosting the HTTP server on port 34869 instead\n",
      "  http_address[\"port\"], self.http_server.port\n"
     ]
    },
    {
     "name": "stdout",
     "output_type": "stream",
     "text": [
      "<Client: 'tcp://127.0.0.1:33397' processes=1 threads=7, memory=63.57 GB>\n",
      "Using pixel quality parameters for USGS Collection 2\n",
      "Finding datasets\n",
      "    ls5_sr\n",
      "    ls7_sr\n",
      "    ls8_sr\n",
      "Re-scaling Landsat C2 data\n",
      "Returning 1141 time steps as a dask array\n"
     ]
    },
    {
     "name": "stderr",
     "output_type": "stream",
     "text": [
      "/home/jovyan/Robbi/dea-coastlines/deacoastlines_generation.py:213: UserWarning: Geometry is in a geographic CRS. Results from 'centroid' are likely incorrect. Use 'GeoSeries.to_crs()' to re-project geometries to a projected CRS before this operation.\n",
      "\n",
      "  x_vals = subset_gdf.geometry.centroid.x\n",
      "/home/jovyan/Robbi/dea-coastlines/deacoastlines_generation.py:214: UserWarning: Geometry is in a geographic CRS. Results from 'centroid' are likely incorrect. Use 'GeoSeries.to_crs()' to re-project geometries to a projected CRS before this operation.\n",
      "\n",
      "  y_vals = subset_gdf.geometry.centroid.y\n"
     ]
    },
    {
     "name": "stdout",
     "output_type": "stream",
     "text": [
      "Processing 19992:04                                                             \n",
      "Processing 2000\n",
      "Processing 2001\n",
      "Processing 2002\n",
      "Processing 2003\n",
      "Processing 2004\n",
      "Processing 2005\n",
      "Processing 2006\n",
      "Processing 2007\n",
      "Processing 2008\n",
      "Processing 2009\n",
      "Processing 2010\n",
      "Processing 2011\n",
      "Processing 2012\n",
      "Processing 2013\n",
      "Processing 2014\n",
      "Processing 2015\n",
      "Processing 2016\n",
      "Processing 2017\n",
      "Processing 2018\n",
      "Processing 2019\n",
      "Processing 2020\n",
      "Processing 2021\n",
      "215.9 minutes\n",
      "111\n"
     ]
    },
    {
     "name": "stderr",
     "output_type": "stream",
     "text": [
      "/env/lib/python3.6/site-packages/distributed/node.py:155: UserWarning: Port 8787 is already in use.\n",
      "Perhaps you already have a cluster running?\n",
      "Hosting the HTTP server on port 39055 instead\n",
      "  http_address[\"port\"], self.http_server.port\n"
     ]
    },
    {
     "name": "stdout",
     "output_type": "stream",
     "text": [
      "<Client: 'tcp://127.0.0.1:41103' processes=1 threads=7, memory=63.57 GB>\n",
      "Using pixel quality parameters for USGS Collection 2\n",
      "Finding datasets\n",
      "    ls5_sr\n",
      "    ls7_sr\n",
      "    ls8_sr\n",
      "Re-scaling Landsat C2 data\n",
      "Returning 1108 time steps as a dask array\n"
     ]
    },
    {
     "name": "stderr",
     "output_type": "stream",
     "text": [
      "/home/jovyan/Robbi/dea-coastlines/deacoastlines_generation.py:213: UserWarning: Geometry is in a geographic CRS. Results from 'centroid' are likely incorrect. Use 'GeoSeries.to_crs()' to re-project geometries to a projected CRS before this operation.\n",
      "\n",
      "  x_vals = subset_gdf.geometry.centroid.x\n",
      "/home/jovyan/Robbi/dea-coastlines/deacoastlines_generation.py:214: UserWarning: Geometry is in a geographic CRS. Results from 'centroid' are likely incorrect. Use 'GeoSeries.to_crs()' to re-project geometries to a projected CRS before this operation.\n",
      "\n",
      "  y_vals = subset_gdf.geometry.centroid.y\n"
     ]
    },
    {
     "name": "stdout",
     "output_type": "stream",
     "text": [
      "Processing 19992:04                                                             \n",
      "Processing 2000\n",
      "Processing 2001\n",
      "Processing 2002\n",
      "Processing 2003\n",
      "Processing 2004\n",
      "Processing 2005\n",
      "Processing 2006\n",
      "Processing 2007\n",
      "Processing 2008\n",
      "Processing 2009\n",
      "Processing 2010\n",
      "Processing 2011\n",
      "Processing 2012\n",
      "Processing 2013\n",
      "Processing 2014\n",
      "Processing 2015\n",
      "Processing 2016\n",
      "Processing 2017\n",
      "Processing 2018\n",
      "Processing 2019\n",
      "Processing 2020\n",
      "Processing 2021\n",
      "231.0 minutes\n",
      "112\n"
     ]
    },
    {
     "name": "stderr",
     "output_type": "stream",
     "text": [
      "/env/lib/python3.6/site-packages/distributed/node.py:155: UserWarning: Port 8787 is already in use.\n",
      "Perhaps you already have a cluster running?\n",
      "Hosting the HTTP server on port 40441 instead\n",
      "  http_address[\"port\"], self.http_server.port\n"
     ]
    },
    {
     "name": "stdout",
     "output_type": "stream",
     "text": [
      "<Client: 'tcp://127.0.0.1:46667' processes=1 threads=7, memory=63.57 GB>\n",
      "Using pixel quality parameters for USGS Collection 2\n",
      "Finding datasets\n",
      "    ls5_sr\n",
      "    ls7_sr\n",
      "    ls8_sr\n",
      "Re-scaling Landsat C2 data\n",
      "Returning 993 time steps as a dask array\n"
     ]
    },
    {
     "name": "stderr",
     "output_type": "stream",
     "text": [
      "/home/jovyan/Robbi/dea-coastlines/deacoastlines_generation.py:213: UserWarning: Geometry is in a geographic CRS. Results from 'centroid' are likely incorrect. Use 'GeoSeries.to_crs()' to re-project geometries to a projected CRS before this operation.\n",
      "\n",
      "  x_vals = subset_gdf.geometry.centroid.x\n",
      "/home/jovyan/Robbi/dea-coastlines/deacoastlines_generation.py:214: UserWarning: Geometry is in a geographic CRS. Results from 'centroid' are likely incorrect. Use 'GeoSeries.to_crs()' to re-project geometries to a projected CRS before this operation.\n",
      "\n",
      "  y_vals = subset_gdf.geometry.centroid.y\n"
     ]
    },
    {
     "name": "stdout",
     "output_type": "stream",
     "text": [
      "Processing 19996:13                                                             \n",
      "Processing 2000\n",
      "Processing 2001\n",
      "Processing 2002\n",
      "Processing 2003\n",
      "Processing 2004\n",
      "Processing 2005\n",
      "Processing 2006\n",
      "Processing 2007\n",
      "Processing 2008\n",
      "Processing 2009\n",
      "Processing 2010\n",
      "Processing 2011\n",
      "Processing 2012\n",
      "Processing 2013\n",
      "Processing 2014\n",
      "Processing 2015\n",
      "Processing 2016\n",
      "Processing 2017\n",
      "Processing 2018\n",
      "Processing 2019\n",
      "Processing 2020\n",
      "Processing 2021\n",
      "244.7 minutes\n",
      "113\n"
     ]
    },
    {
     "name": "stderr",
     "output_type": "stream",
     "text": [
      "/env/lib/python3.6/site-packages/distributed/node.py:155: UserWarning: Port 8787 is already in use.\n",
      "Perhaps you already have a cluster running?\n",
      "Hosting the HTTP server on port 41079 instead\n",
      "  http_address[\"port\"], self.http_server.port\n"
     ]
    },
    {
     "name": "stdout",
     "output_type": "stream",
     "text": [
      "<Client: 'tcp://127.0.0.1:38531' processes=1 threads=7, memory=63.57 GB>\n",
      "Using pixel quality parameters for USGS Collection 2\n",
      "Finding datasets\n",
      "    ls5_sr\n",
      "    ls7_sr\n",
      "    ls8_sr\n",
      "Re-scaling Landsat C2 data\n",
      "Returning 993 time steps as a dask array\n"
     ]
    },
    {
     "name": "stderr",
     "output_type": "stream",
     "text": [
      "/home/jovyan/Robbi/dea-coastlines/deacoastlines_generation.py:213: UserWarning: Geometry is in a geographic CRS. Results from 'centroid' are likely incorrect. Use 'GeoSeries.to_crs()' to re-project geometries to a projected CRS before this operation.\n",
      "\n",
      "  x_vals = subset_gdf.geometry.centroid.x\n",
      "/home/jovyan/Robbi/dea-coastlines/deacoastlines_generation.py:214: UserWarning: Geometry is in a geographic CRS. Results from 'centroid' are likely incorrect. Use 'GeoSeries.to_crs()' to re-project geometries to a projected CRS before this operation.\n",
      "\n",
      "  y_vals = subset_gdf.geometry.centroid.y\n"
     ]
    },
    {
     "name": "stdout",
     "output_type": "stream",
     "text": [
      "Processing 19996:13                                                             \n",
      "Processing 2000\n",
      "Processing 2001\n",
      "Processing 2002\n",
      "Processing 2003\n",
      "Processing 2004\n",
      "Processing 2005\n",
      "Processing 2006\n",
      "Processing 2007\n",
      "Processing 2008\n",
      "Processing 2009\n",
      "Processing 2010\n",
      "Processing 2011\n",
      "Processing 2012\n",
      "Processing 2013\n",
      "Processing 2014\n",
      "Processing 2015\n",
      "Processing 2016\n",
      "Processing 2017\n",
      "Processing 2018\n",
      "Processing 2019\n",
      "Processing 2020\n",
      "Processing 2021\n",
      "258.8 minutes\n",
      "123\n"
     ]
    },
    {
     "name": "stderr",
     "output_type": "stream",
     "text": [
      "/env/lib/python3.6/site-packages/distributed/node.py:155: UserWarning: Port 8787 is already in use.\n",
      "Perhaps you already have a cluster running?\n",
      "Hosting the HTTP server on port 43189 instead\n",
      "  http_address[\"port\"], self.http_server.port\n"
     ]
    },
    {
     "name": "stdout",
     "output_type": "stream",
     "text": [
      "<Client: 'tcp://127.0.0.1:46245' processes=1 threads=7, memory=63.57 GB>\n",
      "Using pixel quality parameters for USGS Collection 2\n",
      "Finding datasets\n",
      "    ls5_sr\n",
      "    ls7_sr\n",
      "    ls8_sr\n",
      "Re-scaling Landsat C2 data\n",
      "Returning 1089 time steps as a dask array\n"
     ]
    },
    {
     "name": "stderr",
     "output_type": "stream",
     "text": [
      "/home/jovyan/Robbi/dea-coastlines/deacoastlines_generation.py:213: UserWarning: Geometry is in a geographic CRS. Results from 'centroid' are likely incorrect. Use 'GeoSeries.to_crs()' to re-project geometries to a projected CRS before this operation.\n",
      "\n",
      "  x_vals = subset_gdf.geometry.centroid.x\n",
      "/home/jovyan/Robbi/dea-coastlines/deacoastlines_generation.py:214: UserWarning: Geometry is in a geographic CRS. Results from 'centroid' are likely incorrect. Use 'GeoSeries.to_crs()' to re-project geometries to a projected CRS before this operation.\n",
      "\n",
      "  y_vals = subset_gdf.geometry.centroid.y\n"
     ]
    },
    {
     "name": "stdout",
     "output_type": "stream",
     "text": [
      "Processing 19991:42                                                             \n",
      "Processing 2000\n",
      "Processing 2001\n",
      "Processing 2002\n",
      "Processing 2003\n",
      "Processing 2004\n",
      "Processing 2005\n",
      "Processing 2006\n",
      "Processing 2007\n",
      "Processing 2008\n",
      "Processing 2009\n",
      "Processing 2010\n",
      "Processing 2011\n",
      "Processing 2012\n",
      "Processing 2013\n",
      "Processing 2014\n",
      "Processing 2015\n",
      "Processing 2016\n",
      "Processing 2017\n",
      "Processing 2018\n",
      "Processing 2019\n",
      "Processing 2020\n",
      "Processing 2021\n",
      "274.6 minutes\n",
      "124\n"
     ]
    },
    {
     "name": "stderr",
     "output_type": "stream",
     "text": [
      "/env/lib/python3.6/site-packages/distributed/node.py:155: UserWarning: Port 8787 is already in use.\n",
      "Perhaps you already have a cluster running?\n",
      "Hosting the HTTP server on port 33107 instead\n",
      "  http_address[\"port\"], self.http_server.port\n"
     ]
    },
    {
     "name": "stdout",
     "output_type": "stream",
     "text": [
      "<Client: 'tcp://127.0.0.1:35507' processes=1 threads=7, memory=63.57 GB>\n",
      "Using pixel quality parameters for USGS Collection 2\n",
      "Finding datasets\n",
      "    ls5_sr\n",
      "    ls7_sr\n",
      "    ls8_sr\n",
      "Re-scaling Landsat C2 data\n",
      "Returning 956 time steps as a dask array\n"
     ]
    },
    {
     "name": "stderr",
     "output_type": "stream",
     "text": [
      "/home/jovyan/Robbi/dea-coastlines/deacoastlines_generation.py:213: UserWarning: Geometry is in a geographic CRS. Results from 'centroid' are likely incorrect. Use 'GeoSeries.to_crs()' to re-project geometries to a projected CRS before this operation.\n",
      "\n",
      "  x_vals = subset_gdf.geometry.centroid.x\n",
      "/home/jovyan/Robbi/dea-coastlines/deacoastlines_generation.py:214: UserWarning: Geometry is in a geographic CRS. Results from 'centroid' are likely incorrect. Use 'GeoSeries.to_crs()' to re-project geometries to a projected CRS before this operation.\n",
      "\n",
      "  y_vals = subset_gdf.geometry.centroid.y\n"
     ]
    },
    {
     "name": "stdout",
     "output_type": "stream",
     "text": [
      "Processing 19992:06                                                             \n",
      "Processing 2000\n",
      "Processing 2001\n",
      "Processing 2002\n",
      "Processing 2003\n",
      "Processing 2004\n",
      "Processing 2005\n",
      "Processing 2006\n",
      "Processing 2007\n",
      "Processing 2008\n",
      "Processing 2009\n",
      "Processing 2010\n",
      "Processing 2011\n",
      "Processing 2012\n",
      "Processing 2013\n",
      "Processing 2014\n",
      "Processing 2015\n",
      "Processing 2016\n",
      "Processing 2017\n",
      "Processing 2018\n",
      "Processing 2019\n",
      "Processing 2020\n",
      "Processing 2021\n",
      "292.7 minutes\n",
      "135\n"
     ]
    },
    {
     "name": "stderr",
     "output_type": "stream",
     "text": [
      "/env/lib/python3.6/site-packages/distributed/node.py:155: UserWarning: Port 8787 is already in use.\n",
      "Perhaps you already have a cluster running?\n",
      "Hosting the HTTP server on port 33353 instead\n",
      "  http_address[\"port\"], self.http_server.port\n"
     ]
    },
    {
     "name": "stdout",
     "output_type": "stream",
     "text": [
      "<Client: 'tcp://127.0.0.1:44745' processes=1 threads=7, memory=63.57 GB>\n",
      "Using pixel quality parameters for USGS Collection 2\n",
      "Finding datasets\n",
      "    ls5_sr\n",
      "    ls7_sr\n",
      "    ls8_sr\n",
      "Re-scaling Landsat C2 data\n",
      "Returning 556 time steps as a dask array\n"
     ]
    },
    {
     "name": "stderr",
     "output_type": "stream",
     "text": [
      "/home/jovyan/Robbi/dea-coastlines/deacoastlines_generation.py:213: UserWarning: Geometry is in a geographic CRS. Results from 'centroid' are likely incorrect. Use 'GeoSeries.to_crs()' to re-project geometries to a projected CRS before this operation.\n",
      "\n",
      "  x_vals = subset_gdf.geometry.centroid.x\n",
      "/home/jovyan/Robbi/dea-coastlines/deacoastlines_generation.py:214: UserWarning: Geometry is in a geographic CRS. Results from 'centroid' are likely incorrect. Use 'GeoSeries.to_crs()' to re-project geometries to a projected CRS before this operation.\n",
      "\n",
      "  y_vals = subset_gdf.geometry.centroid.y\n"
     ]
    },
    {
     "name": "stdout",
     "output_type": "stream",
     "text": [
      "Processing 19996:13                                                             \n",
      "Processing 2000\n",
      "Processing 2001\n",
      "Processing 2002\n",
      "Processing 2003\n",
      "Processing 2004\n",
      "Processing 2005\n",
      "Processing 2006\n",
      "Processing 2007\n",
      "Processing 2008\n",
      "Processing 2009\n",
      "Processing 2010\n",
      "Processing 2011\n",
      "Processing 2012\n",
      "Processing 2013\n",
      "Processing 2014\n",
      "Processing 2015\n",
      "Processing 2016\n",
      "Processing 2017\n",
      "Processing 2018\n",
      "Processing 2019\n",
      "Processing 2020\n",
      "Processing 2021\n",
      "304.1 minutes\n",
      "141\n"
     ]
    },
    {
     "name": "stderr",
     "output_type": "stream",
     "text": [
      "/env/lib/python3.6/site-packages/distributed/node.py:155: UserWarning: Port 8787 is already in use.\n",
      "Perhaps you already have a cluster running?\n",
      "Hosting the HTTP server on port 40127 instead\n",
      "  http_address[\"port\"], self.http_server.port\n"
     ]
    },
    {
     "name": "stdout",
     "output_type": "stream",
     "text": [
      "<Client: 'tcp://127.0.0.1:44771' processes=1 threads=7, memory=63.57 GB>\n",
      "Using pixel quality parameters for USGS Collection 2\n",
      "Finding datasets\n",
      "    ls5_sr\n",
      "    ls7_sr\n",
      "    ls8_sr\n",
      "Re-scaling Landsat C2 data\n",
      "Returning 513 time steps as a dask array\n"
     ]
    },
    {
     "name": "stderr",
     "output_type": "stream",
     "text": [
      "/home/jovyan/Robbi/dea-coastlines/deacoastlines_generation.py:213: UserWarning: Geometry is in a geographic CRS. Results from 'centroid' are likely incorrect. Use 'GeoSeries.to_crs()' to re-project geometries to a projected CRS before this operation.\n",
      "\n",
      "  x_vals = subset_gdf.geometry.centroid.x\n",
      "/home/jovyan/Robbi/dea-coastlines/deacoastlines_generation.py:214: UserWarning: Geometry is in a geographic CRS. Results from 'centroid' are likely incorrect. Use 'GeoSeries.to_crs()' to re-project geometries to a projected CRS before this operation.\n",
      "\n",
      "  y_vals = subset_gdf.geometry.centroid.y\n"
     ]
    },
    {
     "name": "stdout",
     "output_type": "stream",
     "text": [
      "Processing 19992:06                                                             \n",
      "Processing 2000\n",
      "Processing 2001\n",
      "Processing 2002\n",
      "Processing 2003\n",
      "Processing 2004\n",
      "Processing 2005\n",
      "Processing 2006\n",
      "Processing 2007\n",
      "Processing 2008\n",
      "Processing 2009\n",
      "Processing 2010\n",
      "Processing 2011\n",
      "Processing 2012\n",
      "Processing 2013\n",
      "Processing 2014\n",
      "Processing 2015\n",
      "Processing 2016\n",
      "Processing 2017\n",
      "Processing 2018\n",
      "Processing 2019\n",
      "Processing 2020\n",
      "Processing 2021\n",
      "315.7 minutes\n",
      "151\n"
     ]
    },
    {
     "name": "stderr",
     "output_type": "stream",
     "text": [
      "/env/lib/python3.6/site-packages/distributed/node.py:155: UserWarning: Port 8787 is already in use.\n",
      "Perhaps you already have a cluster running?\n",
      "Hosting the HTTP server on port 34169 instead\n",
      "  http_address[\"port\"], self.http_server.port\n"
     ]
    },
    {
     "name": "stdout",
     "output_type": "stream",
     "text": [
      "<Client: 'tcp://127.0.0.1:37595' processes=1 threads=7, memory=63.57 GB>\n",
      "Using pixel quality parameters for USGS Collection 2\n",
      "Finding datasets\n",
      "    ls5_sr\n",
      "    ls7_sr\n",
      "    ls8_sr\n",
      "Re-scaling Landsat C2 data\n",
      "Returning 512 time steps as a dask array\n"
     ]
    },
    {
     "name": "stderr",
     "output_type": "stream",
     "text": [
      "/home/jovyan/Robbi/dea-coastlines/deacoastlines_generation.py:213: UserWarning: Geometry is in a geographic CRS. Results from 'centroid' are likely incorrect. Use 'GeoSeries.to_crs()' to re-project geometries to a projected CRS before this operation.\n",
      "\n",
      "  x_vals = subset_gdf.geometry.centroid.x\n",
      "/home/jovyan/Robbi/dea-coastlines/deacoastlines_generation.py:214: UserWarning: Geometry is in a geographic CRS. Results from 'centroid' are likely incorrect. Use 'GeoSeries.to_crs()' to re-project geometries to a projected CRS before this operation.\n",
      "\n",
      "  y_vals = subset_gdf.geometry.centroid.y\n"
     ]
    },
    {
     "name": "stdout",
     "output_type": "stream",
     "text": [
      "Processing 19992:06                                                             \n",
      "Processing 2000\n",
      "Processing 2001\n",
      "Processing 2002\n",
      "Processing 2003\n",
      "Processing 2004\n",
      "Processing 2005\n",
      "Processing 2006\n",
      "Processing 2007\n",
      "Processing 2008\n",
      "Processing 2009\n",
      "Processing 2010\n",
      "Processing 2011\n",
      "Processing 2012\n",
      "Processing 2013\n",
      "Processing 2014\n",
      "Processing 2015\n",
      "Processing 2016\n",
      "Processing 2017\n",
      "Processing 2018\n",
      "Processing 2019\n",
      "Processing 2020\n",
      "Processing 2021\n",
      "328.7 minutes\n"
     ]
    }
   ],
   "source": [
    "from deacoastlines_generation import main\n",
    "\n",
    "tiles = [57, 58, 77, 78, 79, 80, 81, 82, 97, 106, 107, 108, 109, 110, 111, 112, 113, 123, 124, 135, 141, 151]\n",
    "\n",
    "for tile in tiles:\n",
    "    print(tile)\n",
    "    main(['out', tile, 'v0.0.1', 'v0.0.1'])"
   ]
  },
  {
   "cell_type": "markdown",
   "metadata": {},
   "source": [
    "***\n",
    "\n",
    "## Additional information"
   ]
  },
  {
   "cell_type": "markdown",
   "metadata": {},
   "source": [
    "**License:** The code in this notebook is licensed under the [Apache License, Version 2.0](https://www.apache.org/licenses/LICENSE-2.0). \n",
    "Digital Earth Australia data is licensed under the [Creative Commons by Attribution 4.0](https://creativecommons.org/licenses/by/4.0/) license.\n",
    "\n",
    "**Contact:** For assistance with any of the Python code or Jupyter Notebooks in this repository, please post a [Github issue](https://github.com/GeoscienceAustralia/DEACoastLines/issues/new). For questions or more information about this product, sign up to the [Open Data Cube Slack](https://join.slack.com/t/opendatacube/shared_invite/zt-d6hu7l35-CGDhSxiSmTwacKNuXWFUkg) and post on the [`#dea-coastlines`](https://app.slack.com/client/T0L4V0TFT/C018X6J9HLY/details/) channel.\n",
    "\n",
    "**Last modified:** July 2021"
   ]
  },
  {
   "cell_type": "code",
   "execution_count": null,
   "metadata": {},
   "outputs": [],
   "source": []
  }
 ],
 "metadata": {
  "kernelspec": {
   "display_name": "Python 3",
   "language": "python",
   "name": "python3"
  },
  "language_info": {
   "codemirror_mode": {
    "name": "ipython",
    "version": 3
   },
   "file_extension": ".py",
   "mimetype": "text/x-python",
   "name": "python",
   "nbconvert_exporter": "python",
   "pygments_lexer": "ipython3",
   "version": "3.6.9"
  },
  "widgets": {
   "application/vnd.jupyter.widget-state+json": {
    "state": {},
    "version_major": 2,
    "version_minor": 0
   }
  }
 },
 "nbformat": 4,
 "nbformat_minor": 4
}
