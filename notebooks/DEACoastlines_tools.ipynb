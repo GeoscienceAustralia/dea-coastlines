{
 "cells": [
  {
   "cell_type": "markdown",
   "metadata": {},
   "source": [
    "# Digital Earth Australia Coastlines <img align=\"right\" src=\"https://github.com/GeoscienceAustralia/dea-notebooks/raw/develop/Supplementary_data/dea_logo.jpg\">\n",
    "\n",
    "* **Compatability:** Notebook currently compatible with both the `NCI` and `DEA Sandbox` environments\n",
    "* **Products used:** [DEA Coastlines](https://cmi.ga.gov.au/data-products/dea/581/dea-coastlines-landsat)"
   ]
  },
  {
   "cell_type": "markdown",
   "metadata": {},
   "source": [
    "## Background\n",
    "\n",
    "**Digital Earth Australia Coastlines** (DEA Coastlines) is a continental dataset that includes annual shorelines and rates of coastal change along the entire Australian coastline from 1988 to the present. \n",
    "\n",
    "The product combines satellite data from Geoscience Australia's [Digital Earth Australia program](https://www.ga.gov.au/dea) with tidal modelling to map the typical location of the coastline at mean sea level for each year. The product enables trends of coastal erosion and growth to be examined annually at both a local and continental scale, and for patterns of coastal change to be mapped historically and updated regularly as data continues to be acquired. This allows current rates of coastal change to be compared with that observed in previous years or decades. \n",
    "\n",
    "The ability to map shoreline positions for each year provides valuable insights into whether changes to our coastline are the result of particular events or actions, or a process of more gradual change over time. This information can enable scientists, managers and policy makers to assess impacts from the range of drivers impacting our coastlines and potentially assist planning and forecasting for future scenarios. \n",
    "\n",
    "### Applications\n",
    "* Monitoring and mapping rates of coastal erosion along the Australian coastline \n",
    "* Prioritise and evaluate the impacts of local and regional coastal management based on historical coastline change \n",
    "* Modelling how coastlines respond to drivers of change, including extreme weather events, sea level rise or human development \n",
    "* Supporting geomorphological studies of how and why coastlines have changed across time \n",
    "\n",
    "## Description\n",
    "\n",
    "This Jupyter Notebook tools includes useful tools for analysing DEA Coastlines data, including:\n",
    "\n",
    "1. Loading DEA Coastlines data in a Jupyter notebook or Python using the DEA Coastlines Web Feature Service (WFS)\n",
    "2. Interactively drawing a transect across DEA Coastlines annual coastlines and generating a plot of coastal change through time\n",
    "3. Interactively plotting the distribution of retreating and growing coastlines within a selected region\n",
    "\n",
    "> **Note:** For the most up-to-date information about this product, visit the official [Geoscience Australia DEA Coastlines product description](https://cmi.ga.gov.au/data-products/dea/581/dea-coastlines-landsat)\n",
    "\n",
    "---"
   ]
  },
  {
   "cell_type": "markdown",
   "metadata": {},
   "source": [
    "## Load modules/functions\n"
   ]
  },
  {
   "cell_type": "code",
   "execution_count": 1,
   "metadata": {},
   "outputs": [],
   "source": [
    "import re\n",
    "import os\n",
    "import uuid\n",
    "import subprocess\n",
    "import pandas as pd\n",
    "import xarray as xr\n",
    "import geopandas as gpd \n",
    "import matplotlib.pyplot as plt\n",
    "import matplotlib.colors as colors\n",
    "from shapely.geometry import box, shape\n",
    "\n",
    "# Widgets and WMS\n",
    "import owslib.wms\n",
    "from odc.ui import ui_poll, select_on_a_map\n",
    "from ipyleaflet import (Map, WMSLayer, WidgetControl, FullScreenControl, \n",
    "                        DrawControl, basemaps, basemap_to_tiles, TileLayer)\n",
    "from ipywidgets.widgets import Layout, Button, HTML\n",
    "from IPython.display import display\n",
    "from types import SimpleNamespace\n",
    "\n",
    "        \n",
    "def wms_layers_styles(url):\n",
    "    \"\"\"\n",
    "    Returns a dataframe of available layer styles for a given Web Map \n",
    "    Service (WMS) URL.\n",
    "    \n",
    "    Parameters\n",
    "    ----------\n",
    "    url : string\n",
    "        A URL giving the path to the Web Map Service (WMS), e.g.\n",
    "        `url='https://ows.dea.ga.gov.au/'\n",
    "    \"\"\"\n",
    "    \n",
    "    # Get WMS data from URL\n",
    "    wms_items = dict(WebMapService(url, version='1.3.0').items())\n",
    "    \n",
    "    return wms_items\n",
    "    layers_styles = {key: val.styles.keys() for key, val in wms_items.items()}\n",
    "\n",
    "    # Create a dataframe with an index of layer names and list of styles\n",
    "    layers_df = pd.DataFrame(index=layers_styles.keys())\n",
    "    layers_df['styles'] = layers_styles.values()\n",
    "    layers_df.index.name = 'layer'\n",
    "    \n",
    "    # Print output\n",
    "    with pd.option_context('display.max_rows', None, \n",
    "                           'display.max_colwidth', 255):\n",
    "        display(layers_df)\n",
    "    \n",
    "    return layers_df\n",
    "\n",
    "\n",
    "def wms_xarray(url,\n",
    "               layer,\n",
    "               layerstyle,\n",
    "               layertime,\n",
    "               bbox,\n",
    "               layerformat='png',\n",
    "               layersizex=512,\n",
    "               layersizey=512,\n",
    "               output_crs='EPSG:4326'):\n",
    "    \"\"\"\n",
    "    Loads Web Map Service (WMS) data into memory as a `xarray.Dataset`\n",
    "    object.\n",
    "    \n",
    "    Parameters\n",
    "    ----------\n",
    "    url : string or owslib.wms.WebMapService object\n",
    "        A URL giving the path to the Web Map Service (WMS) to load as an\n",
    "        xarray (e.g. `url='https://ows.dea.ga.gov.au/'`), OR an already\n",
    "        loaded `owslib.wms.WebMapService` object\n",
    "    layer: string\n",
    "        A string giving the name of the specific WMS layer to load,\n",
    "        e.g. `layer='ls8_nbart_geomedian_annual'`\n",
    "    layerstyle : string\n",
    "        The specific WMS layer style to load, e.g. \n",
    "        `layerstyle='simple_rgb'`\n",
    "    layertime : string\n",
    "        The specific timestep to load from the WMS, in the format:\n",
    "        `layertime='2018-01-01T00:00:00.000Z'`\n",
    "    bbox : tuple or list\n",
    "        The bounding box to load data for in the form:\n",
    "        `[y_max, x_min, y_min, x_max]`\n",
    "    layerformat : string, optional\n",
    "        The image format to load data in. Defaults to 'png'.\n",
    "    layersizex, layersizey : int, optional\n",
    "        The dimensions at which the data should be loaded. The default\n",
    "        is 512 x 512 pixels; note that this will resample the original\n",
    "        data sometimes considerably, so generally should be used for\n",
    "        visualisation rather than quantitative scientific applications.\n",
    "    output_crs : string, optional\n",
    "        The CRS to reproject the loaded data to. Defaults to WGS 84 or\n",
    "        'EPSG:4326'.\n",
    "    \"\"\"\n",
    "    \n",
    "    # If url is a string, load as owslib WMS object\n",
    "    if isinstance(url, str):\n",
    "        wms = owslib.wms.WebMapService(url, version='1.3.0')\n",
    "    else: \n",
    "        wms = url\n",
    "    \n",
    "    # Get extent from bounding box\n",
    "    y_max, x_min, y_min, x_max = bbox\n",
    "\n",
    "    # Create tempory path files\n",
    "    unique_id = str(uuid.uuid4())\n",
    "    infile = f'{unique_id}.tif'\n",
    "    outfile = f'{unique_id}_georef.tif'\n",
    "    \n",
    "    # Load data from WMS\n",
    "    crs = sorted(wms[layer].crsOptions)\n",
    "    time = wms[layer].timepositions\n",
    "    output = wms.getmap(layers=[layer],\n",
    "                        styles=[layerstyle],\n",
    "                        srs='EPSG:4326',\n",
    "                        bbox=(x_min, y_min, x_max, y_max),\n",
    "                        size=(layersizex, layersizey),\n",
    "                        format=f'image/{layerformat}',\n",
    "                        time=layertime)\n",
    "            \n",
    "    # Write to an external raster and reproject using gdal_translate\n",
    "    with open(infile, 'wb') as out:\n",
    "        out.write(output.read())   \n",
    "    subprocess.call(['gdal_translate','-a_srs', output_crs, \n",
    "                     '-a_ullr', str(x_min), str(y_max), str(x_max), str(y_min), \n",
    "                     infile, outfile])\n",
    "    ds = xr.open_rasterio(outfile)\n",
    "    \n",
    "    # Remove temporary rasters\n",
    "    os.remove(outfile)\n",
    "    os.remove(infile)\n",
    "    \n",
    "    return(ds)\n",
    "\n",
    "\n",
    "def polyline_select(center=(-26, 135),\n",
    "                    zoom=4,\n",
    "                    height='600px'):\n",
    "    \"\"\"\n",
    "    Allows the user to interactively draw a polyline on the map with a \n",
    "    DEA CoastLines overlay.\n",
    "    \"\"\"    \n",
    "  \n",
    "    def update_info(txt):\n",
    "        html_info.value = '<pre style=\"color:grey\">' + txt + '</pre>'\n",
    "\n",
    "    def render_bounds(bounds):\n",
    "        (lat1, lon1), (lat2, lon2) = bounds\n",
    "        txt = 'lat: [{:.{n}f}, {:.{n}f}]\\nlon: [{:.{n}f}, {:.{n}f}]'.format(\n",
    "            lat1, lat2, lon1, lon2, n=4)\n",
    "        update_info(txt)\n",
    "        \n",
    "    def on_done(btn):\n",
    "        state.done = True\n",
    "        btn_done.disabled = True\n",
    "        m.remove_control(draw)\n",
    "        for w in widgets:\n",
    "            m.remove_control(w)\n",
    "\n",
    "    def bounds_handler(event):\n",
    "        bounds = event['new']\n",
    "        render_bounds(bounds)\n",
    "        (lat1, lon1), (lat2, lon2) = bounds\n",
    "        state.bounds = dict(lat=(lat1, lat2),\n",
    "                            lon=(lon1, lon2))\n",
    "\n",
    "    def on_draw(event):\n",
    "        v = event['new']\n",
    "        action = event['name']\n",
    "        if action == 'last_draw':\n",
    "            state.selection = v['geometry']\n",
    "        elif action == 'last_action' and v == 'deleted':\n",
    "            state.selection = None\n",
    "\n",
    "        btn_done.disabled = state.selection is None\n",
    "        \n",
    "\n",
    "    state = SimpleNamespace(selection=None,\n",
    "                            bounds=None,\n",
    "                            done=False)\n",
    "    \n",
    "    # Set up \"Done\" button\n",
    "    btn_done = Button(description='done',\n",
    "                      layout=Layout(width='5em'))\n",
    "    btn_done.style.button_color = 'green'\n",
    "    btn_done.disabled = True\n",
    "\n",
    "    html_info = HTML(layout=Layout(flex='1 0 20em',\n",
    "                                   width='20em',\n",
    "                                   height='3em'))\n",
    "\n",
    "    # Load DEACoastLines WMS\n",
    "    deacl_url='https://geoserver.dea.ga.gov.au/geoserver/wms'\n",
    "    deacl_layer='dea:DEACoastLines'\n",
    "    wms = WMSLayer(url=deacl_url,\n",
    "                   layers=deacl_layer,\n",
    "                   format='image/png',\n",
    "                   transparent=True,\n",
    "                   attribution='DEA CoastLines © 2020 Geoscience Australia')\n",
    "    \n",
    "    # Plot interactive map to select area\n",
    "    basemap = basemap_to_tiles(basemaps.Esri.WorldImagery)\n",
    "    places = TileLayer(url=('https://server.arcgisonline.com/ArcGIS/rest/'\n",
    "                            'services/Reference/World_Boundaries_and_Places'\n",
    "                            '/MapServer/tile/{z}/{y}/{x}'), opacity=1)\n",
    "    m = Map(layers=(basemap, wms, places, ),\n",
    "            height=height,\n",
    "            center=center, \n",
    "            zoom=zoom)\n",
    "    m.scroll_wheel_zoom = True\n",
    "\n",
    "    # Set up done and info widgets\n",
    "    widgets = [WidgetControl(widget=btn_done, position='topright'),\n",
    "               WidgetControl(widget=html_info, position='bottomleft')]\n",
    "    for w in widgets:\n",
    "        m.add_control(w) \n",
    "        \n",
    "    # Add polyline draw control option\n",
    "    draw = DrawControl(circlemarker={}, polygon={})\n",
    "    m.add_control(draw)\n",
    "    m.add_control(FullScreenControl())\n",
    "    draw.polyline =  {'shapeOptions': {'color': 'red', 'opacity': 1.0}}\n",
    "\n",
    "    # Set up interactivity\n",
    "    draw.observe(on_draw)\n",
    "    m.observe(bounds_handler, ('bounds',))\n",
    "    btn_done.on_click(on_done)\n",
    "\n",
    "    return m, state\n",
    "\n",
    "\n",
    "def deacoastlines_transect(transect_mode='distance',\n",
    "                           export_transect_data=True,\n",
    "                           export_transect=True,\n",
    "                           export_figure=True,\n",
    "                           length_limit=50):\n",
    "    \n",
    "    \"\"\"\n",
    "    Function for interactively drawing a transect line on a map,\n",
    "    and using this line to extract distances to each annual DEA \n",
    "    Coastlines coastline along the transect. The function can also be\n",
    "    used to measure the width between two coastlines from the same year\n",
    "    through time.\n",
    "    \n",
    "    Parameters\n",
    "    ----------\n",
    "    transect_mode : string, optional\n",
    "        An optional string indicating whether to analyse coastlines \n",
    "        using 'distance' or 'width' mode. The \"distance\" mode measures the \n",
    "        distance from the start of the transect to each of the annual\n",
    "        coastlines, and will ignore any coastline that intersects the \n",
    "        transect more than once. The 'width' mode will measure the \n",
    "        width between two coastlines from the same year, which can be\n",
    "        useful for measuring e.g. the width of a tombolo or sandbank \n",
    "        through time. This mode will ignore any annual coastline that \n",
    "        intersections with the transect only once.\n",
    "    export_transect_data : boolean, optional\n",
    "        An optional boolean indicating whether to export the transect\n",
    "        data as a CSV file. This file will be automatically named using \n",
    "        its centroid coordinates, and exported into the directory this \n",
    "        code is being run in. The default is True.\n",
    "    export_transect : boolean, optional\n",
    "        An optional boolean indicating whether to export the transect\n",
    "        data as a GeoJSON and ESRI Shapefile. This file will be \n",
    "        named automatically using its centroid coordinates, and exported\n",
    "        into the directory this code is being run in. Default is True.\n",
    "    export_figure : boolean, optional\n",
    "        An optional boolean indicating whether to export the transect\n",
    "        figure as an image file. This file will be automatically named \n",
    "        using its centroid coordinates, and exported into the directory \n",
    "        this code is being run in. The default is True.\n",
    "    \"\"\"\n",
    "    \n",
    "    # Run interactive map\n",
    "    m, state = polyline_select()\n",
    "    display(m)\n",
    "    \n",
    "    def extract_geometry(state):        \n",
    "        \n",
    "        # Convert geometry to a GeoSeries\n",
    "        profile = gpd.GeoSeries(shape(state.selection), \n",
    "                                crs='EPSG:4326')  \n",
    "        \n",
    "        # Test length\n",
    "        transect_length = (profile.to_crs('EPSG:3577').length / 1000).sum()\n",
    "        if transect_length > length_limit:\n",
    "            raise ValueError(f'Your transect is {transect_length:.0f} km long. '\n",
    "                             f'Please draw a transect that is less than '\n",
    "                             f'{length_limit} km long.\\nTo draw a shorter '\n",
    "                             f'transect, re-run the cell above and draw a new '\n",
    "                             f'polyline.')\n",
    "\n",
    "        # Load data from WFS\n",
    "        print('Loading DEA Coastlines data...\\n')\n",
    "        xmin, ymin, xmax, ymax = profile.total_bounds\n",
    "        deacl_wfs = f'https://geoserver.dea.ga.gov.au/geoserver/wfs?' \\\n",
    "                    f'service=WFS&version=1.1.0&request=GetFeature' \\\n",
    "                    f'&typeName=dea:coastlines&maxFeatures=1000' \\\n",
    "                    f'&bbox={ymin},{xmin},{ymax},{xmax},' \\\n",
    "                    f'urn:ogc:def:crs:EPSG:4326'\n",
    "        deacl = gpd.read_file(deacl_wfs)\n",
    "        deacl.crs = 'EPSG:3577'\n",
    "\n",
    "        # Raise exception if no coastlines are returned\n",
    "        if len(deacl.index) == 0:\n",
    "            raise ValueError('No annual coastlines were returned for the '\n",
    "                             'supplied transect. Please select another area.')\n",
    "            \n",
    "        # Dissolve by year to remove duplicates, then sort by date\n",
    "        deacl = deacl.dissolve(by='year', as_index=False)\n",
    "        deacl['year'] = deacl.year.astype(int)\n",
    "        deacl = deacl.sort_values('year')\n",
    "\n",
    "        # Extract intersections and determine type\n",
    "        profile = profile.to_crs('EPSG:3577')\n",
    "        intersects = deacl.apply(\n",
    "            lambda x: profile.intersection(x.geometry), axis=1)\n",
    "        intersects = gpd.GeoSeries(intersects[0])   \n",
    "        \n",
    "        # Select geometry depending on mode\n",
    "        intersects_type = (intersects.type == 'Point' if \n",
    "                           transect_mode == 'distance' else \n",
    "                           intersects.type == 'MultiPoint')\n",
    "\n",
    "        # Remove annual data according to intersections\n",
    "        deacl_filtered = deacl.loc[intersects_type]\n",
    "        drop_years = ', '.join(deacl.year\n",
    "                               .loc[~intersects_type]\n",
    "                               .astype(str)\n",
    "                               .values.tolist())\n",
    "\n",
    "        # In 'distance' mode, analyse years with one intersection only\n",
    "        if transect_mode == 'distance':  \n",
    "            \n",
    "            if drop_years:\n",
    "                print(f'Dropping years due to multiple intersections: {drop_years}\\n')\n",
    "\n",
    "            # Add start and end coordinate\n",
    "            deacl_filtered = deacl_filtered.assign(\n",
    "                start=profile.interpolate(0).iloc[0])\n",
    "            deacl_filtered['end'] = intersects.loc[intersects_type]\n",
    "\n",
    "        # In 'width' mode, analyse years with multiple intersections only\n",
    "        elif transect_mode == 'width':\n",
    "\n",
    "            if drop_years:\n",
    "                print(f'Dropping years due to less than two intersections: {drop_years}\\n')\n",
    "\n",
    "            # Add start and end coordinate\n",
    "            deacl_filtered = deacl_filtered.assign(\n",
    "                start=intersects.loc[intersects_type].apply(lambda x: x[0]))\n",
    "            deacl_filtered['end'] = intersects.loc[intersects_type].apply(\n",
    "                lambda x: x[1])\n",
    "\n",
    "        # If any data was returned:\n",
    "        if len(deacl_filtered.index) > 0:   \n",
    "\n",
    "            # Compute distance\n",
    "            deacl_filtered['dist'] = deacl_filtered.apply(\n",
    "                lambda x: x.start.distance(x.end), axis=1)\n",
    "\n",
    "            # Extract values\n",
    "            transect_df = pd.DataFrame(deacl_filtered[['year', 'dist']])\n",
    "            transect_df['dist'] = transect_df.dist.round(2)\n",
    "            \n",
    "            # Plot data\n",
    "            fig, ax = plt.subplots(1, 1, figsize=(5, 8))\n",
    "            transect_df.plot(x='dist', y='year', ax=ax, label='DEA Coastlines')\n",
    "            ax.invert_yaxis()\n",
    "            ax.set_xlabel(f'{transect_mode.title()} (metres)')\n",
    "            \n",
    "            # Extract coordinates fore unique file ID\n",
    "            x, y = profile.geometry.centroid.to_crs('EPSG:4326').iloc[0].xy\n",
    "            \n",
    "            # Create output folder if none exists\n",
    "            if export_transect_data or export_transect or export_figure:\n",
    "                out_dir = 'deacoastlines_outputs'\n",
    "                os.makedirs(out_dir, exist_ok=True)\n",
    "            \n",
    "            # Optionally write output CSV data\n",
    "            if export_transect_data:\n",
    "                csv_path = f'{out_dir}/deacoastlines_transect_{x[0]:.3f}_{y[0]:.3f}.csv'\n",
    "                \n",
    "                print(f\"Exporting transect data to:\\n\"\n",
    "                      f\"    {csv_path}\\n\")\n",
    "                transect_df.to_csv(csv_path, index=False)\n",
    "                \n",
    "            # Optionally write vector data\n",
    "            if export_transect:\n",
    "                shp_path = f'{out_dir}/deacoastlines_transect_{x[0]:.3f}_{y[0]:.3f}.shp'\n",
    "                geojson_path = f'{out_dir}/deacoastlines_transect_{x[0]:.3f}_{y[0]:.3f}.geojson'\n",
    "                \n",
    "                print(f\"Exporting transect vectors to:\\n\"\n",
    "                      f\"    {shp_path}\\n\"\n",
    "                      f\"    {geojson_path}\\n\")\n",
    "                profile.to_crs('EPSG:3577').to_file(shp_path)\n",
    "                profile.to_crs('EPSG:4326').to_file(geojson_path,\n",
    "                                                    driver='GeoJSON')\n",
    "            \n",
    "            # Optionally write image\n",
    "            if export_figure:\n",
    "                fig_path = f'{out_dir}/deacoastlines_transect_{x[0]:.3f}_{y[0]:.3f}.png'\n",
    "                \n",
    "                print(f'Exporting transect figure to:\\n'\n",
    "                      f'    {fig_path}\\n')\n",
    "                fig.savefig(fig_path, bbox_inches='tight', dpi=200)\n",
    "                \n",
    "            # Plot figure\n",
    "            plt.show()\n",
    "\n",
    "            return transect_df\n",
    "\n",
    "        else:\n",
    "            raise ValueError('No valid intersections found for transect')\n",
    "\n",
    "    return ui_poll(lambda: extract_geometry(state) if state.done else None)\n",
    "\n",
    "\n",
    "def deacoastlines_histogram(extent_path=None,\n",
    "                            extent_id_col=None,\n",
    "                            export_points_data=True,\n",
    "                            export_summary_data=True,\n",
    "                            export_extent=True,\n",
    "                            export_figure=True,\n",
    "                            cmap='RdBu',\n",
    "                            hist_log=True, \n",
    "                            hist_bins=60, \n",
    "                            hist_range='auto',\n",
    "                            size_limit=100000,\n",
    "                            max_features=100000):\n",
    "    \"\"\"\n",
    "    Function for interactively selecting and analysing DEACoastlines \n",
    "    statistics point data, and plotting results as histograms to \n",
    "    compare rates of change.\n",
    "    \n",
    "    Parameters\n",
    "    ----------\n",
    "    extent_path : string, optional\n",
    "        An optional path to a shapefile or other vector file that will \n",
    "        be used to extract a subset of DEACoastlines statistics. The \n",
    "        default is None, which will select a subset of data using an \n",
    "        interactive map.\n",
    "    extent_id_col : string, optional\n",
    "        If a vector file is supplied using `extent_path`, a column name\n",
    "        from the vector file must be specified using this parameter. \n",
    "        Values from this column will be used to name any output files.       \n",
    "    export_points_data : boolean, optional\n",
    "        An optional boolean indicating whether to export the extracted\n",
    "        points data as a CSV file. This file will be automatically named \n",
    "        using either its centroid coordinates or a value from any column\n",
    "        supplied using `extent_id_col`. The default is True.\n",
    "    export_summary_data : boolean, optional\n",
    "        An optional boolean indicating whether to export a CSV\n",
    "        containing summary statistics for all extracted points in the\n",
    "        selected extent. This file will contain a row for every selected\n",
    "        area and five attribute fields:\n",
    "             extent_id_col: A name for the selected area based either on\n",
    "                            its centroid coordinates or a value from any\n",
    "                            column supplied using `extent_id_col`\n",
    "            'mean_rate_zeros': Mean of all rates of change (e.g. m / \n",
    "                               year) with non-significant points set to\n",
    "                               a rate of 0 m / year\n",
    "            'mean_rate_sigonly': Mean of all rates of change (e.g. m / \n",
    "                               year) for significant points only\n",
    "            'n_zeros': Number of observations with non-significant\n",
    "                       points set to a rate of 0 m / year\n",
    "            'n_sigonly': Number of observations, significant points only\n",
    "    export_extent : boolean, optional\n",
    "        An optional boolean indicating whether to export the polygon\n",
    "        extent as a GeoJSON and ESRI Shapefile. This file will be \n",
    "        automatically named using either its centroid coordinates or a \n",
    "        value from any column supplied using `extent_id_col`. The \n",
    "        default is True.\n",
    "    export_figure : boolean, optional\n",
    "        An optional boolean indicating whether to export the histogram\n",
    "        figure as an image file. This file will be automatically named \n",
    "        using either its centroid coordinates or a value from any column\n",
    "        supplied using `extent_id_col`. The default is True.\n",
    "    hist_log : boolean, optional\n",
    "        An optional boolean indicating whether to plot histograms with \n",
    "        a log y-axis. If True, all non-significant statistics points \n",
    "        will be assigned a rate of 0 metres / year. If False, all \n",
    "        non-significant points will be removed from the dataset, and \n",
    "        plotted with a linear y-axis. \n",
    "    hist_bins : int, optional\n",
    "        Number of bins to plot on the histogram. Defaults to 60.\n",
    "    hist_range : string or tuple, optional\n",
    "        A tuple giving the min and max range to plot on the x-axis, e.g.\n",
    "        `hist_range=(-30, 30)`. The default is 'auto', which will \n",
    "        automatically optimise the x-axis of the plot based on the 0.001\n",
    "        and 0.999 percentile rates of change values. \n",
    "    size_limit : int, optional\n",
    "        An optional size limit for the area selection in sq km. \n",
    "        Defaults to 100,000 sq km.\n",
    "    max_features : int, optional\n",
    "        The maximum number of DEACoastLines statistics points to \n",
    "        return from the WFS query. The default is 100,000.\n",
    "    \"\"\"\n",
    "    \n",
    "    #############\n",
    "    # Load data #\n",
    "    #############\n",
    "    \n",
    "    # Load polygon from file if path is provided\n",
    "    if extent_path and extent_id_col:\n",
    "        extents = (gpd.read_file(extent_path)\n",
    "                   .to_crs('EPSG:4326')\n",
    "                   .set_index(extent_id_col))\n",
    "        \n",
    "    # Raise error if no column\n",
    "    elif extent_path and not extent_id_col:\n",
    "        raise ValueError(\"Please supply an attribute column using \" \\\n",
    "                         \"'extent_id_col' when supplying a vector file.\")         \n",
    "\n",
    "    # Otherwise, use interactive map to select region\n",
    "    else:        \n",
    "        \n",
    "        # Load DEACoastlines WMS\n",
    "        deacl_url='https://geoserver.dea.ga.gov.au/geoserver/wms'\n",
    "        deacl_layer='dea:DEACoastLines'\n",
    "        wms = WMSLayer(url=deacl_url,\n",
    "                       layers=deacl_layer,\n",
    "                       format='image/png',\n",
    "                       transparent=True,\n",
    "                       attribution='DEA CoastLines © 2020 Geoscience Australia')\n",
    "        \n",
    "        # Plot interactive map to select area\n",
    "        basemap = basemap_to_tiles(basemaps.Esri.WorldImagery)\n",
    "        places = TileLayer(url=('https://server.arcgisonline.com/ArcGIS/rest/'\n",
    "                               'services/Reference/World_Boundaries_and_Places'\n",
    "                               '/MapServer/tile/{z}/{y}/{x}'), opacity=1)\n",
    "        geopolygon = select_on_a_map(height='600px',\n",
    "                                     layers=(basemap, wms, places, ),\n",
    "                                     center=(-26, 135), \n",
    "                                     zoom=4) \n",
    "\n",
    "        # Covert extent object to geopandas.GeoDataFrame object with CRS\n",
    "        extents = gpd.GeoDataFrame(geometry=[geopolygon], crs='EPSG:4326')        \n",
    "       \n",
    "    # List to hold summary stats\n",
    "    summary_stats = []\n",
    "    \n",
    "    # Set up figure\n",
    "    fig, ax1 = plt.subplots(1, 1, figsize=(10, 8))\n",
    "    ax1.grid(True, which='both', axis='y', color='0.9')\n",
    "    ax1.set_axisbelow(True)\n",
    "    \n",
    "    #########################\n",
    "    # Load and analyse data #\n",
    "    #########################\n",
    "        \n",
    "    # Run histogram extraction for each polygon in the extents data\n",
    "    for index, row in extents.iterrows():\n",
    "        \n",
    "        # Pull out single extent\n",
    "        extent = extents.loc[[index]]\n",
    "        \n",
    "        # Verify size\n",
    "        area = (extent.to_crs(crs='epsg:3577').area / 1000000).sum()\n",
    "        if area > size_limit:\n",
    "            raise ValueError(f'Your selected area is {area:.00f} sq km. '\n",
    "                             f'Please select an area of less than {size_limit} sq km.'\n",
    "                             f'\\nTo select a smaller area, re-run the cell '\n",
    "                             f'above and draw a new polygon.')\n",
    "            \n",
    "        # Extract extent coordinates\n",
    "        xmin, ymin, xmax, ymax = extent.to_crs('epsg:4326').total_bounds\n",
    "            \n",
    "        # Set up analysis ID based on either vector row or coords\n",
    "        if extent_path:\n",
    "            extent_id = str(index)\n",
    "            file_id = os.path.splitext(extent_path)[0]\n",
    "        else:\n",
    "            x = (xmin + xmax) / 2\n",
    "            y = (ymin + ymax) / 2\n",
    "            extent_id = f'{x:.3f}_{y:.3f}'\n",
    "            file_id = 'polygon'\n",
    "\n",
    "        # Load data from WFS\n",
    "        print(f'Loading DEA Coastlines data for {extent_id}...')\n",
    "        deacl_wfs = f'https://geoserver.dea.ga.gov.au/geoserver/wfs?' \\\n",
    "                    f'service=WFS&version=1.1.0&request=GetFeature' \\\n",
    "                    f'&typeName=dea:coastlines_statistics' \\\n",
    "                    f'&maxFeatures={max_features}' \\\n",
    "                    f'&bbox={ymin},{xmin},{ymax},{xmax},' \\\n",
    "                    f'urn:ogc:def:crs:EPSG:4326'\n",
    "        stats_df = gpd.read_file(deacl_wfs)\n",
    "        stats_df.crs = 'EPSG:3577'\n",
    "\n",
    "        # Clip resulting data to extent shape\n",
    "        if len(stats_df.index) > 0:\n",
    "            stats_df = gpd.overlay(stats_df, \n",
    "                                   extent.reset_index().to_crs('EPSG:3577'))\n",
    "        else:\n",
    "            raise ValueError('No statistics points were returned for the supplied '\n",
    "                             'extent. Please select another area.')\n",
    "\n",
    "        #############\n",
    "        # Plot data #\n",
    "        #############\n",
    "        \n",
    "        # Create two different methods for subsetting data\n",
    "        stats_sig = stats_df.loc[stats_df.sig_time < 0.01].copy()\n",
    "        stats_zeros = stats_df.copy()\n",
    "        stats_zeros.loc[stats_df.sig_time > 0.01, 'rate_time'] = 0\n",
    "        \n",
    "        # Only generate plot if either only one polygon is being \n",
    "        # analysed or if `export_figure == True`\n",
    "        if export_figure or len(extents.index) == 1:\n",
    "\n",
    "            if hist_log:\n",
    "                print('    Plotting data with log axis after setting ' \\\n",
    "                      'non-significant points to 0 m / year\\n')\n",
    "                stats_subset = stats_zeros.copy()\n",
    "                \n",
    "                if hist_range == 'auto':\n",
    "                    hist_max = stats_subset.rate_time.quantile([0.001, 0.999]).abs().max()\n",
    "                    hist_range = (-hist_max, hist_max)   \n",
    "                    \n",
    "                bin_offset = (hist_range[1] - hist_range[0]) / (hist_bins / 0.5)\n",
    "            else:\n",
    "                print('    Plotting data with linear axis after filtering ' \\\n",
    "                      'to significant values\\n')\n",
    "                stats_subset = stats_sig.copy()\n",
    "                \n",
    "                if hist_range == 'auto':\n",
    "                    hist_max = stats_subset.rate_time.quantile([0.001, 0.999]).abs().max()\n",
    "                    hist_range = (-hist_max, hist_max)   \n",
    "                \n",
    "                bin_offset = 0\n",
    "\n",
    "            # Select colormap\n",
    "            cm = plt.cm.get_cmap(cmap)\n",
    "\n",
    "            # Plot histogram    \n",
    "            n, bins, patches = ax1.hist(stats_subset.rate_time, \n",
    "                                        bins=hist_bins, \n",
    "                                        range=[(a + bin_offset) for a in hist_range], \n",
    "                                        log=hist_log,\n",
    "                                        edgecolor='black')\n",
    "\n",
    "            # Scale values to interval [0,1]\n",
    "            bin_centers = 0.5 * (bins[:-1] + bins[1:])\n",
    "            norm = colors.SymLogNorm(linthresh=0.25, \n",
    "                                     linscale=0.05,\n",
    "                                     vmin=hist_range[0], \n",
    "                                     vmax=hist_range[1], \n",
    "                                     base=10)\n",
    "            col = norm(bin_centers)  \n",
    "\n",
    "            # Apply colors to bars\n",
    "            for c, p in zip(col, patches):\n",
    "                plt.setp(p, 'facecolor', cm(c))\n",
    "\n",
    "            ax1.set_title(f'Mean rate (non-significant points set to 0 m / ' \\\n",
    "                          f'year): {stats_zeros.rate_time.mean():.2f} m / year\\n'\n",
    "                          f'Mean rate (non-significant points excluded ' \\\n",
    "                          f'from data): {stats_sig.rate_time.mean():.2f} m / year')\n",
    "            ax1.set_xlabel('Rate of change (m / year)')\n",
    "            ax1.set_ylabel('Frequency')\n",
    "            \n",
    "        ###############\n",
    "        # Export data #\n",
    "        ###############        \n",
    "        \n",
    "        # Create output folder if none exists\n",
    "        if (export_extent or\n",
    "            export_figure or \n",
    "            export_points_data or \n",
    "            export_summary_data):\n",
    "            out_dir = 'deacoastlines_outputs'\n",
    "            os.makedirs(out_dir, exist_ok=True)\n",
    "\n",
    "        # Optionally write vector data\n",
    "        if export_extent:\n",
    "            shp_path = f'{out_dir}/deacoastlines_{file_id}_{extent_id}.shp'\n",
    "            geojson_path = f'{out_dir}/deacoastlines_{file_id}_{extent_id}.geojson'\n",
    "\n",
    "            print(f'Exporting extent vectors to:\\n'\n",
    "                  f'    {shp_path}\\n'\n",
    "                  f'    {geojson_path}\\n')\n",
    "            extent.to_crs('EPSG:3577').to_file(shp_path)\n",
    "            extent.to_crs('EPSG:4326').to_file(geojson_path,\n",
    "                                                driver='GeoJSON')\n",
    "\n",
    "        # Optionally write image\n",
    "        if export_figure:\n",
    "            fig_path = f'{out_dir}/deacoastlines_{file_id}_{extent_id}.png'\n",
    "            print(f'Exporting histogram figure to:\\n'\n",
    "                  f'    {fig_path}\\n')\n",
    "            plt.savefig(fig_path, bbox_inches='tight', dpi=200)\n",
    "            \n",
    "        # Optionally write raw data to CSV\n",
    "        if export_points_data:\n",
    "            csv_path = f'{out_dir}/deacoastlines_{file_id}_{extent_id}.csv'\n",
    "            print(f'Exporting points data to:\\n'\n",
    "                      f'    {csv_path}\\n')\n",
    "            \n",
    "            # Prepare data for export            \n",
    "            stats_df = stats_df.to_crs('EPSG:4326')\n",
    "            stats_df['longitude'] = stats_df.geometry.x.round(4)\n",
    "            stats_df['latitude'] = stats_df.geometry.y.round(4)\n",
    "            stats_df = stats_df.drop(['gml_id', 'geometry'], axis=1)\n",
    "            \n",
    "            # Export\n",
    "            stats_df.to_csv(csv_path, index=False)\n",
    "            \n",
    "        # Add summary stats to list\n",
    "        summary_stats.append({extent_id_col: extent_id, \n",
    "                              'mean_rate_zeros': stats_zeros.rate_time.mean(),\n",
    "                              'mean_rate_sigonly': stats_sig.rate_time.mean(),\n",
    "                              'n_zeros': len(stats_zeros.rate_time),\n",
    "                              'n_sigonly': len(stats_sig.rate_time)})\n",
    "        \n",
    "        # Close axes if multiple images\n",
    "        if len(extents.index) > 1:\n",
    "            ax1.cla()\n",
    "    \n",
    "    # Close figure if multiple images\n",
    "    if len(extents.index) > 1:\n",
    "        plt.close(fig)\n",
    "        \n",
    "    # Optionally write summary data to CSV\n",
    "    summary_stats_df = pd.DataFrame(summary_stats)\n",
    "    if export_summary_data:\n",
    "        summary_path = f'{out_dir}/deacoastlines_{file_id}_summary.csv'\n",
    "        print(f'Exporting summary data to:\\n'\n",
    "              f'    {summary_path}\\n')\n",
    "\n",
    "        # Combine into dataframe and export        \n",
    "        summary_stats_df.to_csv(summary_path, index=False)\n",
    "\n",
    "    # Return summary data\n",
    "    return summary_stats\n"
   ]
  },
  {
   "cell_type": "code",
   "execution_count": 67,
   "metadata": {},
   "outputs": [
    {
     "name": "stdout",
     "output_type": "stream",
     "text": [
      "Generating hotspots\n"
     ]
    }
   ],
   "source": [
    "minx, maxy = 653178.4850170494, -3959022.4276459897\n",
    "# maxx, miny = 1551372.335951696, -4404698.224230281\n",
    "maxx, miny = 1320270.6934564887, -4385517.0140962005\n",
    "bbox = (minx, miny, maxx, maxy)\n",
    "\n",
    "stats_gdf = gpd.read_file(f'DEACoastlines_ratesofchange_v1.1.0.shp', bbox=bbox)"
   ]
  },
  {
   "cell_type": "code",
   "execution_count": 68,
   "metadata": {},
   "outputs": [],
   "source": [
    "subset_df = stats_gdf.iloc[:,slice(8, 40)]"
   ]
  },
  {
   "cell_type": "code",
   "execution_count": 69,
   "metadata": {},
   "outputs": [],
   "source": [
    "early_df = subset_df.iloc[:,0:16]\n",
    "late_df = subset_df.iloc[:,16:]"
   ]
  },
  {
   "cell_type": "code",
   "execution_count": 70,
   "metadata": {},
   "outputs": [],
   "source": [
    "keep_early = early_df.isnull().sum(axis=1) < 10\n",
    "keep_late = late_df.isnull().sum(axis=1) < 10"
   ]
  },
  {
   "cell_type": "code",
   "execution_count": 71,
   "metadata": {},
   "outputs": [],
   "source": [
    "early_df = early_df.loc[keep_early & keep_late]"
   ]
  },
  {
   "cell_type": "code",
   "execution_count": 72,
   "metadata": {},
   "outputs": [],
   "source": [
    "late_df = late_df.loc[keep_early & keep_late] "
   ]
  },
  {
   "cell_type": "code",
   "execution_count": 73,
   "metadata": {},
   "outputs": [],
   "source": [
    "import deacoastlines_statistics as deacl_stats\n",
    "import numpy as np\n",
    "\n",
    "x_years = early_df.columns.str.replace('dist_', '').astype(int)\n",
    "\n",
    "rate_out_early = (early_df\n",
    "                .apply(lambda row: \n",
    "                       deacl_stats.change_regress(y_vals=row.values.astype(np.float),\n",
    "                                                  x_vals=x_years,\n",
    "                                                  x_labels=x_years), axis=1))"
   ]
  },
  {
   "cell_type": "code",
   "execution_count": 74,
   "metadata": {},
   "outputs": [],
   "source": [
    "x_years = late_df.columns.str.replace('dist_', '').astype(int)\n",
    "\n",
    "rate_out_late = (late_df\n",
    "                .apply(lambda row: \n",
    "                       deacl_stats.change_regress(y_vals=row.values.astype(np.float),\n",
    "                                                  x_vals=x_years,\n",
    "                                                  x_labels=x_years), axis=1))"
   ]
  },
  {
   "cell_type": "code",
   "execution_count": 75,
   "metadata": {},
   "outputs": [
    {
     "data": {
      "text/plain": [
       "<matplotlib.lines.Line2D at 0x7f00c72de358>"
      ]
     },
     "execution_count": 75,
     "metadata": {},
     "output_type": "execute_result"
    },
    {
     "data": {
      "image/png": "[encoded data removed]",
      "text/plain": [
       "<Figure size 432x288 with 1 Axes>"
      ]
     },
     "metadata": {
      "needs_background": "light"
     },
     "output_type": "display_data"
    }
   ],
   "source": [
    "(rate_out_late.slope - rate_out_early.slope).plot.hist(range=(-5, 5), bins=50)\n",
    "plt.axvline(0, color='red')"
   ]
  },
  {
   "cell_type": "code",
   "execution_count": 62,
   "metadata": {},
   "outputs": [
    {
     "data": {
      "text/plain": [
       "<matplotlib.lines.Line2D at 0x7f00c73d3b00>"
      ]
     },
     "execution_count": 62,
     "metadata": {},
     "output_type": "execute_result"
    },
    {
     "data": {
      "image/png": "[encoded data removed]",
      "text/plain": [
       "<Figure size 432x288 with 1 Axes>"
      ]
     },
     "metadata": {
      "needs_background": "light"
     },
     "output_type": "display_data"
    }
   ],
   "source": [
    "(rate_out_late.slope - rate_out_early.slope).plot.hist(range=(-5, 5), bins=50)\n",
    "plt.axvline(0, color='red')"
   ]
  },
  {
   "cell_type": "code",
   "execution_count": 78,
   "metadata": {},
   "outputs": [],
   "source": [
    "diffs = rate_out_late.slope - rate_out_early.slope"
   ]
  },
  {
   "cell_type": "code",
   "execution_count": 79,
   "metadata": {},
   "outputs": [
    {
     "data": {
      "text/plain": [
       "-0.5027663460900643"
      ]
     },
     "execution_count": 79,
     "metadata": {},
     "output_type": "execute_result"
    }
   ],
   "source": [
    "diffs.mean()"
   ]
  },
  {
   "cell_type": "code",
   "execution_count": 80,
   "metadata": {},
   "outputs": [
    {
     "data": {
      "text/plain": [
       "-0.399"
      ]
     },
     "execution_count": 80,
     "metadata": {},
     "output_type": "execute_result"
    }
   ],
   "source": [
    "diffs.median()"
   ]
  },
  {
   "cell_type": "code",
   "execution_count": 81,
   "metadata": {},
   "outputs": [
    {
     "data": {
      "text/plain": [
       "0   -0.371\n",
       "dtype: float64"
      ]
     },
     "execution_count": 81,
     "metadata": {},
     "output_type": "execute_result"
    }
   ],
   "source": [
    "diffs.mode()"
   ]
  },
  {
   "cell_type": "markdown",
   "metadata": {},
   "source": [
    "## Loading DEA Coastlines data using Web Feature Service (WFS)\n",
    "\n",
    "DEA Coastlines data can be loaded directly in a Python script or Jupyter Notebook using the DEA Coastlines Web Feature Service (WFS) and `geopandas`:\n"
   ]
  },
  {
   "cell_type": "code",
   "execution_count": 2,
   "metadata": {},
   "outputs": [
    {
     "data": {
      "text/html": [
       "<div>\n",
       "<style scoped>\n",
       "    .dataframe tbody tr th:only-of-type {\n",
       "        vertical-align: middle;\n",
       "    }\n",
       "\n",
       "    .dataframe tbody tr th {\n",
       "        vertical-align: top;\n",
       "    }\n",
       "\n",
       "    .dataframe thead th {\n",
       "        text-align: right;\n",
       "    }\n",
       "</style>\n",
       "<table border=\"1\" class=\"dataframe\">\n",
       "  <thead>\n",
       "    <tr style=\"text-align: right;\">\n",
       "      <th></th>\n",
       "      <th>gml_id</th>\n",
       "      <th>year</th>\n",
       "      <th>certainty</th>\n",
       "      <th>geometry</th>\n",
       "    </tr>\n",
       "  </thead>\n",
       "  <tbody>\n",
       "    <tr>\n",
       "      <th>0</th>\n",
       "      <td>coastlines.633</td>\n",
       "      <td>1988</td>\n",
       "      <td>good</td>\n",
       "      <td>MULTILINESTRING ((-1515201.261 -3750001.375, -...</td>\n",
       "    </tr>\n",
       "    <tr>\n",
       "      <th>1</th>\n",
       "      <td>coastlines.634</td>\n",
       "      <td>1989</td>\n",
       "      <td>good</td>\n",
       "      <td>MULTILINESTRING ((-1515192.442 -3750001.375, -...</td>\n",
       "    </tr>\n",
       "    <tr>\n",
       "      <th>2</th>\n",
       "      <td>coastlines.635</td>\n",
       "      <td>1990</td>\n",
       "      <td>good</td>\n",
       "      <td>MULTILINESTRING ((-1515201.862 -3750001.375, -...</td>\n",
       "    </tr>\n",
       "    <tr>\n",
       "      <th>3</th>\n",
       "      <td>coastlines.636</td>\n",
       "      <td>1991</td>\n",
       "      <td>good</td>\n",
       "      <td>MULTILINESTRING ((-1515211.079 -3750001.375, -...</td>\n",
       "    </tr>\n",
       "    <tr>\n",
       "      <th>4</th>\n",
       "      <td>coastlines.637</td>\n",
       "      <td>1992</td>\n",
       "      <td>good</td>\n",
       "      <td>MULTILINESTRING ((-1515205.461 -3750001.375, -...</td>\n",
       "    </tr>\n",
       "  </tbody>\n",
       "</table>\n",
       "</div>"
      ],
      "text/plain": [
       "           gml_id  year certainty  \\\n",
       "0  coastlines.633  1988      good   \n",
       "1  coastlines.634  1989      good   \n",
       "2  coastlines.635  1990      good   \n",
       "3  coastlines.636  1991      good   \n",
       "4  coastlines.637  1992      good   \n",
       "\n",
       "                                            geometry  \n",
       "0  MULTILINESTRING ((-1515201.261 -3750001.375, -...  \n",
       "1  MULTILINESTRING ((-1515192.442 -3750001.375, -...  \n",
       "2  MULTILINESTRING ((-1515201.862 -3750001.375, -...  \n",
       "3  MULTILINESTRING ((-1515211.079 -3750001.375, -...  \n",
       "4  MULTILINESTRING ((-1515205.461 -3750001.375, -...  "
      ]
     },
     "execution_count": 2,
     "metadata": {},
     "output_type": "execute_result"
    }
   ],
   "source": [
    "import geopandas as gpd\n",
    "\n",
    "# Specify bounding box\n",
    "ymax, xmin = -33.65, 115.28\n",
    "ymin, xmax = -33.66, 115.30\n",
    "\n",
    "# Set up WFS requests for annual coastlines & rates of change statistics\n",
    "deacl_coastlines_wfs = f'https://geoserver.dea.ga.gov.au/geoserver/wfs?' \\\n",
    "                       f'service=WFS&version=1.1.0&request=GetFeature' \\\n",
    "                       f'&typeName=dea:coastlines&maxFeatures=1000' \\\n",
    "                       f'&bbox={ymin},{xmin},{ymax},{xmax},' \\\n",
    "                       f'urn:ogc:def:crs:EPSG:4326'\n",
    "deacl_statistics_wfs = f'https://geoserver.dea.ga.gov.au/geoserver/wfs?' \\\n",
    "                       f'service=WFS&version=1.1.0&request=GetFeature' \\\n",
    "                       f'&typeName=dea:coastlines_statistics&maxFeatures=1000' \\\n",
    "                       f'&bbox={ymin},{xmin},{ymax},{xmax},' \\\n",
    "                       f'urn:ogc:def:crs:EPSG:4326'\n",
    "\n",
    "# Load DEA Coastlines data from WFS using geopandas\n",
    "deacl_coastlines_gdf = gpd.read_file(deacl_coastlines_wfs)\n",
    "deacl_statistics_gdf = gpd.read_file(deacl_statistics_wfs)\n",
    "\n",
    "# Ensure CRSs are set correctly\n",
    "deacl_coastlines_gdf.crs = 'EPSG:3577'\n",
    "deacl_statistics_gdf.crs = 'EPSG:3577'\n",
    "\n",
    "# Print example output\n",
    "deacl_coastlines_gdf.head()"
   ]
  },
  {
   "cell_type": "markdown",
   "metadata": {},
   "source": [
    "We can now analyse and plot the loaded data like any other `geopandas` object:"
   ]
  },
  {
   "cell_type": "code",
   "execution_count": 3,
   "metadata": {},
   "outputs": [
    {
     "data": {
      "text/plain": [
       "<matplotlib.axes._subplots.AxesSubplot at 0x7f28740cae10>"
      ]
     },
     "execution_count": 3,
     "metadata": {},
     "output_type": "execute_result"
    },
    {
     "data": {
      "image/png": "[encoded data removed]",
      "text/plain": [
       "<Figure size 864x360 with 1 Axes>"
      ]
     },
     "metadata": {
      "needs_background": "light"
     },
     "output_type": "display_data"
    }
   ],
   "source": [
    "# Set up figure\n",
    "fig, ax = plt.subplots(1, 1, figsize=(12, 5))\n",
    "\n",
    "# Set plot limits to extent of statistics points\n",
    "bounds = deacl_statistics_gdf.geometry.total_bounds\n",
    "ax.set_xlim(bounds[[0, 2]])\n",
    "ax.set_ylim(bounds[[1, 3]])\n",
    "\n",
    "# Plot data\n",
    "deacl_statistics_gdf.plot(ax=ax,\n",
    "                          column='rate_time',\n",
    "                          cmap='RdBu',\n",
    "                          vmin=-2.5,\n",
    "                          vmax=2.5)\n",
    "deacl_coastlines_gdf.plot(ax=ax, column='year', cmap='inferno', zorder=0)"
   ]
  },
  {
   "cell_type": "markdown",
   "metadata": {},
   "source": [
    "## DEA Coastlines analysis tools\n",
    "\n",
    "The following sections provide useful tools for analysing DEA Coastlines data directly within a Jupyter Notebook without needing to load the data into a GIS.\n",
    "All outputs from the tools below will be saved to a new folder in this directory called `deacoastlines_outputs`.\n",
    "\n",
    "### Interactive profile selection\n",
    "This tool allows you to interactively draw a transect over DEA Coastlines annual shoreline data, and get back a table and graph showing how shoreline positions have changed over time.\n",
    "To use the tool:\n",
    "\n",
    "1. Run the cell below; an interactive map will appear \n",
    "2. Zoom in and use the `Draw a polyline` tool on the left to draw a transect across a set of coastlines\n",
    "3. Press `Finish` when you are happy with the line, then click `Done` in the top right\n",
    "4. A graph will appear below the map showing distances along the transect to each annual coastline (distances will be measured from the start of the transect line you drew above)\n",
    "\n",
    "> **Optional:** Set `transect_mode='width'` and re-run the cell below to measure the width between two adjacent sets of coastlines (e.g. across the next of a tombolo or sandbar)\n",
    "\n",
    "> **Optional:** By default, this tool will export a set of output datasets and figures into a new folder in this directory called `deacoastlines_outputs` unless the `export_*` parameters below are set to `False`. These outputs include:\n",
    "> * `export_transect_data`: A CSV file containing the data (i.e. years and distances) extracted for the transect\n",
    "> * `export_transect`: Vector files in ESRI Shapefile and GeoJSON format for the transect line feature\n",
    "> * `export_figure`: A PNG image file for the transect figure generated by the tool"
   ]
  },
  {
   "cell_type": "code",
   "execution_count": 4,
   "metadata": {},
   "outputs": [
    {
     "data": {
      "application/vnd.jupyter.widget-view+json": {
       "model_id": "adaee2cd09d345bb9f7226e15fd04661",
       "version_major": 2,
       "version_minor": 0
      },
      "text/plain": [
       "Map(center=[-26, 135], controls=(ZoomControl(options=['position', 'zoom_in_text', 'zoom_in_title', 'zoom_out_t…"
      ]
     },
     "metadata": {},
     "output_type": "display_data"
    },
    {
     "name": "stdout",
     "output_type": "stream",
     "text": [
      "Loading DEA Coastlines data...\n",
      "\n",
      "Exporting transect data to:\n",
      "    deacoastlines_outputs/deacoastlines_transect_131.860_-12.229.csv\n",
      "\n",
      "Exporting transect vectors to:\n",
      "    deacoastlines_outputs/deacoastlines_transect_131.860_-12.229.shp\n",
      "    deacoastlines_outputs/deacoastlines_transect_131.860_-12.229.geojson\n",
      "\n",
      "Exporting transect figure to:\n",
      "    deacoastlines_outputs/deacoastlines_transect_131.860_-12.229.png\n",
      "\n"
     ]
    },
    {
     "data": {
      "image/png": "[encoded data removed]",
      "text/plain": [
       "<Figure size 360x576 with 1 Axes>"
      ]
     },
     "metadata": {
      "needs_background": "light"
     },
     "output_type": "display_data"
    }
   ],
   "source": [
    "df = deacoastlines_transect(transect_mode='distance',\n",
    "                            export_transect_data=True,\n",
    "                            export_transect=True,\n",
    "                            export_figure=True)\n"
   ]
  },
  {
   "cell_type": "markdown",
   "metadata": {},
   "source": [
    "### Statistics point histogram analysis\n",
    "This tool allows you to draw a polygon or rectangle around DEA Coastlines rates of change statistics points, and get back a histogram showing the distribution of growing or retreating points.\n",
    "To use the tool:\n",
    "\n",
    "1. Run the cell below; an interactive map will appear \n",
    "2. Use the `Draw a polygon` or `Draw a rectangle` tools on the left to select a region.\n",
    "3. Press `Done` in the top right when ready\n",
    "4. A histogram plot will appear below the map\n",
    "\n",
    "> **Optional:** Instead of using the interactive map, supply a path to a vector file using the `extent_path` parameter (e.g. `extent_path='study_area.shp`). \n",
    "If this option is selected, you can also supply a column name in the dataset to `extent_id_col` which will be used to name the output files (e.g. `extent_id_col='compartment_id'`).\n",
    "To revert to the interactive map, set `extent_path=None`.\n",
    "\n",
    "> **Optional:** Set `hist_log=True` and re-run the cell below to generate a log-scale histogram plot\n",
    "\n",
    "> **Optional:** By default, this tool will export a set of output datasets and figures into a new folder in this directory called `deacoastlines_outputs` unless the `export_*` parameters below are set to `False`. These outputs include:\n",
    "> * `export_points_data`: A CSV file containing raw data for all DEA Coastlines rates of change statistics points in the selected extent\n",
    "> * `export_summary_data`: A CSV file containing summary statistics for all rates of change statistics points in the selected extent\n",
    "> * `export_extent`: Vector files in ESRI Shapefile and GeoJSON format giving the selected area extent\n",
    "> * `export_figure`: A PNG image file for the histogram figure generated by the tool\n",
    "   \n",
    "\n",
    "\n"
   ]
  },
  {
   "cell_type": "code",
   "execution_count": 6,
   "metadata": {},
   "outputs": [
    {
     "data": {
      "application/vnd.jupyter.widget-view+json": {
       "model_id": "74ff854bf5bb48729fb1006651d59ddd",
       "version_major": 2,
       "version_minor": 0
      },
      "text/plain": [
       "Map(center=[-26, 135], controls=(ZoomControl(options=['position', 'zoom_in_text', 'zoom_in_title', 'zoom_out_t…"
      ]
     },
     "metadata": {},
     "output_type": "display_data"
    },
    {
     "name": "stdout",
     "output_type": "stream",
     "text": [
      "Loading DEA Coastlines data for 131.679_-12.254...\n",
      "    Plotting data with log axis after setting non-significant points to 0 m / year\n",
      "\n"
     ]
    },
    {
     "data": {
      "image/png": "[encoded data removed]",
      "text/plain": [
       "<Figure size 720x576 with 1 Axes>"
      ]
     },
     "metadata": {
      "needs_background": "light"
     },
     "output_type": "display_data"
    }
   ],
   "source": [
    "df = deacoastlines_histogram(extent_path=None,\n",
    "                             extent_id_col=None,\n",
    "                             hist_log=True,\n",
    "                             export_points_data=False,\n",
    "                             export_summary_data=False,\n",
    "                             export_extent=False,\n",
    "                             export_figure=False)"
   ]
  },
  {
   "cell_type": "markdown",
   "metadata": {},
   "source": [
    "### Remove output files\n",
    "Run this cell to clean up your directory by removing any output files generated by this notebook and saved to the `deacoastlines_outputs` folder. \n",
    "\n",
    "> **Note:** This cannot be undone, so ensure any important outputs have been downloaded to your computor before proceeding.\n"
   ]
  },
  {
   "cell_type": "code",
   "execution_count": null,
   "metadata": {},
   "outputs": [],
   "source": [
    "!rm -r deacoastlines_outputs"
   ]
  },
  {
   "cell_type": "markdown",
   "metadata": {},
   "source": [
    "***\n",
    "\n",
    "## Additional information"
   ]
  },
  {
   "cell_type": "markdown",
   "metadata": {},
   "source": [
    "**License:** The code in this notebook is licensed under the [Apache License, Version 2.0](https://www.apache.org/licenses/LICENSE-2.0). \n",
    "Digital Earth Australia data is licensed under the [Creative Commons by Attribution 4.0](https://creativecommons.org/licenses/by/4.0/) license.\n",
    "\n",
    "**Product description and metadata:** For the most up-to-date information about this product, visit the official [Geoscience Australia DEA Coastlines product description](https://cmi.ga.gov.au/data-products/dea/581/dea-coastlines-landsat)\n",
    "\n",
    "**Contact:** For assistance with any of the Python code or Jupyter Notebooks in this repository, please post a [Github issue](https://github.com/GeoscienceAustralia/DEACoastLines/issues/new). For questions or more information about this product, email dea@ga.gov.au or sign up to the [Open Data Cube Slack](https://join.slack.com/t/opendatacube/shared_invite/zt-d6hu7l35-CGDhSxiSmTwacKNuXWFUkg) and post on the [`#dea-coastlines`](https://app.slack.com/client/T0L4V0TFT/C018X6J9HLY/details/) channel.\n",
    "\n",
    "**Last modified:** September 2020"
   ]
  }
 ],
 "metadata": {
  "kernelspec": {
   "display_name": "Python 3",
   "language": "python",
   "name": "python3"
  },
  "language_info": {
   "codemirror_mode": {
    "name": "ipython",
    "version": 3
   },
   "file_extension": ".py",
   "mimetype": "text/x-python",
   "name": "python",
   "nbconvert_exporter": "python",
   "pygments_lexer": "ipython3",
   "version": "3.6.10"
  },
  "widgets": {
   "application/vnd.jupyter.widget-state+json": {
    "state": {
     "068035fcc28340c09a208a0ff4ea716f": {
      "model_module": "jupyter-leaflet",
      "model_module_version": "^0.13.0",
      "model_name": "LeafletMapStyleModel",
      "state": {
       "_model_module_version": "^0.13.0"
      }
     },
     "151dc5f6fa144986997861582be47417": {
      "model_module": "jupyter-leaflet",
      "model_module_version": "^0.13.0",
      "model_name": "LeafletTileLayerModel",
      "state": {
       "_model_module_version": "^0.13.0",
       "_view_module_version": "^0.13.0",
       "max_native_zoom": 18,
       "min_native_zoom": 0,
       "options": [
        "attribution",
        "detect_retina",
        "max_native_zoom",
        "max_zoom",
        "min_native_zoom",
        "min_zoom",
        "no_wrap",
        "tile_size",
        "tms"
       ],
       "url": "https://server.arcgisonline.com/ArcGIS/rest/services/Reference/World_Boundaries_and_Places/MapServer/tile/{z}/{y}/{x}"
      }
     },
     "1971b9a026b84e798fd98e3494d46523": {
      "model_module": "jupyter-leaflet",
      "model_module_version": "^0.13.0",
      "model_name": "LeafletWMSLayerModel",
      "state": {
       "_model_module_version": "^0.13.0",
       "_view_module_version": "^0.13.0",
       "attribution": "DEA CoastLines © 2020 Geoscience Australia",
       "crs": {
        "custom": false,
        "name": "EPSG3857"
       },
       "format": "image/png",
       "layers": "dea:DEACoastLines",
       "max_native_zoom": 18,
       "min_native_zoom": 0,
       "options": [
        "attribution",
        "detect_retina",
        "format",
        "layers",
        "max_native_zoom",
        "max_zoom",
        "min_native_zoom",
        "min_zoom",
        "no_wrap",
        "styles",
        "tile_size",
        "tms",
        "transparent",
        "uppercase"
       ],
       "transparent": true,
       "url": "https://geoserver.dea.ga.gov.au/geoserver/wms"
      }
     },
     "198b3cec94c34a26928825845466c3f6": {
      "model_module": "jupyter-leaflet",
      "model_module_version": "^0.13.0",
      "model_name": "LeafletWMSLayerModel",
      "state": {
       "_model_module_version": "^0.13.0",
       "_view_module_version": "^0.13.0",
       "attribution": "DEA CoastLines © 2020 Geoscience Australia",
       "crs": {
        "custom": false,
        "name": "EPSG3857"
       },
       "format": "image/png",
       "layers": "dea:DEACoastLines",
       "max_native_zoom": 18,
       "min_native_zoom": 0,
       "options": [
        "attribution",
        "detect_retina",
        "format",
        "layers",
        "max_native_zoom",
        "max_zoom",
        "min_native_zoom",
        "min_zoom",
        "no_wrap",
        "styles",
        "tile_size",
        "tms",
        "transparent",
        "uppercase"
       ],
       "transparent": true,
       "url": "https://geoserver.dea.ga.gov.au/geoserver/wms"
      }
     },
     "22d1d75bff1043d4b7539297d5dc2058": {
      "model_module": "jupyter-leaflet",
      "model_module_version": "^0.13.0",
      "model_name": "LeafletDrawControlModel",
      "state": {
       "_model_module_version": "^0.13.0",
       "_view_module_version": "^0.13.0",
       "options": [
        "position"
       ],
       "polygon": {
        "shapeOptions": {
         "color": "#000000",
         "editing": {
          "color": "#000000",
          "fillColor": "#fca45d",
          "fillOpacity": 0.1
         },
         "fillColor": "#fca45d",
         "fillOpacity": 0.1,
         "original": {
          "color": "#000000",
          "fillColor": "#fca45d",
          "fillOpacity": 0.1
         }
        }
       },
       "polyline": {},
       "rectangle": {
        "metric": [
         "km",
         "m"
        ],
        "shapeOptions": {
         "color": "#000000",
         "fillColor": "#fca45d",
         "fillOpacity": 0.1
        }
       }
      }
     },
     "26ac4356643449a6b01b9f9d38760f19": {
      "model_module": "@jupyter-widgets/base",
      "model_module_version": "1.2.0",
      "model_name": "LayoutModel",
      "state": {
       "width": "5em"
      }
     },
     "2c32d1fedb714492a42853bf539c79ec": {
      "model_module": "jupyter-leaflet",
      "model_module_version": "^0.13.0",
      "model_name": "LeafletAttributionControlModel",
      "state": {
       "_model_module_version": "^0.13.0",
       "_view_module_version": "^0.13.0",
       "options": [
        "position",
        "prefix"
       ],
       "position": "bottomright",
       "prefix": "Leaflet"
      }
     },
     "2cdfceda78684e36a7c83cffa2341789": {
      "model_module": "@jupyter-widgets/controls",
      "model_module_version": "1.5.0",
      "model_name": "ButtonModel",
      "state": {
       "description": "done",
       "disabled": true,
       "layout": "IPY_MODEL_26ac4356643449a6b01b9f9d38760f19",
       "style": "IPY_MODEL_a312be48d0134c51bbff3fead3acce6b"
      }
     },
     "2fa9c228a5c94a67905efe175064d8bb": {
      "model_module": "@jupyter-widgets/base",
      "model_module_version": "1.2.0",
      "model_name": "LayoutModel",
      "state": {
       "flex": "1 0 20em",
       "height": "3em",
       "width": "20em"
      }
     },
     "378da7c97b1546b6a7437c20868e6cda": {
      "model_module": "jupyter-leaflet",
      "model_module_version": "^0.13.0",
      "model_name": "LeafletFullScreenControlModel",
      "state": {
       "_model_module_version": "^0.13.0",
       "_view_module_version": "^0.13.0",
       "options": [
        "position"
       ]
      }
     },
     "3c283473748248a7a1e378f411f675b5": {
      "model_module": "jupyter-leaflet",
      "model_module_version": "^0.13.0",
      "model_name": "LeafletDrawControlModel",
      "state": {
       "_model_module_version": "^0.13.0",
       "_view_module_version": "^0.13.0",
       "options": [
        "position"
       ],
       "polygon": {},
       "polyline": {
        "shapeOptions": {
         "color": "red",
         "opacity": 1
        }
       }
      }
     },
     "43c95b48a8f84f0e9a0ebef20db2d565": {
      "model_module": "jupyter-leaflet",
      "model_module_version": "^0.13.0",
      "model_name": "LeafletTileLayerModel",
      "state": {
       "_model_module_version": "^0.13.0",
       "_view_module_version": "^0.13.0",
       "max_native_zoom": 18,
       "min_native_zoom": 0,
       "options": [
        "attribution",
        "detect_retina",
        "max_native_zoom",
        "max_zoom",
        "min_native_zoom",
        "min_zoom",
        "no_wrap",
        "tile_size",
        "tms"
       ],
       "url": "https://server.arcgisonline.com/ArcGIS/rest/services/Reference/World_Boundaries_and_Places/MapServer/tile/{z}/{y}/{x}"
      }
     },
     "44925254d8a04d26bad5cddf840b5dbf": {
      "model_module": "jupyter-leaflet",
      "model_module_version": "^0.13.0",
      "model_name": "LeafletTileLayerModel",
      "state": {
       "_model_module_version": "^0.13.0",
       "_view_module_version": "^0.13.0",
       "attribution": "Tiles &copy; Esri &mdash; Source: Esri, i-cubed, USDA, USGS, AEX, GeoEye, Getmapping, Aerogrid, IGN, IGP, UPR-EGP, and the GIS User Community",
       "max_native_zoom": 18,
       "max_zoom": 20,
       "min_native_zoom": 0,
       "min_zoom": 1,
       "name": "Esri.WorldImagery",
       "options": [
        "attribution",
        "detect_retina",
        "max_native_zoom",
        "max_zoom",
        "min_native_zoom",
        "min_zoom",
        "no_wrap",
        "tile_size",
        "tms"
       ],
       "url": "http://server.arcgisonline.com/ArcGIS/rest/services/World_Imagery/MapServer/tile/{z}/{y}/{x}"
      }
     },
     "606f0c8e52d1458f9f236dc33a6a8675": {
      "model_module": "jupyter-leaflet",
      "model_module_version": "^0.13.0",
      "model_name": "LeafletZoomControlModel",
      "state": {
       "_model_module_version": "^0.13.0",
       "_view_module_version": "^0.13.0",
       "options": [
        "position",
        "zoom_in_text",
        "zoom_in_title",
        "zoom_out_text",
        "zoom_out_title"
       ]
      }
     },
     "6449318fe1d5490c9bcb12f10f308d29": {
      "model_module": "jupyter-leaflet",
      "model_module_version": "^0.13.0",
      "model_name": "LeafletFullScreenControlModel",
      "state": {
       "_model_module_version": "^0.13.0",
       "_view_module_version": "^0.13.0",
       "options": [
        "position"
       ]
      }
     },
     "678093db658a4e8cb74393ded7c8eaf1": {
      "model_module": "jupyter-leaflet",
      "model_module_version": "^0.13.0",
      "model_name": "LeafletWidgetControlModel",
      "state": {
       "_model_module": "jupyter-leaflet",
       "_model_module_version": "^0.13.0",
       "_view_count": null,
       "_view_module": "jupyter-leaflet",
       "_view_module_version": "^0.13.0",
       "options": [
        "position"
       ],
       "position": "topright",
       "widget": "IPY_MODEL_2cdfceda78684e36a7c83cffa2341789"
      }
     },
     "6ed1b29d5abb46288e29b3b8896d7921": {
      "model_module": "@jupyter-widgets/base",
      "model_module_version": "1.2.0",
      "model_name": "LayoutModel",
      "state": {
       "width": "5em"
      }
     },
     "74ff854bf5bb48729fb1006651d59ddd": {
      "model_module": "jupyter-leaflet",
      "model_module_version": "^0.13.0",
      "model_name": "LeafletMapModel",
      "state": {
       "_model_module_version": "^0.13.0",
       "_view_module_version": "^0.13.0",
       "center": [
        -12.204469007402986,
        131.81877136230472
       ],
       "controls": [
        "IPY_MODEL_606f0c8e52d1458f9f236dc33a6a8675",
        "IPY_MODEL_b6c19783e546480b8b76c69d68171768",
        "IPY_MODEL_6449318fe1d5490c9bcb12f10f308d29"
       ],
       "default_style": "IPY_MODEL_a6220523baee4db0ab7f8c2f81503cc5",
       "dragging_style": "IPY_MODEL_abc4cb9b81b14bfe9cda19943de3ab1c",
       "east": 132.53356933593753,
       "fullscreen": false,
       "interpolation": "bilinear",
       "layers": [
        "IPY_MODEL_44925254d8a04d26bad5cddf840b5dbf",
        "IPY_MODEL_198b3cec94c34a26928825845466c3f6",
        "IPY_MODEL_151dc5f6fa144986997861582be47417"
       ],
       "layout": "IPY_MODEL_f2f8ec9c94c744b1bf5ba27d49d8677e",
       "modisdate": "yesterday",
       "north": -11.801489974355638,
       "options": [
        "bounce_at_zoom_limits",
        "box_zoom",
        "center",
        "close_popup_on_click",
        "double_click_zoom",
        "dragging",
        "fullscreen",
        "inertia",
        "inertia_deceleration",
        "inertia_max_speed",
        "interpolation",
        "keyboard",
        "keyboard_pan_offset",
        "keyboard_zoom_offset",
        "max_zoom",
        "min_zoom",
        "scroll_wheel_zoom",
        "tap",
        "tap_tolerance",
        "touch_zoom",
        "world_copy_jump",
        "zoom",
        "zoom_animation_threshold",
        "zoom_start"
       ],
       "scroll_wheel_zoom": true,
       "south": -12.606835950346987,
       "style": "IPY_MODEL_a6220523baee4db0ab7f8c2f81503cc5",
       "west": 131.1039733886719,
       "window_url": "https://app.sandbox.dea.ga.gov.au/user/robbibt/lab/workspaces/auto-Y",
       "zoom": 10
      }
     },
     "76c6e470271747d5bb43aebbea224f86": {
      "model_module": "jupyter-leaflet",
      "model_module_version": "^0.13.0",
      "model_name": "LeafletWidgetControlModel",
      "state": {
       "_model_module": "jupyter-leaflet",
       "_model_module_version": "^0.13.0",
       "_view_count": null,
       "_view_module": "jupyter-leaflet",
       "_view_module_version": "^0.13.0",
       "options": [
        "position"
       ],
       "position": "bottomleft",
       "widget": "IPY_MODEL_e719fe8967a241158f652a94dd759611"
      }
     },
     "79f4e7cb98d041a5a85a689847547f72": {
      "model_module": "jupyter-leaflet",
      "model_module_version": "^0.13.0",
      "model_name": "LeafletMapStyleModel",
      "state": {
       "_model_module_version": "^0.13.0",
       "cursor": "move"
      }
     },
     "a3041ec8ad004af1ab87d3917fa7f9ef": {
      "model_module": "jupyter-leaflet",
      "model_module_version": "^0.13.0",
      "model_name": "LeafletWidgetControlModel",
      "state": {
       "_model_module": "jupyter-leaflet",
       "_model_module_version": "^0.13.0",
       "_view_count": null,
       "_view_module": "jupyter-leaflet",
       "_view_module_version": "^0.13.0",
       "options": [
        "position"
       ],
       "position": "topright",
       "widget": "IPY_MODEL_da9baf26ffcb4e87b2331533c79e965f"
      }
     },
     "a312be48d0134c51bbff3fead3acce6b": {
      "model_module": "@jupyter-widgets/controls",
      "model_module_version": "1.5.0",
      "model_name": "ButtonStyleModel",
      "state": {
       "button_color": "green"
      }
     },
     "a4eca96ec136444c8c5af5af249a2fb4": {
      "model_module": "@jupyter-widgets/controls",
      "model_module_version": "1.5.0",
      "model_name": "HTMLModel",
      "state": {
       "layout": "IPY_MODEL_2fa9c228a5c94a67905efe175064d8bb",
       "style": "IPY_MODEL_eb2fa34d428d44349f170e805f50b733",
       "value": "<pre style=\"color:grey\">lat: [-12.2336, -12.2252]\nlon: [131.8482, 131.8706]</pre>"
      }
     },
     "a6220523baee4db0ab7f8c2f81503cc5": {
      "model_module": "jupyter-leaflet",
      "model_module_version": "^0.13.0",
      "model_name": "LeafletMapStyleModel",
      "state": {
       "_model_module_version": "^0.13.0"
      }
     },
     "a71ac5a853de406089079e1d23dd9f80": {
      "model_module": "jupyter-leaflet",
      "model_module_version": "^0.13.0",
      "model_name": "LeafletMapStyleModel",
      "state": {
       "_model_module_version": "^0.13.0"
      }
     },
     "abb33b5526174de9a1cdea2593b81183": {
      "model_module": "jupyter-leaflet",
      "model_module_version": "^0.13.0",
      "model_name": "LeafletZoomControlModel",
      "state": {
       "_model_module_version": "^0.13.0",
       "_view_module_version": "^0.13.0",
       "options": [
        "position",
        "zoom_in_text",
        "zoom_in_title",
        "zoom_out_text",
        "zoom_out_title"
       ]
      }
     },
     "abc4cb9b81b14bfe9cda19943de3ab1c": {
      "model_module": "jupyter-leaflet",
      "model_module_version": "^0.13.0",
      "model_name": "LeafletMapStyleModel",
      "state": {
       "_model_module_version": "^0.13.0",
       "cursor": "move"
      }
     },
     "adaee2cd09d345bb9f7226e15fd04661": {
      "model_module": "jupyter-leaflet",
      "model_module_version": "^0.13.0",
      "model_name": "LeafletMapModel",
      "state": {
       "_model_module_version": "^0.13.0",
       "_view_module_version": "^0.13.0",
       "center": [
        -12.22938342157707,
        131.8594014644623
       ],
       "controls": [
        "IPY_MODEL_abb33b5526174de9a1cdea2593b81183",
        "IPY_MODEL_2c32d1fedb714492a42853bf539c79ec",
        "IPY_MODEL_378da7c97b1546b6a7437c20868e6cda"
       ],
       "default_style": "IPY_MODEL_a71ac5a853de406089079e1d23dd9f80",
       "dragging_style": "IPY_MODEL_79f4e7cb98d041a5a85a689847547f72",
       "east": 131.87057018280032,
       "fullscreen": false,
       "interpolation": "bilinear",
       "layers": [
        "IPY_MODEL_f2fae583d0744f99a6afb2be496f17d8",
        "IPY_MODEL_1971b9a026b84e798fd98e3494d46523",
        "IPY_MODEL_43c95b48a8f84f0e9a0ebef20db2d565"
       ],
       "layout": "IPY_MODEL_dbf0e4e2b8f343759c824f6a661f5eea",
       "modisdate": "yesterday",
       "north": -12.225189239999375,
       "options": [
        "bounce_at_zoom_limits",
        "box_zoom",
        "center",
        "close_popup_on_click",
        "double_click_zoom",
        "dragging",
        "fullscreen",
        "inertia",
        "inertia_deceleration",
        "inertia_max_speed",
        "interpolation",
        "keyboard",
        "keyboard_pan_offset",
        "keyboard_zoom_offset",
        "max_zoom",
        "min_zoom",
        "scroll_wheel_zoom",
        "tap",
        "tap_tolerance",
        "touch_zoom",
        "world_copy_jump",
        "zoom",
        "zoom_animation_threshold",
        "zoom_start"
       ],
       "scroll_wheel_zoom": true,
       "south": -12.233577536610133,
       "style": "IPY_MODEL_a71ac5a853de406089079e1d23dd9f80",
       "west": 131.8482327461243,
       "window_url": "https://app.sandbox.dea.ga.gov.au/user/robbibt/lab/workspaces/auto-Y",
       "zoom": 16
      }
     },
     "b581124fc0824cb7a7c0e0e8a65d2ae6": {
      "model_module": "jupyter-leaflet",
      "model_module_version": "^0.13.0",
      "model_name": "LeafletMapStyleModel",
      "state": {
       "_model_module_version": "^0.13.0"
      }
     },
     "b6c19783e546480b8b76c69d68171768": {
      "model_module": "jupyter-leaflet",
      "model_module_version": "^0.13.0",
      "model_name": "LeafletAttributionControlModel",
      "state": {
       "_model_module_version": "^0.13.0",
       "_view_module_version": "^0.13.0",
       "options": [
        "position",
        "prefix"
       ],
       "position": "bottomright",
       "prefix": "Leaflet"
      }
     },
     "cd1e80e810a24d018d833ac45b1f4ecc": {
      "model_module": "@jupyter-widgets/controls",
      "model_module_version": "1.5.0",
      "model_name": "ButtonStyleModel",
      "state": {
       "button_color": "green"
      }
     },
     "d396bcd0a418423cb1460a3b72092f63": {
      "model_module": "@jupyter-widgets/base",
      "model_module_version": "1.2.0",
      "model_name": "LayoutModel",
      "state": {
       "flex": "1 0 20em",
       "height": "3em",
       "width": "20em"
      }
     },
     "da9baf26ffcb4e87b2331533c79e965f": {
      "model_module": "@jupyter-widgets/controls",
      "model_module_version": "1.5.0",
      "model_name": "ButtonModel",
      "state": {
       "description": "done",
       "disabled": true,
       "layout": "IPY_MODEL_6ed1b29d5abb46288e29b3b8896d7921",
       "style": "IPY_MODEL_cd1e80e810a24d018d833ac45b1f4ecc"
      }
     },
     "dbf0e4e2b8f343759c824f6a661f5eea": {
      "model_module": "@jupyter-widgets/base",
      "model_module_version": "1.2.0",
      "model_name": "LayoutModel",
      "state": {}
     },
     "e719fe8967a241158f652a94dd759611": {
      "model_module": "@jupyter-widgets/controls",
      "model_module_version": "1.5.0",
      "model_name": "HTMLModel",
      "state": {
       "layout": "IPY_MODEL_d396bcd0a418423cb1460a3b72092f63",
       "style": "IPY_MODEL_f038af17e01d435f9aeb5bab1a889572",
       "value": "<pre style=\"color:grey\">lat: [-12.6068, -11.8015]\nlon: [131.1040, 132.5336]</pre>"
      }
     },
     "e89c49cd37524ce48e085aa0bee6c2c2": {
      "model_module": "jupyter-leaflet",
      "model_module_version": "^0.13.0",
      "model_name": "LeafletWidgetControlModel",
      "state": {
       "_model_module": "jupyter-leaflet",
       "_model_module_version": "^0.13.0",
       "_view_count": null,
       "_view_module": "jupyter-leaflet",
       "_view_module_version": "^0.13.0",
       "options": [
        "position"
       ],
       "position": "bottomleft",
       "widget": "IPY_MODEL_a4eca96ec136444c8c5af5af249a2fb4"
      }
     },
     "eb2fa34d428d44349f170e805f50b733": {
      "model_module": "@jupyter-widgets/controls",
      "model_module_version": "1.5.0",
      "model_name": "DescriptionStyleModel",
      "state": {
       "description_width": ""
      }
     },
     "f038af17e01d435f9aeb5bab1a889572": {
      "model_module": "@jupyter-widgets/controls",
      "model_module_version": "1.5.0",
      "model_name": "DescriptionStyleModel",
      "state": {
       "description_width": ""
      }
     },
     "f2f8ec9c94c744b1bf5ba27d49d8677e": {
      "model_module": "@jupyter-widgets/base",
      "model_module_version": "1.2.0",
      "model_name": "LayoutModel",
      "state": {
       "height": "600px"
      }
     },
     "f2fae583d0744f99a6afb2be496f17d8": {
      "model_module": "jupyter-leaflet",
      "model_module_version": "^0.13.0",
      "model_name": "LeafletTileLayerModel",
      "state": {
       "_model_module_version": "^0.13.0",
       "_view_module_version": "^0.13.0",
       "attribution": "Tiles &copy; Esri &mdash; Source: Esri, i-cubed, USDA, USGS, AEX, GeoEye, Getmapping, Aerogrid, IGN, IGP, UPR-EGP, and the GIS User Community",
       "max_native_zoom": 18,
       "max_zoom": 20,
       "min_native_zoom": 0,
       "min_zoom": 1,
       "name": "Esri.WorldImagery",
       "options": [
        "attribution",
        "detect_retina",
        "max_native_zoom",
        "max_zoom",
        "min_native_zoom",
        "min_zoom",
        "no_wrap",
        "tile_size",
        "tms"
       ],
       "url": "http://server.arcgisonline.com/ArcGIS/rest/services/World_Imagery/MapServer/tile/{z}/{y}/{x}"
      }
     }
    },
    "version_major": 2,
    "version_minor": 0
   }
  }
 },
 "nbformat": 4,
 "nbformat_minor": 4
}
