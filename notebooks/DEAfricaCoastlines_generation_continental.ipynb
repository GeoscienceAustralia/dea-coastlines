{
 "cells": [
  {
   "cell_type": "markdown",
   "metadata": {
    "tags": []
   },
   "source": [
    "# DE Africa Coastlines continental hotspots <img align=\"right\" src=\"https://github.com/digitalearthafrica/deafrica-sandbox-notebooks/raw/main/Supplementary_data/DE_Africa_Logo_Stacked_RGB_small.jpg\">\n",
    "\n",
    "This code combines individual datasets into continental DE Africa Coastlines layers:\n",
    "* Combines output shorelines and rates of change statistics point vectors into single continental datasets\n",
    "* Aggregates this data to produce moving window hotspot datasets that summarise coastal change at regional and continental scale.\n",
    "\n",
    "This is an interactive version of the code intended for prototyping; to run this analysis at scale, use the [command line tools](DEAfricaCoastlines_generation_CLI.ipynb).\n",
    "\n",
    "\n",
    "---"
   ]
  },
  {
   "cell_type": "markdown",
   "metadata": {},
   "source": [
    "## Getting started\n",
    "Set working directory to top level of repo to ensure links work correctly:"
   ]
  },
  {
   "cell_type": "code",
   "execution_count": null,
   "metadata": {},
   "outputs": [],
   "source": [
    "cd .."
   ]
  },
  {
   "cell_type": "markdown",
   "metadata": {},
   "source": [
    "### Load packages\n",
    "\n",
    "First we import the required Python packages, then we connect to the database, and load the catalog of virtual products."
   ]
  },
  {
   "cell_type": "code",
   "execution_count": null,
   "metadata": {},
   "outputs": [],
   "source": [
    "pip install -r requirements.in --quiet"
   ]
  },
  {
   "cell_type": "code",
   "execution_count": null,
   "metadata": {},
   "outputs": [],
   "source": [
    "%matplotlib inline\n",
    "%load_ext line_profiler\n",
    "%load_ext autoreload\n",
    "%autoreload 2\n",
    "\n",
    "import os\n",
    "\n",
    "import geopandas as gpd\n",
    "from pathlib import Path\n",
    "\n",
    "from coastlines.vector import points_on_line\n",
    "from coastlines.utils import STYLES_FILE"
   ]
  },
  {
   "cell_type": "markdown",
   "metadata": {},
   "source": [
    "## Load in data"
   ]
  },
  {
   "cell_type": "code",
   "execution_count": null,
   "metadata": {},
   "outputs": [],
   "source": [
    "vector_version = \"cli_update\"\n",
    "continental_version = \"cli_update\"\n",
    "baseline_year = 2020\n",
    "hotspots_radius = [10000, 2000, 500]\n"
   ]
  },
  {
   "cell_type": "markdown",
   "metadata": {},
   "source": [
    "## Make output directory and identify files to load"
   ]
  },
  {
   "cell_type": "code",
   "execution_count": null,
   "metadata": {},
   "outputs": [],
   "source": [
    "# Make output directory \n",
    "output_dir = Path(f\"data/processed/{continental_version}\")\n",
    "output_dir.mkdir(exist_ok=True, parents=True)\n",
    "\n",
    "# Setup input and output file paths\n",
    "shoreline_paths = (\n",
    "    f\"data/interim/vector/{vector_version}/*/\" f\"annualshorelines*.shp\"\n",
    ")\n",
    "ratesofchange_paths = (\n",
    "    f\"data/interim/vector/{vector_version}/*/\" f\"ratesofchange*.shp\"\n",
    ")\n",
    "\n",
    "# Output path for geopackage\n",
    "OUTPUT_FILE = output_dir / f\"coastlines_{continental_version}.gpkg\""
   ]
  },
  {
   "cell_type": "markdown",
   "metadata": {},
   "source": [
    "## Combine data\n",
    "### Shorelines"
   ]
  },
  {
   "cell_type": "code",
   "execution_count": null,
   "metadata": {},
   "outputs": [],
   "source": [
    "os.system(\n",
    "    f\"ogrmerge.py -o \"\n",
    "    f\"{OUTPUT_FILE} {shoreline_paths} \"\n",
    "    f\"-single -overwrite_ds -t_srs epsg:6933 \"\n",
    "    f\"-nln shorelines_annual\"\n",
    ")"
   ]
  },
  {
   "cell_type": "markdown",
   "metadata": {},
   "source": [
    "### Rate of change points"
   ]
  },
  {
   "cell_type": "code",
   "execution_count": null,
   "metadata": {},
   "outputs": [],
   "source": [
    "os.system(\n",
    "    f\"ogrmerge.py \"\n",
    "    f\"-o {OUTPUT_FILE} {ratesofchange_paths} \"\n",
    "    f\"-single -update -t_srs epsg:6933 \"\n",
    "    f\"-nln rates_of_change\"\n",
    ")"
   ]
  },
  {
   "cell_type": "markdown",
   "metadata": {},
   "source": [
    "## Continental hotspots\n",
    "### Prepare data"
   ]
  },
  {
   "cell_type": "code",
   "execution_count": null,
   "metadata": {},
   "outputs": [],
   "source": [
    "# Load continental shoreline and rates of change data\n",
    "ratesofchange_gdf = gpd.read_file(OUTPUT_FILE, layer=\"rates_of_change\")\n",
    "shorelines_gdf = gpd.read_file(OUTPUT_FILE, layer=\"shorelines_annual\")\n",
    "\n",
    "# Set year index on coastlines\n",
    "shorelines_gdf = shorelines_gdf.loc[shorelines_gdf.geometry.is_valid].set_index(\"year\")"
   ]
  },
  {
   "cell_type": "code",
   "execution_count": null,
   "metadata": {},
   "outputs": [],
   "source": [
    "# Drop uncertain points from calculation\n",
    "ratesofchange_gdf = ratesofchange_gdf.loc[\n",
    "    ratesofchange_gdf.certainty == \"good\"\n",
    "].reset_index(drop=True)\n",
    "\n",
    "# Clip rates to remove extreme distances, as these are likely due to\n",
    "# modelling errors, not true coastal change\n",
    "ratesofchange_gdf[\"rate_time\"] = ratesofchange_gdf.rate_time.clip(-250, 250)"
   ]
  },
  {
   "cell_type": "markdown",
   "metadata": {
    "tags": []
   },
   "source": [
    "### Calculate hotspots\n"
   ]
  },
  {
   "cell_type": "code",
   "execution_count": null,
   "metadata": {},
   "outputs": [],
   "source": [
    "# Convert radius to list if not already\n",
    "hotspots_radius = (\n",
    "    [hotspots_radius] if not isinstance(hotspots_radius, list) else hotspots_radius\n",
    ")\n",
    "\n",
    "for i, radius in enumerate(hotspots_radius):\n",
    "\n",
    "    # Extract hotspot points\n",
    "    print(f\"Calculating hotspots at {radius} m\")\n",
    "    hotspots_gdf = points_on_line(\n",
    "        shorelines_gdf, index=str(baseline_year), distance=radius\n",
    "    )\n",
    "\n",
    "    # Create polygon windows\n",
    "    buffered_gdf = hotspots_gdf[[\"geometry\"]].copy()\n",
    "    buffered_gdf[\"geometry\"] = buffered_gdf.buffer(radius)\n",
    "\n",
    "    # Spatial join rate of change points to each polygon, then\n",
    "    # aggregate/summarise values within each polygon\n",
    "    hotspot_values = (\n",
    "        ratesofchange_gdf.sjoin(buffered_gdf, predicate=\"within\")\n",
    "        .groupby(\"index_right\")[\"rate_time\"]\n",
    "        .agg([(\"rate_time\", \"median\"), (\"n\", \"count\")])\n",
    "    )\n",
    "\n",
    "    # Join aggregated values back to hotspot points\n",
    "    hotspots_gdf = hotspots_gdf.join(hotspot_values)\n",
    "\n",
    "    # Add hotspots radius attribute column\n",
    "    hotspots_gdf[\"radius_m\"] = radius\n",
    "\n",
    "    # Drop any points with insufficient observations.\n",
    "    # We can obtain a sensible threshold by dividing the hotspots\n",
    "    # radius by 30 m along-shore rates of change point distance)\n",
    "    hotspots_gdf = hotspots_gdf.loc[hotspots_gdf.n > (radius / 30)]\n",
    "\n",
    "    # Export hotspots to file, incrementing name for each layer\n",
    "    layer_name = f\"hotspots_zoom_{range(0, 10)[i + 1]}\"\n",
    "    try:\n",
    "        hotspots_gdf.to_file(OUTPUT_FILE, layer=layer_name)\n",
    "    except ValueError as e:\n",
    "        print(f\"Failed to generate hotspots with error: {e}\")"
   ]
  },
  {
   "cell_type": "code",
   "execution_count": null,
   "metadata": {},
   "outputs": [],
   "source": [
    "# Insert styles table into GeoPackage\n",
    "styles = gpd.read_file(STYLES_FILE)\n",
    "styles.to_file(OUTPUT_FILE, layer=\"layer_styles\")"
   ]
  },
  {
   "cell_type": "markdown",
   "metadata": {},
   "source": [
    "***\n",
    "\n",
    "## Additional information"
   ]
  },
  {
   "cell_type": "markdown",
   "metadata": {},
   "source": [
    "**License:** The code in this notebook is licensed under the [Apache License, Version 2.0](https://www.apache.org/licenses/LICENSE-2.0). \n",
    "Digital Earth Africa data is licensed under the [Creative Commons by Attribution 4.0](https://creativecommons.org/licenses/by/4.0/) license.\n",
    "\n",
    "**Contact:** For assistance with any of the Python code or Jupyter Notebooks in this repository, please post a [Github issue](https://github.com/GeoscienceAustralia/DEACoastLines/issues/new).\n",
    "\n",
    "**Last modified:** May 2022"
   ]
  }
 ],
 "metadata": {
  "kernelspec": {
   "display_name": "Python 3 (ipykernel)",
   "language": "python",
   "name": "python3"
  },
  "language_info": {
   "codemirror_mode": {
    "name": "ipython",
    "version": 3
   },
   "file_extension": ".py",
   "mimetype": "text/x-python",
   "name": "python",
   "nbconvert_exporter": "python",
   "pygments_lexer": "ipython3",
   "version": "3.8.10"
  },
  "widgets": {
   "application/vnd.jupyter.widget-state+json": {
    "state": {},
    "version_major": 2,
    "version_minor": 0
   }
  }
 },
 "nbformat": 4,
 "nbformat_minor": 4
}
