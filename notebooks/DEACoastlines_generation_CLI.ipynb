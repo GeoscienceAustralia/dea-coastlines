{
 "cells": [
  {
   "cell_type": "markdown",
   "id": "69da8225-7681-4de4-b1b5-be4fdabf52c7",
   "metadata": {
    "tags": []
   },
   "source": [
    "# DEA Coastlines generation using command line tools <img align=\"right\" src=\"https://github.com/GeoscienceAustralia/dea-notebooks/raw/develop/Supplementary_data/dea_logo.jpg\">\n",
    "\n",
    "This notebook demonstrates how to run a DEA Coastlines analysis using command line tools."
   ]
  },
  {
   "cell_type": "markdown",
   "id": "81b6c48d-db3b-4f30-82fa-67c96e64cc1c",
   "metadata": {},
   "source": [
    "### Setup"
   ]
  },
  {
   "cell_type": "markdown",
   "id": "c0ec2b5f-36a1-423b-add1-80f50f07361a",
   "metadata": {},
   "source": [
    "Update required packages:"
   ]
  },
  {
   "cell_type": "code",
   "execution_count": null,
   "id": "cbb131bc-e1f0-4588-9398-7b10e82c6bbd",
   "metadata": {},
   "outputs": [],
   "source": [
    "pip install mock"
   ]
  },
  {
   "cell_type": "code",
   "execution_count": null,
   "id": "cce07895-cdf6-4b97-96b9-3b075aef8e8d",
   "metadata": {},
   "outputs": [],
   "source": [
    "pip install topojson"
   ]
  },
  {
   "cell_type": "code",
   "execution_count": null,
   "id": "a29d7657-064d-4e99-be80-f1eded77d1cd",
   "metadata": {},
   "outputs": [],
   "source": [
    "pip install geopandas==0.10.2"
   ]
  },
  {
   "cell_type": "code",
   "execution_count": null,
   "id": "cb80bb63-817e-4098-a92d-19a3701d8958",
   "metadata": {},
   "outputs": [],
   "source": [
    "pip install pandas==1.3.4"
   ]
  },
  {
   "cell_type": "markdown",
   "id": "ccd976ef-d89d-494b-9c84-84120bf963b9",
   "metadata": {},
   "source": [
    "Set analysis parameters:"
   ]
  },
  {
   "cell_type": "code",
   "execution_count": 1,
   "id": "4729d261-6b27-4a61-a937-366c5174ce05",
   "metadata": {},
   "outputs": [],
   "source": [
    "study_area = 7931\n",
    "raster_version = 'testing'\n",
    "vector_version = 'testing'\n",
    "continental_version = 'testing'"
   ]
  },
  {
   "cell_type": "markdown",
   "id": "4e436c72-fa98-489e-bc7d-787ead143e76",
   "metadata": {},
   "source": [
    "Set working directory to top level of repo to ensure links work correctly:"
   ]
  },
  {
   "cell_type": "code",
   "execution_count": 2,
   "id": "c0c743c8-8d0d-4f71-9a70-c4132adaaa86",
   "metadata": {},
   "outputs": [
    {
     "name": "stdout",
     "output_type": "stream",
     "text": [
      "/home/jovyan/Robbi/dea-coastlines\n"
     ]
    }
   ],
   "source": [
    "cd .."
   ]
  },
  {
   "cell_type": "markdown",
   "id": "d9906d6b-01a4-4c94-8dd0-178eb281bd6a",
   "metadata": {},
   "source": [
    "### Run DEA Coastlines analysis\n",
    "#### Run tidally-constrained raster generation"
   ]
  },
  {
   "cell_type": "code",
   "execution_count": 4,
   "id": "dc5632c4-f872-46e5-9762-80b8556f3622",
   "metadata": {},
   "outputs": [
    {
     "name": "stdout",
     "output_type": "stream",
     "text": [
      "Usage: raster.py [OPTIONS]\n",
      "\n",
      "Options:\n",
      "  --study_area TEXT      A string providing a unique ID of an analysis\n",
      "                         gridcell that will be used to run the analysis. This\n",
      "                         should match a row in the \"id\" column of the provided\n",
      "                         analysis gridcell vector file.  [required]\n",
      "  --raster_version TEXT  A unique string proving a name that will be used for\n",
      "                         output raster directories and files. This can be used\n",
      "                         to version different analysis outputs.  [required]\n",
      "  --start_year TEXT      The first year used to load data. Note that this\n",
      "                         should buffer the desired temporal extent of the\n",
      "                         analysis by one year to allow sufficient data for\n",
      "                         gapfilling low data pixels. For example, set\n",
      "                         `--start_year 1987` to extract a shoreline timeseries\n",
      "                         that commences in 1988.\n",
      "  --end_year TEXT        The last year used to load data. Note that this\n",
      "                         should buffer the desired temporal extent of the\n",
      "                         analysis by one year to allow sufficient data for\n",
      "                         gapfilling low data pixels. For example, set\n",
      "                         `--end_year 2021` to extract a shoreline timeseries\n",
      "                         that finishes in the year 2020.\n",
      "  --help                 Show this message and exit.\n"
     ]
    }
   ],
   "source": [
    "!python dea_coastlines/raster.py --help"
   ]
  },
  {
   "cell_type": "markdown",
   "id": "fca95348-eda9-4071-a9a1-a3f9219c5cf0",
   "metadata": {},
   "source": [
    "Example analysis:"
   ]
  },
  {
   "cell_type": "code",
   "execution_count": 5,
   "id": "47397eb8-ddec-46c6-9f7c-431a50bb7eae",
   "metadata": {},
   "outputs": [
    {
     "name": "stdout",
     "output_type": "stream",
     "text": [
      "/env/lib/python3.8/site-packages/distributed/node.py:151: UserWarning: Port 8787 is already in use.\n",
      "Perhaps you already have a cluster running?\n",
      "Hosting the HTTP server on port 46165 instead\n",
      "  warnings.warn(\n",
      "<Client: 'tcp://127.0.0.1:38857' processes=1 threads=15, memory=125.85 GB>\n",
      "Parallelising 15 processes\n",
      "Processing 19870:19                                                             \n",
      "Processing 1988\n",
      "Processing 1989\n",
      "Processing 1990\n",
      "Processing 1991\n",
      "Processing 1992\n",
      "Processing 1993\n",
      "Processing 1994\n",
      "Processing 1995\n",
      "Processing 1996\n",
      "Processing 1997\n",
      "Processing 1998\n",
      "Processing 1999\n",
      "Processing 2000\n",
      "Processing 2001\n",
      "Processing 2002\n",
      "Processing 2003\n",
      "Processing 2004\n",
      "Processing 2005\n",
      "Processing 2006\n",
      "Processing 2007\n",
      "Processing 2008\n",
      "Processing 2009\n",
      "Processing 2010\n",
      "Processing 2011\n",
      "Processing 2012\n",
      "Processing 2013\n",
      "Processing 2014\n",
      "Processing 2015\n",
      "Processing 2016\n",
      "Processing 2017\n",
      "Processing 2018\n",
      "Processing 2019\n",
      "Processing 2020\n",
      "Processing 2021\n"
     ]
    }
   ],
   "source": [
    "!python dea_coastlines/raster.py --study_area {study_area} --raster_version {raster_version} --start_year 1987 --end_year 2021"
   ]
  },
  {
   "cell_type": "markdown",
   "id": "1e0f60ac-c68d-4b6f-a19b-257679588ea1",
   "metadata": {},
   "source": [
    "#### Run vector annual shoreline and rates of change statistics generation"
   ]
  },
  {
   "cell_type": "code",
   "execution_count": 6,
   "id": "bbc42960-efe0-4157-b089-ed087a432915",
   "metadata": {},
   "outputs": [
    {
     "name": "stdout",
     "output_type": "stream",
     "text": [
      "Usage: vector.py [OPTIONS]\n",
      "\n",
      "Options:\n",
      "  --study_area TEXT        A string providing a unique ID of an analysis\n",
      "                           gridcell that was previously used to generate\n",
      "                           raster files. This is used to identify the raster\n",
      "                           files that will be used as inputs for shoreline\n",
      "                           extraction, and should match a row in the \"id\"\n",
      "                           column of the provided analysis gridcell vector\n",
      "                           file.  [required]\n",
      "  --raster_version TEXT    A unique string providing a name that was used to\n",
      "                           generate raster files. This is used to identify the\n",
      "                           raster files that will be used as inputs for\n",
      "                           shoreline extraction.  [required]\n",
      "  --vector_version TEXT    A unique string proving a name that will be used\n",
      "                           for output vector directories and files. This\n",
      "                           allows multiple versions of vector files to be\n",
      "                           generated from the same input raster data, e.g. for\n",
      "                           testing different water index thresholds or\n",
      "                           indices. If not provided, this will default to the\n",
      "                           same string supplied to \"--raster_version\".\n",
      "  --water_index TEXT       A string giving the name of the computed water\n",
      "                           index to use for shoreline extraction. Defaults to\n",
      "                           \"mndwi\".\n",
      "  --index_threshold FLOAT  The water index threshold used to extract subpixel\n",
      "                           precision shorelines. Defaults to 0.00.\n",
      "  --baseline_year TEXT     The annual shoreline used to generate the rates of\n",
      "                           change point statistics. This is typically the most\n",
      "                           recent annual shoreline in the dataset.\n",
      "  --help                   Show this message and exit.\n"
     ]
    }
   ],
   "source": [
    "!python dea_coastlines/vector.py --help"
   ]
  },
  {
   "cell_type": "markdown",
   "id": "0dede36a-c26b-4d98-a359-7080dc3f2fd9",
   "metadata": {},
   "source": [
    "Example analysis:"
   ]
  },
  {
   "cell_type": "code",
   "execution_count": 7,
   "id": "c23665e0-6d46-4185-b9f0-04a50d856174",
   "metadata": {},
   "outputs": [
    {
     "name": "stdout",
     "output_type": "stream",
     "text": [
      "Operating in single z-value, multiple arrays mode\n",
      "Comparing annual movements with time\n",
      "Comparing annual movements with soi\n"
     ]
    }
   ],
   "source": [
    "!python dea_coastlines/vector.py --study_area {study_area} --raster_version {raster_version} --vector_version {vector_version} --baseline_year 2020"
   ]
  },
  {
   "cell_type": "markdown",
   "id": "fa26bb5f-c618-418d-bc87-c01a33fd612c",
   "metadata": {},
   "source": [
    "#### Run continental-scale layer generation"
   ]
  },
  {
   "cell_type": "code",
   "execution_count": 8,
   "id": "518bf214-ce70-4baa-a2ad-28302986fe01",
   "metadata": {},
   "outputs": [
    {
     "name": "stdout",
     "output_type": "stream",
     "text": [
      "Usage: continental.py [OPTIONS]\n",
      "\n",
      "Options:\n",
      "  --vector_version TEXT       A unique string proving a name that was used for\n",
      "                              output vector directories and files. This is\n",
      "                              used to identify the tiled annual shoreline and\n",
      "                              rates of change layers that will be combined\n",
      "                              into continental-scale layers.  [required]\n",
      "  --continental_version TEXT  A unique string proving a name that will be used\n",
      "                              for output continental-scale layers. This allows\n",
      "                              multiple versions of continental-scale layers to\n",
      "                              be generated from the same input vector data,\n",
      "                              e.g. for testing different hotspot of coastal\n",
      "                              change summary layers. If not provided, this\n",
      "                              will default to the string provided to \"--\n",
      "                              vector_version\".\n",
      "  --water_index TEXT          The water index used to extract annual\n",
      "                              shorelines. Used to identify tiled annual\n",
      "                              shoreline and rates of change layers to combine\n",
      "                              into individual continental-scale layers.\n",
      "                              Defaults to \"mndwi\".\n",
      "  --index_threshold TEXT      The water index threshold used to extract annual\n",
      "                              shorelines. Used to identify tiled annual\n",
      "                              shoreline and rates of change layers to combine\n",
      "                              into individual continental-scale layers.\n",
      "                              Defaults to \"0.00\".\n",
      "  --shorelines BOOLEAN        A boolean indicating whether to combine tiled\n",
      "                              annual shorelines layers into a single\n",
      "                              continental-scale annual shorelines layer.\n",
      "  --ratesofchange BOOLEAN     A boolean indicating whether to combine tiled\n",
      "                              rates of change statistics layers into a single\n",
      "                              continental-scale rates of change statistics\n",
      "                              layer.\n",
      "  --hotspots BOOLEAN          The distance (in metres) used to generate a\n",
      "                              coastal change hotspots summary layer. This\n",
      "                              controls the spacing of each summary point, and\n",
      "                              the radius used to aggregate rates of change\n",
      "                              statistics around each point. The default is\n",
      "                              `False` which will not generate a hotspots\n",
      "                              layer. If `True` is supplied instead of a\n",
      "                              distance value, hotspots will be generated using\n",
      "                              a default distance of 2500 m.\n",
      "  --baseline_year TEXT        The annual shoreline used to generate the\n",
      "                              hotspot summary points. This is typically the\n",
      "                              most recent annual shoreline in the dataset.\n",
      "  --help                      Show this message and exit.\n"
     ]
    }
   ],
   "source": [
    "!python dea_coastlines/continental.py --help"
   ]
  },
  {
   "cell_type": "markdown",
   "id": "51249ca9-35ca-4baa-b6a1-67f149a6fef0",
   "metadata": {},
   "source": [
    "Example analysis:"
   ]
  },
  {
   "cell_type": "code",
   "execution_count": 9,
   "id": "22e3dca9-6a5e-4e6a-ac2c-c3f3b1ae904b",
   "metadata": {},
   "outputs": [
    {
     "name": "stdout",
     "output_type": "stream",
     "text": [
      "Combining annual shorelines...\n",
      "Combining rates of change statistics...\n",
      "Generating hotspots...\n",
      "Using a default hotspot distance of 2500 m\n",
      "Identifying points in each polygon\n",
      "Building index: 100%|█████████████████████| 5319/5319 [00:00<00:00, 6170.34it/s]\n",
      "Processing points: 100%|████████████████████████| 87/87 [00:01<00:00, 44.13it/s]\n",
      "Calculating mean rates\n"
     ]
    }
   ],
   "source": [
    "!python dea_coastlines/continental.py --vector_version {vector_version} --continental_version {continental_version} --shorelines True --ratesofchange True --hotspots True"
   ]
  },
  {
   "cell_type": "markdown",
   "id": "3f83a811-d875-4c27-9f9e-3e644119b49f",
   "metadata": {
    "tags": []
   },
   "source": [
    "### Clean up and remove files"
   ]
  },
  {
   "cell_type": "code",
   "execution_count": 9,
   "id": "585af34b-9cde-4ff2-8fa5-5c2baaab2e79",
   "metadata": {},
   "outputs": [],
   "source": [
    "# rm -rf data/interim/raster/{raster_version}"
   ]
  },
  {
   "cell_type": "code",
   "execution_count": 10,
   "id": "f3069daf-5d71-4c70-8740-d02efb1fc0f9",
   "metadata": {},
   "outputs": [],
   "source": [
    "# rm -rf data/interim/vector/{vector_version}"
   ]
  },
  {
   "cell_type": "code",
   "execution_count": 11,
   "id": "38d2209f-e978-4735-835b-68381358517a",
   "metadata": {},
   "outputs": [],
   "source": [
    "# rm -rf data/processed/{continental_version}"
   ]
  }
 ],
 "metadata": {
  "kernelspec": {
   "display_name": "Python 3 (ipykernel)",
   "language": "python",
   "name": "python3"
  },
  "language_info": {
   "codemirror_mode": {
    "name": "ipython",
    "version": 3
   },
   "file_extension": ".py",
   "mimetype": "text/x-python",
   "name": "python",
   "nbconvert_exporter": "python",
   "pygments_lexer": "ipython3",
   "version": "3.8.10"
  },
  "widgets": {
   "application/vnd.jupyter.widget-state+json": {
    "state": {},
    "version_major": 2,
    "version_minor": 0
   }
  }
 },
 "nbformat": 4,
 "nbformat_minor": 5
}
