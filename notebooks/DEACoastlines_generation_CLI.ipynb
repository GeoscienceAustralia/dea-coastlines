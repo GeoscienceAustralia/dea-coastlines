{
 "cells": [
  {
   "cell_type": "markdown",
   "id": "69da8225-7681-4de4-b1b5-be4fdabf52c7",
   "metadata": {
    "tags": []
   },
   "source": [
    "# DEA Coastlines generation using command line tools <img align=\"right\" src=\"https://github.com/GeoscienceAustralia/dea-notebooks/raw/develop/Supplementary_data/dea_logo.jpg\">\n",
    "\n",
    "This notebook demonstrates how to run a DEA Coastlines analysis using command line tools."
   ]
  },
  {
   "cell_type": "markdown",
   "id": "81b6c48d-db3b-4f30-82fa-67c96e64cc1c",
   "metadata": {},
   "source": [
    "### Setup"
   ]
  },
  {
   "cell_type": "markdown",
   "id": "c0ec2b5f-36a1-423b-add1-80f50f07361a",
   "metadata": {},
   "source": [
    "Update required packages:"
   ]
  },
  {
   "cell_type": "code",
   "execution_count": null,
   "id": "cb80bb63-817e-4098-a92d-19a3701d8958",
   "metadata": {},
   "outputs": [],
   "source": [
    "# pip install -r ../requirements.txt"
   ]
  },
  {
   "cell_type": "markdown",
   "id": "4e436c72-fa98-489e-bc7d-787ead143e76",
   "metadata": {},
   "source": [
    "Set working directory to top level of repo to ensure links work correctly:"
   ]
  },
  {
   "cell_type": "code",
   "execution_count": 1,
   "id": "c0c743c8-8d0d-4f71-9a70-c4132adaaa86",
   "metadata": {},
   "outputs": [
    {
     "name": "stdout",
     "output_type": "stream",
     "text": [
      "/home/jovyan/Robbi/dea-coastlines\n"
     ]
    }
   ],
   "source": [
    "cd .."
   ]
  },
  {
   "cell_type": "markdown",
   "id": "ccd976ef-d89d-494b-9c84-84120bf963b9",
   "metadata": {},
   "source": [
    "Set analysis parameters:"
   ]
  },
  {
   "cell_type": "code",
   "execution_count": 2,
   "id": "4729d261-6b27-4a61-a937-366c5174ce05",
   "metadata": {},
   "outputs": [],
   "source": [
    "config_path = 'configs/deafrica_coastlines_config.yaml'\n",
    "study_area = 87\n",
    "raster_version = 'testing'\n",
    "vector_version = 'testing'\n",
    "continental_version = 'testing'"
   ]
  },
  {
   "cell_type": "markdown",
   "id": "d9906d6b-01a4-4c94-8dd0-178eb281bd6a",
   "metadata": {},
   "source": [
    "### Run DEA Coastlines analysis\n",
    "#### Run tidally-constrained raster generation"
   ]
  },
  {
   "cell_type": "code",
   "execution_count": null,
   "id": "dc5632c4-f872-46e5-9762-80b8556f3622",
   "metadata": {},
   "outputs": [],
   "source": [
    "!python -m dea_coastlines.raster --help"
   ]
  },
  {
   "cell_type": "markdown",
   "id": "fca95348-eda9-4071-a9a1-a3f9219c5cf0",
   "metadata": {},
   "source": [
    "Example analysis:"
   ]
  },
  {
   "cell_type": "code",
   "execution_count": null,
   "id": "47397eb8-ddec-46c6-9f7c-431a50bb7eae",
   "metadata": {},
   "outputs": [],
   "source": [
    "!python -m dea_coastlines.raster --config_path {config_path} --study_area {study_area} --raster_version {raster_version} --start_year 1998 --end_year 2021"
   ]
  },
  {
   "cell_type": "markdown",
   "id": "1e0f60ac-c68d-4b6f-a19b-257679588ea1",
   "metadata": {},
   "source": [
    "#### Run vector annual shoreline and rates of change statistics generation"
   ]
  },
  {
   "cell_type": "code",
   "execution_count": null,
   "id": "0ed72c21-ba89-4fad-9521-f5493aad9d66",
   "metadata": {},
   "outputs": [],
   "source": [
    "!python -m dea_coastlines.vector --help"
   ]
  },
  {
   "cell_type": "markdown",
   "id": "0dede36a-c26b-4d98-a359-7080dc3f2fd9",
   "metadata": {},
   "source": [
    "Example analysis:"
   ]
  },
  {
   "cell_type": "code",
   "execution_count": null,
   "id": "c23665e0-6d46-4185-b9f0-04a50d856174",
   "metadata": {},
   "outputs": [],
   "source": [
    "!python -m dea_coastlines.vector --config_path {config_path} --study_area {study_area} --raster_version {raster_version} --vector_version {vector_version} --baseline_year 2020"
   ]
  },
  {
   "cell_type": "markdown",
   "id": "fa26bb5f-c618-418d-bc87-c01a33fd612c",
   "metadata": {},
   "source": [
    "#### Run continental-scale layer generation"
   ]
  },
  {
   "cell_type": "code",
   "execution_count": null,
   "id": "518bf214-ce70-4baa-a2ad-28302986fe01",
   "metadata": {},
   "outputs": [],
   "source": [
    "!python -m dea_coastlines.continental --help"
   ]
  },
  {
   "cell_type": "markdown",
   "id": "51249ca9-35ca-4baa-b6a1-67f149a6fef0",
   "metadata": {},
   "source": [
    "Example analysis:"
   ]
  },
  {
   "cell_type": "code",
   "execution_count": null,
   "id": "22e3dca9-6a5e-4e6a-ac2c-c3f3b1ae904b",
   "metadata": {},
   "outputs": [],
   "source": [
    "!python -m dea_coastlines.continental --vector_version {vector_version} --continental_version {continental_version} --shorelines True --ratesofchange True --hotspots True"
   ]
  },
  {
   "cell_type": "markdown",
   "id": "fe55ab27-807a-44c8-9408-595934893faa",
   "metadata": {},
   "source": [
    "## Example analysis"
   ]
  },
  {
   "cell_type": "code",
   "execution_count": null,
   "id": "fc95b9be-6877-4084-97b9-0fef47ce2f29",
   "metadata": {},
   "outputs": [
    {
     "name": "stdout",
     "output_type": "stream",
     "text": [
      "<Client: 'tcp://127.0.0.1:40277' processes=1 threads=62, memory=512.40 GB>\n",
      "Parallelising 63 processes\n",
      "Processing 19984:00                                                             \n",
      "Processing 1999\n",
      "Processing 2000\n",
      "Processing 2001\n",
      "Processing 2002\n",
      "Processing 2003\n",
      "Processing 2004\n",
      "Processing 2005\n",
      "Processing 2006\n",
      "Processing 2007\n",
      "Processing 2008\n",
      "Processing 2009\n",
      "Processing 2010\n",
      "Processing 2011\n",
      "Processing 2012\n",
      "Processing 2013\n",
      "Processing 2014\n",
      "Processing 2015\n",
      "Processing 2016\n",
      "Processing 2017\n",
      "Processing 2018\n",
      "Processing 2019\n",
      "Processing 2020\n",
      "Processing 2021\n",
      "Comparing annual movements with time\n",
      "Comparing annual movements with soi\n",
      "<Client: 'tcp://127.0.0.1:42513' processes=1 threads=62, memory=512.40 GB>\n",
      "Parallelising 63 processes\n",
      "Processing 19984:00                                                             \n",
      "CPLReleaseMutex: Error = 1 (Operation not permitted)\n",
      "Processing 1999\n",
      "Processing 2000\n",
      "Processing 2001\n",
      "Processing 2002\n",
      "Processing 2003\n",
      "Processing 2004\n",
      "Processing 2005\n",
      "Processing 2006\n",
      "Processing 2007\n",
      "Processing 2008\n",
      "Processing 2009\n",
      "Processing 2010\n",
      "Processing 2011\n",
      "Processing 2012\n",
      "Processing 2013\n",
      "Processing 2014\n",
      "Processing 2015\n",
      "Processing 2016\n",
      "Processing 2017\n",
      "Processing 2018\n",
      "Processing 2019\n",
      "Processing 2020\n",
      "Processing 2021\n",
      "Comparing annual movements with time\n",
      "Comparing annual movements with soi\n",
      "<Client: 'tcp://127.0.0.1:42129' processes=1 threads=62, memory=512.40 GB>\n",
      "Parallelising 63 processes\n",
      "Processing 19984:00                                                             \n",
      "Processing 1999\n",
      "Processing 2000\n",
      "Processing 2001\n",
      "Processing 2002\n",
      "Processing 2003\n",
      "Processing 2004\n",
      "Processing 2005\n",
      "Processing 2006\n",
      "Processing 2007\n",
      "Processing 2008\n",
      "Processing 2009\n",
      "Processing 2010\n",
      "Processing 2011\n",
      "Processing 2012\n",
      "Processing 2013\n",
      "Processing 2014\n",
      "Processing 2015\n",
      "Processing 2016\n",
      "Processing 2017\n",
      "Processing 2018\n",
      "Processing 2019\n",
      "Processing 2020\n",
      "Processing 2021\n",
      "Comparing annual movements with time\n",
      "Comparing annual movements with soi\n",
      "<Client: 'tcp://127.0.0.1:32961' processes=1 threads=62, memory=512.40 GB>\n",
      "Parallelising 63 processes\n",
      "Processing 19987:25                                                             \n",
      "Processing 1999\n",
      "Processing 2000\n",
      "Processing 2001\n",
      "Processing 2002\n",
      "Processing 2003\n",
      "Processing 2004\n",
      "Processing 2005\n",
      "Processing 2006\n",
      "Processing 2007\n",
      "Processing 2008\n",
      "Processing 2009\n",
      "Processing 2010\n",
      "Processing 2011\n",
      "Processing 2012\n",
      "Processing 2013\n",
      "Processing 2014\n",
      "Processing 2015\n",
      "Processing 2016\n",
      "Processing 2017\n",
      "Processing 2018\n",
      "Processing 2019\n",
      "Processing 2020\n",
      "Processing 2021\n",
      "Comparing annual movements with time\n",
      "Comparing annual movements with soi\n",
      "<Client: 'tcp://127.0.0.1:42539' processes=1 threads=62, memory=512.40 GB>\n",
      "Parallelising 63 processes\n",
      "Processing 19987:25                                                             \n",
      "CPLReleaseMutex: Error = 1 (Operation not permitted)\n",
      "Processing 1999\n",
      "Processing 2000\n",
      "Processing 2001\n",
      "Processing 2002\n",
      "Processing 2003\n",
      "Processing 2004\n",
      "Processing 2005\n",
      "Processing 2006\n",
      "Processing 2007\n",
      "Processing 2008\n",
      "Processing 2009\n",
      "Processing 2010\n",
      "Processing 2011\n",
      "Processing 2012\n",
      "Processing 2013\n",
      "Processing 2014\n",
      "Processing 2015\n",
      "Processing 2016\n",
      "Processing 2017\n",
      "Processing 2018\n",
      "Processing 2019\n",
      "Processing 2020\n",
      "Processing 2021\n",
      "Comparing annual movements with time\n",
      "Comparing annual movements with soi\n",
      "<Client: 'tcp://127.0.0.1:37581' processes=1 threads=62, memory=512.40 GB>\n",
      "Parallelising 63 processes\n",
      "Processing 19987:25                                                             \n",
      "CPLReleaseMutex: Error = 1 (Operation not permitted)\n",
      "Processing 1999\n",
      "Processing 2000\n",
      "Processing 2001\n",
      "Processing 2002\n",
      "Processing 2003\n",
      "Processing 2004\n",
      "Processing 2005\n",
      "Processing 2006\n"
     ]
    }
   ],
   "source": [
    "for study_area in [39, 45, 46, 59, 60, 61, 83, 84, 85, 86, 87, 88, 113, 114, \n",
    "                   115, 116, 117, 118, 119, 120, 135, 136, 137, 138, 139]:\n",
    "    !python -m dea_coastlines.raster --config_path {config_path} --study_area {study_area} --raster_version {raster_version} --start_year 1998 --end_year 2021\n",
    "    !python -m dea_coastlines.vector --config_path {config_path} --study_area {study_area} --raster_version {raster_version} --vector_version {vector_version} --baseline_year 2020"
   ]
  },
  {
   "cell_type": "markdown",
   "id": "3f83a811-d875-4c27-9f9e-3e644119b49f",
   "metadata": {
    "tags": []
   },
   "source": [
    "### Clean up and remove files"
   ]
  },
  {
   "cell_type": "code",
   "execution_count": 3,
   "id": "585af34b-9cde-4ff2-8fa5-5c2baaab2e79",
   "metadata": {},
   "outputs": [],
   "source": [
    "rm -rf data/interim/raster/{raster_version}"
   ]
  },
  {
   "cell_type": "code",
   "execution_count": 4,
   "id": "f3069daf-5d71-4c70-8740-d02efb1fc0f9",
   "metadata": {},
   "outputs": [],
   "source": [
    "rm -rf data/interim/vector/{vector_version}"
   ]
  },
  {
   "cell_type": "code",
   "execution_count": null,
   "id": "38d2209f-e978-4735-835b-68381358517a",
   "metadata": {},
   "outputs": [],
   "source": [
    "rm -rf data/processed/{continental_version}"
   ]
  }
 ],
 "metadata": {
  "kernelspec": {
   "display_name": "Python 3 (ipykernel)",
   "language": "python",
   "name": "python3"
  },
  "language_info": {
   "codemirror_mode": {
    "name": "ipython",
    "version": 3
   },
   "file_extension": ".py",
   "mimetype": "text/x-python",
   "name": "python",
   "nbconvert_exporter": "python",
   "pygments_lexer": "ipython3",
   "version": "3.8.10"
  },
  "widgets": {
   "application/vnd.jupyter.widget-state+json": {
    "state": {},
    "version_major": 2,
    "version_minor": 0
   }
  }
 },
 "nbformat": 4,
 "nbformat_minor": 5
}
