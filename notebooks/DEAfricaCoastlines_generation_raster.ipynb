{
 "cells": [
  {
   "cell_type": "markdown",
   "metadata": {},
   "source": [
    "# DE Africa Coastlines raster generation <img align=\"right\" src=\"https://github.com/digitalearthafrica/deafrica-sandbox-notebooks/raw/main/Supplementary_data/DE_Africa_Logo_Stacked_RGB_small.jpg\">\n",
    "\n",
    "This code conducts raster generation for DE Africa Coastlines:\n",
    "\n",
    "* Load stack of all available Landsat 5, 7 and 8 satellite imagery for a location using [ODC Virtual Products](https://docs.dea.ga.gov.au/notebooks/Frequently_used_code/Virtual_products.html)\n",
    "* Convert each satellite image into a remote sensing water index (MNDWI)\n",
    "* For each satellite image, model ocean tides into a 5 x 5 km grid based on exact time of image acquisition\n",
    "* Interpolate tide heights into spatial extent of image stack\n",
    "* Mask out high and low tide pixels by removing all observations acquired outside of 50 percent of the observed tidal range centered over mean sea level\n",
    "* Combine tidally-masked data into annual median composites representing the most representative position of the coastline at approximately mean sea level each year\n",
    "\n",
    "This is an interactive version of the code intended for prototyping; to run this analysis at scale, run `dea_coastlines.raster.py`.\n",
    "\n",
    "---"
   ]
  },
  {
   "cell_type": "markdown",
   "metadata": {},
   "source": [
    "## Getting started\n",
    "Set working directory to top level of repo to ensure links work correctly:"
   ]
  },
  {
   "cell_type": "code",
   "execution_count": 1,
   "metadata": {},
   "outputs": [
    {
     "name": "stdout",
     "output_type": "stream",
     "text": [
      "/g/data/dea-coastlines/dea-coastlines\n"
     ]
    }
   ],
   "source": [
    "cd .."
   ]
  },
  {
   "cell_type": "markdown",
   "metadata": {},
   "source": [
    "### Load packages\n",
    "\n",
    "First we import the required Python packages, then we connect to the database, and load the catalog of virtual products."
   ]
  },
  {
   "cell_type": "code",
   "execution_count": null,
   "metadata": {},
   "outputs": [],
   "source": [
    "pip install -r requirements.txt --quiet"
   ]
  },
  {
   "cell_type": "code",
   "execution_count": 2,
   "metadata": {},
   "outputs": [
    {
     "data": {
      "text/html": [
       "<table style=\"border: 2px solid white;\">\n",
       "<tr>\n",
       "<td style=\"vertical-align: top; border: 0px solid white\">\n",
       "<h3 style=\"text-align: left;\">Client</h3>\n",
       "<ul style=\"text-align: left; list-style: none; margin: 0; padding: 0;\">\n",
       "  <li><b>Scheduler: </b>tcp://127.0.0.1:33265</li>\n",
       "  <li><b>Dashboard: </b><a href='/user/robbibt/proxy/8787/status' target='_blank'>/user/robbibt/proxy/8787/status</a></li>\n",
       "</ul>\n",
       "</td>\n",
       "<td style=\"vertical-align: top; border: 0px solid white\">\n",
       "<h3 style=\"text-align: left;\">Cluster</h3>\n",
       "<ul style=\"text-align: left; list-style:none; margin: 0; padding: 0;\">\n",
       "  <li><b>Workers: </b>1</li>\n",
       "  <li><b>Cores: </b>15</li>\n",
       "  <li><b>Memory: </b>104.37 GB</li>\n",
       "</ul>\n",
       "</td>\n",
       "</tr>\n",
       "</table>"
      ],
      "text/plain": [
       "<Client: 'tcp://127.0.0.1:33265' processes=1 threads=15, memory=104.37 GB>"
      ]
     },
     "metadata": {},
     "output_type": "display_data"
    }
   ],
   "source": [
    "%matplotlib inline\n",
    "%load_ext line_profiler\n",
    "%load_ext autoreload\n",
    "%autoreload 2\n",
    "\n",
    "import os\n",
    "import sys\n",
    "import xarray as xr\n",
    "import geopandas as gpd\n",
    "import matplotlib.pyplot as plt\n",
    "from functools import partial\n",
    "from datacube.utils.geometry import Geometry\n",
    "from dea_tools.dask import create_local_dask_cluster\n",
    "\n",
    "# Load DEA Coastlines code\n",
    "import dea_coastlines.raster\n",
    "\n",
    "# Connect to datacube\n",
    "import datacube\n",
    "dc = datacube.Datacube(app='DEACoastlines')\n",
    "\n",
    "# Create local dask client for parallelisation\n",
    "client = create_local_dask_cluster(return_client=True)\n"
   ]
  },
  {
   "cell_type": "markdown",
   "metadata": {
    "tags": []
   },
   "source": [
    "## Setup\n"
   ]
  },
  {
   "cell_type": "markdown",
   "metadata": {},
   "source": [
    "### Set analysis parameters"
   ]
  },
  {
   "cell_type": "code",
   "execution_count": 3,
   "metadata": {},
   "outputs": [],
   "source": [
    "study_area = 910\n",
    "raster_version = 'testing'\n",
    "\n",
    "# Load analysis params from config file\n",
    "config = dea_coastlines.raster.load_config(\n",
    "    config_path='configs/deafrica_coastlines_config.yaml')"
   ]
  },
  {
   "cell_type": "markdown",
   "metadata": {},
   "source": [
    "### Load supplementary data"
   ]
  },
  {
   "cell_type": "code",
   "execution_count": 4,
   "metadata": {},
   "outputs": [],
   "source": [
    "# Tide points are used to model tides across the extent of the satellite data\n",
    "points_gdf = gpd.read_file(config['Input files']['coastal_points_path'])\n",
    "\n",
    "# Albers grid cells used to process the analysis\n",
    "gridcell_gdf = (\n",
    "    gpd.read_file(config['Input files']['coastal_grid_path']).to_crs(\n",
    "        epsg=4326).set_index('id'))\n",
    "gridcell_gdf.index = gridcell_gdf.index.astype(int).astype(str)\n",
    "gridcell_gdf = gridcell_gdf.loc[[str(study_area)]]"
   ]
  },
  {
   "cell_type": "markdown",
   "metadata": {},
   "source": [
    "## Loading data\n",
    "### Create spatiotemporal query\n",
    "This establishes the spatial and temporal extent used to search for Landsat satellite data.\n"
   ]
  },
  {
   "cell_type": "code",
   "execution_count": 7,
   "metadata": {},
   "outputs": [],
   "source": [
    "# Create query based on analysis gridcell extent\n",
    "geopoly = Geometry(gridcell_gdf.iloc[0].geometry, crs=gridcell_gdf.crs)\n",
    "query = {\n",
    "    'geopolygon': geopoly.buffer(0.05),\n",
    "    'time': ('1999', '2021'),  # 1987, 2021\n",
    "    'dask_chunks': {\n",
    "        'time': 1,\n",
    "        'x': 3000,\n",
    "        'y': 3000\n",
    "    }\n",
    "}"
   ]
  },
  {
   "cell_type": "markdown",
   "metadata": {},
   "source": [
    "### Load satellite data as MNDWI\n",
    "This step loads satellite data from Landsat 5, 7 and 8, and returns the data as a cloud-masked array converted to the Modified Normalised Difference Water Index (MNDWI).\n",
    "For Digital Earth Australia Coastlines, this is achieved using [ODC Virtual Products](https://docs.dea.ga.gov.au/notebooks/Frequently_used_code/Virtual_products.html)."
   ]
  },
  {
   "cell_type": "code",
   "execution_count": 8,
   "metadata": {},
   "outputs": [
    {
     "data": {
      "text/html": [
       "<div><svg style=\"position: absolute; width: 0; height: 0; overflow: hidden\">\n",
       "<defs>\n",
       "<symbol id=\"icon-database\" viewBox=\"0 0 32 32\">\n",
       "<path d=\"M16 0c-8.837 0-16 2.239-16 5v4c0 2.761 7.163 5 16 5s16-2.239 16-5v-4c0-2.761-7.163-5-16-5z\"></path>\n",
       "<path d=\"M16 17c-8.837 0-16-2.239-16-5v6c0 2.761 7.163 5 16 5s16-2.239 16-5v-6c0 2.761-7.163 5-16 5z\"></path>\n",
       "<path d=\"M16 26c-8.837 0-16-2.239-16-5v6c0 2.761 7.163 5 16 5s16-2.239 16-5v-6c0 2.761-7.163 5-16 5z\"></path>\n",
       "</symbol>\n",
       "<symbol id=\"icon-file-text2\" viewBox=\"0 0 32 32\">\n",
       "<path d=\"M28.681 7.159c-0.694-0.947-1.662-2.053-2.724-3.116s-2.169-2.030-3.116-2.724c-1.612-1.182-2.393-1.319-2.841-1.319h-15.5c-1.378 0-2.5 1.121-2.5 2.5v27c0 1.378 1.122 2.5 2.5 2.5h23c1.378 0 2.5-1.122 2.5-2.5v-19.5c0-0.448-0.137-1.23-1.319-2.841zM24.543 5.457c0.959 0.959 1.712 1.825 2.268 2.543h-4.811v-4.811c0.718 0.556 1.584 1.309 2.543 2.268zM28 29.5c0 0.271-0.229 0.5-0.5 0.5h-23c-0.271 0-0.5-0.229-0.5-0.5v-27c0-0.271 0.229-0.5 0.5-0.5 0 0 15.499-0 15.5 0v7c0 0.552 0.448 1 1 1h7v19.5z\"></path>\n",
       "<path d=\"M23 26h-14c-0.552 0-1-0.448-1-1s0.448-1 1-1h14c0.552 0 1 0.448 1 1s-0.448 1-1 1z\"></path>\n",
       "<path d=\"M23 22h-14c-0.552 0-1-0.448-1-1s0.448-1 1-1h14c0.552 0 1 0.448 1 1s-0.448 1-1 1z\"></path>\n",
       "<path d=\"M23 18h-14c-0.552 0-1-0.448-1-1s0.448-1 1-1h14c0.552 0 1 0.448 1 1s-0.448 1-1 1z\"></path>\n",
       "</symbol>\n",
       "</defs>\n",
       "</svg>\n",
       "<style>/* CSS stylesheet for displaying xarray objects in jupyterlab.\n",
       " *\n",
       " */\n",
       "\n",
       ":root {\n",
       "  --xr-font-color0: var(--jp-content-font-color0, rgba(0, 0, 0, 1));\n",
       "  --xr-font-color2: var(--jp-content-font-color2, rgba(0, 0, 0, 0.54));\n",
       "  --xr-font-color3: var(--jp-content-font-color3, rgba(0, 0, 0, 0.38));\n",
       "  --xr-border-color: var(--jp-border-color2, #e0e0e0);\n",
       "  --xr-disabled-color: var(--jp-layout-color3, #bdbdbd);\n",
       "  --xr-background-color: var(--jp-layout-color0, white);\n",
       "  --xr-background-color-row-even: var(--jp-layout-color1, white);\n",
       "  --xr-background-color-row-odd: var(--jp-layout-color2, #eeeeee);\n",
       "}\n",
       "\n",
       "html[theme=dark],\n",
       "body.vscode-dark {\n",
       "  --xr-font-color0: rgba(255, 255, 255, 1);\n",
       "  --xr-font-color2: rgba(255, 255, 255, 0.54);\n",
       "  --xr-font-color3: rgba(255, 255, 255, 0.38);\n",
       "  --xr-border-color: #1F1F1F;\n",
       "  --xr-disabled-color: #515151;\n",
       "  --xr-background-color: #111111;\n",
       "  --xr-background-color-row-even: #111111;\n",
       "  --xr-background-color-row-odd: #313131;\n",
       "}\n",
       "\n",
       ".xr-wrap {\n",
       "  display: block;\n",
       "  min-width: 300px;\n",
       "  max-width: 700px;\n",
       "}\n",
       "\n",
       ".xr-text-repr-fallback {\n",
       "  /* fallback to plain text repr when CSS is not injected (untrusted notebook) */\n",
       "  display: none;\n",
       "}\n",
       "\n",
       ".xr-header {\n",
       "  padding-top: 6px;\n",
       "  padding-bottom: 6px;\n",
       "  margin-bottom: 4px;\n",
       "  border-bottom: solid 1px var(--xr-border-color);\n",
       "}\n",
       "\n",
       ".xr-header > div,\n",
       ".xr-header > ul {\n",
       "  display: inline;\n",
       "  margin-top: 0;\n",
       "  margin-bottom: 0;\n",
       "}\n",
       "\n",
       ".xr-obj-type,\n",
       ".xr-array-name {\n",
       "  margin-left: 2px;\n",
       "  margin-right: 10px;\n",
       "}\n",
       "\n",
       ".xr-obj-type {\n",
       "  color: var(--xr-font-color2);\n",
       "}\n",
       "\n",
       ".xr-sections {\n",
       "  padding-left: 0 !important;\n",
       "  display: grid;\n",
       "  grid-template-columns: 150px auto auto 1fr 20px 20px;\n",
       "}\n",
       "\n",
       ".xr-section-item {\n",
       "  display: contents;\n",
       "}\n",
       "\n",
       ".xr-section-item input {\n",
       "  display: none;\n",
       "}\n",
       "\n",
       ".xr-section-item input + label {\n",
       "  color: var(--xr-disabled-color);\n",
       "}\n",
       "\n",
       ".xr-section-item input:enabled + label {\n",
       "  cursor: pointer;\n",
       "  color: var(--xr-font-color2);\n",
       "}\n",
       "\n",
       ".xr-section-item input:enabled + label:hover {\n",
       "  color: var(--xr-font-color0);\n",
       "}\n",
       "\n",
       ".xr-section-summary {\n",
       "  grid-column: 1;\n",
       "  color: var(--xr-font-color2);\n",
       "  font-weight: 500;\n",
       "}\n",
       "\n",
       ".xr-section-summary > span {\n",
       "  display: inline-block;\n",
       "  padding-left: 0.5em;\n",
       "}\n",
       "\n",
       ".xr-section-summary-in:disabled + label {\n",
       "  color: var(--xr-font-color2);\n",
       "}\n",
       "\n",
       ".xr-section-summary-in + label:before {\n",
       "  display: inline-block;\n",
       "  content: '►';\n",
       "  font-size: 11px;\n",
       "  width: 15px;\n",
       "  text-align: center;\n",
       "}\n",
       "\n",
       ".xr-section-summary-in:disabled + label:before {\n",
       "  color: var(--xr-disabled-color);\n",
       "}\n",
       "\n",
       ".xr-section-summary-in:checked + label:before {\n",
       "  content: '▼';\n",
       "}\n",
       "\n",
       ".xr-section-summary-in:checked + label > span {\n",
       "  display: none;\n",
       "}\n",
       "\n",
       ".xr-section-summary,\n",
       ".xr-section-inline-details {\n",
       "  padding-top: 4px;\n",
       "  padding-bottom: 4px;\n",
       "}\n",
       "\n",
       ".xr-section-inline-details {\n",
       "  grid-column: 2 / -1;\n",
       "}\n",
       "\n",
       ".xr-section-details {\n",
       "  display: none;\n",
       "  grid-column: 1 / -1;\n",
       "  margin-bottom: 5px;\n",
       "}\n",
       "\n",
       ".xr-section-summary-in:checked ~ .xr-section-details {\n",
       "  display: contents;\n",
       "}\n",
       "\n",
       ".xr-array-wrap {\n",
       "  grid-column: 1 / -1;\n",
       "  display: grid;\n",
       "  grid-template-columns: 20px auto;\n",
       "}\n",
       "\n",
       ".xr-array-wrap > label {\n",
       "  grid-column: 1;\n",
       "  vertical-align: top;\n",
       "}\n",
       "\n",
       ".xr-preview {\n",
       "  color: var(--xr-font-color3);\n",
       "}\n",
       "\n",
       ".xr-array-preview,\n",
       ".xr-array-data {\n",
       "  padding: 0 5px !important;\n",
       "  grid-column: 2;\n",
       "}\n",
       "\n",
       ".xr-array-data,\n",
       ".xr-array-in:checked ~ .xr-array-preview {\n",
       "  display: none;\n",
       "}\n",
       "\n",
       ".xr-array-in:checked ~ .xr-array-data,\n",
       ".xr-array-preview {\n",
       "  display: inline-block;\n",
       "}\n",
       "\n",
       ".xr-dim-list {\n",
       "  display: inline-block !important;\n",
       "  list-style: none;\n",
       "  padding: 0 !important;\n",
       "  margin: 0;\n",
       "}\n",
       "\n",
       ".xr-dim-list li {\n",
       "  display: inline-block;\n",
       "  padding: 0;\n",
       "  margin: 0;\n",
       "}\n",
       "\n",
       ".xr-dim-list:before {\n",
       "  content: '(';\n",
       "}\n",
       "\n",
       ".xr-dim-list:after {\n",
       "  content: ')';\n",
       "}\n",
       "\n",
       ".xr-dim-list li:not(:last-child):after {\n",
       "  content: ',';\n",
       "  padding-right: 5px;\n",
       "}\n",
       "\n",
       ".xr-has-index {\n",
       "  font-weight: bold;\n",
       "}\n",
       "\n",
       ".xr-var-list,\n",
       ".xr-var-item {\n",
       "  display: contents;\n",
       "}\n",
       "\n",
       ".xr-var-item > div,\n",
       ".xr-var-item label,\n",
       ".xr-var-item > .xr-var-name span {\n",
       "  background-color: var(--xr-background-color-row-even);\n",
       "  margin-bottom: 0;\n",
       "}\n",
       "\n",
       ".xr-var-item > .xr-var-name:hover span {\n",
       "  padding-right: 5px;\n",
       "}\n",
       "\n",
       ".xr-var-list > li:nth-child(odd) > div,\n",
       ".xr-var-list > li:nth-child(odd) > label,\n",
       ".xr-var-list > li:nth-child(odd) > .xr-var-name span {\n",
       "  background-color: var(--xr-background-color-row-odd);\n",
       "}\n",
       "\n",
       ".xr-var-name {\n",
       "  grid-column: 1;\n",
       "}\n",
       "\n",
       ".xr-var-dims {\n",
       "  grid-column: 2;\n",
       "}\n",
       "\n",
       ".xr-var-dtype {\n",
       "  grid-column: 3;\n",
       "  text-align: right;\n",
       "  color: var(--xr-font-color2);\n",
       "}\n",
       "\n",
       ".xr-var-preview {\n",
       "  grid-column: 4;\n",
       "}\n",
       "\n",
       ".xr-var-name,\n",
       ".xr-var-dims,\n",
       ".xr-var-dtype,\n",
       ".xr-preview,\n",
       ".xr-attrs dt {\n",
       "  white-space: nowrap;\n",
       "  overflow: hidden;\n",
       "  text-overflow: ellipsis;\n",
       "  padding-right: 10px;\n",
       "}\n",
       "\n",
       ".xr-var-name:hover,\n",
       ".xr-var-dims:hover,\n",
       ".xr-var-dtype:hover,\n",
       ".xr-attrs dt:hover {\n",
       "  overflow: visible;\n",
       "  width: auto;\n",
       "  z-index: 1;\n",
       "}\n",
       "\n",
       ".xr-var-attrs,\n",
       ".xr-var-data {\n",
       "  display: none;\n",
       "  background-color: var(--xr-background-color) !important;\n",
       "  padding-bottom: 5px !important;\n",
       "}\n",
       "\n",
       ".xr-var-attrs-in:checked ~ .xr-var-attrs,\n",
       ".xr-var-data-in:checked ~ .xr-var-data {\n",
       "  display: block;\n",
       "}\n",
       "\n",
       ".xr-var-data > table {\n",
       "  float: right;\n",
       "}\n",
       "\n",
       ".xr-var-name span,\n",
       ".xr-var-data,\n",
       ".xr-attrs {\n",
       "  padding-left: 25px !important;\n",
       "}\n",
       "\n",
       ".xr-attrs,\n",
       ".xr-var-attrs,\n",
       ".xr-var-data {\n",
       "  grid-column: 1 / -1;\n",
       "}\n",
       "\n",
       "dl.xr-attrs {\n",
       "  padding: 0;\n",
       "  margin: 0;\n",
       "  display: grid;\n",
       "  grid-template-columns: 125px auto;\n",
       "}\n",
       "\n",
       ".xr-attrs dt,\n",
       ".xr-attrs dd {\n",
       "  padding: 0;\n",
       "  margin: 0;\n",
       "  float: left;\n",
       "  padding-right: 10px;\n",
       "  width: auto;\n",
       "}\n",
       "\n",
       ".xr-attrs dt {\n",
       "  font-weight: normal;\n",
       "  grid-column: 1;\n",
       "}\n",
       "\n",
       ".xr-attrs dt:hover span {\n",
       "  display: inline-block;\n",
       "  background: var(--xr-background-color);\n",
       "  padding-right: 10px;\n",
       "}\n",
       "\n",
       ".xr-attrs dd {\n",
       "  grid-column: 2;\n",
       "  white-space: pre-wrap;\n",
       "  word-break: break-all;\n",
       "}\n",
       "\n",
       ".xr-icon-database,\n",
       ".xr-icon-file-text2 {\n",
       "  display: inline-block;\n",
       "  vertical-align: middle;\n",
       "  width: 1em;\n",
       "  height: 1.5em !important;\n",
       "  stroke-width: 0;\n",
       "  stroke: currentColor;\n",
       "  fill: currentColor;\n",
       "}\n",
       "</style><pre class='xr-text-repr-fallback'>&lt;xarray.Dataset&gt;\n",
       "Dimensions:      (time: 1428, y: 1472, x: 1384)\n",
       "Coordinates:\n",
       "  * time         (time) datetime64[ns] 1999-01-01T08:02:33.302025 ... 2021-12...\n",
       "  * y            (y) float64 3.522e+06 3.522e+06 ... 3.478e+06 3.478e+06\n",
       "  * x            (x) float64 3.071e+05 3.072e+05 ... 3.486e+05 3.486e+05\n",
       "    spatial_ref  int32 32636\n",
       "Data variables:\n",
       "    mndwi        (time, y, x) float32 dask.array&lt;chunksize=(1, 1472, 1384), meta=np.ndarray&gt;\n",
       "Attributes:\n",
       "    crs:           epsg:32636\n",
       "    grid_mapping:  spatial_ref</pre><div class='xr-wrap' hidden><div class='xr-header'><div class='xr-obj-type'>xarray.Dataset</div></div><ul class='xr-sections'><li class='xr-section-item'><input id='section-212cd681-6c93-4d4a-a38b-bdd4b047c55d' class='xr-section-summary-in' type='checkbox' disabled ><label for='section-212cd681-6c93-4d4a-a38b-bdd4b047c55d' class='xr-section-summary'  title='Expand/collapse section'>Dimensions:</label><div class='xr-section-inline-details'><ul class='xr-dim-list'><li><span class='xr-has-index'>time</span>: 1428</li><li><span class='xr-has-index'>y</span>: 1472</li><li><span class='xr-has-index'>x</span>: 1384</li></ul></div><div class='xr-section-details'></div></li><li class='xr-section-item'><input id='section-397d4002-c36e-4b11-b9d0-2850f654b1da' class='xr-section-summary-in' type='checkbox'  checked><label for='section-397d4002-c36e-4b11-b9d0-2850f654b1da' class='xr-section-summary' >Coordinates: <span>(4)</span></label><div class='xr-section-inline-details'></div><div class='xr-section-details'><ul class='xr-var-list'><li class='xr-var-item'><div class='xr-var-name'><span class='xr-has-index'>time</span></div><div class='xr-var-dims'>(time)</div><div class='xr-var-dtype'>datetime64[ns]</div><div class='xr-var-preview xr-preview'>1999-01-01T08:02:33.302025 ... 2...</div><input id='attrs-a6dde03f-3a0e-43bb-8bdc-c554705e2c97' class='xr-var-attrs-in' type='checkbox' ><label for='attrs-a6dde03f-3a0e-43bb-8bdc-c554705e2c97' title='Show/Hide attributes'><svg class='icon xr-icon-file-text2'><use xlink:href='#icon-file-text2'></use></svg></label><input id='data-434ab518-85f6-4630-ace5-519afa65a23d' class='xr-var-data-in' type='checkbox'><label for='data-434ab518-85f6-4630-ace5-519afa65a23d' title='Show/Hide data repr'><svg class='icon xr-icon-database'><use xlink:href='#icon-database'></use></svg></label><div class='xr-var-attrs'><dl class='xr-attrs'><dt><span>units :</span></dt><dd>seconds since 1970-01-01 00:00:00</dd></dl></div><div class='xr-var-data'><pre>array([&#x27;1999-01-01T08:02:33.302025000&#x27;, &#x27;1999-01-08T08:08:41.151019000&#x27;,\n",
       "       &#x27;1999-01-17T08:02:27.044031000&#x27;, ..., &#x27;2021-11-20T08:29:58.800247000&#x27;,\n",
       "       &#x27;2021-11-29T08:23:49.435652000&#x27;, &#x27;2021-12-06T08:30:00.353348000&#x27;],\n",
       "      dtype=&#x27;datetime64[ns]&#x27;)</pre></div></li><li class='xr-var-item'><div class='xr-var-name'><span class='xr-has-index'>y</span></div><div class='xr-var-dims'>(y)</div><div class='xr-var-dtype'>float64</div><div class='xr-var-preview xr-preview'>3.522e+06 3.522e+06 ... 3.478e+06</div><input id='attrs-e8ac446d-39ba-4fa5-9041-10753383e607' class='xr-var-attrs-in' type='checkbox' ><label for='attrs-e8ac446d-39ba-4fa5-9041-10753383e607' title='Show/Hide attributes'><svg class='icon xr-icon-file-text2'><use xlink:href='#icon-file-text2'></use></svg></label><input id='data-20257d5d-3520-4ed7-9d7a-9f116ab5e94d' class='xr-var-data-in' type='checkbox'><label for='data-20257d5d-3520-4ed7-9d7a-9f116ab5e94d' title='Show/Hide data repr'><svg class='icon xr-icon-database'><use xlink:href='#icon-database'></use></svg></label><div class='xr-var-attrs'><dl class='xr-attrs'><dt><span>units :</span></dt><dd>metre</dd><dt><span>resolution :</span></dt><dd>-30.0</dd><dt><span>crs :</span></dt><dd>epsg:32636</dd></dl></div><div class='xr-var-data'><pre>array([3522270., 3522240., 3522210., ..., 3478200., 3478170., 3478140.])</pre></div></li><li class='xr-var-item'><div class='xr-var-name'><span class='xr-has-index'>x</span></div><div class='xr-var-dims'>(x)</div><div class='xr-var-dtype'>float64</div><div class='xr-var-preview xr-preview'>3.071e+05 3.072e+05 ... 3.486e+05</div><input id='attrs-64640520-a199-4af6-87e8-5ecf41f06cd5' class='xr-var-attrs-in' type='checkbox' ><label for='attrs-64640520-a199-4af6-87e8-5ecf41f06cd5' title='Show/Hide attributes'><svg class='icon xr-icon-file-text2'><use xlink:href='#icon-file-text2'></use></svg></label><input id='data-714206e8-0bdb-4415-8cc9-28c1ede41fcf' class='xr-var-data-in' type='checkbox'><label for='data-714206e8-0bdb-4415-8cc9-28c1ede41fcf' title='Show/Hide data repr'><svg class='icon xr-icon-database'><use xlink:href='#icon-database'></use></svg></label><div class='xr-var-attrs'><dl class='xr-attrs'><dt><span>units :</span></dt><dd>metre</dd><dt><span>resolution :</span></dt><dd>30.0</dd><dt><span>crs :</span></dt><dd>epsg:32636</dd></dl></div><div class='xr-var-data'><pre>array([307140., 307170., 307200., ..., 348570., 348600., 348630.])</pre></div></li><li class='xr-var-item'><div class='xr-var-name'><span>spatial_ref</span></div><div class='xr-var-dims'>()</div><div class='xr-var-dtype'>int32</div><div class='xr-var-preview xr-preview'>32636</div><input id='attrs-212df4f1-3a89-44f1-b7ac-97d61cd3833d' class='xr-var-attrs-in' type='checkbox' ><label for='attrs-212df4f1-3a89-44f1-b7ac-97d61cd3833d' title='Show/Hide attributes'><svg class='icon xr-icon-file-text2'><use xlink:href='#icon-file-text2'></use></svg></label><input id='data-fc76aed8-f2df-43b0-9ea4-51a34b459c62' class='xr-var-data-in' type='checkbox'><label for='data-fc76aed8-f2df-43b0-9ea4-51a34b459c62' title='Show/Hide data repr'><svg class='icon xr-icon-database'><use xlink:href='#icon-database'></use></svg></label><div class='xr-var-attrs'><dl class='xr-attrs'><dt><span>spatial_ref :</span></dt><dd>PROJCS[&quot;WGS 84 / UTM zone 36N&quot;,GEOGCS[&quot;WGS 84&quot;,DATUM[&quot;WGS_1984&quot;,SPHEROID[&quot;WGS 84&quot;,6378137,298.257223563,AUTHORITY[&quot;EPSG&quot;,&quot;7030&quot;]],AUTHORITY[&quot;EPSG&quot;,&quot;6326&quot;]],PRIMEM[&quot;Greenwich&quot;,0,AUTHORITY[&quot;EPSG&quot;,&quot;8901&quot;]],UNIT[&quot;degree&quot;,0.0174532925199433,AUTHORITY[&quot;EPSG&quot;,&quot;9122&quot;]],AUTHORITY[&quot;EPSG&quot;,&quot;4326&quot;]],PROJECTION[&quot;Transverse_Mercator&quot;],PARAMETER[&quot;latitude_of_origin&quot;,0],PARAMETER[&quot;central_meridian&quot;,33],PARAMETER[&quot;scale_factor&quot;,0.9996],PARAMETER[&quot;false_easting&quot;,500000],PARAMETER[&quot;false_northing&quot;,0],UNIT[&quot;metre&quot;,1,AUTHORITY[&quot;EPSG&quot;,&quot;9001&quot;]],AXIS[&quot;Easting&quot;,EAST],AXIS[&quot;Northing&quot;,NORTH],AUTHORITY[&quot;EPSG&quot;,&quot;32636&quot;]]</dd><dt><span>grid_mapping_name :</span></dt><dd>transverse_mercator</dd></dl></div><div class='xr-var-data'><pre>array(32636, dtype=int32)</pre></div></li></ul></div></li><li class='xr-section-item'><input id='section-ffbd57c0-8c5b-40e4-b82e-1610ac84d021' class='xr-section-summary-in' type='checkbox'  checked><label for='section-ffbd57c0-8c5b-40e4-b82e-1610ac84d021' class='xr-section-summary' >Data variables: <span>(1)</span></label><div class='xr-section-inline-details'></div><div class='xr-section-details'><ul class='xr-var-list'><li class='xr-var-item'><div class='xr-var-name'><span>mndwi</span></div><div class='xr-var-dims'>(time, y, x)</div><div class='xr-var-dtype'>float32</div><div class='xr-var-preview xr-preview'>dask.array&lt;chunksize=(1, 1472, 1384), meta=np.ndarray&gt;</div><input id='attrs-9b2942bc-2e46-4396-b269-cbed88b63114' class='xr-var-attrs-in' type='checkbox' disabled><label for='attrs-9b2942bc-2e46-4396-b269-cbed88b63114' title='Show/Hide attributes'><svg class='icon xr-icon-file-text2'><use xlink:href='#icon-file-text2'></use></svg></label><input id='data-c0ee82e4-0c6c-4b1b-b3e6-b4d686429f8c' class='xr-var-data-in' type='checkbox'><label for='data-c0ee82e4-0c6c-4b1b-b3e6-b4d686429f8c' title='Show/Hide data repr'><svg class='icon xr-icon-database'><use xlink:href='#icon-database'></use></svg></label><div class='xr-var-attrs'><dl class='xr-attrs'></dl></div><div class='xr-var-data'><table>\n",
       "<tr>\n",
       "<td>\n",
       "<table>\n",
       "  <thead>\n",
       "    <tr><td> </td><th> Array </th><th> Chunk </th></tr>\n",
       "  </thead>\n",
       "  <tbody>\n",
       "    <tr><th> Bytes </th><td> 11.64 GB </td> <td> 8.15 MB </td></tr>\n",
       "    <tr><th> Shape </th><td> (1428, 1472, 1384) </td> <td> (1, 1472, 1384) </td></tr>\n",
       "    <tr><th> Count </th><td> 88587 Tasks </td><td> 1428 Chunks </td></tr>\n",
       "    <tr><th> Type </th><td> float32 </td><td> numpy.ndarray </td></tr>\n",
       "  </tbody>\n",
       "</table>\n",
       "</td>\n",
       "<td>\n",
       "<svg width=\"241\" height=\"238\" style=\"stroke:rgb(0,0,0);stroke-width:1\" >\n",
       "\n",
       "  <!-- Horizontal lines -->\n",
       "  <line x1=\"10\" y1=\"0\" x2=\"78\" y2=\"68\" style=\"stroke-width:2\" />\n",
       "  <line x1=\"10\" y1=\"120\" x2=\"78\" y2=\"188\" style=\"stroke-width:2\" />\n",
       "\n",
       "  <!-- Vertical lines -->\n",
       "  <line x1=\"10\" y1=\"0\" x2=\"10\" y2=\"120\" style=\"stroke-width:2\" />\n",
       "  <line x1=\"13\" y1=\"3\" x2=\"13\" y2=\"123\" />\n",
       "  <line x1=\"17\" y1=\"7\" x2=\"17\" y2=\"127\" />\n",
       "  <line x1=\"20\" y1=\"10\" x2=\"20\" y2=\"130\" />\n",
       "  <line x1=\"24\" y1=\"14\" x2=\"24\" y2=\"134\" />\n",
       "  <line x1=\"27\" y1=\"17\" x2=\"27\" y2=\"137\" />\n",
       "  <line x1=\"31\" y1=\"21\" x2=\"31\" y2=\"141\" />\n",
       "  <line x1=\"35\" y1=\"25\" x2=\"35\" y2=\"145\" />\n",
       "  <line x1=\"38\" y1=\"28\" x2=\"38\" y2=\"148\" />\n",
       "  <line x1=\"42\" y1=\"32\" x2=\"42\" y2=\"152\" />\n",
       "  <line x1=\"46\" y1=\"36\" x2=\"46\" y2=\"156\" />\n",
       "  <line x1=\"49\" y1=\"39\" x2=\"49\" y2=\"159\" />\n",
       "  <line x1=\"53\" y1=\"43\" x2=\"53\" y2=\"163\" />\n",
       "  <line x1=\"56\" y1=\"46\" x2=\"56\" y2=\"166\" />\n",
       "  <line x1=\"60\" y1=\"50\" x2=\"60\" y2=\"170\" />\n",
       "  <line x1=\"64\" y1=\"54\" x2=\"64\" y2=\"174\" />\n",
       "  <line x1=\"67\" y1=\"57\" x2=\"67\" y2=\"177\" />\n",
       "  <line x1=\"71\" y1=\"61\" x2=\"71\" y2=\"181\" />\n",
       "  <line x1=\"74\" y1=\"64\" x2=\"74\" y2=\"184\" />\n",
       "  <line x1=\"78\" y1=\"68\" x2=\"78\" y2=\"188\" style=\"stroke-width:2\" />\n",
       "\n",
       "  <!-- Colored Rectangle -->\n",
       "  <polygon points=\"10.0,0.0 78.47826086956523,68.47826086956523 78.47826086956523,188.47826086956525 10.0,120.0\" style=\"fill:#8B4903A0;stroke-width:0\"/>\n",
       "\n",
       "  <!-- Horizontal lines -->\n",
       "  <line x1=\"10\" y1=\"0\" x2=\"122\" y2=\"0\" style=\"stroke-width:2\" />\n",
       "  <line x1=\"13\" y1=\"3\" x2=\"126\" y2=\"3\" />\n",
       "  <line x1=\"17\" y1=\"7\" x2=\"130\" y2=\"7\" />\n",
       "  <line x1=\"20\" y1=\"10\" x2=\"133\" y2=\"10\" />\n",
       "  <line x1=\"24\" y1=\"14\" x2=\"137\" y2=\"14\" />\n",
       "  <line x1=\"27\" y1=\"17\" x2=\"140\" y2=\"17\" />\n",
       "  <line x1=\"31\" y1=\"21\" x2=\"144\" y2=\"21\" />\n",
       "  <line x1=\"35\" y1=\"25\" x2=\"148\" y2=\"25\" />\n",
       "  <line x1=\"38\" y1=\"28\" x2=\"151\" y2=\"28\" />\n",
       "  <line x1=\"42\" y1=\"32\" x2=\"155\" y2=\"32\" />\n",
       "  <line x1=\"46\" y1=\"36\" x2=\"158\" y2=\"36\" />\n",
       "  <line x1=\"49\" y1=\"39\" x2=\"162\" y2=\"39\" />\n",
       "  <line x1=\"53\" y1=\"43\" x2=\"166\" y2=\"43\" />\n",
       "  <line x1=\"56\" y1=\"46\" x2=\"169\" y2=\"46\" />\n",
       "  <line x1=\"60\" y1=\"50\" x2=\"173\" y2=\"50\" />\n",
       "  <line x1=\"64\" y1=\"54\" x2=\"176\" y2=\"54\" />\n",
       "  <line x1=\"67\" y1=\"57\" x2=\"180\" y2=\"57\" />\n",
       "  <line x1=\"71\" y1=\"61\" x2=\"184\" y2=\"61\" />\n",
       "  <line x1=\"74\" y1=\"64\" x2=\"187\" y2=\"64\" />\n",
       "  <line x1=\"78\" y1=\"68\" x2=\"191\" y2=\"68\" style=\"stroke-width:2\" />\n",
       "\n",
       "  <!-- Vertical lines -->\n",
       "  <line x1=\"10\" y1=\"0\" x2=\"78\" y2=\"68\" style=\"stroke-width:2\" />\n",
       "  <line x1=\"122\" y1=\"0\" x2=\"191\" y2=\"68\" style=\"stroke-width:2\" />\n",
       "\n",
       "  <!-- Colored Rectangle -->\n",
       "  <polygon points=\"10.0,0.0 122.82608695652175,0.0 191.304347826087,68.47826086956523 78.47826086956523,68.47826086956523\" style=\"fill:#8B4903A0;stroke-width:0\"/>\n",
       "\n",
       "  <!-- Horizontal lines -->\n",
       "  <line x1=\"78\" y1=\"68\" x2=\"191\" y2=\"68\" style=\"stroke-width:2\" />\n",
       "  <line x1=\"78\" y1=\"188\" x2=\"191\" y2=\"188\" style=\"stroke-width:2\" />\n",
       "\n",
       "  <!-- Vertical lines -->\n",
       "  <line x1=\"78\" y1=\"68\" x2=\"78\" y2=\"188\" style=\"stroke-width:2\" />\n",
       "  <line x1=\"191\" y1=\"68\" x2=\"191\" y2=\"188\" style=\"stroke-width:2\" />\n",
       "\n",
       "  <!-- Colored Rectangle -->\n",
       "  <polygon points=\"78.47826086956523,68.47826086956523 191.304347826087,68.47826086956523 191.304347826087,188.47826086956525 78.47826086956523,188.47826086956525\" style=\"fill:#ECB172A0;stroke-width:0\"/>\n",
       "\n",
       "  <!-- Text -->\n",
       "  <text x=\"134.891304\" y=\"208.478261\" font-size=\"1.0rem\" font-weight=\"100\" text-anchor=\"middle\" >1384</text>\n",
       "  <text x=\"211.304348\" y=\"128.478261\" font-size=\"1.0rem\" font-weight=\"100\" text-anchor=\"middle\" transform=\"rotate(-90,211.304348,128.478261)\">1472</text>\n",
       "  <text x=\"34.239130\" y=\"174.239130\" font-size=\"1.0rem\" font-weight=\"100\" text-anchor=\"middle\" transform=\"rotate(45,34.239130,174.239130)\">1428</text>\n",
       "</svg>\n",
       "</td>\n",
       "</tr>\n",
       "</table></div></li></ul></div></li><li class='xr-section-item'><input id='section-29b1911f-73e4-48f6-a141-ad4817f396da' class='xr-section-summary-in' type='checkbox'  checked><label for='section-29b1911f-73e4-48f6-a141-ad4817f396da' class='xr-section-summary' >Attributes: <span>(2)</span></label><div class='xr-section-inline-details'></div><div class='xr-section-details'><dl class='xr-attrs'><dt><span>crs :</span></dt><dd>epsg:32636</dd><dt><span>grid_mapping :</span></dt><dd>spatial_ref</dd></dl></div></li></ul></div></div>"
      ],
      "text/plain": [
       "<xarray.Dataset>\n",
       "Dimensions:      (time: 1428, y: 1472, x: 1384)\n",
       "Coordinates:\n",
       "  * time         (time) datetime64[ns] 1999-01-01T08:02:33.302025 ... 2021-12...\n",
       "  * y            (y) float64 3.522e+06 3.522e+06 ... 3.478e+06 3.478e+06\n",
       "  * x            (x) float64 3.071e+05 3.072e+05 ... 3.486e+05 3.486e+05\n",
       "    spatial_ref  int32 32636\n",
       "Data variables:\n",
       "    mndwi        (time, y, x) float32 dask.array<chunksize=(1, 1472, 1384), meta=np.ndarray>\n",
       "Attributes:\n",
       "    crs:           epsg:32636\n",
       "    grid_mapping:  spatial_ref"
      ]
     },
     "execution_count": 8,
     "metadata": {},
     "output_type": "execute_result"
    }
   ],
   "source": [
    "# Load MNDWI virtual product\n",
    "product_name = 'ls_sr_st'\n",
    "ds = dea_coastlines.raster.load_water_index(\n",
    "    dc,\n",
    "    query,\n",
    "    yaml_path=config['Virtual product']['virtual_product_path'],\n",
    "    product_name=config['Virtual product']['virtual_product_name'])\n",
    "ds"
   ]
  },
  {
   "cell_type": "markdown",
   "metadata": {},
   "source": [
    "## Tidal modelling\n",
    "### Model tides at point locations\n",
    "Model tides at each point in a provided `geopandas.GeoDataFrame` based on all timesteps observed by Landsat. This returns a new `geopandas.GeoDataFrame` with a \"time\" index \n",
    "(matching every time step in our Landsat data), and a \"tide_m\" column giving the \n",
    "tide heights at each point location at that time."
   ]
  },
  {
   "cell_type": "code",
   "execution_count": 9,
   "metadata": {},
   "outputs": [
    {
     "data": {
      "text/plain": [
       "<AxesSubplot:>"
      ]
     },
     "execution_count": 9,
     "metadata": {},
     "output_type": "execute_result"
    },
    {
     "data": {
      "image/png": "[encoded data removed]",
      "text/plain": [
       "<Figure size 432x288 with 1 Axes>"
      ]
     },
     "metadata": {
      "needs_background": "light"
     },
     "output_type": "display_data"
    }
   ],
   "source": [
    "tidepoints_gdf = dea_coastlines.raster.model_tide_points(ds, points_gdf)\n",
    "tidepoints_gdf.plot()"
   ]
  },
  {
   "cell_type": "markdown",
   "metadata": {},
   "source": [
    "### Interpolate tides into each satellite timestep\n",
    "For each satellite timestep, spatially interpolate our modelled tide height points into the spatial extent of our satellite image, and add this new data as a new variable in our satellite dataset. This allows each satellite pixel to be analysed and filtered/masked based on the tide height at the exact moment of satellite image acquisition. "
   ]
  },
  {
   "cell_type": "code",
   "execution_count": 10,
   "metadata": {},
   "outputs": [
    {
     "name": "stdout",
     "output_type": "stream",
     "text": [
      "Parallelising 15 processes\n",
      "2021-12-06 08:30:00                                                             1999-04-23 08:02:11                                                             1999-04-30 08:08:20                                                             1999-05-16 08:08:06                                                             1999-06-01 08:07:45                                                             1999-06-17 08:07:35                                                             1999-06-26 08:01:18                                                             1999-09-21 08:06:12                                                             1999-12-11 08:16:24                                                             1999-07-19 08:07:22                                                             1999-09-22 08:16:23                                                             1999-09-29 08:22:39                                                             1999-09-30 07:59:58                                                             1999-12-26 08:04:44                                                             1999-10-07 08:06:15                                                             2000-01-20 07:58:13                                                             2000-01-28 08:16:16                                                             2000-11-11 08:13:47                                                             2000-11-19 08:02:31                                                             2001-05-21 08:09:49                                                             2001-07-25 08:12:42                                                             2001-12-08 08:02:56                                                             2001-12-15 08:09:05                                                             2002-08-05 07:58:26                                                             2002-09-30 08:11:11                                                             2003-03-25 08:12:05                                                             2003-06-28 08:05:44                                                             2003-10-18 08:07:34                                                             2003-11-27 08:18:19                                                             2003-12-22 08:12:18                                                             2003-12-06 08:12:09                                                             2004-01-06 08:08:24                                                             2004-01-15 08:02:13                                                             2004-01-31 08:02:18                                                             2004-02-07 08:08:31                                                             2004-05-22 08:04:12                                                             2004-07-08 08:18:38                                                             2004-07-09 08:05:36                                                             2004-07-16 08:11:58                                                             2004-07-25 08:06:01                                                             2004-08-01 08:12:20                                                             2004-09-19 08:12:05                                                             2004-10-05 08:12:00                                                             2005-01-24 08:15:52                                                             2004-12-08 08:12:37                                                             2005-02-09 08:16:05                                                             2005-02-17 08:19:15                                                             2005-08-28 08:18:52                                                             2005-09-05 08:17:45                                                             2006-04-18 08:13:27                                                             2006-06-20 08:22:18                                                             2006-09-25 08:12:55                                                             2006-10-02 08:19:03                                                             2006-10-26 08:23:54                                                             2006-06-05 08:13:30                                                             2007-06-15 08:19:54                                                             2007-06-16 08:17:30                                                             2008-03-06 08:13:37                                                             2007-12-17 08:13:46                                                             2008-07-20 08:10:09                                                             2008-07-27 08:16:07                                                             2008-06-25 08:17:02                                                             2008-08-21 08:09:13                                                             2008-12-10 08:19:05                                                             2008-12-18 08:13:57                                                             2009-01-20 08:13:11                                                             2008-12-19 08:12:59                                                             2009-02-04 08:15:14                                                             2008-12-26 08:19:13                                                             2009-02-05 08:13:15                                                             2009-02-21 08:13:25                                                             2009-03-08 08:16:01                                                             2009-01-03 08:14:23                                                             2009-03-09 08:13:34                                                             2009-03-16 08:19:48                                                             2009-07-07 08:12:10                                                             2009-07-14 08:18:28                                                             2009-09-24 08:19:46                                                             2009-09-25 08:13:20                                                             2010-01-14 08:21:08                                                             2010-02-07 08:20:31                                                             2010-10-14 08:13:25                                                             2010-10-30 08:13:15                                                             2011-01-10 08:16:43                                                             2011-03-30 08:19:28                                                             2011-01-17 08:22:57                                                             2011-04-08 08:13:15                                                             2011-09-22 08:18:01                                                             2011-10-09 08:16:40                                                             2011-07-28 08:23:07                                                             2011-07-29 08:12:27                                                             2011-08-13 08:23:02                                                             2011-08-29 08:23:00                                                             2013-04-28 08:25:33                                                             2013-04-29 08:25:13                                                             2013-06-16 08:25:25                                                             2013-06-23 08:31:33                                                             2013-07-09 08:31:38                                                             2013-07-10 08:18:51                                                             2013-10-29 08:31:21                                                             2013-09-04 08:25:29                                                             2014-02-03 08:20:21                                                             2014-03-07 08:20:15                                                             2014-07-13 08:20:58                                                             2014-06-10 08:29:19                                                             2014-07-29 08:21:05                                                             2014-08-05 08:27:17                                                             2014-11-17 08:29:50                                                             2014-10-16 08:29:52                                                             2015-01-13 08:23:30                                                             2015-03-01 08:28:30                                                             2015-03-10 08:22:20                                                             2015-03-17 08:28:37                                                             2015-01-29 08:23:25                                                             2015-02-05 08:29:34                                                             2015-03-26 08:22:30                                                             2015-02-06 08:22:09                                                             2015-05-05 08:22:36                                                             2015-06-21 08:29:15                                                             2016-04-28 08:29:12                                                             2016-05-23 08:23:04                                                             2016-07-26 08:23:27                                                             2016-08-27 08:23:37                                                             2016-08-02 08:29:39                                                             2016-09-04 08:26:09                                                             2016-08-19 08:26:05                                                             2016-09-27 08:32:23                                                             2016-11-14 08:32:11                                                             2016-12-16 08:32:04                                                             2016-11-15 08:23:47                                                             2016-12-17 08:23:43                                                             2017-03-07 08:23:16                                                             2017-03-14 08:29:22                                                             2017-05-02 08:25:54                                                             2017-05-10 08:22:50                                                             2017-06-27 08:23:13                                                             2017-07-04 08:29:25                                                             2018-01-04 08:31:45                                                             2017-12-20 08:23:39                                                             2018-07-16 08:22:38                                                             2018-07-23 08:28:51                                                             2018-06-21 08:28:36                                                             2018-08-01 08:22:45                                                             2018-08-08 08:29:00                                                             2018-06-30 08:22:30                                                             2018-11-04 08:26:24                                                             2018-11-05 08:23:23                                                             2018-10-11 08:29:27                                                             2018-11-12 08:29:34                                                             2018-12-15 08:19:11                                                             2019-01-24 08:23:15                                                             2018-12-22 08:25:09                                                             2018-12-23 08:23:20                                                             2019-01-31 08:29:24                                                             2019-02-01 08:17:41                                                             2019-06-25 08:12:42                                                             2019-07-02 08:18:36                                                             2019-10-30 08:30:02                                                             2019-12-10 08:23:46                                                             2020-01-27 08:23:34                                                             2020-03-06 08:29:34                                                             2020-06-26 08:29:23                                                             2020-07-05 08:23:16                                                             2020-05-18 08:22:53                                                             2020-05-25 08:29:05                                                             2020-06-02 08:02:03                                                             2020-06-03 08:22:59                                                             2020-10-24 07:53:01                                                             2020-08-29 08:29:46                                                             2021-01-21 07:40:31                                                             2021-01-28 07:46:11                                                             2021-03-25 08:29:26                                                             2021-04-26 08:29:14                                                             2021-06-29 08:29:32                                                             2021-06-30 07:27:36                                                             2021-09-26 08:23:47                                                             2021-10-03 08:30:00                                                             2021-11-04 08:30:03                                                             2021-10-04 07:19:13                                                             \r"
     ]
    }
   ],
   "source": [
    "# Interpolate tides for each timestep in `ds`\n",
    "tide_m = dea_coastlines.raster.multiprocess_apply(\n",
    "    ds=ds,\n",
    "    dim='time',\n",
    "    func=partial(dea_coastlines.raster.interpolate_tide,\n",
    "                 tidepoints_gdf=tidepoints_gdf))\n",
    "\n",
    "ds['tide_m'] = tide_m"
   ]
  },
  {
   "cell_type": "markdown",
   "metadata": {},
   "source": [
    "Plot example interpolated tide surface for a single timestep:"
   ]
  },
  {
   "cell_type": "code",
   "execution_count": 11,
   "metadata": {},
   "outputs": [
    {
     "data": {
      "image/png": "[encoded data removed]",
      "text/plain": [
       "<Figure size 1296x864 with 2 Axes>"
      ]
     },
     "metadata": {
      "needs_background": "light"
     },
     "output_type": "display_data"
    }
   ],
   "source": [
    "import matplotlib.pyplot as plt\n",
    "\n",
    "# Plot\n",
    "ds_i = ds['tide_m'].isel(time=-1).compute()\n",
    "ds_i.plot.imshow(robust=True,\n",
    "                 cmap='viridis',\n",
    "                 size=12,\n",
    "                 vmin=ds_i.min().item(),\n",
    "                 vmax=ds_i.max().item())\n",
    "tidepoints_gdf.loc[str(ds_i.time.values)[0:10]].plot(ax=plt.gca(),\n",
    "                                                     column='tide_m',\n",
    "                                                     cmap='viridis',\n",
    "                                                     markersize=100,\n",
    "                                                     edgecolor='black',\n",
    "                                                     vmin=ds_i.min().item(),\n",
    "                                                     vmax=ds_i.max().item())\n",
    "gridcell_gdf.to_crs(tidepoints_gdf.crs).plot(ax=plt.gca(),\n",
    "                                             facecolor='none',\n",
    "                                             edgecolor='black');"
   ]
  },
  {
   "cell_type": "markdown",
   "metadata": {},
   "source": [
    "### Calculate per-pixel tide cutoffs\n",
    "Based on the entire time-series of tide heights, compute the max and min satellite-observed tide height for each pixel, then calculate tide cutoffs used to restrict our data to satellite observations centred over mid-tide (0 m Above Mean Sea Level)."
   ]
  },
  {
   "cell_type": "code",
   "execution_count": 12,
   "metadata": {},
   "outputs": [],
   "source": [
    "# Determine tide cutoff\n",
    "tide_cutoff_buff = (\n",
    "    (ds['tide_m'].max(dim='time') - ds['tide_m'].min(dim='time')) * 0.25)\n",
    "tide_cutoff_min = 0.0 - tide_cutoff_buff\n",
    "tide_cutoff_max = 0.0 + tide_cutoff_buff"
   ]
  },
  {
   "cell_type": "markdown",
   "metadata": {},
   "source": [
    "## Generate yearly composites\n",
    "Export tidally-masked MNDWI median composites for each year, and three-yearly composites used to gapfill poor data coverage areas."
   ]
  },
  {
   "cell_type": "code",
   "execution_count": 13,
   "metadata": {},
   "outputs": [
    {
     "name": "stdout",
     "output_type": "stream",
     "text": [
      "Processing 1999\n",
      "Processing 2000\n",
      "Processing 2001\n",
      "Processing 2002\n",
      "Processing 2003\n",
      "Processing 2004\n",
      "Processing 2005\n",
      "Processing 2006\n",
      "Processing 2007\n",
      "Processing 2008\n",
      "Processing 2009\n",
      "Processing 2010\n",
      "Processing 2011\n",
      "Processing 2012\n",
      "Processing 2013\n",
      "Processing 2014\n",
      "Processing 2015\n",
      "Processing 2016\n",
      "Processing 2017\n",
      "Processing 2018\n",
      "Processing 2019\n",
      "Processing 2020\n",
      "Processing 2021\n"
     ]
    }
   ],
   "source": [
    "# If output folder doesn't exist, create it\n",
    "output_dir = f'data/interim/raster/{raster_version}/{study_area}_{raster_version}'\n",
    "os.makedirs(output_dir, exist_ok=True)\n",
    "\n",
    "# Iterate through each year and export annual and 3-year gapfill composites\n",
    "dea_coastlines.raster.export_annual_gapfill(ds, output_dir, tide_cutoff_min,\n",
    "                                            tide_cutoff_max)"
   ]
  },
  {
   "cell_type": "markdown",
   "metadata": {},
   "source": [
    "### Close Dask client"
   ]
  },
  {
   "cell_type": "code",
   "execution_count": 14,
   "metadata": {},
   "outputs": [],
   "source": [
    "client.close()"
   ]
  },
  {
   "cell_type": "markdown",
   "metadata": {
    "tags": []
   },
   "source": [
    "***\n",
    "\n",
    "## Additional information"
   ]
  },
  {
   "cell_type": "markdown",
   "metadata": {},
   "source": [
    "**License:** The code in this notebook is licensed under the [Apache License, Version 2.0](https://www.apache.org/licenses/LICENSE-2.0). \n",
    "Digital Earth Africa data is licensed under the [Creative Commons by Attribution 4.0](https://creativecommons.org/licenses/by/4.0/) license.\n",
    "\n",
    "**Contact:** For assistance with any of the Python code or Jupyter Notebooks in this repository, please post a [Github issue](https://github.com/GeoscienceAustralia/DEACoastLines/issues/new).\n",
    "\n",
    "**Last modified:** December 2021"
   ]
  }
 ],
 "metadata": {
  "kernelspec": {
   "display_name": "Python 3 (ipykernel)",
   "language": "python",
   "name": "python3"
  },
  "language_info": {
   "codemirror_mode": {
    "name": "ipython",
    "version": 3
   },
   "file_extension": ".py",
   "mimetype": "text/x-python",
   "name": "python",
   "nbconvert_exporter": "python",
   "pygments_lexer": "ipython3",
   "version": "3.8.10"
  },
  "widgets": {
   "application/vnd.jupyter.widget-state+json": {
    "state": {},
    "version_major": 2,
    "version_minor": 0
   }
  }
 },
 "nbformat": 4,
 "nbformat_minor": 4
}
