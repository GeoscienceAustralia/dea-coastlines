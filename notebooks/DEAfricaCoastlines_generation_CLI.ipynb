{
 "cells": [
  {
   "cell_type": "markdown",
   "id": "69da8225-7681-4de4-b1b5-be4fdabf52c7",
   "metadata": {
    "tags": []
   },
   "source": [
    "# DE Africa Coastlines generation using command line tools <img align=\"right\" src=\"https://github.com/digitalearthafrica/deafrica-sandbox-notebooks/raw/main/Supplementary_data/DE_Africa_Logo_Stacked_RGB_small.jpg\">\n",
    "This notebook demonstrates how to run a DE Africa Coastlines analysis using command line tools."
   ]
  },
  {
   "cell_type": "markdown",
   "id": "81b6c48d-db3b-4f30-82fa-67c96e64cc1c",
   "metadata": {},
   "source": [
    "### Setup"
   ]
  },
  {
   "cell_type": "markdown",
   "id": "4e436c72-fa98-489e-bc7d-787ead143e76",
   "metadata": {},
   "source": [
    "Set working directory to top level of repo to ensure links work correctly:"
   ]
  },
  {
   "cell_type": "code",
   "execution_count": 1,
   "id": "c0c743c8-8d0d-4f71-9a70-c4132adaaa86",
   "metadata": {},
   "outputs": [
    {
     "name": "stdout",
     "output_type": "stream",
     "text": [
      "/home/jovyan/Robbi/deafrica-coastlines\n"
     ]
    }
   ],
   "source": [
    "cd .."
   ]
  },
  {
   "cell_type": "markdown",
   "id": "c0ec2b5f-36a1-423b-add1-80f50f07361a",
   "metadata": {},
   "source": [
    "Update required packages:"
   ]
  },
  {
   "cell_type": "code",
   "execution_count": 2,
   "id": "cb80bb63-817e-4098-a92d-19a3701d8958",
   "metadata": {},
   "outputs": [
    {
     "name": "stdout",
     "output_type": "stream",
     "text": [
      "Note: you may need to restart the kernel to use updated packages.\n"
     ]
    }
   ],
   "source": [
    "pip install -r requirements.in --quiet"
   ]
  },
  {
   "cell_type": "markdown",
   "id": "ccd976ef-d89d-494b-9c84-84120bf963b9",
   "metadata": {},
   "source": [
    "Set analysis parameters:"
   ]
  },
  {
   "cell_type": "code",
   "execution_count": 3,
   "id": "4729d261-6b27-4a61-a937-366c5174ce05",
   "metadata": {},
   "outputs": [],
   "source": [
    "config_path = 'configs/deafrica_coastlines_config.yaml'\n",
    "study_area = 168\n",
    "raster_version = 'testing'\n",
    "vector_version = 'wms_update'\n",
    "continental_version = 'wms_update'"
   ]
  },
  {
   "cell_type": "markdown",
   "id": "d9906d6b-01a4-4c94-8dd0-178eb281bd6a",
   "metadata": {},
   "source": [
    "### Run DEA Coastlines analysis\n",
    "#### Run tidally-constrained raster generation"
   ]
  },
  {
   "cell_type": "code",
   "execution_count": null,
   "id": "dc5632c4-f872-46e5-9762-80b8556f3622",
   "metadata": {},
   "outputs": [],
   "source": [
    "!python -m coastlines.raster --help"
   ]
  },
  {
   "cell_type": "markdown",
   "id": "fca95348-eda9-4071-a9a1-a3f9219c5cf0",
   "metadata": {},
   "source": [
    "Example analysis:"
   ]
  },
  {
   "cell_type": "code",
   "execution_count": null,
   "id": "47397eb8-ddec-46c6-9f7c-431a50bb7eae",
   "metadata": {},
   "outputs": [],
   "source": [
    "!python -m coastlines.raster --config_path {config_path} --study_area {study_area} --raster_version {raster_version} --start_year 2000 --end_year 2020"
   ]
  },
  {
   "cell_type": "markdown",
   "id": "1e0f60ac-c68d-4b6f-a19b-257679588ea1",
   "metadata": {},
   "source": [
    "#### Run vector annual shoreline and rates of change statistics generation"
   ]
  },
  {
   "cell_type": "code",
   "execution_count": null,
   "id": "0ed72c21-ba89-4fad-9521-f5493aad9d66",
   "metadata": {},
   "outputs": [],
   "source": [
    "!python -m coastlines.vector --help"
   ]
  },
  {
   "cell_type": "markdown",
   "id": "0dede36a-c26b-4d98-a359-7080dc3f2fd9",
   "metadata": {},
   "source": [
    "Example analysis:"
   ]
  },
  {
   "cell_type": "code",
   "execution_count": null,
   "id": "c23665e0-6d46-4185-b9f0-04a50d856174",
   "metadata": {},
   "outputs": [],
   "source": [
    "!python -m coastlines.vector --config_path {config_path} --study_area {study_area} --raster_version {raster_version} --vector_version {vector_version} --start_year 2000 --end_year 2020 --baseline_year 2020"
   ]
  },
  {
   "cell_type": "markdown",
   "id": "fa26bb5f-c618-418d-bc87-c01a33fd612c",
   "metadata": {},
   "source": [
    "#### Run continental-scale layer generation"
   ]
  },
  {
   "cell_type": "code",
   "execution_count": 4,
   "id": "518bf214-ce70-4baa-a2ad-28302986fe01",
   "metadata": {},
   "outputs": [
    {
     "name": "stdout",
     "output_type": "stream",
     "text": [
      "/usr/local/lib/python3.8/dist-packages/geopandas/_compat.py:112: UserWarning: The Shapely GEOS version (3.8.0-CAPI-1.13.1 ) is incompatible with the GEOS version PyGEOS was compiled with (3.10.1-CAPI-1.16.0). Conversions between both will be slow.\n",
      "  warnings.warn(\n",
      "Usage: python -m coastlines.continental [OPTIONS]\n",
      "\n",
      "Options:\n",
      "  --vector_version TEXT           A unique string proving a name that was used\n",
      "                                  for output vector directories and files.\n",
      "                                  This is used to identify the tiled annual\n",
      "                                  shoreline and rates of change layers that\n",
      "                                  will be combined into continental-scale\n",
      "                                  layers.  [required]\n",
      "  --continental_version TEXT      A unique string proving a name that will be\n",
      "                                  used for output continental-scale layers.\n",
      "                                  This allows multiple versions of\n",
      "                                  continental-scale layers to be generated\n",
      "                                  from the same input vector data, e.g. for\n",
      "                                  testing different hotspot of coastal change\n",
      "                                  summary layers. If not provided, this will\n",
      "                                  default to the string provided to \"--\n",
      "                                  vector_version\".\n",
      "  --shorelines BOOLEAN            A boolean indicating whether to combine\n",
      "                                  tiled annual shorelines layers into a single\n",
      "                                  continental-scale annual shorelines layer.\n",
      "  --ratesofchange BOOLEAN         A boolean indicating whether to combine\n",
      "                                  tiled rates of change statistics layers into\n",
      "                                  a single continental-scale rates of change\n",
      "                                  statistics layer.\n",
      "  --hotspots BOOLEAN              A boolean indicating whether to generate a\n",
      "                                  continental-scale hotspots of coastal change\n",
      "                                  summary layer.\n",
      "  --hotspots_radius INTEGER       The distance (in metres) used to generate\n",
      "                                  coastal change hotspots summary layers. This\n",
      "                                  controls the spacing of each summary point,\n",
      "                                  and the radius used to aggregate rates of\n",
      "                                  change statistics around each point. The\n",
      "                                  default generates three hotspot layers with\n",
      "                                  radii 20000 m, 10000 m and 2000 m. To\n",
      "                                  specify multiple custom radii, repeat this\n",
      "                                  argument, e.g. `--hotspots_radius 1000\n",
      "                                  --hotspots_radius 5000`.\n",
      "  --baseline_year INTEGER         The annual shoreline used to generate the\n",
      "                                  hotspot summary points. This is typically\n",
      "                                  the most recent annual shoreline in the\n",
      "                                  dataset.\n",
      "  --include-styles / --no-include-styles\n",
      "                                  Set this to indicate whether to include\n",
      "                                  styles in output Geopackage file.\n",
      "  --help                          Show this message and exit.\n"
     ]
    }
   ],
   "source": [
    "!python -m coastlines.continental --help"
   ]
  },
  {
   "cell_type": "markdown",
   "id": "51249ca9-35ca-4baa-b6a1-67f149a6fef0",
   "metadata": {},
   "source": [
    "Example analysis:"
   ]
  },
  {
   "cell_type": "code",
   "execution_count": 5,
   "id": "22e3dca9-6a5e-4e6a-ac2c-c3f3b1ae904b",
   "metadata": {},
   "outputs": [
    {
     "name": "stdout",
     "output_type": "stream",
     "text": [
      "/usr/local/lib/python3.8/dist-packages/geopandas/_compat.py:112: UserWarning: The Shapely GEOS version (3.8.0-CAPI-1.13.1 ) is incompatible with the GEOS version PyGEOS was compiled with (3.10.1-CAPI-1.16.0). Conversions between both will be slow.\n",
      "  warnings.warn(\n",
      "2022-08-31 05:49:53 INFO Writing data to data/processed/wms_update\n",
      "Warning 1: A geometry of type MULTILINESTRING is inserted into layer shorelines_annual of geometry type LINESTRING, which is not normally allowed by the GeoPackage specification, but the driver will however do it. To create a conformant GeoPackage, if using ogr2ogr, the -nlt option can be used to override the layer geometry type. This warning will no longer be emitted for this combination of layer and feature geometry type.\n",
      "2022-08-31 05:49:53 INFO Merging annual shorelines complete\n",
      "2022-08-31 05:49:53 INFO Merging rates of change points complete\n",
      "2022-08-31 05:49:53 INFO Generating continental hotspots\n",
      "2022-08-31 05:49:53 INFO Calculating 20000 m hotspots\n",
      "2022-08-31 05:49:53 INFO Calculating 10000 m hotspots\n",
      "2022-08-31 05:49:53 INFO Calculating 2000 m hotspots\n",
      "2022-08-31 05:49:53 INFO Writing hotspots complete\n",
      "2022-08-31 05:49:54 INFO Writing rates of change points to zipped shapefiles complete\n",
      "2022-08-31 05:49:54 INFO Writing annual shorelines to zipped shapefiles complete\n",
      "2022-08-31 05:49:54 INFO Writing styles to GeoPackage file complete\n"
     ]
    }
   ],
   "source": [
    "!python -m coastlines.continental --vector_version {vector_version} --continental_version {continental_version} --shorelines True --ratesofchange True --hotspots True"
   ]
  },
  {
   "cell_type": "markdown",
   "id": "fe55ab27-807a-44c8-9408-595934893faa",
   "metadata": {},
   "source": [
    "## Example combined analysis\n",
    "This demonstrates how the three components of DE Africa Coastlines (raster generation, vector generation and continental layers generation) can be applied automatically to a sequence of input study area grid cells."
   ]
  },
  {
   "cell_type": "code",
   "execution_count": null,
   "id": "6b804fec-39f4-48a9-8525-a78fbf06e084",
   "metadata": {},
   "outputs": [],
   "source": [
    "# Study areas\n",
    "study_areas = [636]"
   ]
  },
  {
   "cell_type": "code",
   "execution_count": null,
   "id": "c39e6533-f4fd-4a3c-90a5-44f19825c2f5",
   "metadata": {},
   "outputs": [],
   "source": [
    "# Run raster and vector generation for each study area\n",
    "for study_area in study_areas:\n",
    "    print(study_area)\n",
    "    !python -m coastlines.raster --config_path {config_path} --study_area {study_area} --raster_version {raster_version} --start_year 2000 --end_year 2020\n",
    "    !python -m coastlines.vector --config_path {config_path} --study_area {study_area} --raster_version {raster_version} --vector_version {vector_version} --start_year 2000 --end_year 2020 --baseline_year 2020\n",
    "    \n",
    "# When complete, combine into single continental outputs\n",
    "!python -m coastlines.continental --vector_version {vector_version} --continental_version {continental_version} --shorelines True --ratesofchange True --hotspots True"
   ]
  },
  {
   "cell_type": "markdown",
   "id": "3f83a811-d875-4c27-9f9e-3e644119b49f",
   "metadata": {
    "tags": []
   },
   "source": [
    "### Clean up and remove files\n",
    "Warning: this will delete all data processed with a matching unique version name. Only run these cells if you no longer need these processed outputs!"
   ]
  },
  {
   "cell_type": "code",
   "execution_count": null,
   "id": "585af34b-9cde-4ff2-8fa5-5c2baaab2e79",
   "metadata": {},
   "outputs": [],
   "source": [
    "# rm -rf data/interim/raster/{raster_version}"
   ]
  },
  {
   "cell_type": "code",
   "execution_count": null,
   "id": "f3069daf-5d71-4c70-8740-d02efb1fc0f9",
   "metadata": {},
   "outputs": [],
   "source": [
    "# rm -rf data/interim/vector/{vector_version}"
   ]
  },
  {
   "cell_type": "code",
   "execution_count": null,
   "id": "38d2209f-e978-4735-835b-68381358517a",
   "metadata": {},
   "outputs": [],
   "source": [
    "# rm -rf data/processed/{continental_version}"
   ]
  },
  {
   "cell_type": "markdown",
   "id": "9d560564-e485-4a02-8f19-0dea1ba42bd3",
   "metadata": {
    "tags": []
   },
   "source": [
    "***\n",
    "\n",
    "## Additional information"
   ]
  },
  {
   "cell_type": "markdown",
   "id": "457f851c-3b51-4c80-8430-d893fdbd05ec",
   "metadata": {},
   "source": [
    "**License:** The code in this notebook is licensed under the [Apache License, Version 2.0](https://www.apache.org/licenses/LICENSE-2.0). \n",
    "Digital Earth Africa data is licensed under the [Creative Commons by Attribution 4.0](https://creativecommons.org/licenses/by/4.0/) license.\n",
    "\n",
    "**Contact:** For assistance with any of the Python code or Jupyter Notebooks in this repository, please post a [Github issue](https://github.com/GeoscienceAustralia/DEACoastLines/issues/new).\n",
    "\n",
    "**Last modified:** May 2022"
   ]
  }
 ],
 "metadata": {
  "kernelspec": {
   "display_name": "Python 3 (ipykernel)",
   "language": "python",
   "name": "python3"
  },
  "language_info": {
   "codemirror_mode": {
    "name": "ipython",
    "version": 3
   },
   "file_extension": ".py",
   "mimetype": "text/x-python",
   "name": "python",
   "nbconvert_exporter": "python",
   "pygments_lexer": "ipython3",
   "version": "3.8.10"
  },
  "widgets": {
   "application/vnd.jupyter.widget-state+json": {
    "state": {},
    "version_major": 2,
    "version_minor": 0
   }
  }
 },
 "nbformat": 4,
 "nbformat_minor": 5
}
