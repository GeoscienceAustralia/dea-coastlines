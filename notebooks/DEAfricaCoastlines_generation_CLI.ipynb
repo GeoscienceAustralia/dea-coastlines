{
 "cells": [
  {
   "cell_type": "markdown",
   "id": "69da8225-7681-4de4-b1b5-be4fdabf52c7",
   "metadata": {
    "tags": []
   },
   "source": [
    "# DE Africa Coastlines generation using command line tools <img align=\"right\" src=\"https://github.com/digitalearthafrica/deafrica-sandbox-notebooks/raw/main/Supplementary_data/DE_Africa_Logo_Stacked_RGB_small.jpg\">\n",
    "This notebook demonstrates how to run a DE Africa Coastlines analysis using command line tools."
   ]
  },
  {
   "cell_type": "markdown",
   "id": "81b6c48d-db3b-4f30-82fa-67c96e64cc1c",
   "metadata": {},
   "source": [
    "### Setup"
   ]
  },
  {
   "cell_type": "markdown",
   "id": "4e436c72-fa98-489e-bc7d-787ead143e76",
   "metadata": {},
   "source": [
    "Set working directory to top level of repo to ensure links work correctly:"
   ]
  },
  {
   "cell_type": "code",
   "execution_count": 1,
   "id": "c0c743c8-8d0d-4f71-9a70-c4132adaaa86",
   "metadata": {},
   "outputs": [
    {
     "name": "stdout",
     "output_type": "stream",
     "text": [
      "/home/jovyan/Robbi/dea-coastlines\n"
     ]
    }
   ],
   "source": [
    "cd .."
   ]
  },
  {
   "cell_type": "markdown",
   "id": "c0ec2b5f-36a1-423b-add1-80f50f07361a",
   "metadata": {},
   "source": [
    "Update required packages:"
   ]
  },
  {
   "cell_type": "code",
   "execution_count": 2,
   "id": "cb80bb63-817e-4098-a92d-19a3701d8958",
   "metadata": {},
   "outputs": [
    {
     "name": "stdout",
     "output_type": "stream",
     "text": [
      "Requirement already satisfied: affine>=2.3.0 in /env/lib/python3.8/site-packages (from -r requirements.txt (line 1)) (2.3.0)\n",
      "Requirement already satisfied: click>=8.0.1 in /env/lib/python3.8/site-packages (from -r requirements.txt (line 2)) (8.0.1)\n",
      "Requirement already satisfied: datacube>=1.8.6 in /env/lib/python3.8/site-packages (from -r requirements.txt (line 3)) (1.8.6)\n",
      "Collecting dea_tools>=0.2.1\n",
      "  Using cached dea_tools-0.2.1-py3-none-any.whl (96 kB)\n",
      "Requirement already satisfied: Fiona>=1.8.20 in /env/lib/python3.8/site-packages (from -r requirements.txt (line 5)) (1.8.20)\n",
      "Requirement already satisfied: geopandas>=0.10.2 in /env/lib/python3.8/site-packages (from -r requirements.txt (line 6)) (0.10.2)\n",
      "Requirement already satisfied: matplotlib>=3.4.3 in /env/lib/python3.8/site-packages (from -r requirements.txt (line 7)) (3.4.3)\n",
      "Collecting mock>=4.0.3\n",
      "  Using cached mock-4.0.3-py3-none-any.whl (28 kB)\n",
      "Requirement already satisfied: numpy>=1.21.4 in /env/lib/python3.8/site-packages (from -r requirements.txt (line 9)) (1.21.4)\n",
      "Requirement already satisfied: odc_ui>=0.2.0a2 in /env/lib/python3.8/site-packages (from -r requirements.txt (line 10)) (0.2.0a2)\n",
      "Requirement already satisfied: otps>=0.3.2 in /env/lib/python3.8/site-packages (from -r requirements.txt (line 11)) (0.3.2)\n",
      "Requirement already satisfied: pandas>=1.3.4 in /env/lib/python3.8/site-packages (from -r requirements.txt (line 12)) (1.3.4)\n",
      "Requirement already satisfied: pyproj>=3.2.1 in /env/lib/python3.8/site-packages (from -r requirements.txt (line 13)) (3.2.1)\n",
      "Requirement already satisfied: pytz>=2021.1 in /env/lib/python3.8/site-packages (from -r requirements.txt (line 14)) (2021.1)\n",
      "Requirement already satisfied: PyYAML>=6.0 in /env/lib/python3.8/site-packages (from -r requirements.txt (line 15)) (6.0)\n",
      "Requirement already satisfied: rasterio>=1.2.9 in /env/lib/python3.8/site-packages (from -r requirements.txt (line 16)) (1.2.9)\n",
      "Requirement already satisfied: Rtree>=0.9.7 in /env/lib/python3.8/site-packages (from -r requirements.txt (line 17)) (0.9.7)\n",
      "Requirement already satisfied: scikit_image>=0.18.3 in /env/lib/python3.8/site-packages (from -r requirements.txt (line 18)) (0.18.3)\n",
      "Requirement already satisfied: scikit_learn>=1.0 in /env/lib/python3.8/site-packages (from -r requirements.txt (line 19)) (1.0)\n",
      "Requirement already satisfied: scipy>=1.7.3 in /env/lib/python3.8/site-packages (from -r requirements.txt (line 20)) (1.7.3)\n",
      "Requirement already satisfied: Shapely>=1.8rc1 in /env/lib/python3.8/site-packages (from -r requirements.txt (line 21)) (1.8rc1)\n",
      "Collecting topojson>=1.3\n",
      "  Using cached topojson-1.3-py2.py3-none-any.whl (78 kB)\n",
      "Requirement already satisfied: tqdm>=4.62.3 in /env/lib/python3.8/site-packages (from -r requirements.txt (line 23)) (4.62.3)\n",
      "Requirement already satisfied: xarray>=0.19.0 in /env/lib/python3.8/site-packages (from -r requirements.txt (line 24)) (0.19.0)\n",
      "Requirement already satisfied: psycopg2 in /env/lib/python3.8/site-packages (from datacube>=1.8.6->-r requirements.txt (line 3)) (2.9.1)\n",
      "Requirement already satisfied: lark-parser>=0.6.7 in /env/lib/python3.8/site-packages (from datacube>=1.8.6->-r requirements.txt (line 3)) (0.12.0)\n",
      "Requirement already satisfied: python-dateutil in /env/lib/python3.8/site-packages (from datacube>=1.8.6->-r requirements.txt (line 3)) (2.8.0)\n",
      "Requirement already satisfied: jsonschema in /env/lib/python3.8/site-packages (from datacube>=1.8.6->-r requirements.txt (line 3)) (3.2.0)\n",
      "Requirement already satisfied: cloudpickle>=0.4 in /env/lib/python3.8/site-packages (from datacube>=1.8.6->-r requirements.txt (line 3)) (2.0.0)\n",
      "Requirement already satisfied: distributed in /env/lib/python3.8/site-packages (from datacube>=1.8.6->-r requirements.txt (line 3)) (2.30.0)\n",
      "Requirement already satisfied: netcdf4 in /env/lib/python3.8/site-packages (from datacube>=1.8.6->-r requirements.txt (line 3)) (1.5.8)\n",
      "Requirement already satisfied: sqlalchemy in /env/lib/python3.8/site-packages (from datacube>=1.8.6->-r requirements.txt (line 3)) (1.4.25)\n",
      "Requirement already satisfied: dask[array] in /env/lib/python3.8/site-packages (from datacube>=1.8.6->-r requirements.txt (line 3)) (2.30.0)\n",
      "Requirement already satisfied: toolz in /env/lib/python3.8/site-packages (from datacube>=1.8.6->-r requirements.txt (line 3)) (0.11.1)\n",
      "Requirement already satisfied: cachetools in /env/lib/python3.8/site-packages (from datacube>=1.8.6->-r requirements.txt (line 3)) (4.2.4)\n",
      "Requirement already satisfied: numexpr in /env/lib/python3.8/site-packages (from dea_tools>=0.2.1->-r requirements.txt (line 4)) (2.7.3)\n",
      "Requirement already satisfied: lxml in /env/lib/python3.8/site-packages (from dea_tools>=0.2.1->-r requirements.txt (line 4)) (4.6.3)\n",
      "Requirement already satisfied: GDAL in /env/lib/python3.8/site-packages (from dea_tools>=0.2.1->-r requirements.txt (line 4)) (3.3.0)\n",
      "Requirement already satisfied: branca in /env/lib/python3.8/site-packages (from dea_tools>=0.2.1->-r requirements.txt (line 4)) (0.4.2)\n",
      "Requirement already satisfied: folium in /env/lib/python3.8/site-packages (from dea_tools>=0.2.1->-r requirements.txt (line 4)) (0.12.1)\n",
      "Requirement already satisfied: OWSLib in /env/lib/python3.8/site-packages (from dea_tools>=0.2.1->-r requirements.txt (line 4)) (0.25.0)\n",
      "Requirement already satisfied: ciso8601 in /env/lib/python3.8/site-packages (from dea_tools>=0.2.1->-r requirements.txt (line 4)) (2.2.0)\n",
      "Requirement already satisfied: requests in /env/lib/python3.8/site-packages (from dea_tools>=0.2.1->-r requirements.txt (line 4)) (2.26.0)\n",
      "Requirement already satisfied: setuptools in /env/lib/python3.8/site-packages (from Fiona>=1.8.20->-r requirements.txt (line 5)) (59.2.0)\n",
      "Requirement already satisfied: cligj>=0.5 in /env/lib/python3.8/site-packages (from Fiona>=1.8.20->-r requirements.txt (line 5)) (0.7.2)\n",
      "Requirement already satisfied: click-plugins>=1.0 in /env/lib/python3.8/site-packages (from Fiona>=1.8.20->-r requirements.txt (line 5)) (1.1.1)\n",
      "Requirement already satisfied: attrs>=17 in /env/lib/python3.8/site-packages (from Fiona>=1.8.20->-r requirements.txt (line 5)) (21.2.0)\n",
      "Requirement already satisfied: munch in /env/lib/python3.8/site-packages (from Fiona>=1.8.20->-r requirements.txt (line 5)) (2.5.0)\n",
      "Requirement already satisfied: certifi in /env/lib/python3.8/site-packages (from Fiona>=1.8.20->-r requirements.txt (line 5)) (2021.5.30)\n",
      "Requirement already satisfied: six>=1.7 in /env/lib/python3.8/site-packages (from Fiona>=1.8.20->-r requirements.txt (line 5)) (1.15.0)\n",
      "Requirement already satisfied: cycler>=0.10 in /env/lib/python3.8/site-packages (from matplotlib>=3.4.3->-r requirements.txt (line 7)) (0.10.0)\n",
      "Requirement already satisfied: kiwisolver>=1.0.1 in /env/lib/python3.8/site-packages (from matplotlib>=3.4.3->-r requirements.txt (line 7)) (1.3.2)\n",
      "Requirement already satisfied: pyparsing>=2.2.1 in /env/lib/python3.8/site-packages (from matplotlib>=3.4.3->-r requirements.txt (line 7)) (3.0.6)\n",
      "Requirement already satisfied: pillow>=6.2.0 in /env/lib/python3.8/site-packages (from matplotlib>=3.4.3->-r requirements.txt (line 7)) (8.3.2)\n",
      "Requirement already satisfied: ipython in /env/lib/python3.8/site-packages (from odc_ui>=0.2.0a2->-r requirements.txt (line 10)) (7.26.0)\n",
      "Requirement already satisfied: jupyter-ui-poll in /env/lib/python3.8/site-packages (from odc_ui>=0.2.0a2->-r requirements.txt (line 10)) (0.2.0)\n",
      "Requirement already satisfied: odc-algo in /env/lib/python3.8/site-packages (from odc_ui>=0.2.0a2->-r requirements.txt (line 10)) (0.2.1)\n",
      "Requirement already satisfied: odc-stac in /env/lib/python3.8/site-packages (from odc_ui>=0.2.0a2->-r requirements.txt (line 10)) (0.2.2)\n",
      "Requirement already satisfied: ipywidgets in /env/lib/python3.8/site-packages (from odc_ui>=0.2.0a2->-r requirements.txt (line 10)) (7.6.3)\n",
      "Requirement already satisfied: ipyleaflet in /env/lib/python3.8/site-packages (from odc_ui>=0.2.0a2->-r requirements.txt (line 10)) (0.14.0)\n",
      "Requirement already satisfied: snuggs>=1.4.1 in /env/lib/python3.8/site-packages (from rasterio>=1.2.9->-r requirements.txt (line 16)) (1.4.7)\n",
      "Requirement already satisfied: networkx>=2.0 in /env/lib/python3.8/site-packages (from scikit_image>=0.18.3->-r requirements.txt (line 18)) (2.6.3)\n",
      "Requirement already satisfied: tifffile>=2019.7.26 in /env/lib/python3.8/site-packages (from scikit_image>=0.18.3->-r requirements.txt (line 18)) (2021.8.30)\n",
      "Requirement already satisfied: PyWavelets>=1.1.1 in /env/lib/python3.8/site-packages (from scikit_image>=0.18.3->-r requirements.txt (line 18)) (1.1.1)\n",
      "Requirement already satisfied: imageio>=2.3.0 in /env/lib/python3.8/site-packages (from scikit_image>=0.18.3->-r requirements.txt (line 18)) (2.9.0)\n",
      "Requirement already satisfied: joblib>=0.11 in /env/lib/python3.8/site-packages (from scikit_learn>=1.0->-r requirements.txt (line 19)) (1.0.1)\n",
      "Requirement already satisfied: threadpoolctl>=2.0.0 in /env/lib/python3.8/site-packages (from scikit_learn>=1.0->-r requirements.txt (line 19)) (3.0.0)\n",
      "Requirement already satisfied: jinja2 in /env/lib/python3.8/site-packages (from branca->dea_tools>=0.2.1->-r requirements.txt (line 4)) (3.0.1)\n",
      "Requirement already satisfied: psutil>=5.0 in /env/lib/python3.8/site-packages (from distributed->datacube>=1.8.6->-r requirements.txt (line 3)) (5.8.0)\n",
      "Requirement already satisfied: msgpack>=0.6.0 in /env/lib/python3.8/site-packages (from distributed->datacube>=1.8.6->-r requirements.txt (line 3)) (1.0.2)\n",
      "Requirement already satisfied: tornado>=6.0.3 in /env/lib/python3.8/site-packages (from distributed->datacube>=1.8.6->-r requirements.txt (line 3)) (6.1)\n",
      "Requirement already satisfied: sortedcontainers!=2.0.0,!=2.0.1 in /env/lib/python3.8/site-packages (from distributed->datacube>=1.8.6->-r requirements.txt (line 3)) (2.4.0)\n",
      "Requirement already satisfied: tblib>=1.6.0 in /env/lib/python3.8/site-packages (from distributed->datacube>=1.8.6->-r requirements.txt (line 3)) (1.7.0)\n",
      "Requirement already satisfied: zict>=0.1.3 in /env/lib/python3.8/site-packages (from distributed->datacube>=1.8.6->-r requirements.txt (line 3)) (2.0.0)\n",
      "Requirement already satisfied: traittypes<3,>=0.2.1 in /env/lib/python3.8/site-packages (from ipyleaflet->odc_ui>=0.2.0a2->-r requirements.txt (line 10)) (0.2.1)\n",
      "Requirement already satisfied: jupyterlab-widgets>=1.0.0 in /env/lib/python3.8/site-packages (from ipywidgets->odc_ui>=0.2.0a2->-r requirements.txt (line 10)) (1.0.0)\n",
      "Requirement already satisfied: traitlets>=4.3.1 in /env/lib/python3.8/site-packages (from ipywidgets->odc_ui>=0.2.0a2->-r requirements.txt (line 10)) (5.1.1)\n",
      "Requirement already satisfied: nbformat>=4.2.0 in /env/lib/python3.8/site-packages (from ipywidgets->odc_ui>=0.2.0a2->-r requirements.txt (line 10)) (5.1.3)\n",
      "Requirement already satisfied: widgetsnbextension~=3.5.0 in /env/lib/python3.8/site-packages (from ipywidgets->odc_ui>=0.2.0a2->-r requirements.txt (line 10)) (3.5.2)\n",
      "Requirement already satisfied: ipykernel>=4.5.1 in /env/lib/python3.8/site-packages (from ipywidgets->odc_ui>=0.2.0a2->-r requirements.txt (line 10)) (6.5.1)\n",
      "Requirement already satisfied: prompt-toolkit!=3.0.0,!=3.0.1,<3.1.0,>=2.0.0 in /env/lib/python3.8/site-packages (from ipython->odc_ui>=0.2.0a2->-r requirements.txt (line 10)) (3.0.19)\n",
      "Requirement already satisfied: matplotlib-inline in /env/lib/python3.8/site-packages (from ipython->odc_ui>=0.2.0a2->-r requirements.txt (line 10)) (0.1.3)\n",
      "Requirement already satisfied: pexpect>4.3 in /env/lib/python3.8/site-packages (from ipython->odc_ui>=0.2.0a2->-r requirements.txt (line 10)) (4.8.0)\n",
      "Requirement already satisfied: pickleshare in /env/lib/python3.8/site-packages (from ipython->odc_ui>=0.2.0a2->-r requirements.txt (line 10)) (0.7.5)\n",
      "Requirement already satisfied: pygments in /env/lib/python3.8/site-packages (from ipython->odc_ui>=0.2.0a2->-r requirements.txt (line 10)) (2.10.0)\n",
      "Requirement already satisfied: decorator in /env/lib/python3.8/site-packages (from ipython->odc_ui>=0.2.0a2->-r requirements.txt (line 10)) (5.1.0)\n",
      "Requirement already satisfied: backcall in /env/lib/python3.8/site-packages (from ipython->odc_ui>=0.2.0a2->-r requirements.txt (line 10)) (0.2.0)\n",
      "Requirement already satisfied: jedi>=0.16 in /env/lib/python3.8/site-packages (from ipython->odc_ui>=0.2.0a2->-r requirements.txt (line 10)) (0.18.0)\n",
      "Requirement already satisfied: pyrsistent>=0.14.0 in /env/lib/python3.8/site-packages (from jsonschema->datacube>=1.8.6->-r requirements.txt (line 3)) (0.18.0)\n",
      "Requirement already satisfied: pyzmq in /env/lib/python3.8/site-packages (from jupyter-ui-poll->odc_ui>=0.2.0a2->-r requirements.txt (line 10)) (22.3.0)\n",
      "Requirement already satisfied: cftime in /env/lib/python3.8/site-packages (from netcdf4->datacube>=1.8.6->-r requirements.txt (line 3)) (1.5.1.1)\n",
      "Requirement already satisfied: dask-image in /env/lib/python3.8/site-packages (from odc-algo->odc_ui>=0.2.0a2->-r requirements.txt (line 10)) (0.6.0)\n",
      "Requirement already satisfied: pystac<2,>=1.0.0 in /env/lib/python3.8/site-packages (from odc-stac->odc_ui>=0.2.0a2->-r requirements.txt (line 10)) (1.2.0)\n",
      "Requirement already satisfied: urllib3<1.27,>=1.21.1 in /env/lib/python3.8/site-packages (from requests->dea_tools>=0.2.1->-r requirements.txt (line 4)) (1.26.6)\n",
      "Requirement already satisfied: idna<4,>=2.5 in /env/lib/python3.8/site-packages (from requests->dea_tools>=0.2.1->-r requirements.txt (line 4)) (3.2)\n",
      "Requirement already satisfied: charset-normalizer~=2.0.0 in /env/lib/python3.8/site-packages (from requests->dea_tools>=0.2.1->-r requirements.txt (line 4)) (2.0.6)\n",
      "Requirement already satisfied: greenlet!=0.4.17 in /env/lib/python3.8/site-packages (from sqlalchemy->datacube>=1.8.6->-r requirements.txt (line 3)) (1.1.2)\n",
      "Requirement already satisfied: debugpy<2.0,>=1.0.0 in /env/lib/python3.8/site-packages (from ipykernel>=4.5.1->ipywidgets->odc_ui>=0.2.0a2->-r requirements.txt (line 10)) (1.5.1)\n",
      "Requirement already satisfied: jupyter-client<8.0 in /env/lib/python3.8/site-packages (from ipykernel>=4.5.1->ipywidgets->odc_ui>=0.2.0a2->-r requirements.txt (line 10)) (7.1.0)\n",
      "Requirement already satisfied: parso<0.9.0,>=0.8.0 in /env/lib/python3.8/site-packages (from jedi>=0.16->ipython->odc_ui>=0.2.0a2->-r requirements.txt (line 10)) (0.8.2)\n",
      "Requirement already satisfied: MarkupSafe>=2.0 in /env/lib/python3.8/site-packages (from jinja2->branca->dea_tools>=0.2.1->-r requirements.txt (line 4)) (2.0.1)\n",
      "Requirement already satisfied: jupyter-core in /env/lib/python3.8/site-packages (from nbformat>=4.2.0->ipywidgets->odc_ui>=0.2.0a2->-r requirements.txt (line 10)) (4.9.1)\n",
      "Requirement already satisfied: ipython-genutils in /env/lib/python3.8/site-packages (from nbformat>=4.2.0->ipywidgets->odc_ui>=0.2.0a2->-r requirements.txt (line 10)) (0.2.0)\n",
      "Requirement already satisfied: ptyprocess>=0.5 in /env/lib/python3.8/site-packages (from pexpect>4.3->ipython->odc_ui>=0.2.0a2->-r requirements.txt (line 10)) (0.7.0)\n",
      "Requirement already satisfied: wcwidth in /env/lib/python3.8/site-packages (from prompt-toolkit!=3.0.0,!=3.0.1,<3.1.0,>=2.0.0->ipython->odc_ui>=0.2.0a2->-r requirements.txt (line 10)) (0.2.5)\n",
      "Requirement already satisfied: notebook>=4.4.1 in /env/lib/python3.8/site-packages (from widgetsnbextension~=3.5.0->ipywidgets->odc_ui>=0.2.0a2->-r requirements.txt (line 10)) (6.4.6)\n",
      "Requirement already satisfied: heapdict in /env/lib/python3.8/site-packages (from zict>=0.1.3->distributed->datacube>=1.8.6->-r requirements.txt (line 3)) (1.0.1)\n",
      "Requirement already satisfied: pims>=0.4.1 in /env/lib/python3.8/site-packages (from dask-image->odc-algo->odc_ui>=0.2.0a2->-r requirements.txt (line 10)) (0.5)\n",
      "Requirement already satisfied: entrypoints in /env/lib/python3.8/site-packages (from jupyter-client<8.0->ipykernel>=4.5.1->ipywidgets->odc_ui>=0.2.0a2->-r requirements.txt (line 10)) (0.3)\n",
      "Requirement already satisfied: nest-asyncio>=1.5 in /env/lib/python3.8/site-packages (from jupyter-client<8.0->ipykernel>=4.5.1->ipywidgets->odc_ui>=0.2.0a2->-r requirements.txt (line 10)) (1.5.1)\n",
      "Requirement already satisfied: prometheus-client in /env/lib/python3.8/site-packages (from notebook>=4.4.1->widgetsnbextension~=3.5.0->ipywidgets->odc_ui>=0.2.0a2->-r requirements.txt (line 10)) (0.12.0)\n",
      "Requirement already satisfied: argon2-cffi in /env/lib/python3.8/site-packages (from notebook>=4.4.1->widgetsnbextension~=3.5.0->ipywidgets->odc_ui>=0.2.0a2->-r requirements.txt (line 10)) (21.1.0)\n",
      "Requirement already satisfied: terminado>=0.8.3 in /env/lib/python3.8/site-packages (from notebook>=4.4.1->widgetsnbextension~=3.5.0->ipywidgets->odc_ui>=0.2.0a2->-r requirements.txt (line 10)) (0.12.1)\n",
      "Requirement already satisfied: nbconvert in /env/lib/python3.8/site-packages (from notebook>=4.4.1->widgetsnbextension~=3.5.0->ipywidgets->odc_ui>=0.2.0a2->-r requirements.txt (line 10)) (5.6.1)\n",
      "Requirement already satisfied: Send2Trash>=1.8.0 in /env/lib/python3.8/site-packages (from notebook>=4.4.1->widgetsnbextension~=3.5.0->ipywidgets->odc_ui>=0.2.0a2->-r requirements.txt (line 10)) (1.8.0)\n",
      "Requirement already satisfied: slicerator>=0.9.8 in /env/lib/python3.8/site-packages (from pims>=0.4.1->dask-image->odc-algo->odc_ui>=0.2.0a2->-r requirements.txt (line 10)) (1.0.0)\n",
      "Requirement already satisfied: cffi>=1.0.0 in /env/lib/python3.8/site-packages (from argon2-cffi->notebook>=4.4.1->widgetsnbextension~=3.5.0->ipywidgets->odc_ui>=0.2.0a2->-r requirements.txt (line 10)) (1.14.6)\n",
      "Requirement already satisfied: mistune<2,>=0.8.1 in /env/lib/python3.8/site-packages (from nbconvert->notebook>=4.4.1->widgetsnbextension~=3.5.0->ipywidgets->odc_ui>=0.2.0a2->-r requirements.txt (line 10)) (0.8.4)\n",
      "Requirement already satisfied: testpath in /env/lib/python3.8/site-packages (from nbconvert->notebook>=4.4.1->widgetsnbextension~=3.5.0->ipywidgets->odc_ui>=0.2.0a2->-r requirements.txt (line 10)) (0.5.0)\n",
      "Requirement already satisfied: bleach in /env/lib/python3.8/site-packages (from nbconvert->notebook>=4.4.1->widgetsnbextension~=3.5.0->ipywidgets->odc_ui>=0.2.0a2->-r requirements.txt (line 10)) (4.1.0)\n",
      "Requirement already satisfied: pandocfilters>=1.4.1 in /env/lib/python3.8/site-packages (from nbconvert->notebook>=4.4.1->widgetsnbextension~=3.5.0->ipywidgets->odc_ui>=0.2.0a2->-r requirements.txt (line 10)) (1.5.0)\n",
      "Requirement already satisfied: defusedxml in /env/lib/python3.8/site-packages (from nbconvert->notebook>=4.4.1->widgetsnbextension~=3.5.0->ipywidgets->odc_ui>=0.2.0a2->-r requirements.txt (line 10)) (0.7.1)\n",
      "Requirement already satisfied: pycparser in /env/lib/python3.8/site-packages (from cffi>=1.0.0->argon2-cffi->notebook>=4.4.1->widgetsnbextension~=3.5.0->ipywidgets->odc_ui>=0.2.0a2->-r requirements.txt (line 10)) (2.20)\n",
      "Requirement already satisfied: webencodings in /env/lib/python3.8/site-packages (from bleach->nbconvert->notebook>=4.4.1->widgetsnbextension~=3.5.0->ipywidgets->odc_ui>=0.2.0a2->-r requirements.txt (line 10)) (0.5.1)\n",
      "Requirement already satisfied: packaging in /env/lib/python3.8/site-packages (from bleach->nbconvert->notebook>=4.4.1->widgetsnbextension~=3.5.0->ipywidgets->odc_ui>=0.2.0a2->-r requirements.txt (line 10)) (21.3)\n",
      "Installing collected packages: topojson, mock, dea-tools\n",
      "Successfully installed dea-tools-0.2.1 mock-4.0.3 topojson-1.3\n",
      "Note: you may need to restart the kernel to use updated packages.\n"
     ]
    }
   ],
   "source": [
    "pip install -r requirements.txt --quiet"
   ]
  },
  {
   "cell_type": "markdown",
   "id": "ccd976ef-d89d-494b-9c84-84120bf963b9",
   "metadata": {},
   "source": [
    "Set analysis parameters:"
   ]
  },
  {
   "cell_type": "code",
   "execution_count": 3,
   "id": "4729d261-6b27-4a61-a937-366c5174ce05",
   "metadata": {},
   "outputs": [],
   "source": [
    "config_path = 'configs/deafrica_coastlines_config.yaml'\n",
    "study_area = 87\n",
    "raster_version = 'testing'\n",
    "vector_version = 'testing'\n",
    "continental_version = 'testing'"
   ]
  },
  {
   "cell_type": "markdown",
   "id": "d9906d6b-01a4-4c94-8dd0-178eb281bd6a",
   "metadata": {},
   "source": [
    "### Run DEA Coastlines analysis\n",
    "#### Run tidally-constrained raster generation"
   ]
  },
  {
   "cell_type": "code",
   "execution_count": null,
   "id": "dc5632c4-f872-46e5-9762-80b8556f3622",
   "metadata": {},
   "outputs": [],
   "source": [
    "!python -m dea_coastlines.raster --help"
   ]
  },
  {
   "cell_type": "markdown",
   "id": "fca95348-eda9-4071-a9a1-a3f9219c5cf0",
   "metadata": {},
   "source": [
    "Example analysis:"
   ]
  },
  {
   "cell_type": "code",
   "execution_count": null,
   "id": "47397eb8-ddec-46c6-9f7c-431a50bb7eae",
   "metadata": {},
   "outputs": [],
   "source": [
    "!python -m dea_coastlines.raster --config_path {config_path} --study_area {study_area} --raster_version {raster_version} --start_year 1998 --end_year 2021"
   ]
  },
  {
   "cell_type": "markdown",
   "id": "1e0f60ac-c68d-4b6f-a19b-257679588ea1",
   "metadata": {},
   "source": [
    "#### Run vector annual shoreline and rates of change statistics generation"
   ]
  },
  {
   "cell_type": "code",
   "execution_count": null,
   "id": "0ed72c21-ba89-4fad-9521-f5493aad9d66",
   "metadata": {},
   "outputs": [],
   "source": [
    "!python -m dea_coastlines.vector --help"
   ]
  },
  {
   "cell_type": "markdown",
   "id": "0dede36a-c26b-4d98-a359-7080dc3f2fd9",
   "metadata": {},
   "source": [
    "Example analysis:"
   ]
  },
  {
   "cell_type": "code",
   "execution_count": null,
   "id": "c23665e0-6d46-4185-b9f0-04a50d856174",
   "metadata": {},
   "outputs": [],
   "source": [
    "!python -m dea_coastlines.vector --config_path {config_path} --study_area {study_area} --raster_version {raster_version} --vector_version {vector_version} --baseline_year 2020"
   ]
  },
  {
   "cell_type": "markdown",
   "id": "fa26bb5f-c618-418d-bc87-c01a33fd612c",
   "metadata": {},
   "source": [
    "#### Run continental-scale layer generation"
   ]
  },
  {
   "cell_type": "code",
   "execution_count": null,
   "id": "518bf214-ce70-4baa-a2ad-28302986fe01",
   "metadata": {},
   "outputs": [],
   "source": [
    "!python -m dea_coastlines.continental --help"
   ]
  },
  {
   "cell_type": "markdown",
   "id": "51249ca9-35ca-4baa-b6a1-67f149a6fef0",
   "metadata": {},
   "source": [
    "Example analysis:"
   ]
  },
  {
   "cell_type": "code",
   "execution_count": null,
   "id": "22e3dca9-6a5e-4e6a-ac2c-c3f3b1ae904b",
   "metadata": {},
   "outputs": [],
   "source": [
    "!python -m dea_coastlines.continental --vector_version {vector_version} --continental_version {continental_version} --shorelines True --ratesofchange True --hotspots True"
   ]
  },
  {
   "cell_type": "markdown",
   "id": "fe55ab27-807a-44c8-9408-595934893faa",
   "metadata": {},
   "source": [
    "## Example analysis"
   ]
  },
  {
   "cell_type": "code",
   "execution_count": null,
   "id": "fc95b9be-6877-4084-97b9-0fef47ce2f29",
   "metadata": {},
   "outputs": [
    {
     "name": "stdout",
     "output_type": "stream",
     "text": [
      "384\n",
      "<Client: 'tcp://127.0.0.1:39233' processes=1 threads=15, memory=104.37 GB>\n",
      "Parallelising 15 processes\n",
      "Processing 19989:52                                                             \n",
      "Processing 1999\n",
      "Processing 2000\n",
      "Processing 2001\n",
      "Processing 2002\n",
      "Processing 2003\n",
      "Processing 2004\n",
      "Processing 2005\n",
      "Processing 2006\n",
      "Processing 2007\n",
      "Processing 2008\n",
      "Processing 2009\n",
      "Processing 2010\n",
      "Processing 2011\n",
      "Processing 2012\n",
      "Processing 2013\n",
      "Processing 2014\n",
      "Processing 2015\n",
      "Processing 2016\n",
      "Processing 2017\n",
      "Processing 2018\n",
      "Processing 2019\n",
      "Processing 2020\n",
      "Processing 2021\n",
      "Comparing annual movements with time\n",
      "385\n",
      "<Client: 'tcp://127.0.0.1:34023' processes=1 threads=15, memory=104.37 GB>\n",
      "Parallelising 15 processes\n",
      "Processing 19989:52                                                             \n",
      "CPLReleaseMutex: Error = 1 (Operation not permitted)\n",
      "Processing 1999\n",
      "Processing 2000\n",
      "Processing 2001\n",
      "Processing 2002\n",
      "Processing 2003\n",
      "Processing 2004\n",
      "Processing 2005\n",
      "Processing 2006\n",
      "Processing 2007\n",
      "Processing 2008\n",
      "Processing 2009\n",
      "Processing 2010\n",
      "Processing 2011\n",
      "Processing 2012\n",
      "Processing 2013\n",
      "Processing 2014\n",
      "Processing 2015\n",
      "Processing 2016\n",
      "Processing 2017\n",
      "Processing 2018\n",
      "Processing 2019\n",
      "Processing 2020\n",
      "Processing 2021\n",
      "Comparing annual movements with time\n",
      "387\n",
      "<Client: 'tcp://127.0.0.1:34229' processes=1 threads=15, memory=104.37 GB>\n",
      "Parallelising 15 processes\n",
      "Processing 19989:28                                                             \n",
      "CPLReleaseMutex: Error = 1 (Operation not permitted)\n",
      "Processing 1999\n",
      "Processing 2000\n",
      "Processing 2001\n",
      "Processing 2002\n",
      "Processing 2003\n",
      "Processing 2004\n",
      "Processing 2005\n",
      "Processing 2006\n",
      "Processing 2007\n",
      "Processing 2008\n",
      "Processing 2009\n",
      "Processing 2010\n",
      "Processing 2011\n",
      "Processing 2012\n",
      "Processing 2013\n",
      "Processing 2014\n",
      "Processing 2015\n",
      "Processing 2016\n",
      "Processing 2017\n",
      "Processing 2018\n",
      "Processing 2019\n",
      "Processing 2020\n",
      "Processing 2021\n",
      "Comparing annual movements with time\n",
      "388\n",
      "<Client: 'tcp://127.0.0.1:39611' processes=1 threads=15, memory=104.37 GB>\n",
      "Parallelising 15 processes\n",
      "Processing 19989:52                                                             \n",
      "CPLReleaseMutex: Error = 1 (Operation not permitted)\n",
      "Processing 1999\n",
      "Processing 2000\n",
      "Processing 2001\n",
      "Processing 2002\n",
      "Processing 2003\n",
      "Processing 2004\n",
      "Processing 2005\n",
      "Processing 2006\n",
      "Processing 2007\n",
      "Processing 2008\n",
      "Processing 2009\n",
      "Processing 2010\n",
      "Processing 2011\n",
      "Processing 2012\n",
      "Processing 2013\n",
      "Processing 2014\n",
      "Processing 2015\n",
      "Processing 2016\n",
      "Processing 2017\n",
      "Processing 2018\n",
      "Processing 2019\n",
      "Processing 2020\n",
      "Processing 2021\n",
      "Comparing annual movements with time\n",
      "390\n",
      "<Client: 'tcp://127.0.0.1:32991' processes=1 threads=15, memory=104.37 GB>\n",
      "Parallelising 15 processes\n",
      "Processing 19989:28                                                             \n",
      "CPLReleaseMutex: Error = 1 (Operation not permitted)\n",
      "Processing 1999\n",
      "Processing 2000\n",
      "Processing 2001\n",
      "Processing 2002\n",
      "Processing 2003\n",
      "Processing 2004\n",
      "Processing 2005\n",
      "Processing 2006\n",
      "Processing 2007\n",
      "Processing 2008\n",
      "Processing 2009\n",
      "Processing 2010\n",
      "Processing 2011\n",
      "Processing 2012\n",
      "Processing 2013\n",
      "Processing 2014\n",
      "Processing 2015\n",
      "Processing 2016\n",
      "Processing 2017\n",
      "Processing 2018\n",
      "Processing 2019\n",
      "Processing 2020\n",
      "Processing 2021\n",
      "Comparing annual movements with time\n",
      "392\n",
      "<Client: 'tcp://127.0.0.1:45543' processes=1 threads=15, memory=104.37 GB>\n",
      "Parallelising 15 processes\n",
      "Processing 19989:28                                                             \n",
      "Processing 1999\n",
      "Processing 2000\n",
      "Processing 2001\n",
      "Processing 2002\n",
      "Processing 2003\n",
      "Processing 2004\n",
      "Processing 2005\n",
      "Processing 2006\n",
      "Processing 2007\n",
      "Processing 2008\n",
      "Processing 2009\n",
      "Processing 2010\n",
      "Processing 2011\n",
      "Processing 2012\n",
      "Processing 2013\n",
      "Processing 2014\n",
      "Processing 2015\n",
      "Processing 2016\n",
      "Processing 2017\n",
      "Processing 2018\n",
      "Processing 2019\n",
      "Processing 2020\n",
      "Processing 2021\n",
      "Comparing annual movements with time\n",
      "395\n",
      "<Client: 'tcp://127.0.0.1:35249' processes=1 threads=15, memory=104.37 GB>\n",
      "Parallelising 15 processes\n",
      "Processing 19989:28                                                             \n",
      "Processing 1999\n",
      "Processing 2000\n",
      "Processing 2001\n",
      "Processing 2002\n",
      "Processing 2003\n",
      "Processing 2004\n",
      "Processing 2005\n",
      "Processing 2006\n",
      "Processing 2007\n",
      "Processing 2008\n",
      "Processing 2009\n",
      "Processing 2010\n",
      "Processing 2011\n",
      "Processing 2012\n",
      "Processing 2013\n",
      "Processing 2014\n"
     ]
    }
   ],
   "source": [
    "# Study areas\n",
    "# study_areas = [1244, 1275, 1276, 1231, 1229, 1230, 1228]  # kenya\n",
    "# study_areas = [39, 45, 46, 59, 60, 61, 83, 84, 85, 86, 87, 88, 113, 114, \n",
    "#                115, 116, 117, 118, 119, 120, 135, 136, 137, 138, 139]  # senegal\n",
    "# study_areas = [705, 706, 707, 710, 711, 712, 713, 714, 715, 716, 717, 718, \n",
    "#                720, 721, 722, 723, 724, 725] # namibia \n",
    "# study_areas = [308, 309, 312, 313, 317, 321, 322, 326, 328, 331, 332, 335, \n",
    "#               336, 338, 340, 342, 344, 346, 347, 350, 351, 353, 355, 356, \n",
    "#               358, 360, 361, 364, 365, 368, 370, 371, 373, 376, 377, 379, 382]  # west africa\n",
    "study_areas = [384, 385, 387, 388, 390, 392, 395, 398, 399, 401, 403, 405, 408, 410, 411, 413]\n",
    "\n",
    "for study_area in study_areas:\n",
    "    print(study_area)\n",
    "    !python -m dea_coastlines.raster --config_path {config_path} --study_area {study_area} --raster_version {raster_version} --start_year 1998 --end_year 2021\n",
    "    !python -m dea_coastlines.vector --config_path {config_path} --study_area {study_area} --raster_version {raster_version} --vector_version {vector_version} --baseline_year 2020"
   ]
  },
  {
   "cell_type": "code",
   "execution_count": null,
   "id": "29c0cf06-8fe3-4699-91f4-e9cd2ad9a1d5",
   "metadata": {},
   "outputs": [],
   "source": [
    "!python -m dea_coastlines.continental --vector_version {vector_version} --continental_version {continental_version} --shorelines True --ratesofchange True --hotspots 10000"
   ]
  },
  {
   "cell_type": "markdown",
   "id": "3f83a811-d875-4c27-9f9e-3e644119b49f",
   "metadata": {
    "tags": []
   },
   "source": [
    "### Clean up and remove files"
   ]
  },
  {
   "cell_type": "code",
   "execution_count": null,
   "id": "585af34b-9cde-4ff2-8fa5-5c2baaab2e79",
   "metadata": {},
   "outputs": [],
   "source": [
    "rm -rf data/interim/raster/{raster_version}"
   ]
  },
  {
   "cell_type": "code",
   "execution_count": null,
   "id": "f3069daf-5d71-4c70-8740-d02efb1fc0f9",
   "metadata": {},
   "outputs": [],
   "source": [
    "rm -rf data/interim/vector/{vector_version}"
   ]
  },
  {
   "cell_type": "code",
   "execution_count": null,
   "id": "38d2209f-e978-4735-835b-68381358517a",
   "metadata": {},
   "outputs": [],
   "source": [
    "rm -rf data/processed/{continental_version}"
   ]
  }
 ],
 "metadata": {
  "kernelspec": {
   "display_name": "Python 3 (ipykernel)",
   "language": "python",
   "name": "python3"
  },
  "language_info": {
   "codemirror_mode": {
    "name": "ipython",
    "version": 3
   },
   "file_extension": ".py",
   "mimetype": "text/x-python",
   "name": "python",
   "nbconvert_exporter": "python",
   "pygments_lexer": "ipython3",
   "version": "3.8.10"
  },
  "widgets": {
   "application/vnd.jupyter.widget-state+json": {
    "state": {},
    "version_major": 2,
    "version_minor": 0
   }
  }
 },
 "nbformat": 4,
 "nbformat_minor": 5
}
