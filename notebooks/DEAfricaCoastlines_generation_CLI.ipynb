{
 "cells": [
  {
   "cell_type": "markdown",
   "id": "69da8225-7681-4de4-b1b5-be4fdabf52c7",
   "metadata": {
    "tags": []
   },
   "source": [
    "# DE Africa Coastlines generation using command line tools <img align=\"right\" src=\"https://github.com/digitalearthafrica/deafrica-sandbox-notebooks/raw/main/Supplementary_data/DE_Africa_Logo_Stacked_RGB_small.jpg\">\n",
    "This notebook demonstrates how to run a DE Africa Coastlines analysis using command line tools."
   ]
  },
  {
   "cell_type": "markdown",
   "id": "81b6c48d-db3b-4f30-82fa-67c96e64cc1c",
   "metadata": {},
   "source": [
    "### Setup"
   ]
  },
  {
   "cell_type": "markdown",
   "id": "4e436c72-fa98-489e-bc7d-787ead143e76",
   "metadata": {},
   "source": [
    "Set working directory to top level of repo to ensure links work correctly:"
   ]
  },
  {
   "cell_type": "code",
   "execution_count": 1,
   "id": "c0c743c8-8d0d-4f71-9a70-c4132adaaa86",
   "metadata": {},
   "outputs": [
    {
     "name": "stdout",
     "output_type": "stream",
     "text": [
      "/home/jovyan/Robbi/dea-coastlines\n"
     ]
    }
   ],
   "source": [
    "cd .."
   ]
  },
  {
   "cell_type": "markdown",
   "id": "c0ec2b5f-36a1-423b-add1-80f50f07361a",
   "metadata": {},
   "source": [
    "Update required packages:"
   ]
  },
  {
   "cell_type": "code",
   "execution_count": null,
   "id": "cb80bb63-817e-4098-a92d-19a3701d8958",
   "metadata": {},
   "outputs": [],
   "source": [
    "pip install -r requirements.txt --quiet"
   ]
  },
  {
   "cell_type": "markdown",
   "id": "ccd976ef-d89d-494b-9c84-84120bf963b9",
   "metadata": {},
   "source": [
    "Set analysis parameters:"
   ]
  },
  {
   "cell_type": "code",
   "execution_count": 2,
   "id": "4729d261-6b27-4a61-a937-366c5174ce05",
   "metadata": {},
   "outputs": [],
   "source": [
    "config_path = 'configs/deafrica_coastlines_config.yaml'\n",
    "study_area = 87\n",
    "raster_version = 'testing'\n",
    "vector_version = 'testing'\n",
    "continental_version = 'testing'"
   ]
  },
  {
   "cell_type": "markdown",
   "id": "d9906d6b-01a4-4c94-8dd0-178eb281bd6a",
   "metadata": {},
   "source": [
    "### Run DEA Coastlines analysis\n",
    "#### Run tidally-constrained raster generation"
   ]
  },
  {
   "cell_type": "code",
   "execution_count": null,
   "id": "dc5632c4-f872-46e5-9762-80b8556f3622",
   "metadata": {},
   "outputs": [],
   "source": [
    "!python -m dea_coastlines.raster --help"
   ]
  },
  {
   "cell_type": "markdown",
   "id": "fca95348-eda9-4071-a9a1-a3f9219c5cf0",
   "metadata": {},
   "source": [
    "Example analysis:"
   ]
  },
  {
   "cell_type": "code",
   "execution_count": null,
   "id": "47397eb8-ddec-46c6-9f7c-431a50bb7eae",
   "metadata": {},
   "outputs": [],
   "source": [
    "!python -m dea_coastlines.raster --config_path {config_path} --study_area {study_area} --raster_version {raster_version} --start_year 1998 --end_year 2021"
   ]
  },
  {
   "cell_type": "markdown",
   "id": "1e0f60ac-c68d-4b6f-a19b-257679588ea1",
   "metadata": {},
   "source": [
    "#### Run vector annual shoreline and rates of change statistics generation"
   ]
  },
  {
   "cell_type": "code",
   "execution_count": null,
   "id": "0ed72c21-ba89-4fad-9521-f5493aad9d66",
   "metadata": {},
   "outputs": [],
   "source": [
    "!python -m dea_coastlines.vector --help"
   ]
  },
  {
   "cell_type": "markdown",
   "id": "0dede36a-c26b-4d98-a359-7080dc3f2fd9",
   "metadata": {},
   "source": [
    "Example analysis:"
   ]
  },
  {
   "cell_type": "code",
   "execution_count": null,
   "id": "c23665e0-6d46-4185-b9f0-04a50d856174",
   "metadata": {},
   "outputs": [],
   "source": [
    "!python -m dea_coastlines.vector --config_path {config_path} --study_area {study_area} --raster_version {raster_version} --vector_version {vector_version} --baseline_year 2020"
   ]
  },
  {
   "cell_type": "markdown",
   "id": "fa26bb5f-c618-418d-bc87-c01a33fd612c",
   "metadata": {},
   "source": [
    "#### Run continental-scale layer generation"
   ]
  },
  {
   "cell_type": "code",
   "execution_count": null,
   "id": "518bf214-ce70-4baa-a2ad-28302986fe01",
   "metadata": {},
   "outputs": [],
   "source": [
    "!python -m dea_coastlines.continental --help"
   ]
  },
  {
   "cell_type": "markdown",
   "id": "51249ca9-35ca-4baa-b6a1-67f149a6fef0",
   "metadata": {},
   "source": [
    "Example analysis:"
   ]
  },
  {
   "cell_type": "code",
   "execution_count": null,
   "id": "22e3dca9-6a5e-4e6a-ac2c-c3f3b1ae904b",
   "metadata": {},
   "outputs": [],
   "source": [
    "!python -m dea_coastlines.continental --vector_version {vector_version} --continental_version {continental_version} --shorelines True --ratesofchange True --hotspots True --hotspots_radius 10000"
   ]
  },
  {
   "cell_type": "markdown",
   "id": "fe55ab27-807a-44c8-9408-595934893faa",
   "metadata": {},
   "source": [
    "## Example analysis"
   ]
  },
  {
   "cell_type": "code",
   "execution_count": 7,
   "id": "fc95b9be-6877-4084-97b9-0fef47ce2f29",
   "metadata": {},
   "outputs": [
    {
     "name": "stdout",
     "output_type": "stream",
     "text": [
      "705\n",
      "Comparing annual movements with time\n",
      "706\n",
      "Comparing annual movements with time\n",
      "707\n",
      "Comparing annual movements with time\n",
      "710\n",
      "Comparing annual movements with time\n",
      "711\n",
      "Comparing annual movements with time\n",
      "712\n",
      "Comparing annual movements with time\n",
      "713\n",
      "Comparing annual movements with time\n",
      "714\n",
      "Comparing annual movements with time\n",
      "715\n",
      "Comparing annual movements with time\n",
      "716\n",
      "Comparing annual movements with time\n",
      "717\n",
      "Comparing annual movements with time\n",
      "718\n",
      "Comparing annual movements with time\n",
      "720\n",
      "Comparing annual movements with time\n",
      "721\n",
      "Comparing annual movements with time\n",
      "722\n",
      "Comparing annual movements with time\n",
      "723\n",
      "Comparing annual movements with time\n",
      "724\n",
      "Comparing annual movements with time\n",
      "725\n",
      "Comparing annual movements with time\n"
     ]
    }
   ],
   "source": [
    "# Study areas\n",
    "# study_areas = [1244, 1275, 1276, 1231, 1229, 1230, 1228]  # kenya\n",
    "# study_areas = [39, 45, 46, 59, 60, 61, 83, 84, 85, 86, 87, 88, 113, 114, \n",
    "#                115, 116, 117, 135, 136, 137, 138, 139]  # senegal\n",
    "study_areas = [705, 706, 707, 710, 711, 712, 713, 714, 715, 716, 717, 718, \n",
    "               720, 721, 722, 723, 724, 725] # namibia \n",
    "# study_areas = [308, 309, 312, 313, 317, 321, 322, 326, 328, 331, 332, 335, 336,\n",
    "#               338, 340, 342, 344, 346, 347, 351, 353, 355, 356, 358, 360,\n",
    "#               361, 364, 365, 368, 370, 371, 373, 376, 377, 379, 382, 384, 385,\n",
    "#               387, 388, 390, 392, 395, 398, 399, 401, 403, 405, 408, 410, 411]  # west africa\n",
    "\n",
    "# Try different closing options\n",
    "# study_areas = [382, 373, 371, 368, 360, 358, 356, 355, 335, 403, 392, 390, 1230, 1229, 1244, 1275, 328, 376, 379, 86, 87]\n",
    "\n",
    "for study_area in study_areas:\n",
    "    print(study_area)\n",
    "#     !python -m dea_coastlines.raster --config_path {config_path} --study_area {study_area} --raster_version {raster_version} --start_year 1998 --end_year 2021\n",
    "    !python -m dea_coastlines.vector --config_path {config_path} --study_area {study_area} --raster_version {raster_version} --vector_version {vector_version} --baseline_year 2020"
   ]
  },
  {
   "cell_type": "code",
   "execution_count": 9,
   "id": "158ca4e5-ef78-42e5-90f7-c98b4102c5b8",
   "metadata": {},
   "outputs": [
    {
     "name": "stdout",
     "output_type": "stream",
     "text": [
      "Combining annual shorelines...\n",
      "Combining rates of change statistics...\n",
      "Generating hotspots...\n",
      "Identifying points in each polygon\n",
      "Building index: 100%|█████████████████| 112148/112148 [00:36<00:00, 3083.58it/s]\n",
      "Processing points: 100%|██████████████████████| 348/348 [00:21<00:00, 16.22it/s]\n",
      "Calculating mean rates\n"
     ]
    }
   ],
   "source": [
    "!python -m dea_coastlines.continental --vector_version {vector_version} --continental_version {continental_version} --shorelines True --ratesofchange True --hotspots False"
   ]
  },
  {
   "cell_type": "code",
   "execution_count": null,
   "id": "29c0cf06-8fe3-4699-91f4-e9cd2ad9a1d5",
   "metadata": {},
   "outputs": [],
   "source": [
    "!python -m dea_coastlines.continental --vector_version {vector_version} --continental_version {continental_version} --shorelines True --ratesofchange True --hotspots True"
   ]
  },
  {
   "cell_type": "markdown",
   "id": "3f83a811-d875-4c27-9f9e-3e644119b49f",
   "metadata": {
    "tags": []
   },
   "source": [
    "### Clean up and remove files"
   ]
  },
  {
   "cell_type": "code",
   "execution_count": null,
   "id": "585af34b-9cde-4ff2-8fa5-5c2baaab2e79",
   "metadata": {},
   "outputs": [],
   "source": [
    "rm -rf data/interim/raster/{raster_version}"
   ]
  },
  {
   "cell_type": "code",
   "execution_count": null,
   "id": "f3069daf-5d71-4c70-8740-d02efb1fc0f9",
   "metadata": {},
   "outputs": [],
   "source": [
    "rm -rf data/interim/vector/{vector_version}"
   ]
  },
  {
   "cell_type": "code",
   "execution_count": null,
   "id": "38d2209f-e978-4735-835b-68381358517a",
   "metadata": {},
   "outputs": [],
   "source": [
    "rm -rf data/processed/{continental_version}"
   ]
  }
 ],
 "metadata": {
  "kernelspec": {
   "display_name": "Python 3 (ipykernel)",
   "language": "python",
   "name": "python3"
  },
  "language_info": {
   "codemirror_mode": {
    "name": "ipython",
    "version": 3
   },
   "file_extension": ".py",
   "mimetype": "text/x-python",
   "name": "python",
   "nbconvert_exporter": "python",
   "pygments_lexer": "ipython3",
   "version": "3.8.10"
  },
  "widgets": {
   "application/vnd.jupyter.widget-state+json": {
    "state": {},
    "version_major": 2,
    "version_minor": 0
   }
  }
 },
 "nbformat": 4,
 "nbformat_minor": 5
}
