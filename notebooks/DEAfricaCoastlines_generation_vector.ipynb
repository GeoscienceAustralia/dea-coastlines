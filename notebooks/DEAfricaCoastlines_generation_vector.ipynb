{
 "cells": [
  {
   "cell_type": "markdown",
   "metadata": {
    "tags": []
   },
   "source": [
    "# DE Africa Coastlines vector statistics <img align=\"right\" src=\"https://github.com/digitalearthafrica/deafrica-sandbox-notebooks/raw/main/Supplementary_data/DE_Africa_Logo_Stacked_RGB_small.jpg\">\n",
    "\n",
    "This code conducts vector subpixel shoreline extraction for DE Africa Coastlines:\n",
    "\n",
    "* Apply morphological extraction algorithms to mask annual median composite rasters to a valid coastal region\n",
    "* Extract waterline vectors using subpixel waterline extraction ([Bishop-Taylor et al. 2019b](https://doi.org/10.3390/rs11242984))\n",
    "* Compute rates of coastal change at every 30 m using linear regression\n",
    "\n",
    "This is an interactive version of the code intended for prototyping; to run this analysis at scale, run `deafrica_coastlines.vector.py`.\n",
    "\n",
    "\n",
    "---"
   ]
  },
  {
   "cell_type": "markdown",
   "metadata": {},
   "source": [
    "## Getting started\n",
    "Set working directory to top level of repo to ensure links work correctly:"
   ]
  },
  {
   "cell_type": "code",
   "execution_count": 1,
   "metadata": {},
   "outputs": [
    {
     "name": "stdout",
     "output_type": "stream",
     "text": [
      "/g/data/dea-coastlines/deafrica-coastlines\n"
     ]
    }
   ],
   "source": [
    "cd .."
   ]
  },
  {
   "cell_type": "markdown",
   "metadata": {},
   "source": [
    "### Load packages\n",
    "\n",
    "First we import the required Python packages, then we connect to the database, and load the catalog of virtual products."
   ]
  },
  {
   "cell_type": "code",
   "execution_count": 2,
   "metadata": {},
   "outputs": [
    {
     "name": "stdout",
     "output_type": "stream",
     "text": [
      "\u001b[33mWARNING: You are using pip version 22.0.2; however, version 22.0.4 is available.\n",
      "You should consider upgrading via the '/env/bin/python -m pip install --upgrade pip' command.\u001b[0m\u001b[33m\n",
      "\u001b[0mNote: you may need to restart the kernel to use updated packages.\n"
     ]
    }
   ],
   "source": [
    "pip install -r requirements.in --quiet"
   ]
  },
  {
   "cell_type": "code",
   "execution_count": 3,
   "metadata": {},
   "outputs": [],
   "source": [
    "%matplotlib inline\n",
    "%load_ext line_profiler\n",
    "%load_ext autoreload\n",
    "%autoreload 2\n",
    "\n",
    "import os\n",
    "import sys\n",
    "import numpy as np\n",
    "import pandas as pd\n",
    "import geopandas as gpd\n",
    "import matplotlib.pyplot as plt\n",
    "from shapely.geometry import box\n",
    "from rasterio.transform import array_bounds\n",
    "from dea_tools.spatial import subpixel_contours\n",
    "\n",
    "# Load DEA Coastlines code\n",
    "import coastlines.raster\n",
    "import coastlines.vector\n",
    "\n",
    "# Hide Pandas warnings\n",
    "pd.options.mode.chained_assignment = None\n"
   ]
  },
  {
   "cell_type": "markdown",
   "metadata": {},
   "source": [
    "## Load in data"
   ]
  },
  {
   "cell_type": "code",
   "execution_count": 15,
   "metadata": {},
   "outputs": [],
   "source": [
    "study_area = 1348\n",
    "raster_version = 'testing'\n",
    "vector_version = 'testing'\n",
    "water_index = 'mndwi'\n",
    "index_threshold = 0.00\n",
    "baseline_year = '2020'\n",
    "\n",
    "# Load analysis params from config file\n",
    "config = coastlines.raster.load_config(\n",
    "    config_path='configs/deafrica_coastlines_config.yaml')"
   ]
  },
  {
   "cell_type": "markdown",
   "metadata": {},
   "source": [
    "## Load DEA Coastlines rasters"
   ]
  },
  {
   "cell_type": "code",
   "execution_count": 16,
   "metadata": {},
   "outputs": [
    {
     "name": "stdout",
     "output_type": "stream",
     "text": [
      "<xarray.Dataset>\n",
      "Dimensions:  (year: 21, y: 1319, x: 1576)\n",
      "Coordinates:\n",
      "  * year     (year) int64 2000 2001 2002 2003 2004 ... 2016 2017 2018 2019 2020\n",
      "  * y        (y) float64 -1.239e+06 -1.239e+06 ... -1.278e+06 -1.278e+06\n",
      "  * x        (x) float64 3.08e+05 3.08e+05 3.08e+05 ... 3.552e+05 3.552e+05\n",
      "Data variables:\n",
      "    mndwi    (year, y, x) float32 0.2206 0.1734 0.09027 ... -0.0736 0.04786\n",
      "    ndwi     (year, y, x) float32 0.0796 0.04042 0.02365 ... 0.8965 1.021 0.9843\n",
      "    tide_m   (year, y, x) float32 0.1164 0.1164 0.1164 ... 0.2093 0.2093 0.2093\n",
      "    count    (year, y, x) int16 4 4 4 4 4 4 4 4 4 4 4 ... 9 9 9 9 9 9 9 9 9 9 8\n",
      "    stdev    (year, y, x) float32 0.1143 0.1594 0.2277 ... 0.4709 0.5392 0.4892\n",
      "Attributes:\n",
      "    transform:      | 30.00, 0.00, 307965.00|\\n| 0.00,-30.00,-1238805.00|\\n| ...\n",
      "    crs:            +init=epsg:32638\n",
      "    res:            (30.0, 30.0)\n",
      "    is_tiled:       1\n",
      "    nodatavals:     (nan,)\n",
      "    scales:         (1.0,)\n",
      "    offsets:        (0.0,)\n",
      "    AREA_OR_POINT:  Area\n"
     ]
    }
   ],
   "source": [
    "yearly_ds, gapfill_ds = coastlines.vector.load_rasters(\n",
    "    path='data/interim/raster',\n",
    "    raster_version=raster_version,\n",
    "    study_area=study_area,\n",
    "    water_index=water_index,\n",
    "    start_year=2000)\n",
    "print(yearly_ds)\n",
    "\n",
    "# Create output vector folder\n",
    "output_dir = f'data/interim/vector/{vector_version}/{study_area}_{vector_version}'\n",
    "os.makedirs(output_dir, exist_ok=True)"
   ]
  },
  {
   "cell_type": "markdown",
   "metadata": {},
   "source": [
    "## Load vector data"
   ]
  },
  {
   "cell_type": "code",
   "execution_count": 17,
   "metadata": {},
   "outputs": [],
   "source": [
    "# Get bounding box to load data for\n",
    "bbox = gpd.GeoSeries(box(*array_bounds(height=yearly_ds.sizes['y'],\n",
    "                                       width=yearly_ds.sizes['x'],\n",
    "                                       transform=yearly_ds.transform)),\n",
    "                     crs=yearly_ds.crs)\n",
    "\n",
    "# Tide points\n",
    "tide_points_gdf = (gpd.read_file(config['Input files']['coastal_points_path'],\n",
    "                                 bbox=bbox).to_crs(yearly_ds.crs))\n",
    "\n",
    "# Study area polygon\n",
    "gridcell_gdf = (gpd.read_file(config['Input files']['coastal_grid_path'],\n",
    "                              bbox=bbox).set_index('id').to_crs(\n",
    "                                  str(yearly_ds.crs)))\n",
    "gridcell_gdf.index = gridcell_gdf.index.astype(int).astype(str)\n",
    "gridcell_gdf = gridcell_gdf.loc[[str(study_area)]]\n"
   ]
  },
  {
   "cell_type": "markdown",
   "metadata": {},
   "source": [
    "## Extract shoreline contours\n",
    "\n",
    "### Extract ocean-masked contours"
   ]
  },
  {
   "cell_type": "code",
   "execution_count": 18,
   "metadata": {},
   "outputs": [],
   "source": [
    "# If a waterbody mask is provided, use this to remove non-coastal\n",
    "# waterbodies and estuaries from the dataset. If not, use empty mask\n",
    "if config['Input files']['waterbody_mask_path']:\n",
    "\n",
    "    # Generate waterbody mask\n",
    "    print('Generating waterbody mask')\n",
    "    waterbody_mask = coastlines.vector.waterbody_masking(\n",
    "        input_data=config['Input files']['waterbody_mask_path'],\n",
    "        modification_data=config['Input files']['waterbody_modifications_path'],\n",
    "        bbox=bbox,\n",
    "        yearly_ds=yearly_ds)\n",
    "    \n",
    "else:\n",
    "    waterbody_mask = np.full(yearly_ds.geobox.shape, False, dtype=bool)\n",
    "    "
   ]
  },
  {
   "cell_type": "code",
   "execution_count": 24,
   "metadata": {},
   "outputs": [],
   "source": [
    "# Mask dataset to focus on coastal zone only\n",
    "masked_ds, certainty_masks = coastlines.vector.contours_preprocess(\n",
    "    yearly_ds,\n",
    "    gapfill_ds,\n",
    "    water_index,\n",
    "    index_threshold,\n",
    "    waterbody_mask,\n",
    "    tide_points_gdf,\n",
    "    buffer_pixels=25)"
   ]
  },
  {
   "cell_type": "code",
   "execution_count": 26,
   "metadata": {},
   "outputs": [],
   "source": [
    "# Extract contours\n",
    "contours_gdf = subpixel_contours(da=masked_ds,\n",
    "                                 z_values=index_threshold,\n",
    "                                 min_vertices=10,\n",
    "                                 dim='year',\n",
    "                                 output_path=f'temp.geojson').set_index('year')"
   ]
  },
  {
   "cell_type": "markdown",
   "metadata": {},
   "source": [
    "## Compute statistics\n",
    "### Create stats points on baseline contour"
   ]
  },
  {
   "cell_type": "code",
   "execution_count": 27,
   "metadata": {},
   "outputs": [],
   "source": [
    "# Extract statistics modelling points along baseline contour\n",
    "points_gdf = coastlines.vector.points_on_line(contours_gdf,\n",
    "                                              baseline_year,\n",
    "                                              distance=30)\n",
    "\n",
    "# If a rocky mask is provided, use this to clip data\n",
    "if config['Input files']['coastal_classification_path']:\n",
    "\n",
    "    # Import coastline classification\n",
    "    print('Clipping to non-rocky shorelines')\n",
    "    coastal_classification_gdf = (gpd.read_file(\n",
    "        config['Input files']['coastal_classification_path'],\n",
    "        bbox=bbox).to_crs(yearly_ds.crs))\n",
    "\n",
    "    # Clip to remove rocky shoreline points\n",
    "    points_gdf = coastlines.vector.rocky_shores_clip(\n",
    "        points_gdf, coastal_classification_gdf, buffer=50)"
   ]
  },
  {
   "cell_type": "markdown",
   "metadata": {},
   "source": [
    "### Measure annual coastline movements"
   ]
  },
  {
   "cell_type": "code",
   "execution_count": 28,
   "metadata": {},
   "outputs": [],
   "source": [
    "if points_gdf is not None:  \n",
    "\n",
    "    # Calculate annual movements and residual tide heights for every \n",
    "    # contour compared to the baseline year\n",
    "    points_gdf = coastlines.vector.annual_movements(points_gdf,\n",
    "                                              contours_gdf,\n",
    "                                              yearly_ds,                                     \n",
    "                                              baseline_year,\n",
    "                                              water_index)"
   ]
  },
  {
   "cell_type": "markdown",
   "metadata": {},
   "source": [
    "### Calculate regressions"
   ]
  },
  {
   "cell_type": "code",
   "execution_count": 29,
   "metadata": {},
   "outputs": [],
   "source": [
    "if points_gdf is not None:\n",
    "\n",
    "    # Apply regression function to each row in dataset\n",
    "    points_gdf = coastlines.vector.calculate_regressions(points_gdf,\n",
    "                                                         contours_gdf)\n",
    "\n",
    "# Add count and span of valid obs, Shoreline Change Envelope (SCE), \n",
    "# Net Shoreline Movement (NSM) and Max/Min years\n",
    "stats_list = ['valid_obs', 'valid_span', 'sce', 'nsm', 'max_year', 'min_year']\n",
    "points_gdf[stats_list] = points_gdf.apply(\n",
    "    lambda x: coastlines.vector.all_time_stats(x, initial_year=2000), axis=1)"
   ]
  },
  {
   "cell_type": "markdown",
   "metadata": {},
   "source": [
    "## Export files\n",
    "\n",
    "### Export stats files"
   ]
  },
  {
   "cell_type": "code",
   "execution_count": 30,
   "metadata": {},
   "outputs": [],
   "source": [
    "if points_gdf is not None:\n",
    "    \n",
    "    # Set up scheme to optimise file size\n",
    "    schema_dict = {key: 'float:8.2' for key in points_gdf.columns\n",
    "                   if key != 'geometry'}\n",
    "    schema_dict.update({'sig_time': 'float:8.3',\n",
    "                        'outl_time': 'str:80',\n",
    "                        'valid_obs': 'int:4',\n",
    "                        'valid_span': 'int:4',\n",
    "                        'max_year': 'int:4',\n",
    "                        'min_year': 'int:4',\n",
    "                       })\n",
    "    col_schema = schema_dict.items()\n",
    "\n",
    "    # Clip stats to study area extent\n",
    "    stats_path = f'{output_dir}/ratesofchange_{study_area}_' \\\n",
    "                 f'{vector_version}_{water_index}_{index_threshold:.2f}'\n",
    "    points_gdf = points_gdf[points_gdf.intersects(gridcell_gdf.geometry.item())]\n",
    "\n",
    "    # Export to GeoJSON\n",
    "    points_gdf.to_crs('EPSG:4326').to_file(f'{stats_path}.geojson', \n",
    "                                           driver='GeoJSON')\n",
    "\n",
    "    # Export as ESRI shapefiles\n",
    "    points_gdf.to_file(f'{stats_path}.shp',\n",
    "                       schema={'properties': col_schema,\n",
    "                               'geometry': 'Point'})"
   ]
  },
  {
   "cell_type": "markdown",
   "metadata": {},
   "source": [
    "### Export contours"
   ]
  },
  {
   "cell_type": "code",
   "execution_count": 31,
   "metadata": {},
   "outputs": [],
   "source": [
    "# Assign certainty to contours based on underlying masks\n",
    "contours_gdf = coastlines.vector.contour_certainty(\n",
    "    contours_gdf, \n",
    "    certainty_masks)\n",
    "\n",
    "# Add maturity details\n",
    "contours_gdf['maturity'] = 'final'\n",
    "contours_gdf.loc[contours_gdf.index == baseline_year, 'maturity'] = 'interim'\n",
    "\n",
    "# Clip annual shoreline contours to study area extent\n",
    "contour_path = f'{output_dir}/annualshorelines_{study_area}_{vector_version}_' \\\n",
    "               f'{water_index}_{index_threshold:.2f}'\n",
    "contours_gdf['geometry'] = contours_gdf.intersection(gridcell_gdf.geometry.item())\n",
    "contours_gdf.reset_index().to_crs('EPSG:4326').to_file(f'{contour_path}.geojson', \n",
    "                                                       driver='GeoJSON')\n",
    "\n",
    "# Export stats and contours as ESRI shapefiles\n",
    "contours_gdf.reset_index().to_file(f'{contour_path}.shp')"
   ]
  },
  {
   "cell_type": "markdown",
   "metadata": {},
   "source": [
    "***\n",
    "\n",
    "## Additional information"
   ]
  },
  {
   "cell_type": "markdown",
   "metadata": {},
   "source": [
    "**License:** The code in this notebook is licensed under the [Apache License, Version 2.0](https://www.apache.org/licenses/LICENSE-2.0). \n",
    "Digital Earth Africa data is licensed under the [Creative Commons by Attribution 4.0](https://creativecommons.org/licenses/by/4.0/) license.\n",
    "\n",
    "**Contact:** For assistance with any of the Python code or Jupyter Notebooks in this repository, please post a [Github issue](https://github.com/GeoscienceAustralia/DEACoastLines/issues/new).\n",
    "\n",
    "**Last modified:** April 2022"
   ]
  }
 ],
 "metadata": {
  "kernelspec": {
   "display_name": "Python 3 (ipykernel)",
   "language": "python",
   "name": "python3"
  },
  "language_info": {
   "codemirror_mode": {
    "name": "ipython",
    "version": 3
   },
   "file_extension": ".py",
   "mimetype": "text/x-python",
   "name": "python",
   "nbconvert_exporter": "python",
   "pygments_lexer": "ipython3",
   "version": "3.8.10"
  },
  "widgets": {
   "application/vnd.jupyter.widget-state+json": {
    "state": {},
    "version_major": 2,
    "version_minor": 0
   }
  }
 },
 "nbformat": 4,
 "nbformat_minor": 4
}
