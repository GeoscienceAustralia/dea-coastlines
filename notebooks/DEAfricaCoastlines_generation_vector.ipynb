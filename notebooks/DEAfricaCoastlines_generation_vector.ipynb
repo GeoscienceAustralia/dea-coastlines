{
 "cells": [
  {
   "cell_type": "markdown",
   "metadata": {
    "tags": []
   },
   "source": [
    "# DE Africa Coastlines vector statistics <img align=\"right\" src=\"https://github.com/digitalearthafrica/deafrica-sandbox-notebooks/raw/main/Supplementary_data/DE_Africa_Logo_Stacked_RGB_small.jpg\">\n",
    "\n",
    "This code conducts vector subpixel shoreline extraction for DE Africa Coastlines:\n",
    "\n",
    "* Apply morphological extraction algorithms to mask annual median composite rasters to a valid coastal region\n",
    "* Extract waterline vectors using subpixel waterline extraction ([Bishop-Taylor et al. 2019b](https://doi.org/10.3390/rs11242984))\n",
    "* Compute rates of coastal change at every 30 m using linear regression\n",
    "\n",
    "This is an interactive version of the code intended for prototyping; to run this analysis at scale, use the [command line tools](DEAfricaCoastlines_generation_CLI.ipynb).\n",
    "\n",
    "\n",
    "---"
   ]
  },
  {
   "cell_type": "markdown",
   "metadata": {},
   "source": [
    "## Getting started\n",
    "Set working directory to top level of repo to ensure links work correctly:"
   ]
  },
  {
   "cell_type": "code",
   "execution_count": 2,
   "metadata": {},
   "outputs": [
    {
     "name": "stdout",
     "output_type": "stream",
     "text": [
      "/home/jovyan/Robbi/deafrica-coastlines\n"
     ]
    }
   ],
   "source": [
    "cd .."
   ]
  },
  {
   "cell_type": "markdown",
   "metadata": {},
   "source": [
    "### Load packages\n",
    "\n",
    "First we import the required Python packages, then we connect to the database, and load the catalog of virtual products."
   ]
  },
  {
   "cell_type": "code",
   "execution_count": 3,
   "metadata": {},
   "outputs": [
    {
     "name": "stdout",
     "output_type": "stream",
     "text": [
      "Note: you may need to restart the kernel to use updated packages.\n"
     ]
    }
   ],
   "source": [
    "pip install -r requirements.in --quiet"
   ]
  },
  {
   "cell_type": "code",
   "execution_count": 4,
   "metadata": {},
   "outputs": [
    {
     "name": "stderr",
     "output_type": "stream",
     "text": [
      "/usr/local/lib/python3.8/dist-packages/geopandas/_compat.py:112: UserWarning: The Shapely GEOS version (3.8.0-CAPI-1.13.1 ) is incompatible with the GEOS version PyGEOS was compiled with (3.10.1-CAPI-1.16.0). Conversions between both will be slow.\n",
      "  warnings.warn(\n"
     ]
    }
   ],
   "source": [
    "%matplotlib inline\n",
    "%load_ext line_profiler\n",
    "%load_ext autoreload\n",
    "%autoreload 2\n",
    "\n",
    "import os\n",
    "import sys\n",
    "import numpy as np\n",
    "import pandas as pd\n",
    "import geohash as gh\n",
    "import geopandas as gpd\n",
    "import matplotlib.pyplot as plt\n",
    "from shapely.geometry import box\n",
    "from rasterio.transform import array_bounds\n",
    "from dea_tools.spatial import subpixel_contours\n",
    "\n",
    "# Load DEA Coastlines code\n",
    "import coastlines.raster\n",
    "import coastlines.vector\n",
    "\n",
    "# Hide Pandas warnings\n",
    "pd.options.mode.chained_assignment = None"
   ]
  },
  {
   "cell_type": "markdown",
   "metadata": {},
   "source": [
    "## Load in data"
   ]
  },
  {
   "cell_type": "code",
   "execution_count": 9,
   "metadata": {},
   "outputs": [],
   "source": [
    "study_area = 1636\n",
    "raster_version = \"testing\"\n",
    "vector_version = \"wms_update\"\n",
    "water_index = \"mndwi\"\n",
    "index_threshold = 0.00\n",
    "start_year = 2000\n",
    "end_year = 2021\n",
    "baseline_year = 2021\n",
    "\n",
    "# Load analysis params from config file\n",
    "config = coastlines.raster.load_config(\n",
    "    config_path=\"configs/deafrica_coastlines_config.yaml\"\n",
    ")"
   ]
  },
  {
   "cell_type": "markdown",
   "metadata": {},
   "source": [
    "## Load DEA Coastlines rasters"
   ]
  },
  {
   "cell_type": "code",
   "execution_count": 10,
   "metadata": {},
   "outputs": [
    {
     "name": "stdout",
     "output_type": "stream",
     "text": [
      "<xarray.Dataset>\n",
      "Dimensions:  (year: 21, y: 1305, x: 1588)\n",
      "Coordinates:\n",
      "  * year     (year) int64 2000 2001 2002 2003 2004 ... 2016 2017 2018 2019 2020\n",
      "  * y        (y) float64 9.354e+05 9.354e+05 9.354e+05 ... 8.963e+05 8.963e+05\n",
      "  * x        (x) float64 3.76e+05 3.76e+05 3.76e+05 ... 4.235e+05 4.236e+05\n",
      "Data variables:\n",
      "    mndwi    (year, y, x) float32 -0.3865 -0.3842 -0.3749 ... -0.199 -0.2005\n",
      "    ndwi     (year, y, x) float32 -0.2682 -0.2606 -0.2661 ... 0.02573 0.052\n",
      "    tide_m   (year, y, x) float32 0.02468 0.02467 0.02466 ... -0.1192 -0.1192\n",
      "    count    (year, y, x) int16 13 13 13 13 13 13 13 13 ... 12 12 12 12 13 12 12\n",
      "    stdev    (year, y, x) float32 0.06428 0.0649 0.06764 ... 0.2598 0.2279\n",
      "Attributes:\n",
      "    transform:      | 30.00, 0.00, 375945.00|\\n| 0.00,-30.00, 935445.00|\\n| 0...\n",
      "    crs:            +init=epsg:32639\n",
      "    res:            (30.0, 30.0)\n",
      "    is_tiled:       1\n",
      "    nodatavals:     (nan,)\n",
      "    scales:         (1.0,)\n",
      "    offsets:        (0.0,)\n",
      "    AREA_OR_POINT:  Area\n"
     ]
    }
   ],
   "source": [
    "yearly_ds, gapfill_ds = coastlines.vector.load_rasters(\n",
    "    path=\"data/interim/raster\",\n",
    "    raster_version=raster_version,\n",
    "    study_area=study_area,\n",
    "    water_index=water_index,\n",
    "    start_year=start_year,\n",
    "    end_year=end_year,\n",
    ")\n",
    "print(yearly_ds)\n",
    "\n",
    "# Create output vector folder\n",
    "output_dir = f\"data/interim/vector/{vector_version}/{study_area}_{vector_version}\"\n",
    "os.makedirs(output_dir, exist_ok=True)"
   ]
  },
  {
   "cell_type": "markdown",
   "metadata": {},
   "source": [
    "## Load vector data"
   ]
  },
  {
   "cell_type": "code",
   "execution_count": 11,
   "metadata": {},
   "outputs": [],
   "source": [
    "# Get bounding box to load data for\n",
    "bbox = gpd.GeoSeries(\n",
    "    box(\n",
    "        *array_bounds(\n",
    "            height=yearly_ds.sizes[\"y\"],\n",
    "            width=yearly_ds.sizes[\"x\"],\n",
    "            transform=yearly_ds.transform,\n",
    "        )\n",
    "    ),\n",
    "    crs=yearly_ds.crs,\n",
    ")\n",
    "\n",
    "# Tide points\n",
    "tide_points_gdf = gpd.read_file(config[\"Input files\"][\"points_path\"], bbox=bbox).to_crs(\n",
    "    yearly_ds.crs\n",
    ")\n",
    "\n",
    "# Study area polygon\n",
    "gridcell_gdf = (\n",
    "    gpd.read_file(config[\"Input files\"][\"grid_path\"], bbox=bbox)\n",
    "    .set_index(\"id\")\n",
    "    .to_crs(str(yearly_ds.crs))\n",
    ")\n",
    "gridcell_gdf.index = gridcell_gdf.index.astype(int).astype(str)\n",
    "gridcell_gdf = gridcell_gdf.loc[[str(study_area)]]\n",
    "\n",
    "# Coastal mask modifications\n",
    "modifications_gdf = gpd.read_file(\n",
    "    config[\"Input files\"][\"modifications_path\"], bbox=bbox\n",
    ").to_crs(str(yearly_ds.crs))\n",
    "\n",
    "# Geomorphology dataset\n",
    "geomorphology_gdf = gpd.read_file(\n",
    "    config[\"Input files\"][\"geomorphology_path\"], bbox=bbox\n",
    ").to_crs(str(yearly_ds.crs))\n",
    "\n",
    "# Region attribute dataset\n",
    "region_gdf = gpd.read_file(\n",
    "    config[\"Input files\"][\"region_attributes_path\"], bbox=bbox\n",
    ").to_crs(str(yearly_ds.crs))"
   ]
  },
  {
   "cell_type": "markdown",
   "metadata": {},
   "source": [
    "## Extract annual shorelines\n",
    "\n",
    "### Restrict annual shorelines to coastal study area"
   ]
  },
  {
   "cell_type": "code",
   "execution_count": 12,
   "metadata": {},
   "outputs": [],
   "source": [
    "# Mask dataset to focus on coastal zone only\n",
    "masked_ds, certainty_masks = coastlines.vector.contours_preprocess(\n",
    "    yearly_ds,\n",
    "    gapfill_ds,\n",
    "    water_index,\n",
    "    index_threshold,\n",
    "    tide_points_gdf,\n",
    "    buffer_pixels=33,\n",
    "    mask_modifications=modifications_gdf,\n",
    ")"
   ]
  },
  {
   "cell_type": "code",
   "execution_count": 13,
   "metadata": {},
   "outputs": [],
   "source": [
    "# Extract contours\n",
    "contours_gdf = subpixel_contours(\n",
    "    da=masked_ds,\n",
    "    z_values=index_threshold,\n",
    "    min_vertices=10,\n",
    "    dim=\"year\",\n",
    "    output_path=f\"temp.geojson\",\n",
    ").set_index(\"year\")"
   ]
  },
  {
   "cell_type": "markdown",
   "metadata": {},
   "source": [
    "## Compute statistics\n",
    "### Create stats points on baseline contour"
   ]
  },
  {
   "cell_type": "code",
   "execution_count": 14,
   "metadata": {},
   "outputs": [],
   "source": [
    "# Extract statistics modelling points along baseline contour\n",
    "points_gdf = coastlines.vector.points_on_line(contours_gdf, str(baseline_year), distance=30)"
   ]
  },
  {
   "cell_type": "markdown",
   "metadata": {},
   "source": [
    "### Measure annual coastline movements"
   ]
  },
  {
   "cell_type": "code",
   "execution_count": 15,
   "metadata": {},
   "outputs": [],
   "source": [
    "if points_gdf is not None and len(points_gdf) > 0:\n",
    "\n",
    "    # Calculate annual movements and residual tide heights for every\n",
    "    # contour compared to the baseline year\n",
    "    points_gdf = coastlines.vector.annual_movements(\n",
    "        points_gdf,\n",
    "        contours_gdf,\n",
    "        yearly_ds,\n",
    "        str(baseline_year),\n",
    "        water_index,\n",
    "        max_valid_dist=5000,\n",
    "    )"
   ]
  },
  {
   "cell_type": "markdown",
   "metadata": {},
   "source": [
    "### Calculate regressions"
   ]
  },
  {
   "cell_type": "code",
   "execution_count": 16,
   "metadata": {},
   "outputs": [],
   "source": [
    "if points_gdf is not None and len(points_gdf) > 0:\n",
    "\n",
    "    # Apply regression function to each row in dataset\n",
    "    points_gdf = coastlines.vector.calculate_regressions(points_gdf, contours_gdf)\n",
    "\n",
    "# Add count and span of valid obs, Shoreline Change Envelope (SCE),\n",
    "# Net Shoreline Movement (NSM) and Max/Min years\n",
    "stats_list = [\"valid_obs\", \"valid_span\", \"sce\", \"nsm\", \"max_year\", \"min_year\"]\n",
    "points_gdf[stats_list] = points_gdf.apply(\n",
    "    lambda x: coastlines.vector.all_time_stats(x, initial_year=start_year), axis=1\n",
    ")"
   ]
  },
  {
   "cell_type": "markdown",
   "metadata": {},
   "source": [
    "### Add certainty flags\n",
    "Add certainty column to flag points with:\n",
    "- Likely rocky shorelines: Rates of change can be unreliable in areas with steep rocky/bedrock shorelines due to terrain shadow.\n",
    "- Extreme rate of change value (> 200 m per year change) that is more likely to reflect modelling issues than real-world coastal change\n",
    "- High angular variability: the nearest shorelines for each year do not fall on an approximate line, making rates of change invalid\n",
    "- Insufficient observations: less than 15 valid annual shorelines, which make the resulting rates of change more likely to be inaccurate"
   ]
  },
  {
   "cell_type": "code",
   "execution_count": 17,
   "metadata": {},
   "outputs": [],
   "source": [
    "points_gdf[\"certainty\"] = \"good\"\n",
    "points_gdf.loc[\n",
    "    coastlines.vector.rocky_shoreline_flag(points_gdf, geomorphology_gdf), \"certainty\"\n",
    "] = \"likely rocky shoreline\"\n",
    "points_gdf.loc[\n",
    "    points_gdf.rate_time.abs() > 200, \"certainty\"\n",
    "] = \"extreme value (> 200 m)\"\n",
    "points_gdf.loc[points_gdf.angle_std > 30, \"certainty\"] = \"high angular variability\"\n",
    "points_gdf.loc[points_gdf.valid_obs < 15, \"certainty\"] = \"insufficient observations\""
   ]
  },
  {
   "cell_type": "markdown",
   "metadata": {},
   "source": [
    "### Add region attributes"
   ]
  },
  {
   "cell_type": "code",
   "execution_count": 18,
   "metadata": {},
   "outputs": [],
   "source": [
    "points_gdf = coastlines.vector.region_atttributes(\n",
    "    points_gdf, region_gdf, attribute_col=\"TERRITORY1\", rename_col=\"country\"\n",
    ")"
   ]
  },
  {
   "cell_type": "markdown",
   "metadata": {},
   "source": [
    "### Add geohash unique IDs"
   ]
  },
  {
   "cell_type": "code",
   "execution_count": 19,
   "metadata": {},
   "outputs": [],
   "source": [
    "# Generate a geohash UID for each point and set as index\n",
    "uids = points_gdf.geometry.to_crs(\"EPSG:4326\").apply(\n",
    "    lambda x: gh.encode(x.y, x.x, precision=10)\n",
    ").rename('uid')\n",
    "points_gdf = points_gdf.set_index(uids)"
   ]
  },
  {
   "cell_type": "markdown",
   "metadata": {},
   "source": [
    "## Export files\n",
    "\n",
    "### Export stats files"
   ]
  },
  {
   "cell_type": "code",
   "execution_count": 20,
   "metadata": {},
   "outputs": [],
   "source": [
    "if points_gdf is not None:\n",
    "\n",
    "    # Clip stats to study area extent\n",
    "    points_gdf = points_gdf[points_gdf.intersects(gridcell_gdf.geometry.item())]\n",
    "\n",
    "    # Set output path\n",
    "    stats_path = (\n",
    "        f\"{output_dir}/ratesofchange_{study_area}_\"\n",
    "        f\"{vector_version}_{water_index}_{index_threshold:.2f}\"\n",
    "    )\n",
    "\n",
    "    # Export to GeoJSON\n",
    "    points_gdf.to_crs(\"EPSG:4326\").to_file(\n",
    "        f\"{stats_path}.geojson\",\n",
    "        driver=\"GeoJSON\",\n",
    "    )\n",
    "\n",
    "    # Export as ESRI shapefiles\n",
    "    points_gdf.to_file(\n",
    "        f\"{stats_path}.shp\",\n",
    "        schema={\n",
    "            \"properties\": coastlines.vector.vector_schema(points_gdf),\n",
    "            \"geometry\": \"Point\",\n",
    "        },\n",
    "    )"
   ]
  },
  {
   "cell_type": "markdown",
   "metadata": {},
   "source": [
    "### Export annual shorelines"
   ]
  },
  {
   "cell_type": "code",
   "execution_count": 21,
   "metadata": {},
   "outputs": [],
   "source": [
    "# Assign certainty to contours based on underlying masks\n",
    "contours_gdf = coastlines.vector.contour_certainty(contours_gdf, certainty_masks)\n",
    "\n",
    "# Add tide datum details (this supports future addition of extra tide datums)\n",
    "contours_gdf[\"tide_datum\"] = \"0 m AMSL\"\n",
    "\n",
    "# Add region attributes\n",
    "contours_gdf = coastlines.vector.region_atttributes(\n",
    "    contours_gdf, region_gdf, attribute_col=\"TERRITORY1\", rename_col=\"country\"\n",
    ")\n",
    "\n",
    "# Set output path\n",
    "contour_path = (\n",
    "    f\"{output_dir}/annualshorelines_{study_area}_{vector_version}_\"\n",
    "    f\"{water_index}_{index_threshold:.2f}\"\n",
    ")\n",
    "\n",
    "# Clip annual shoreline contours to study area extent\n",
    "contours_gdf[\"geometry\"] = contours_gdf.intersection(gridcell_gdf.geometry.item())\n",
    "\n",
    "# Export to GeoJSON\n",
    "contours_gdf.to_crs(\"EPSG:4326\").to_file(f\"{contour_path}.geojson\", driver=\"GeoJSON\")\n",
    "\n",
    "# Export stats and contours as ESRI shapefiles\n",
    "contours_gdf.to_file(\n",
    "    f\"{contour_path}.shp\",\n",
    "    schema={\n",
    "        \"properties\": coastlines.vector.vector_schema(contours_gdf),\n",
    "        \"geometry\": [\"MultiLineString\", \"LineString\"],\n",
    "    },\n",
    ")"
   ]
  },
  {
   "cell_type": "markdown",
   "metadata": {},
   "source": [
    "***\n",
    "\n",
    "## Additional information"
   ]
  },
  {
   "cell_type": "markdown",
   "metadata": {},
   "source": [
    "**License:** The code in this notebook is licensed under the [Apache License, Version 2.0](https://www.apache.org/licenses/LICENSE-2.0). \n",
    "Digital Earth Africa data is licensed under the [Creative Commons by Attribution 4.0](https://creativecommons.org/licenses/by/4.0/) license.\n",
    "\n",
    "**Contact:** For assistance with any of the Python code or Jupyter Notebooks in this repository, please post a [Github issue](https://github.com/GeoscienceAustralia/DEACoastLines/issues/new).\n",
    "\n",
    "**Last modified:** September 2022"
   ]
  },
  {
   "cell_type": "code",
   "execution_count": null,
   "metadata": {},
   "outputs": [],
   "source": []
  }
 ],
 "metadata": {
  "kernelspec": {
   "display_name": "Python 3 (ipykernel)",
   "language": "python",
   "name": "python3"
  },
  "language_info": {
   "codemirror_mode": {
    "name": "ipython",
    "version": 3
   },
   "file_extension": ".py",
   "mimetype": "text/x-python",
   "name": "python",
   "nbconvert_exporter": "python",
   "pygments_lexer": "ipython3",
   "version": "3.8.10"
  },
  "widgets": {
   "application/vnd.jupyter.widget-state+json": {
    "state": {},
    "version_major": 2,
    "version_minor": 0
   }
  }
 },
 "nbformat": 4,
 "nbformat_minor": 4
}
