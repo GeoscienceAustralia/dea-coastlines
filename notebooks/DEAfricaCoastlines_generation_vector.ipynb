{
 "cells": [
  {
   "cell_type": "markdown",
   "metadata": {
    "tags": []
   },
   "source": [
    "# DE Africa Coastlines vector statistics <img align=\"right\" src=\"https://github.com/digitalearthafrica/deafrica-sandbox-notebooks/raw/main/Supplementary_data/DE_Africa_Logo_Stacked_RGB_small.jpg\">\n",
    "\n",
    "This code conducts vector subpixel shoreline extraction for DE Africa Coastlines:\n",
    "\n",
    "* Apply morphological extraction algorithms to mask annual median composite rasters to a valid coastal region\n",
    "* Extract waterline vectors using subpixel waterline extraction ([Bishop-Taylor et al. 2019b](https://doi.org/10.3390/rs11242984))\n",
    "* Compute rates of coastal change at every 30 m using linear regression\n",
    "\n",
    "This is an interactive version of the code intended for prototyping; to run this analysis at scale, run `dea_coastlines.vector.py`.\n",
    "\n",
    "\n",
    "---"
   ]
  },
  {
   "cell_type": "markdown",
   "metadata": {},
   "source": [
    "## Getting started\n",
    "Set working directory to top level of repo to ensure links work correctly:"
   ]
  },
  {
   "cell_type": "code",
   "execution_count": 1,
   "metadata": {},
   "outputs": [
    {
     "name": "stdout",
     "output_type": "stream",
     "text": [
      "/home/jovyan/Robbi/dea-coastlines\n"
     ]
    }
   ],
   "source": [
    "cd .."
   ]
  },
  {
   "cell_type": "markdown",
   "metadata": {},
   "source": [
    "### Load packages\n",
    "\n",
    "First we import the required Python packages, then we connect to the database, and load the catalog of virtual products."
   ]
  },
  {
   "cell_type": "code",
   "execution_count": null,
   "metadata": {},
   "outputs": [],
   "source": [
    "pip install -r requirements.txt --quiet"
   ]
  },
  {
   "cell_type": "code",
   "execution_count": 2,
   "metadata": {},
   "outputs": [],
   "source": [
    "%matplotlib inline\n",
    "%load_ext line_profiler\n",
    "%load_ext autoreload\n",
    "%autoreload 2\n",
    "\n",
    "import os\n",
    "import sys\n",
    "import numpy as np\n",
    "import pandas as pd\n",
    "import geopandas as gpd\n",
    "import matplotlib.pyplot as plt\n",
    "from shapely.geometry import box\n",
    "from rasterio.transform import array_bounds\n",
    "from dea_tools.spatial import subpixel_contours\n",
    "\n",
    "# Load DEA Coastlines code\n",
    "import dea_coastlines.raster\n",
    "import dea_coastlines.vector\n",
    "\n",
    "# Hide Pandas warnings\n",
    "pd.options.mode.chained_assignment = None\n"
   ]
  },
  {
   "cell_type": "markdown",
   "metadata": {},
   "source": [
    "## Load in data"
   ]
  },
  {
   "cell_type": "code",
   "execution_count": 3,
   "metadata": {},
   "outputs": [],
   "source": [
    "study_area = 399\n",
    "raster_version = 'testing'\n",
    "vector_version = 'testing'\n",
    "water_index = 'mndwi'\n",
    "index_threshold = 0.00\n",
    "baseline_year = '2020'\n",
    "\n",
    "# Load analysis params from config file\n",
    "config = dea_coastlines.raster.load_config(\n",
    "    config_path='configs/deafrica_coastlines_config.yaml')"
   ]
  },
  {
   "cell_type": "markdown",
   "metadata": {},
   "source": [
    "## Load DEA Coastlines rasters"
   ]
  },
  {
   "cell_type": "code",
   "execution_count": 4,
   "metadata": {},
   "outputs": [
    {
     "name": "stdout",
     "output_type": "stream",
     "text": [
      "<xarray.Dataset>\n",
      "Dimensions:  (year: 21, y: 1300, x: 1593)\n",
      "Coordinates:\n",
      "  * year     (year) int64 2000 2001 2002 2003 2004 ... 2016 2017 2018 2019 2020\n",
      "  * y        (y) float64 7.117e+05 7.117e+05 7.116e+05 ... 6.728e+05 6.727e+05\n",
      "  * x        (x) float64 4.389e+05 4.389e+05 4.39e+05 ... 4.866e+05 4.867e+05\n",
      "Data variables:\n",
      "    mndwi    (year, y, x) float32 0.4056 0.402 0.4198 ... 0.1183 0.1269 0.1411\n",
      "    tide_m   (year, y, x) float32 0.2244 0.2244 0.2244 ... 0.02217 0.02217\n",
      "    count    (year, y, x) int16 4 4 4 4 4 4 4 4 4 ... 10 10 10 10 10 10 10 10 10\n",
      "    stdev    (year, y, x) float32 0.04299 0.04488 0.08665 ... 0.2932 0.2934\n",
      "Attributes:\n",
      "    transform:      | 30.00, 0.00, 438885.00|\\n| 0.00,-30.00, 711705.00|\\n| 0...\n",
      "    crs:            +init=epsg:32631\n",
      "    res:            (30.0, 30.0)\n",
      "    is_tiled:       1\n",
      "    nodatavals:     (nan,)\n",
      "    scales:         (1.0,)\n",
      "    offsets:        (0.0,)\n",
      "    AREA_OR_POINT:  Area\n"
     ]
    }
   ],
   "source": [
    "yearly_ds, gapfill_ds = dea_coastlines.vector.load_rasters(\n",
    "    path='data/interim/raster',\n",
    "    raster_version=raster_version,\n",
    "    study_area=study_area,\n",
    "    water_index=water_index,\n",
    "    start_year=2000)\n",
    "print(yearly_ds)\n",
    "\n",
    "# Create output vector folder\n",
    "output_dir = f'data/interim/vector/{vector_version}/{study_area}_{vector_version}'\n",
    "os.makedirs(output_dir, exist_ok=True)"
   ]
  },
  {
   "cell_type": "markdown",
   "metadata": {},
   "source": [
    "## Load vector data"
   ]
  },
  {
   "cell_type": "code",
   "execution_count": 5,
   "metadata": {},
   "outputs": [],
   "source": [
    "# Get bounding box to load data for\n",
    "bbox = gpd.GeoSeries(box(*array_bounds(height=yearly_ds.sizes['y'],\n",
    "                                       width=yearly_ds.sizes['x'],\n",
    "                                       transform=yearly_ds.transform)),\n",
    "                     crs=yearly_ds.crs)\n",
    "\n",
    "# Tide points\n",
    "tide_points_gdf = (gpd.read_file(config['Input files']['coastal_points_path'],\n",
    "                                 bbox=bbox).to_crs(yearly_ds.crs))\n",
    "\n",
    "# Study area polygon\n",
    "gridcell_gdf = (gpd.read_file(config['Input files']['coastal_grid_path'],\n",
    "                              bbox=bbox).set_index('id').to_crs(\n",
    "                                  str(yearly_ds.crs)))\n",
    "gridcell_gdf.index = gridcell_gdf.index.astype(int).astype(str)\n",
    "gridcell_gdf = gridcell_gdf.loc[[str(study_area)]]\n"
   ]
  },
  {
   "cell_type": "markdown",
   "metadata": {},
   "source": [
    "## Extract shoreline contours\n",
    "\n",
    "### Extract ocean-masked contours"
   ]
  },
  {
   "cell_type": "code",
   "execution_count": 6,
   "metadata": {},
   "outputs": [],
   "source": [
    "# If a waterbody mask is provided, use this to remove non-coastal\n",
    "# waterbodies and estuaries from the dataset. If not, use empty mask\n",
    "if config['Input files']['waterbody_mask_path']:\n",
    "\n",
    "    # Generate waterbody mask\n",
    "    print('Generating waterbody mask')\n",
    "    waterbody_mask = dea_coastlines.vector.waterbody_masking(\n",
    "        input_data=config['Input files']['waterbody_mask_path'],\n",
    "        modification_data=config['Input files']['waterbody_modifications_path'],\n",
    "        bbox=bbox,\n",
    "        yearly_ds=yearly_ds)\n",
    "    \n",
    "else:\n",
    "    waterbody_mask = np.full(yearly_ds.geobox.shape, False, dtype=bool)\n",
    "    "
   ]
  },
  {
   "cell_type": "code",
   "execution_count": 271,
   "metadata": {},
   "outputs": [],
   "source": [
    "# Mask dataset to focus on coastal zone only\n",
    "masked_ds, certainty_masks = dea_coastlines.vector.contours_preprocess(\n",
    "    yearly_ds,\n",
    "    gapfill_ds,\n",
    "    water_index,\n",
    "    index_threshold,\n",
    "    waterbody_mask,\n",
    "    tide_points_gdf,\n",
    "    output_path=output_dir,\n",
    "    buffer_pixels=25)"
   ]
  },
  {
   "cell_type": "code",
   "execution_count": 272,
   "metadata": {},
   "outputs": [
    {
     "data": {
      "text/plain": [
       "<AxesSubplot:>"
      ]
     },
     "execution_count": 272,
     "metadata": {},
     "output_type": "execute_result"
    },
    {
     "data": {
      "image/png": "[encoded data removed]",
      "text/plain": [
       "<Figure size 432x288 with 1 Axes>"
      ]
     },
     "metadata": {
      "needs_background": "light"
     },
     "output_type": "display_data"
    }
   ],
   "source": [
    "certainty_masks['2006'].plot()"
   ]
  },
  {
   "cell_type": "code",
   "execution_count": 185,
   "metadata": {},
   "outputs": [],
   "source": [
    "\n",
    "# import topojson as tp\n",
    "\n",
    "\n"
   ]
  },
  {
   "cell_type": "code",
   "execution_count": 264,
   "metadata": {},
   "outputs": [],
   "source": []
  },
  {
   "cell_type": "code",
   "execution_count": 266,
   "metadata": {},
   "outputs": [],
   "source": [
    "out_vectors = certainty_masks(yearly_ds)"
   ]
  },
  {
   "cell_type": "code",
   "execution_count": 270,
   "metadata": {},
   "outputs": [],
   "source": [
    "contours_gdf = test_line.overlay(out_vectors['2004'].reset_index(), how='intersection')\n",
    "contours_gdf.to_crs('EPSG:4326').to_file('test_2004.geojson')"
   ]
  },
  {
   "cell_type": "code",
   "execution_count": 257,
   "metadata": {},
   "outputs": [],
   "source": [
    "out_vectors[2006].to_crs('EPSG:4326').to_file('test.geojson')"
   ]
  },
  {
   "cell_type": "code",
   "execution_count": 234,
   "metadata": {},
   "outputs": [],
   "source": [
    "test_line = gpd.read_file('test_line.geojson').to_crs(out_vectors[2016].crs)\n",
    "\n",
    "# \n",
    "# out_vectors[2016].plot(column='certainty', legend=True, vmax=2)"
   ]
  },
  {
   "cell_type": "code",
   "execution_count": 233,
   "metadata": {},
   "outputs": [
    {
     "data": {
      "text/html": [
       "<div>\n",
       "<style scoped>\n",
       "    .dataframe tbody tr th:only-of-type {\n",
       "        vertical-align: middle;\n",
       "    }\n",
       "\n",
       "    .dataframe tbody tr th {\n",
       "        vertical-align: top;\n",
       "    }\n",
       "\n",
       "    .dataframe thead th {\n",
       "        text-align: right;\n",
       "    }\n",
       "</style>\n",
       "<table border=\"1\" class=\"dataframe\">\n",
       "  <thead>\n",
       "    <tr style=\"text-align: right;\">\n",
       "      <th></th>\n",
       "      <th>geometry</th>\n",
       "    </tr>\n",
       "  </thead>\n",
       "  <tbody>\n",
       "    <tr>\n",
       "      <th>0</th>\n",
       "      <td>LINESTRING (476374.966 706780.623, 480344.208 ...</td>\n",
       "    </tr>\n",
       "  </tbody>\n",
       "</table>\n",
       "</div>"
      ],
      "text/plain": [
       "                                            geometry\n",
       "0  LINESTRING (476374.966 706780.623, 480344.208 ..."
      ]
     },
     "execution_count": 233,
     "metadata": {},
     "output_type": "execute_result"
    }
   ],
   "source": [
    "test_line.overlay(out_vectors[2016], how='intersection')   #.to_crs('EPSG:4326')  #.to_file('test.geojson')"
   ]
  },
  {
   "cell_type": "code",
   "execution_count": 253,
   "metadata": {},
   "outputs": [
    {
     "data": {
      "text/plain": [
       "<AxesSubplot:>"
      ]
     },
     "execution_count": 253,
     "metadata": {},
     "output_type": "execute_result"
    },
    {
     "data": {
      "image/png": "[encoded data removed]",
      "text/plain": [
       "<Figure size 432x288 with 1 Axes>"
      ]
     },
     "metadata": {
      "needs_background": "light"
     },
     "output_type": "display_data"
    }
   ],
   "source": [
    "out_vectors[2010].plot()\n",
    "test_line.plot(ax=plt.gca(), color='red')"
   ]
  },
  {
   "cell_type": "code",
   "execution_count": 246,
   "metadata": {},
   "outputs": [
    {
     "data": {
      "text/html": [
       "<div>\n",
       "<style scoped>\n",
       "    .dataframe tbody tr th:only-of-type {\n",
       "        vertical-align: middle;\n",
       "    }\n",
       "\n",
       "    .dataframe tbody tr th {\n",
       "        vertical-align: top;\n",
       "    }\n",
       "\n",
       "    .dataframe thead th {\n",
       "        text-align: right;\n",
       "    }\n",
       "</style>\n",
       "<table border=\"1\" class=\"dataframe\">\n",
       "  <thead>\n",
       "    <tr style=\"text-align: right;\">\n",
       "      <th></th>\n",
       "      <th>certainty</th>\n",
       "      <th>geometry</th>\n",
       "    </tr>\n",
       "  </thead>\n",
       "  <tbody>\n",
       "    <tr>\n",
       "      <th>0</th>\n",
       "      <td>good</td>\n",
       "      <td>MULTILINESTRING ((441105.000 680052.369, 44111...</td>\n",
       "    </tr>\n",
       "    <tr>\n",
       "      <th>1</th>\n",
       "      <td>tidal issues</td>\n",
       "      <td>MULTILINESTRING ((439441.643 679207.072, 44110...</td>\n",
       "    </tr>\n",
       "  </tbody>\n",
       "</table>\n",
       "</div>"
      ],
      "text/plain": [
       "      certainty                                           geometry\n",
       "0          good  MULTILINESTRING ((441105.000 680052.369, 44111...\n",
       "1  tidal issues  MULTILINESTRING ((439441.643 679207.072, 44110..."
      ]
     },
     "execution_count": 246,
     "metadata": {},
     "output_type": "execute_result"
    }
   ],
   "source": []
  },
  {
   "cell_type": "code",
   "execution_count": 195,
   "metadata": {},
   "outputs": [
    {
     "data": {
      "text/plain": [
       "0     2\n",
       "1     2\n",
       "2     0\n",
       "3     2\n",
       "4     2\n",
       "5     2\n",
       "6     0\n",
       "7     2\n",
       "8     2\n",
       "9     2\n",
       "10    0\n",
       "11    0\n",
       "12    2\n",
       "13    2\n",
       "14    2\n",
       "15    0\n",
       "Name: certainty, dtype: int64"
      ]
     },
     "execution_count": 195,
     "metadata": {},
     "output_type": "execute_result"
    }
   ],
   "source": [
    "out_vectors[2000].certainty.astype(int)"
   ]
  },
  {
   "cell_type": "code",
   "execution_count": 102,
   "metadata": {},
   "outputs": [],
   "source": [
    "from skimage.morphology import binary_opening, binary_closing, binary_erosion\n",
    "from skimage.morphology import disk, square"
   ]
  },
  {
   "cell_type": "code",
   "execution_count": 63,
   "metadata": {},
   "outputs": [
    {
     "data": {
      "text/plain": [
       "<matplotlib.collections.QuadMesh at 0x7fb62e734be0>"
      ]
     },
     "execution_count": 63,
     "metadata": {},
     "output_type": "execute_result"
    },
    {
     "data": {
      "image/png": "[encoded data removed]",
      "text/plain": [
       "<Figure size 432x288 with 2 Axes>"
      ]
     },
     "metadata": {
      "needs_background": "light"
     },
     "output_type": "display_data"
    }
   ],
   "source": [
    "# def _clean_arrays(x):\n",
    "#     binary_closing(x, disk(5)\n",
    "from skimage.morphology import reconstruction   #(seed, mask, method='dilation', footprint=None, offset=None)\n",
    "low_obs.groupby('year').apply(lambda x: binary_closing(x, disk(5))).sel(year=2012).plot()"
   ]
  },
  {
   "cell_type": "code",
   "execution_count": 87,
   "metadata": {},
   "outputs": [],
   "source": [
    "from skimage.morphology import remove_small_objects, remove_small_holes"
   ]
  },
  {
   "cell_type": "code",
   "execution_count": 77,
   "metadata": {},
   "outputs": [
    {
     "ename": "NameError",
     "evalue": "name 'x' is not defined",
     "output_type": "error",
     "traceback": [
      "\u001b[0;31m---------------------------------------------------------------------------\u001b[0m",
      "\u001b[0;31mNameError\u001b[0m                                 Traceback (most recent call last)",
      "\u001b[0;32m/tmp/ipykernel_12589/504563829.py\u001b[0m in \u001b[0;36m<module>\u001b[0;34m\u001b[0m\n\u001b[0;32m----> 1\u001b[0;31m \u001b[0mremove_small_objects\u001b[0m\u001b[0;34m(\u001b[0m\u001b[0mx\u001b[0m\u001b[0;34m,\u001b[0m \u001b[0mmin_size\u001b[0m\u001b[0;34m=\u001b[0m\u001b[0;36m32\u001b[0m\u001b[0;34m)\u001b[0m\u001b[0;34m\u001b[0m\u001b[0;34m\u001b[0m\u001b[0m\n\u001b[0m",
      "\u001b[0;31mNameError\u001b[0m: name 'x' is not defined"
     ]
    }
   ],
   "source": [
    "remove_small_objects(low_obs, min_size=32)"
   ]
  },
  {
   "cell_type": "code",
   "execution_count": 92,
   "metadata": {},
   "outputs": [],
   "source": [
    "test1 = "
   ]
  },
  {
   "cell_type": "code",
   "execution_count": 81,
   "metadata": {},
   "outputs": [],
   "source": [
    "test2 = low_obs.groupby('year').apply(lambda x: remove_small_objects(~x.values, min_size=64))"
   ]
  },
  {
   "cell_type": "code",
   "execution_count": 91,
   "metadata": {},
   "outputs": [
    {
     "data": {
      "text/plain": [
       "<matplotlib.collections.QuadMesh at 0x7fb62dc51610>"
      ]
     },
     "execution_count": 91,
     "metadata": {},
     "output_type": "execute_result"
    },
    {
     "data": {
      "image/png": "[encoded data removed]",
      "text/plain": [
       "<Figure size 432x288 with 2 Axes>"
      ]
     },
     "metadata": {
      "needs_background": "light"
     },
     "output_type": "display_data"
    }
   ],
   "source": [
    "(test1).sel(year=2012).plot()"
   ]
  },
  {
   "cell_type": "code",
   "execution_count": 273,
   "metadata": {},
   "outputs": [],
   "source": [
    "# Extract contours\n",
    "contours_gdf = (subpixel_contours(da=masked_ds,\n",
    "                                  z_values=index_threshold,\n",
    "                                  min_vertices=10,\n",
    "                                  dim='year',\n",
    "                                  output_path=f'temp.geojson')\n",
    "                .set_index('year'))\n"
   ]
  },
  {
   "cell_type": "code",
   "execution_count": 9,
   "metadata": {},
   "outputs": [],
   "source": [
    "test_poly = gpd.read_file('test_poly.geojson')\n",
    "test_line = gpd.read_file('test_line.geojson')"
   ]
  },
  {
   "cell_type": "code",
   "execution_count": 22,
   "metadata": {},
   "outputs": [],
   "source": [
    "# test_line.sjoin(test_poly)   \n",
    "\n",
    "test_line.overlay(test_poly, how='intersection').to_file('test.geojson')"
   ]
  },
  {
   "cell_type": "markdown",
   "metadata": {},
   "source": [
    "## Compute statistics\n",
    "### Create stats points on baseline contour"
   ]
  },
  {
   "cell_type": "code",
   "execution_count": 274,
   "metadata": {},
   "outputs": [],
   "source": [
    "# Extract statistics modelling points along baseline contour\n",
    "points_gdf = dea_coastlines.vector.points_on_line(contours_gdf,\n",
    "                                                  baseline_year,\n",
    "                                                  distance=30)\n",
    "\n",
    "# If a rocky mask is provided, use this to clip data\n",
    "if config['Input files']['coastal_classification_path']:\n",
    "\n",
    "    # Import coastline classification\n",
    "    print('Clipping to non-rocky shorelines')\n",
    "    coastal_classification_gdf = (gpd.read_file(\n",
    "        config['Input files']['coastal_classification_path'],\n",
    "        bbox=bbox).to_crs(yearly_ds.crs))\n",
    "\n",
    "    # Clip to remove rocky shoreline points\n",
    "    points_gdf = dea_coastlines.vector.rocky_shores_clip(\n",
    "        points_gdf, coastal_classification_gdf, buffer=50)"
   ]
  },
  {
   "cell_type": "markdown",
   "metadata": {},
   "source": [
    "### Measure annual coastline movements"
   ]
  },
  {
   "cell_type": "code",
   "execution_count": 275,
   "metadata": {},
   "outputs": [
    {
     "name": "stdout",
     "output_type": "stream",
     "text": [
      "2020\r"
     ]
    }
   ],
   "source": [
    "if points_gdf is not None:  \n",
    "\n",
    "    # Calculate annual movements and residual tide heights for every \n",
    "    # contour compared to the baseline year\n",
    "    points_gdf = dea_coastlines.vector.annual_movements(points_gdf,\n",
    "                                              contours_gdf,\n",
    "                                              yearly_ds,                                     \n",
    "                                              baseline_year,\n",
    "                                              water_index)"
   ]
  },
  {
   "cell_type": "markdown",
   "metadata": {},
   "source": [
    "### Calculate regressions"
   ]
  },
  {
   "cell_type": "code",
   "execution_count": 276,
   "metadata": {},
   "outputs": [
    {
     "name": "stdout",
     "output_type": "stream",
     "text": [
      "Comparing annual movements with time\n"
     ]
    }
   ],
   "source": [
    "if points_gdf is not None:\n",
    "\n",
    "    # Apply regression function to each row in dataset\n",
    "    points_gdf = dea_coastlines.vector.calculate_regressions(points_gdf,\n",
    "                                                             contours_gdf)\n",
    "\n",
    "# Add count and span of valid obs, Shoreline Change Envelope (SCE), \n",
    "# Net Shoreline Movement (NSM) and Max/Min years\n",
    "stats_list = ['valid_obs', 'valid_span', 'sce', 'nsm', 'max_year', 'min_year']\n",
    "points_gdf[stats_list] = points_gdf.apply(\n",
    "    lambda x: dea_coastlines.vector.all_time_stats(x, \n",
    "                                                   initial_year=2000), axis=1)"
   ]
  },
  {
   "cell_type": "markdown",
   "metadata": {},
   "source": [
    "## Export files\n",
    "\n",
    "### Export stats files"
   ]
  },
  {
   "cell_type": "code",
   "execution_count": 277,
   "metadata": {},
   "outputs": [],
   "source": [
    "if points_gdf is not None:\n",
    "    \n",
    "    # Set up scheme to optimise file size\n",
    "    schema_dict = {key: 'float:8.2' for key in points_gdf.columns\n",
    "                   if key != 'geometry'}\n",
    "    schema_dict.update({'sig_time': 'float:8.3',\n",
    "                        'outl_time': 'str:80',\n",
    "                        'valid_obs': 'int:4',\n",
    "                        'valid_span': 'int:4',\n",
    "                        'max_year': 'int:4',\n",
    "                        'min_year': 'int:4',\n",
    "                       })\n",
    "    col_schema = schema_dict.items()\n",
    "\n",
    "    # Clip stats to study area extent\n",
    "    stats_path = f'{output_dir}/ratesofchange_{study_area}_' \\\n",
    "                 f'{vector_version}_{water_index}_{index_threshold:.2f}'\n",
    "    points_gdf = points_gdf[points_gdf.intersects(gridcell_gdf.geometry.item())]\n",
    "\n",
    "    # Export to GeoJSON\n",
    "    points_gdf.to_crs('EPSG:4326').to_file(f'{stats_path}.geojson', \n",
    "                                           driver='GeoJSON')\n",
    "\n",
    "    # Export as ESRI shapefiles\n",
    "    points_gdf.to_file(f'{stats_path}.shp',\n",
    "                       schema={'properties': col_schema,\n",
    "                               'geometry': 'Point'})"
   ]
  },
  {
   "cell_type": "markdown",
   "metadata": {},
   "source": [
    "### Export contours"
   ]
  },
  {
   "cell_type": "code",
   "execution_count": 310,
   "metadata": {},
   "outputs": [],
   "source": [
    "# Assign certainty to contours based on underlying masks\n",
    "# contours_gdf = dea_coastlines.vector.contour_certainty(\n",
    "#     contours_gdf, \n",
    "#     output_path=output_dir)\n",
    "\n",
    "contours_gdf = dea_coastlines.vector.contour_certainty(\n",
    "    contours_gdf, \n",
    "    certainty_masks)\n",
    "\n",
    "# Add maturity details\n",
    "contours_gdf['maturity'] = 'final'\n",
    "contours_gdf.loc[contours_gdf.index == baseline_year, 'maturity'] = 'interim'\n",
    "\n",
    "# Clip annual shoreline contours to study area extent\n",
    "contour_path = f'{output_dir}/annualshorelines_{study_area}_{vector_version}_' \\\n",
    "               f'{water_index}_{index_threshold:.2f}'\n",
    "contours_gdf['geometry'] = contours_gdf.intersection(gridcell_gdf.geometry.item())\n",
    "contours_gdf.reset_index().to_crs('EPSG:4326').to_file(f'{contour_path}.geojson', \n",
    "                                                       driver='GeoJSON')\n",
    "\n",
    "# Export stats and contours as ESRI shapefiles\n",
    "contours_gdf.reset_index().to_file(f'{contour_path}.shp')"
   ]
  },
  {
   "cell_type": "markdown",
   "metadata": {},
   "source": [
    "***\n",
    "\n",
    "## Additional information"
   ]
  },
  {
   "cell_type": "markdown",
   "metadata": {},
   "source": [
    "**License:** The code in this notebook is licensed under the [Apache License, Version 2.0](https://www.apache.org/licenses/LICENSE-2.0). \n",
    "Digital Earth Australia data is licensed under the [Creative Commons by Attribution 4.0](https://creativecommons.org/licenses/by/4.0/) license.\n",
    "\n",
    "**Contact:** For assistance with any of the Python code or Jupyter Notebooks in this repository, please post a [Github issue](https://github.com/GeoscienceAustralia/DEACoastLines/issues/new). For questions or more information about this product, sign up to the [Open Data Cube Slack](https://join.slack.com/t/opendatacube/shared_invite/zt-d6hu7l35-CGDhSxiSmTwacKNuXWFUkg) and post on the [`#dea-coastlines`](https://app.slack.com/client/T0L4V0TFT/C018X6J9HLY/details/) channel.\n",
    "\n",
    "**Last modified:** November 2021"
   ]
  }
 ],
 "metadata": {
  "kernelspec": {
   "display_name": "Python 3 (ipykernel)",
   "language": "python",
   "name": "python3"
  },
  "language_info": {
   "codemirror_mode": {
    "name": "ipython",
    "version": 3
   },
   "file_extension": ".py",
   "mimetype": "text/x-python",
   "name": "python",
   "nbconvert_exporter": "python",
   "pygments_lexer": "ipython3",
   "version": "3.8.10"
  },
  "widgets": {
   "application/vnd.jupyter.widget-state+json": {
    "state": {},
    "version_major": 2,
    "version_minor": 0
   }
  }
 },
 "nbformat": 4,
 "nbformat_minor": 4
}
