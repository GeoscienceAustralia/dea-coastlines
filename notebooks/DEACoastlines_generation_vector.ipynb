{
 "cells": [
  {
   "cell_type": "markdown",
   "metadata": {
    "tags": []
   },
   "source": [
    "# DEA Coastlines vector statistics <img align=\"right\" src=\"https://github.com/GeoscienceAustralia/dea-notebooks/raw/develop/Supplementary_data/dea_logo.jpg\">\n",
    "\n",
    "This code conducts vector subpixel shoreline extraction for DEA Coastlines:\n",
    "\n",
    "* Apply morphological extraction algorithms to mask annual median composite rasters to a valid coastal region\n",
    "* Extract waterline vectors using subpixel waterline extraction ([Bishop-Taylor et al. 2019b](https://doi.org/10.3390/rs11242984))\n",
    "* Compute rates of coastal change at every 30 m along Australia's non-rocky coastlines using linear regression\n",
    "\n",
    "This is an interactive version of the code intended for prototyping; to run this analysis at scale, run `dea_coastlines.vector.py`.\n",
    "\n",
    "\n",
    "---"
   ]
  },
  {
   "cell_type": "code",
   "execution_count": null,
   "metadata": {},
   "outputs": [],
   "source": [
    "pip install -r ../requirements.txt"
   ]
  },
  {
   "cell_type": "markdown",
   "metadata": {},
   "source": [
    "### Load packages\n",
    "\n",
    "First we import all required Python packages, and then start the vector coastline extraction process."
   ]
  },
  {
   "cell_type": "code",
   "execution_count": 1,
   "metadata": {},
   "outputs": [
    {
     "name": "stdout",
     "output_type": "stream",
     "text": [
      "/home/jovyan/Robbi/dea-coastlines\n"
     ]
    }
   ],
   "source": [
    "cd .."
   ]
  },
  {
   "cell_type": "code",
   "execution_count": 2,
   "metadata": {},
   "outputs": [],
   "source": [
    "%matplotlib inline\n",
    "%load_ext line_profiler\n",
    "%load_ext autoreload\n",
    "%autoreload 2\n",
    "\n",
    "import os\n",
    "import sys\n",
    "import numpy as np\n",
    "import pandas as pd\n",
    "import geopandas as gpd\n",
    "import matplotlib.pyplot as plt\n",
    "from shapely.geometry import box\n",
    "from rasterio.transform import array_bounds\n",
    "from dea_tools.spatial import subpixel_contours\n",
    "\n",
    "# Load DEA Coastlines code\n",
    "import dea_coastlines.raster\n",
    "import dea_coastlines.vector\n",
    "\n",
    "# Hide Pandas warnings\n",
    "pd.options.mode.chained_assignment = None\n"
   ]
  },
  {
   "cell_type": "markdown",
   "metadata": {},
   "source": [
    "## Load in data"
   ]
  },
  {
   "cell_type": "code",
   "execution_count": 3,
   "metadata": {},
   "outputs": [],
   "source": [
    "study_area = 39\n",
    "raster_version = 'testing'\n",
    "vector_version = 'testing'\n",
    "water_index = 'mndwi'\n",
    "index_threshold = 0.00\n",
    "baseline_year = '2020'\n",
    "\n",
    "# Load analysis params from config file\n",
    "config = dea_coastlines.raster.load_config(\n",
    "    config_path='configs/deafrica_coastlines_config.yaml')"
   ]
  },
  {
   "cell_type": "markdown",
   "metadata": {},
   "source": [
    "## Load DEA Coastlines rasters"
   ]
  },
  {
   "cell_type": "code",
   "execution_count": 4,
   "metadata": {},
   "outputs": [
    {
     "name": "stdout",
     "output_type": "stream",
     "text": [
      "<xarray.Dataset>\n",
      "Dimensions:  (year: 21, y: 1339, x: 1562)\n",
      "Coordinates:\n",
      "  * year     (year) int64 2000 2001 2002 2003 2004 ... 2016 2017 2018 2019 2020\n",
      "  * y        (y) float64 1.645e+06 1.645e+06 1.645e+06 ... 1.605e+06 1.605e+06\n",
      "  * x        (x) float64 2.001e+05 2.001e+05 2.001e+05 ... 2.469e+05 2.469e+05\n",
      "Data variables:\n",
      "    mndwi    (year, y, x) float32 0.2687 0.2567 0.264 ... 0.1281 0.1301 0.09406\n",
      "    tide_m   (year, y, x) float32 -0.118 -0.118 -0.118 ... -0.1256 -0.1256\n",
      "    temp     (year, y, x) float32 21.65 21.65 21.66 21.5 ... 21.0 20.9 21.07\n",
      "    count    (year, y, x) int16 4 4 4 4 4 4 4 4 4 ... 29 29 29 29 29 29 28 27 26\n",
      "    stdev    (year, y, x) float32 0.05281 0.06972 0.1119 ... 0.2894 0.3177\n",
      "Attributes:\n",
      "    transform:      | 30.00, 0.00, 200055.00|\\n| 0.00,-30.00, 1645005.00|\\n| ...\n",
      "    crs:            +init=epsg:32628\n",
      "    res:            (30.0, 30.0)\n",
      "    is_tiled:       1\n",
      "    nodatavals:     (nan,)\n",
      "    scales:         (1.0,)\n",
      "    offsets:        (0.0,)\n",
      "    AREA_OR_POINT:  Area\n"
     ]
    }
   ],
   "source": [
    "yearly_ds, gapfill_ds = dea_coastlines.vector.load_rasters(\n",
    "    path='data/interim/raster',\n",
    "    raster_version=raster_version,\n",
    "    study_area=study_area,\n",
    "    water_index=water_index,\n",
    "    start_year=2000)\n",
    "print(yearly_ds)\n",
    "\n",
    "# Create output vector folder\n",
    "output_dir = f'data/interim/vector/{vector_version}/{study_area}_{vector_version}'\n",
    "os.makedirs(output_dir, exist_ok=True)"
   ]
  },
  {
   "cell_type": "markdown",
   "metadata": {},
   "source": [
    "## Load vector data"
   ]
  },
  {
   "cell_type": "code",
   "execution_count": 5,
   "metadata": {},
   "outputs": [],
   "source": [
    "# Get bounding box to load data for\n",
    "bbox = gpd.GeoSeries(box(*array_bounds(height=yearly_ds.sizes['y'],\n",
    "                                       width=yearly_ds.sizes['x'],\n",
    "                                       transform=yearly_ds.transform)),\n",
    "                     crs=yearly_ds.crs)\n",
    "\n",
    "# Tide points\n",
    "tide_points_gdf = (gpd.read_file(config['Input files']['coastal_points_path'],\n",
    "                                 bbox=bbox).to_crs(yearly_ds.crs))\n",
    "\n",
    "# Study area polygon\n",
    "gridcell_gdf = (gpd.read_file(config['Input files']['coastal_grid_path'],\n",
    "                              bbox=bbox).set_index('id').to_crs(\n",
    "                                  str(yearly_ds.crs)))\n",
    "gridcell_gdf.index = gridcell_gdf.index.astype(int).astype(str)\n",
    "gridcell_gdf = gridcell_gdf.loc[[str(study_area)]]\n",
    "\n",
    "# Load climate indices\n",
    "climate_df = dea_coastlines.vector.load_climate_data(\n",
    "    index='soi',\n",
    "    years=(yearly_ds.year.min().item(), yearly_ds.year.max().item()),\n",
    "    annual=True,\n",
    "    detrend=True)"
   ]
  },
  {
   "cell_type": "markdown",
   "metadata": {},
   "source": [
    "## Extract shoreline contours\n",
    "\n",
    "### Extract ocean-masked contours"
   ]
  },
  {
   "cell_type": "code",
   "execution_count": 67,
   "metadata": {},
   "outputs": [],
   "source": [
    "# If a waterbody mask is provided, use this to remove non-coastal\n",
    "# waterbodies and estuaries from the dataset. If not, use empty mask\n",
    "if config['Input files']['waterbody_mask_path']:\n",
    "\n",
    "    # Generate waterbody mask\n",
    "    print('Generating waterbody mask')\n",
    "    waterbody_mask = dea_coastlines.vector.waterbody_masking(\n",
    "        input_data=config['Input files']['waterbody_mask_path'],\n",
    "        modification_data=config['Input files']['waterbody_modifications_path'],\n",
    "        bbox=bbox,\n",
    "        yearly_ds=yearly_ds)\n",
    "    \n",
    "else:\n",
    "    waterbody_mask = np.full(yearly_ds.geobox.shape, False, dtype=bool)\n",
    "    "
   ]
  },
  {
   "cell_type": "code",
   "execution_count": 73,
   "metadata": {},
   "outputs": [],
   "source": [
    "# Mask dataset to focus on coastal zone only\n",
    "masked_ds = dea_coastlines.vector.contours_preprocess(\n",
    "    yearly_ds,\n",
    "    gapfill_ds,\n",
    "    water_index,\n",
    "    index_threshold,\n",
    "    waterbody_mask,\n",
    "    tide_points_gdf,\n",
    "    output_path=output_dir,\n",
    "    buffer_pixels=30)"
   ]
  },
  {
   "cell_type": "code",
   "execution_count": 75,
   "metadata": {},
   "outputs": [
    {
     "data": {
      "text/plain": [
       "<matplotlib.image.AxesImage at 0x7f5e9d5f46d0>"
      ]
     },
     "execution_count": 75,
     "metadata": {},
     "output_type": "execute_result"
    },
    {
     "data": {
      "image/png": "[encoded data removed]",
      "text/plain": [
       "<Figure size 432x288 with 2 Axes>"
      ]
     },
     "metadata": {
      "needs_background": "light"
     },
     "output_type": "display_data"
    }
   ],
   "source": [
    "masked_ds.isel(year=9).plot.imshow()"
   ]
  },
  {
   "cell_type": "code",
   "execution_count": 76,
   "metadata": {},
   "outputs": [],
   "source": [
    "# Extract contours\n",
    "contours_gdf = (subpixel_contours(da=masked_ds,\n",
    "                                  z_values=index_threshold,\n",
    "                                  min_vertices=10,\n",
    "                                  dim='year',\n",
    "                                  output_path=f'temp.geojson')\n",
    "                .set_index('year'))\n"
   ]
  },
  {
   "cell_type": "markdown",
   "metadata": {},
   "source": [
    "## Compute statistics\n",
    "### Create stats points on baseline contour"
   ]
  },
  {
   "cell_type": "code",
   "execution_count": null,
   "metadata": {},
   "outputs": [],
   "source": [
    "# Extract statistics modelling points along baseline contour\n",
    "points_gdf = dea_coastlines.vector.points_on_line(contours_gdf,\n",
    "                                                  baseline_year,\n",
    "                                                  distance=30)\n",
    "\n",
    "# If a rocky mask is provided, use this to clip data\n",
    "if config['Input files']['coastal_classification_path']:\n",
    "\n",
    "    # Import coastline classification\n",
    "    print('Clipping to non-rocky shorelines')\n",
    "    coastal_classification_gdf = (gpd.read_file(\n",
    "        config['Input files']['coastal_classification_path'],\n",
    "        bbox=bbox).to_crs(yearly_ds.crs))\n",
    "\n",
    "    # Clip to remove rocky shoreline points\n",
    "    points_gdf = dea_coastlines.vector.rocky_shores_clip(\n",
    "        points_gdf, coastal_classification_gdf, buffer=50)"
   ]
  },
  {
   "cell_type": "markdown",
   "metadata": {},
   "source": [
    "### Measure annual coastline movements"
   ]
  },
  {
   "cell_type": "code",
   "execution_count": null,
   "metadata": {},
   "outputs": [],
   "source": [
    "if points_gdf is not None:  \n",
    "\n",
    "    # Calculate annual movements and residual tide heights for every \n",
    "    # contour compared to the baseline year\n",
    "    points_gdf = dea_coastlines.vector.annual_movements(points_gdf,\n",
    "                                              contours_gdf,\n",
    "                                              yearly_ds,                                     \n",
    "                                              baseline_year,\n",
    "                                              water_index)"
   ]
  },
  {
   "cell_type": "markdown",
   "metadata": {},
   "source": [
    "### Calculate regressions"
   ]
  },
  {
   "cell_type": "code",
   "execution_count": null,
   "metadata": {},
   "outputs": [],
   "source": [
    "if points_gdf is not None:\n",
    "\n",
    "    # Apply regression function to each row in dataset\n",
    "    points_gdf = dea_coastlines.vector.calculate_regressions(points_gdf,\n",
    "                                                   contours_gdf,\n",
    "                                                   climate_df)\n",
    "\n",
    "# Add count and span of valid obs, Shoreline Change Envelope (SCE), \n",
    "# Net Shoreline Movement (NSM) and Max/Min years\n",
    "stats_list = ['valid_obs', 'valid_span', 'sce', 'nsm', 'max_year', 'min_year']\n",
    "points_gdf[stats_list] = points_gdf.apply(\n",
    "    lambda x: dea_coastlines.vector.all_time_stats(x, \n",
    "                                                   initial_year=2000), axis=1)"
   ]
  },
  {
   "cell_type": "markdown",
   "metadata": {},
   "source": [
    "## Export files\n",
    "\n",
    "### Export stats files"
   ]
  },
  {
   "cell_type": "code",
   "execution_count": null,
   "metadata": {},
   "outputs": [],
   "source": [
    "if points_gdf is not None:\n",
    "    \n",
    "    # Set up scheme to optimise file size\n",
    "    schema_dict = {key: 'float:8.2' for key in points_gdf.columns\n",
    "                   if key != 'geometry'}\n",
    "    schema_dict.update({'sig_time': 'float:8.3',\n",
    "                        'outl_time': 'str:80',\n",
    "                        'sig_soi': 'float:8.3',\n",
    "                        'outl_soi': 'str:80',\n",
    "                        'valid_obs': 'int:4',\n",
    "                        'valid_span': 'int:4',\n",
    "                        'max_year': 'int:4',\n",
    "                        'min_year': 'int:4',\n",
    "                       })\n",
    "    col_schema = schema_dict.items()\n",
    "\n",
    "    # Clip stats to study area extent\n",
    "    stats_path = f'{output_dir}/ratesofchange_{study_area}_' \\\n",
    "                 f'{vector_version}_{water_index}_{index_threshold:.2f}'\n",
    "    points_gdf = points_gdf[points_gdf.intersects(gridcell_gdf.geometry.item())]\n",
    "\n",
    "    # Export to GeoJSON\n",
    "    points_gdf.to_crs('EPSG:4326').to_file(f'{stats_path}.geojson', \n",
    "                                           driver='GeoJSON')\n",
    "\n",
    "    # Export as ESRI shapefiles\n",
    "    points_gdf.to_file(f'{stats_path}.shp',\n",
    "                       schema={'properties': col_schema,\n",
    "                               'geometry': 'Point'})"
   ]
  },
  {
   "cell_type": "markdown",
   "metadata": {},
   "source": [
    "### Export contours"
   ]
  },
  {
   "cell_type": "code",
   "execution_count": null,
   "metadata": {},
   "outputs": [],
   "source": [
    "# Assign certainty to contours based on underlying masks\n",
    "contours_gdf = dea_coastlines.vector.contour_certainty(\n",
    "    contours_gdf, \n",
    "    output_path=output_dir)\n",
    "\n",
    "# Add maturity details\n",
    "contours_gdf['maturity'] = 'final'\n",
    "contours_gdf.loc[contours_gdf.index == baseline_year, 'maturity'] = 'interim'\n",
    "\n",
    "# Clip annual shoreline contours to study area extent\n",
    "contour_path = f'{output_dir}/annualshorelines_{study_area}_{vector_version}_' \\\n",
    "               f'{water_index}_{index_threshold:.2f}'\n",
    "contours_gdf['geometry'] = contours_gdf.intersection(gridcell_gdf.geometry.item())\n",
    "contours_gdf.reset_index().to_crs('EPSG:4326').to_file(f'{contour_path}.geojson', \n",
    "                                                       driver='GeoJSON')\n",
    "\n",
    "# Export stats and contours as ESRI shapefiles\n",
    "contours_gdf.reset_index().to_file(f'{contour_path}.shp')"
   ]
  },
  {
   "cell_type": "markdown",
   "metadata": {},
   "source": [
    "## Add Geoserver fields\n",
    "\n",
    "### Rate of change points\n"
   ]
  },
  {
   "cell_type": "code",
   "execution_count": null,
   "metadata": {},
   "outputs": [],
   "source": [
    "# # stats_path = 'releases/DEACoastlines_v1.0.0/Shapefile/DEACoastlines_ratesofchange_v1.0.0.shp'\n",
    "# stats_path = 'DEACoastlines_ratesofchange_v1.1.0.shp'\n",
    "# points_gdf = gpd.read_file(stats_path)"
   ]
  },
  {
   "cell_type": "code",
   "execution_count": null,
   "metadata": {},
   "outputs": [],
   "source": [
    "# # Add WMS-specific fields\n",
    "# points_gdf['wms_valobs'] = points_gdf.valid_obs > 25\n",
    "# points_gdf['wms_t_retr'] = points_gdf.rate_time < 0\n",
    "# points_gdf['wms_t_grew'] = points_gdf.rate_time > 0\n",
    "# points_gdf['wms_t_sig'] = points_gdf.sig_time <= 0.01\n",
    "# points_gdf['wms_t_abs'] = points_gdf.rate_time.abs()\n",
    "# points_gdf['wms_t_less'] = points_gdf.wms_t_abs < 0.31\n",
    "# points_gdf['wms_t_conf'] = points_gdf.se_time * 1.96\n",
    "# points_gdf['wms_s_sig'] = points_gdf.sig_soi <= 0.01\n",
    "# points_gdf['wms_s_abs'] = points_gdf.rate_soi.abs()\n",
    "# points_gdf['wms_s_conf'] = points_gdf.se_soi * 1.96\n",
    "# points_gdf.head(10)"
   ]
  },
  {
   "cell_type": "code",
   "execution_count": null,
   "metadata": {},
   "outputs": [],
   "source": [
    "# # Set up scheme to optimise file size\n",
    "# schema_dict = {key: 'float:8.2' for key in points_gdf.columns\n",
    "#                if key != 'geometry'}\n",
    "# schema_dict.update({'sig_time': 'float:8.3',\n",
    "#                     'outl_time': 'str:80',\n",
    "#                     'sig_soi': 'float:8.3',\n",
    "#                     'outl_soi': 'str:80',\n",
    "#                     'valid_obs': 'int:4',\n",
    "#                     'valid_span': 'int:4',\n",
    "#                     'max_year': 'int:4',\n",
    "#                     'min_year': 'int:4',\n",
    "#                     'wms_valobs': 'bool',\n",
    "#                     'wms_t_retr': 'bool', \n",
    "#                     'wms_t_grew': 'bool',\n",
    "#                     'wms_t_sig': 'bool',\n",
    "#                     'wms_s_sig': 'bool'\n",
    "#                    })\n",
    "# col_schema = schema_dict.items()\n",
    "\n",
    "# # Export as ESRI shapefiles\n",
    "# points_gdf.to_file('releases/DEACoastlines_v1.1.0/DEACoastlines_v1.1.0_geoserver/DEACoastlines_ratesofchange_v1.1.0_geoserver.shp',\n",
    "#                    schema={'properties': col_schema, 'geometry': 'Point'})"
   ]
  },
  {
   "cell_type": "markdown",
   "metadata": {},
   "source": [
    "### Annual coastlines"
   ]
  },
  {
   "cell_type": "code",
   "execution_count": null,
   "metadata": {},
   "outputs": [],
   "source": [
    "# # contour_path = 'releases/DEACoastlines_v1.0.0/Shapefile/DEACoastlines_annualcoastlines_v1.0.0.shp'\n",
    "# contour_path = 'DEACoastlines_annualshorelines_v1.1.0.shp'\n",
    "# contours_gdf = gpd.read_file(contour_path)"
   ]
  },
  {
   "cell_type": "code",
   "execution_count": null,
   "metadata": {},
   "outputs": [],
   "source": [
    "# # Add WMS-specific fields\n",
    "# contours_gdf['wms_good'] = contours_gdf.certainty == 'good'\n",
    "# contours_gdf['wms_tidal'] = contours_gdf.certainty == 'tidal issues'\n",
    "# contours_gdf['wms_nodata'] = contours_gdf.certainty == 'insufficient data'\n",
    "# contours_gdf['wms_aero'] = contours_gdf.certainty == 'aerosol issues'\n",
    "# contours_gdf['wms_inter'] = contours_gdf.maturity == 'interim'\n",
    "# contours_gdf.head()"
   ]
  },
  {
   "cell_type": "code",
   "execution_count": null,
   "metadata": {},
   "outputs": [],
   "source": [
    "# # Set up scheme to optimise file size\n",
    "# schema_dict = {key: 'str:30' for key in contours_gdf.columns\n",
    "#                if key != 'geometry'}\n",
    "# schema_dict.update({'wms_good': 'bool', \n",
    "#                     'wms_tidal': 'bool',\n",
    "#                     'wms_nodata': 'bool',\n",
    "#                     'wms_aero': 'bool',\n",
    "#                     'wms_inter': 'bool'\n",
    "#                    })\n",
    "# col_schema = schema_dict.items()\n",
    "\n",
    "# # Export as ESRI shapefiles\n",
    "# contours_gdf.to_file('releases/DEACoastlines_v1.1.0/DEACoastlines_v1.1.0_geoserver/DEACoastlines_annualshorelines_v1.1.0_geoserver.shp',\n",
    "#                      schema={'properties': col_schema, 'geometry': 'LineString'})"
   ]
  },
  {
   "cell_type": "markdown",
   "metadata": {},
   "source": [
    "***\n",
    "\n",
    "## Additional information"
   ]
  },
  {
   "cell_type": "markdown",
   "metadata": {},
   "source": [
    "**License:** The code in this notebook is licensed under the [Apache License, Version 2.0](https://www.apache.org/licenses/LICENSE-2.0). \n",
    "Digital Earth Australia data is licensed under the [Creative Commons by Attribution 4.0](https://creativecommons.org/licenses/by/4.0/) license.\n",
    "\n",
    "**Contact:** For assistance with any of the Python code or Jupyter Notebooks in this repository, please post a [Github issue](https://github.com/GeoscienceAustralia/DEACoastLines/issues/new). For questions or more information about this product, sign up to the [Open Data Cube Slack](https://join.slack.com/t/opendatacube/shared_invite/zt-d6hu7l35-CGDhSxiSmTwacKNuXWFUkg) and post on the [`#dea-coastlines`](https://app.slack.com/client/T0L4V0TFT/C018X6J9HLY/details/) channel.\n",
    "\n",
    "**Last modified:** November 2021"
   ]
  }
 ],
 "metadata": {
  "kernelspec": {
   "display_name": "Python 3 (ipykernel)",
   "language": "python",
   "name": "python3"
  },
  "language_info": {
   "codemirror_mode": {
    "name": "ipython",
    "version": 3
   },
   "file_extension": ".py",
   "mimetype": "text/x-python",
   "name": "python",
   "nbconvert_exporter": "python",
   "pygments_lexer": "ipython3",
   "version": "3.8.10"
  },
  "widgets": {
   "application/vnd.jupyter.widget-state+json": {
    "state": {},
    "version_major": 2,
    "version_minor": 0
   }
  }
 },
 "nbformat": 4,
 "nbformat_minor": 4
}
