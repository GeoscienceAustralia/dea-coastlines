{
 "cells": [
  {
   "cell_type": "markdown",
   "metadata": {
    "tags": []
   },
   "source": [
    "# DEA Coastlines useful tools <img align=\"right\" src=\"https://github.com/GeoscienceAustralia/dea-notebooks/raw/develop/Supplementary_data/dea_logo.jpg\">\n",
    "\n",
    "This notebook contains useful code snippets for processing and manipulating DEA Coastlines data.\n",
    "\n",
    "\n",
    "---"
   ]
  },
  {
   "cell_type": "markdown",
   "metadata": {},
   "source": [
    "## Getting started\n",
    "Set working directory to top level of repo to ensure links work correctly:"
   ]
  },
  {
   "cell_type": "code",
   "execution_count": 1,
   "metadata": {},
   "outputs": [
    {
     "name": "stdout",
     "output_type": "stream",
     "text": [
      "/home/jovyan/Robbi/dea-coastlines\n"
     ]
    }
   ],
   "source": [
    "cd .."
   ]
  },
  {
   "cell_type": "markdown",
   "metadata": {},
   "source": [
    "### Load packages\n",
    "\n",
    "First we import the required Python packages, then we connect to the database, and load the catalog of virtual products."
   ]
  },
  {
   "cell_type": "code",
   "execution_count": 2,
   "metadata": {},
   "outputs": [],
   "source": [
    "%matplotlib inline\n",
    "%load_ext line_profiler\n",
    "%load_ext autoreload\n",
    "%autoreload 2\n",
    "\n",
    "import os\n",
    "import sys\n",
    "import numpy as np\n",
    "import pandas as pd\n",
    "import geopandas as gpd\n",
    "import matplotlib.pyplot as plt\n"
   ]
  },
  {
   "cell_type": "markdown",
   "metadata": {},
   "source": [
    "## Extract style table from GeoPackage"
   ]
  },
  {
   "cell_type": "code",
   "execution_count": null,
   "metadata": {},
   "outputs": [],
   "source": [
    "import zipfile\n",
    "with zipfile.ZipFile('../coastlines_v0.2.2.zip', 'r') as zip_ref:\n",
    "    zip_ref.extractall()"
   ]
  },
  {
   "cell_type": "code",
   "execution_count": null,
   "metadata": {},
   "outputs": [],
   "source": [
    "# Load 'layer_styles' from geopackage and export as a CSV\n",
    "layer = gpd.read_file(\"coastlines_v0.0.2 (1).gpkg\", layer=\"layer_styles\")\n",
    "layer.drop(['geometry'], axis=1).to_csv('coastlines/styles.csv', index=False)"
   ]
  },
  {
   "cell_type": "markdown",
   "metadata": {},
   "source": [
    "## View output files on S3"
   ]
  },
  {
   "cell_type": "code",
   "execution_count": null,
   "metadata": {},
   "outputs": [],
   "source": [
    "# !aws s3 --no-sign-request --region=af-south-1 ls --recursive s3://deafrica-data-dev-af/coastlines/ | grep '.gpkg$'"
   ]
  },
  {
   "cell_type": "code",
   "execution_count": null,
   "metadata": {},
   "outputs": [],
   "source": [
    "# !aws s3 --no-sign-request --region=af-south-1 ls --recursive s3://deafrica-data-staging-af/coastlines/\n"
   ]
  },
  {
   "cell_type": "markdown",
   "metadata": {},
   "source": [
    "## Run status per tile from Argo YAML"
   ]
  },
  {
   "cell_type": "code",
   "execution_count": 55,
   "metadata": {},
   "outputs": [],
   "source": [
    "import pandas as pd\n",
    "import yaml\n",
    "from yaml import SafeLoader\n",
    "\n",
    "# Load Argo job status\n",
    "with open('run_status_100.yaml') as f:\n",
    "    data = yaml.load(f, Loader=SafeLoader)\n",
    "\n",
    "# Keep only jobs with valid inputs    \n",
    "data_cleaned = {a:b for a, b in data['status']['nodes'].items() if 'inputs' in b}\n",
    "\n",
    "# Obtain error code or missing error code for each job\n",
    "df = pd.DataFrame(\n",
    "    [\n",
    "        (b[\"inputs\"][\"parameters\"][0][\"value\"], b[\"outputs\"][\"exitCode\"], b[\"startedAt\"], b[\"finishedAt\"])\n",
    "        if \"outputs\" in b\n",
    "        else (b[\"inputs\"][\"parameters\"][0][\"value\"], None)\n",
    "        for a, b in data_cleaned.items()\n",
    "    ],\n",
    "    columns=[\"id\", \"error\", \"startedAt\", \"finishedAt\"],\n",
    ")\n",
    "\n",
    "# # Drop non-tiles\n",
    "df = df.loc[~df.id.isin(['v0.0.1', 'bottleneck', 'https://dea-public-data.s3.ap-southeast-2.amazonaws.com/derivative/dea_coastlines/supplementary/ga_summary_grid_c3_32km_coastal.geojson'])]\n",
    "\n",
    "# # Export to CSV that can be merged with tile grid\n",
    "# df['id'] = df['id'].astype(int)\n",
    "# df.to_csv('tile_status.csv', index=False)"
   ]
  },
  {
   "cell_type": "code",
   "execution_count": 56,
   "metadata": {},
   "outputs": [],
   "source": [
    "df['id'] = df.id.astype(int)\n",
    "df['startedAt'] = pd.to_datetime(df['startedAt'])\n",
    "df['finishedAt'] = pd.to_datetime(df['finishedAt'])\n",
    "df['duration'] = df['finishedAt'] - df['startedAt']"
   ]
  },
  {
   "cell_type": "code",
   "execution_count": 57,
   "metadata": {},
   "outputs": [],
   "source": [
    "ids = [860, 866, 867, 872, 873, 876, 878, 881, 883, 884, 887, 888, 892, 893, 897, 902, 903, 906, 907, 910, 912, 913, 915, 917, 929, 930, 940, 952, 953, 966, 967, 968, 976, 977, 978, 986, 987, 988, 989, 995, 996, 997, 998, 999, 1005, 1006, 1007, 1008, 1015, 1016, 1017, 1018, 1019, 1020, 1021, 1022, 1023, 1037, 1038, 1039, 1040, 1041, 1042, 1043, 1044, 1045, 1060, 1061, 1062, 1063, 1064, 1065, 1066, 1067, 1074, 1075, 1076, 1077, 1078, 1079, 1080, 1081, 1082, 1083, 1084, 1085, 1090, 1091, 1092, 1093, 1094, 1095, 1096, 1097, 1098, 1104, 1105, 1106, 1107, 1108, 1109, 1110, 1111, 1112, 1121, 1122, 1123, 1124, 1125, 1126, 1127, 1128, 1135, 1136, 1137, 1138, 1139, 1140, 1141, 1142, 1143, 1144, 1145, 1146, 1147, 1148, 1149, 1150, 1151, 1152, 1153, 1154, 1155, 1156, 1157, 1158, 1159, 1160, 1161, 1162, 1163, 1164, 1165, 1166, 1167, 1168, 1169, 1170, 1171, 1172, 1173, 1174, 1175, 1176, 1177, 1178, 1179, 1180, 1181, 1182, 1183, 1184, 1185, 1186, 1187, 1188, 1189, 1190, 1191, 1192, 1193, 1194, 1195, 1196, 1197, 1198, 1199, 1200, 1201, 1202, 1203, 1204, 1205, 1206, 1207, 1208, 1209, 1210, 1211, 1212, 1213, 1214, 1215, 1216, 1217, 1218, 1219, 1220, 1222, 1223]"
   ]
  },
  {
   "cell_type": "code",
   "execution_count": 58,
   "metadata": {},
   "outputs": [
    {
     "data": {
      "text/html": [
       "<div>\n",
       "<style scoped>\n",
       "    .dataframe tbody tr th:only-of-type {\n",
       "        vertical-align: middle;\n",
       "    }\n",
       "\n",
       "    .dataframe tbody tr th {\n",
       "        vertical-align: top;\n",
       "    }\n",
       "\n",
       "    .dataframe thead th {\n",
       "        text-align: right;\n",
       "    }\n",
       "</style>\n",
       "<table border=\"1\" class=\"dataframe\">\n",
       "  <thead>\n",
       "    <tr style=\"text-align: right;\">\n",
       "      <th></th>\n",
       "      <th>id</th>\n",
       "      <th>error</th>\n",
       "      <th>startedAt</th>\n",
       "      <th>finishedAt</th>\n",
       "      <th>duration</th>\n",
       "    </tr>\n",
       "  </thead>\n",
       "  <tbody>\n",
       "    <tr>\n",
       "      <th>0</th>\n",
       "      <td>1105</td>\n",
       "      <td>0</td>\n",
       "      <td>2022-11-03 23:06:53+00:00</td>\n",
       "      <td>2022-11-03 23:53:48+00:00</td>\n",
       "      <td>0 days 00:46:55</td>\n",
       "    </tr>\n",
       "    <tr>\n",
       "      <th>1</th>\n",
       "      <td>1043</td>\n",
       "      <td>0</td>\n",
       "      <td>2022-11-03 23:06:51+00:00</td>\n",
       "      <td>2022-11-03 23:58:03+00:00</td>\n",
       "      <td>0 days 00:51:12</td>\n",
       "    </tr>\n",
       "    <tr>\n",
       "      <th>2</th>\n",
       "      <td>1039</td>\n",
       "      <td>0</td>\n",
       "      <td>2022-11-03 23:06:51+00:00</td>\n",
       "      <td>2022-11-03 23:52:52+00:00</td>\n",
       "      <td>0 days 00:46:01</td>\n",
       "    </tr>\n",
       "    <tr>\n",
       "      <th>3</th>\n",
       "      <td>902</td>\n",
       "      <td>0</td>\n",
       "      <td>2022-11-03 23:06:50+00:00</td>\n",
       "      <td>2022-11-03 23:34:33+00:00</td>\n",
       "      <td>0 days 00:27:43</td>\n",
       "    </tr>\n",
       "    <tr>\n",
       "      <th>4</th>\n",
       "      <td>1016</td>\n",
       "      <td>0</td>\n",
       "      <td>2022-11-03 23:06:51+00:00</td>\n",
       "      <td>2022-11-03 23:33:06+00:00</td>\n",
       "      <td>0 days 00:26:15</td>\n",
       "    </tr>\n",
       "    <tr>\n",
       "      <th>...</th>\n",
       "      <td>...</td>\n",
       "      <td>...</td>\n",
       "      <td>...</td>\n",
       "      <td>...</td>\n",
       "      <td>...</td>\n",
       "    </tr>\n",
       "    <tr>\n",
       "      <th>199</th>\n",
       "      <td>989</td>\n",
       "      <td>0</td>\n",
       "      <td>2022-11-03 23:06:50+00:00</td>\n",
       "      <td>2022-11-03 23:35:55+00:00</td>\n",
       "      <td>0 days 00:29:05</td>\n",
       "    </tr>\n",
       "    <tr>\n",
       "      <th>200</th>\n",
       "      <td>940</td>\n",
       "      <td>0</td>\n",
       "      <td>2022-11-03 23:06:50+00:00</td>\n",
       "      <td>2022-11-03 23:35:34+00:00</td>\n",
       "      <td>0 days 00:28:44</td>\n",
       "    </tr>\n",
       "    <tr>\n",
       "      <th>201</th>\n",
       "      <td>872</td>\n",
       "      <td>0</td>\n",
       "      <td>2022-11-03 23:06:50+00:00</td>\n",
       "      <td>2022-11-03 23:36:41+00:00</td>\n",
       "      <td>0 days 00:29:51</td>\n",
       "    </tr>\n",
       "    <tr>\n",
       "      <th>202</th>\n",
       "      <td>968</td>\n",
       "      <td>0</td>\n",
       "      <td>2022-11-03 23:06:50+00:00</td>\n",
       "      <td>2022-11-03 23:35:44+00:00</td>\n",
       "      <td>0 days 00:28:54</td>\n",
       "    </tr>\n",
       "    <tr>\n",
       "      <th>203</th>\n",
       "      <td>967</td>\n",
       "      <td>0</td>\n",
       "      <td>2022-11-03 23:06:50+00:00</td>\n",
       "      <td>2022-11-03 23:35:41+00:00</td>\n",
       "      <td>0 days 00:28:51</td>\n",
       "    </tr>\n",
       "  </tbody>\n",
       "</table>\n",
       "<p>202 rows × 5 columns</p>\n",
       "</div>"
      ],
      "text/plain": [
       "       id error                 startedAt                finishedAt  \\\n",
       "0    1105     0 2022-11-03 23:06:53+00:00 2022-11-03 23:53:48+00:00   \n",
       "1    1043     0 2022-11-03 23:06:51+00:00 2022-11-03 23:58:03+00:00   \n",
       "2    1039     0 2022-11-03 23:06:51+00:00 2022-11-03 23:52:52+00:00   \n",
       "3     902     0 2022-11-03 23:06:50+00:00 2022-11-03 23:34:33+00:00   \n",
       "4    1016     0 2022-11-03 23:06:51+00:00 2022-11-03 23:33:06+00:00   \n",
       "..    ...   ...                       ...                       ...   \n",
       "199   989     0 2022-11-03 23:06:50+00:00 2022-11-03 23:35:55+00:00   \n",
       "200   940     0 2022-11-03 23:06:50+00:00 2022-11-03 23:35:34+00:00   \n",
       "201   872     0 2022-11-03 23:06:50+00:00 2022-11-03 23:36:41+00:00   \n",
       "202   968     0 2022-11-03 23:06:50+00:00 2022-11-03 23:35:44+00:00   \n",
       "203   967     0 2022-11-03 23:06:50+00:00 2022-11-03 23:35:41+00:00   \n",
       "\n",
       "           duration  \n",
       "0   0 days 00:46:55  \n",
       "1   0 days 00:51:12  \n",
       "2   0 days 00:46:01  \n",
       "3   0 days 00:27:43  \n",
       "4   0 days 00:26:15  \n",
       "..              ...  \n",
       "199 0 days 00:29:05  \n",
       "200 0 days 00:28:44  \n",
       "201 0 days 00:29:51  \n",
       "202 0 days 00:28:54  \n",
       "203 0 days 00:28:51  \n",
       "\n",
       "[202 rows x 5 columns]"
      ]
     },
     "execution_count": 58,
     "metadata": {},
     "output_type": "execute_result"
    }
   ],
   "source": [
    "ids = ids[0:100]\n",
    "\n",
    "df_subset = df.loc[df.id.isin(ids)]\n",
    "df_subset\n"
   ]
  },
  {
   "cell_type": "code",
   "execution_count": 60,
   "metadata": {},
   "outputs": [
    {
     "data": {
      "text/plain": [
       "<AxesSubplot:ylabel='Frequency'>"
      ]
     },
     "execution_count": 60,
     "metadata": {},
     "output_type": "execute_result"
    },
    {
     "data": {
      "image/png": "[encoded data removed]",
      "text/plain": [
       "<Figure size 432x288 with 1 Axes>"
      ]
     },
     "metadata": {
      "needs_background": "light"
     },
     "output_type": "display_data"
    }
   ],
   "source": [
    "df_max_nodes_30 = df_subset\n",
    "(df_max_nodes_30.groupby('id')['duration'].max().dt.seconds/60).plot.hist(xlim=(0, 400))"
   ]
  },
  {
   "cell_type": "code",
   "execution_count": 54,
   "metadata": {},
   "outputs": [
    {
     "data": {
      "text/plain": [
       "<AxesSubplot:ylabel='Frequency'>"
      ]
     },
     "execution_count": 54,
     "metadata": {},
     "output_type": "execute_result"
    },
    {
     "data": {
      "image/png": "[encoded data removed]",
      "text/plain": [
       "<Figure size 432x288 with 1 Axes>"
      ]
     },
     "metadata": {
      "needs_background": "light"
     },
     "output_type": "display_data"
    }
   ],
   "source": [
    "df_max_nodes_150 = df_subset\n",
    "(df_max_nodes_150.groupby('id')['duration'].max().dt.seconds/60).plot.hist(xlim=(0, 400))"
   ]
  },
  {
   "cell_type": "code",
   "execution_count": 13,
   "metadata": {},
   "outputs": [
    {
     "data": {
      "text/plain": [
       "Timedelta('0 days 04:15:11.500000')"
      ]
     },
     "execution_count": 13,
     "metadata": {},
     "output_type": "execute_result"
    }
   ],
   "source": [
    "df_subset.groupby('id')['duration'].max().median()"
   ]
  },
  {
   "cell_type": "code",
   "execution_count": null,
   "metadata": {},
   "outputs": [],
   "source": [
    "df_subset.duration.mean()"
   ]
  },
  {
   "cell_type": "code",
   "execution_count": null,
   "metadata": {},
   "outputs": [],
   "source": [
    "data_cleaned['dea-coastlines-flhfc-1000208692']"
   ]
  },
  {
   "cell_type": "code",
   "execution_count": null,
   "metadata": {},
   "outputs": [],
   "source": [
    "df['error'].unique()"
   ]
  },
  {
   "cell_type": "markdown",
   "metadata": {},
   "source": [
    "***\n",
    "\n",
    "## Additional information"
   ]
  },
  {
   "cell_type": "markdown",
   "metadata": {},
   "source": [
    "**License:** The code in this notebook is licensed under the [Apache License, Version 2.0](https://www.apache.org/licenses/LICENSE-2.0). \n",
    "Digital Earth Australia data is licensed under the [Creative Commons by Attribution 4.0](https://creativecommons.org/licenses/by/4.0/) license.\n",
    "\n",
    "**Contact:** For assistance with any of the Python code or Jupyter Notebooks in this repository, please post a [Github issue](https://github.com/GeoscienceAustralia/dea-coastlines/issues/new).\n",
    "\n",
    "**Last modified:** July 2022"
   ]
  }
 ],
 "metadata": {
  "kernelspec": {
   "display_name": "Python 3 (ipykernel)",
   "language": "python",
   "name": "python3"
  },
  "language_info": {
   "codemirror_mode": {
    "name": "ipython",
    "version": 3
   },
   "file_extension": ".py",
   "mimetype": "text/x-python",
   "name": "python",
   "nbconvert_exporter": "python",
   "pygments_lexer": "ipython3",
   "version": "3.8.10"
  },
  "widgets": {
   "application/vnd.jupyter.widget-state+json": {
    "state": {},
    "version_major": 2,
    "version_minor": 0
   }
  }
 },
 "nbformat": 4,
 "nbformat_minor": 4
}
