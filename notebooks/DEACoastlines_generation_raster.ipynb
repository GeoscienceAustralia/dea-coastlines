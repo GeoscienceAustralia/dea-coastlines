{
 "cells": [
  {
   "cell_type": "markdown",
   "metadata": {},
   "source": [
    "# DEA Coastlines raster generation <img align=\"right\" src=\"https://github.com/GeoscienceAustralia/dea-notebooks/raw/develop/Supplementary_data/dea_logo.jpg\">\n",
    "\n",
    "This code conducts raster generation for DEA Coastlines:\n",
    "\n",
    "* Load stack of all available Landsat 5, 7 and 8 satellite imagery for a location using [ODC Virtual Products](https://docs.dea.ga.gov.au/notebooks/Frequently_used_code/Virtual_products.html)\n",
    "* Convert each satellite image into a remote sensing water index (MNDWI)\n",
    "* For each satellite image, model ocean tides into a 2 x 2 km grid based on exact time of image acquisition\n",
    "* Interpolate tide heights into spatial extent of image stack\n",
    "* Mask out high and low tide pixels by removing all observations acquired outside of 50 percent of the observed tidal range centered over mean sea level\n",
    "* Combine tidally-masked data into annual median composites from 1988 to the present representing the coastline at approximately mean sea level\n",
    "\n",
    "This is an interactive version of the code intended for prototyping; to run this analysis at scale, run `dea_coastlines.raster.py`.\n",
    "\n",
    "---"
   ]
  },
  {
   "cell_type": "code",
   "execution_count": null,
   "metadata": {},
   "outputs": [],
   "source": [
    "pip install mock"
   ]
  },
  {
   "cell_type": "code",
   "execution_count": null,
   "metadata": {},
   "outputs": [],
   "source": [
    "pip install topojson"
   ]
  },
  {
   "cell_type": "code",
   "execution_count": null,
   "metadata": {},
   "outputs": [],
   "source": [
    "pip install geopandas==0.10.2"
   ]
  },
  {
   "cell_type": "code",
   "execution_count": null,
   "metadata": {},
   "outputs": [],
   "source": [
    "pip install pandas==1.3.4"
   ]
  },
  {
   "cell_type": "code",
   "execution_count": null,
   "metadata": {},
   "outputs": [],
   "source": [
    "pip install dea_tools"
   ]
  },
  {
   "cell_type": "markdown",
   "metadata": {},
   "source": [
    "## Getting started\n"
   ]
  },
  {
   "cell_type": "markdown",
   "metadata": {},
   "source": [
    "### Load packages\n",
    "\n",
    "First we import the required Python packages, then we connect to the database, and load the catalog of virtual products."
   ]
  },
  {
   "cell_type": "code",
   "execution_count": 1,
   "metadata": {},
   "outputs": [
    {
     "name": "stdout",
     "output_type": "stream",
     "text": [
      "/home/jovyan/Robbi/dea-coastlines\n"
     ]
    }
   ],
   "source": [
    "cd .."
   ]
  },
  {
   "cell_type": "code",
   "execution_count": 2,
   "metadata": {},
   "outputs": [
    {
     "data": {
      "text/html": [
       "<table style=\"border: 2px solid white;\">\n",
       "<tr>\n",
       "<td style=\"vertical-align: top; border: 0px solid white\">\n",
       "<h3 style=\"text-align: left;\">Client</h3>\n",
       "<ul style=\"text-align: left; list-style: none; margin: 0; padding: 0;\">\n",
       "  <li><b>Scheduler: </b>tcp://127.0.0.1:36803</li>\n",
       "  <li><b>Dashboard: </b><a href='/user/robbibt/proxy/8787/status' target='_blank'>/user/robbibt/proxy/8787/status</a></li>\n",
       "</ul>\n",
       "</td>\n",
       "<td style=\"vertical-align: top; border: 0px solid white\">\n",
       "<h3 style=\"text-align: left;\">Cluster</h3>\n",
       "<ul style=\"text-align: left; list-style:none; margin: 0; padding: 0;\">\n",
       "  <li><b>Workers: </b>1</li>\n",
       "  <li><b>Cores: </b>62</li>\n",
       "  <li><b>Memory: </b>512.40 GB</li>\n",
       "</ul>\n",
       "</td>\n",
       "</tr>\n",
       "</table>"
      ],
      "text/plain": [
       "<Client: 'tcp://127.0.0.1:36803' processes=1 threads=62, memory=512.40 GB>"
      ]
     },
     "metadata": {},
     "output_type": "display_data"
    }
   ],
   "source": [
    "%matplotlib inline\n",
    "%load_ext line_profiler\n",
    "%load_ext autoreload\n",
    "%autoreload 2\n",
    "\n",
    "import os\n",
    "import sys\n",
    "import datacube\n",
    "import xarray as xr\n",
    "import geopandas as gpd\n",
    "import matplotlib.pyplot as plt\n",
    "from functools import partial\n",
    "from datacube.utils.geometry import Geometry\n",
    "from dea_tools.dask import create_local_dask_cluster\n",
    "\n",
    "# Load DEA Coastlines code\n",
    "import dea_coastlines.raster\n",
    "\n",
    "# Connect to datacube\n",
    "dc = datacube.Datacube(app='DEACoastlines')\n",
    "\n",
    "# Create local dask client for parallelisation\n",
    "client = create_local_dask_cluster(return_client=True)\n"
   ]
  },
  {
   "cell_type": "markdown",
   "metadata": {
    "tags": []
   },
   "source": [
    "## Setup\n"
   ]
  },
  {
   "cell_type": "markdown",
   "metadata": {},
   "source": [
    "### Set analysis parameters"
   ]
  },
  {
   "cell_type": "code",
   "execution_count": 4,
   "metadata": {},
   "outputs": [],
   "source": [
    "study_area = 86  # 8335\n",
    "raster_version = 'testing'\n",
    "\n",
    "# Load analysis params from config file\n",
    "config = dea_coastlines.raster.load_config(\n",
    "    config_path='configs/deafrica_coastlines_config.yaml')"
   ]
  },
  {
   "cell_type": "markdown",
   "metadata": {},
   "source": [
    "### Load supplementary data"
   ]
  },
  {
   "cell_type": "code",
   "execution_count": 5,
   "metadata": {},
   "outputs": [],
   "source": [
    "# Tide points are used to model tides across the extent of the satellite data\n",
    "points_gdf = gpd.read_file(config['Input files']['coastal_points_path'])\n",
    "\n",
    "# Albers grid cells used to process the analysis\n",
    "gridcell_gdf = (\n",
    "    gpd.read_file(config['Input files']['coastal_grid_path']).to_crs(\n",
    "        epsg=4326).set_index('id'))\n",
    "gridcell_gdf.index = gridcell_gdf.index.astype(int).astype(str)\n",
    "gridcell_gdf = gridcell_gdf.loc[[str(study_area)]]"
   ]
  },
  {
   "cell_type": "markdown",
   "metadata": {},
   "source": [
    "## Loading data\n",
    "### Create spatiotemporal query\n",
    "This establishes the spatial and temporal extent used to search for Landsat satellite data.\n"
   ]
  },
  {
   "cell_type": "code",
   "execution_count": 6,
   "metadata": {},
   "outputs": [],
   "source": [
    "# Create query based on analysis gridcell extent\n",
    "geopoly = Geometry(gridcell_gdf.iloc[0].geometry, crs=gridcell_gdf.crs)\n",
    "query = {\n",
    "    'geopolygon': geopoly.buffer(0.05),\n",
    "    'time': ('1987', '2021'),  # 1987, 2021\n",
    "    'dask_chunks': {\n",
    "        'time': 1,\n",
    "        'x': 3000,\n",
    "        'y': 3000\n",
    "    }\n",
    "}"
   ]
  },
  {
   "cell_type": "markdown",
   "metadata": {},
   "source": [
    "### Load satellite data as MNDWI\n",
    "This step loads satellite data from Landsat 5, 7 and 8, and returns the data as a cloud-masked array converted to the Modified Normalised Difference Water Index (MNDWI).\n",
    "For Digital Earth Australia Coastlines, this is achieved using [ODC Virtual Products](https://docs.dea.ga.gov.au/notebooks/Frequently_used_code/Virtual_products.html)."
   ]
  },
  {
   "cell_type": "code",
   "execution_count": 7,
   "metadata": {},
   "outputs": [
    {
     "name": "stderr",
     "output_type": "stream",
     "text": [
      "/env/lib/python3.8/site-packages/datacube/storage/masking.py:7: DeprecationWarning: datacube.storage.masking has moved to datacube.utils.masking\n",
      "  warnings.warn(\"datacube.storage.masking has moved to datacube.utils.masking\",\n"
     ]
    },
    {
     "data": {
      "text/html": [
       "<div><svg style=\"position: absolute; width: 0; height: 0; overflow: hidden\">\n",
       "<defs>\n",
       "<symbol id=\"icon-database\" viewBox=\"0 0 32 32\">\n",
       "<path d=\"M16 0c-8.837 0-16 2.239-16 5v4c0 2.761 7.163 5 16 5s16-2.239 16-5v-4c0-2.761-7.163-5-16-5z\"></path>\n",
       "<path d=\"M16 17c-8.837 0-16-2.239-16-5v6c0 2.761 7.163 5 16 5s16-2.239 16-5v-6c0 2.761-7.163 5-16 5z\"></path>\n",
       "<path d=\"M16 26c-8.837 0-16-2.239-16-5v6c0 2.761 7.163 5 16 5s16-2.239 16-5v-6c0 2.761-7.163 5-16 5z\"></path>\n",
       "</symbol>\n",
       "<symbol id=\"icon-file-text2\" viewBox=\"0 0 32 32\">\n",
       "<path d=\"M28.681 7.159c-0.694-0.947-1.662-2.053-2.724-3.116s-2.169-2.030-3.116-2.724c-1.612-1.182-2.393-1.319-2.841-1.319h-15.5c-1.378 0-2.5 1.121-2.5 2.5v27c0 1.378 1.122 2.5 2.5 2.5h23c1.378 0 2.5-1.122 2.5-2.5v-19.5c0-0.448-0.137-1.23-1.319-2.841zM24.543 5.457c0.959 0.959 1.712 1.825 2.268 2.543h-4.811v-4.811c0.718 0.556 1.584 1.309 2.543 2.268zM28 29.5c0 0.271-0.229 0.5-0.5 0.5h-23c-0.271 0-0.5-0.229-0.5-0.5v-27c0-0.271 0.229-0.5 0.5-0.5 0 0 15.499-0 15.5 0v7c0 0.552 0.448 1 1 1h7v19.5z\"></path>\n",
       "<path d=\"M23 26h-14c-0.552 0-1-0.448-1-1s0.448-1 1-1h14c0.552 0 1 0.448 1 1s-0.448 1-1 1z\"></path>\n",
       "<path d=\"M23 22h-14c-0.552 0-1-0.448-1-1s0.448-1 1-1h14c0.552 0 1 0.448 1 1s-0.448 1-1 1z\"></path>\n",
       "<path d=\"M23 18h-14c-0.552 0-1-0.448-1-1s0.448-1 1-1h14c0.552 0 1 0.448 1 1s-0.448 1-1 1z\"></path>\n",
       "</symbol>\n",
       "</defs>\n",
       "</svg>\n",
       "<style>/* CSS stylesheet for displaying xarray objects in jupyterlab.\n",
       " *\n",
       " */\n",
       "\n",
       ":root {\n",
       "  --xr-font-color0: var(--jp-content-font-color0, rgba(0, 0, 0, 1));\n",
       "  --xr-font-color2: var(--jp-content-font-color2, rgba(0, 0, 0, 0.54));\n",
       "  --xr-font-color3: var(--jp-content-font-color3, rgba(0, 0, 0, 0.38));\n",
       "  --xr-border-color: var(--jp-border-color2, #e0e0e0);\n",
       "  --xr-disabled-color: var(--jp-layout-color3, #bdbdbd);\n",
       "  --xr-background-color: var(--jp-layout-color0, white);\n",
       "  --xr-background-color-row-even: var(--jp-layout-color1, white);\n",
       "  --xr-background-color-row-odd: var(--jp-layout-color2, #eeeeee);\n",
       "}\n",
       "\n",
       "html[theme=dark],\n",
       "body.vscode-dark {\n",
       "  --xr-font-color0: rgba(255, 255, 255, 1);\n",
       "  --xr-font-color2: rgba(255, 255, 255, 0.54);\n",
       "  --xr-font-color3: rgba(255, 255, 255, 0.38);\n",
       "  --xr-border-color: #1F1F1F;\n",
       "  --xr-disabled-color: #515151;\n",
       "  --xr-background-color: #111111;\n",
       "  --xr-background-color-row-even: #111111;\n",
       "  --xr-background-color-row-odd: #313131;\n",
       "}\n",
       "\n",
       ".xr-wrap {\n",
       "  display: block;\n",
       "  min-width: 300px;\n",
       "  max-width: 700px;\n",
       "}\n",
       "\n",
       ".xr-text-repr-fallback {\n",
       "  /* fallback to plain text repr when CSS is not injected (untrusted notebook) */\n",
       "  display: none;\n",
       "}\n",
       "\n",
       ".xr-header {\n",
       "  padding-top: 6px;\n",
       "  padding-bottom: 6px;\n",
       "  margin-bottom: 4px;\n",
       "  border-bottom: solid 1px var(--xr-border-color);\n",
       "}\n",
       "\n",
       ".xr-header > div,\n",
       ".xr-header > ul {\n",
       "  display: inline;\n",
       "  margin-top: 0;\n",
       "  margin-bottom: 0;\n",
       "}\n",
       "\n",
       ".xr-obj-type,\n",
       ".xr-array-name {\n",
       "  margin-left: 2px;\n",
       "  margin-right: 10px;\n",
       "}\n",
       "\n",
       ".xr-obj-type {\n",
       "  color: var(--xr-font-color2);\n",
       "}\n",
       "\n",
       ".xr-sections {\n",
       "  padding-left: 0 !important;\n",
       "  display: grid;\n",
       "  grid-template-columns: 150px auto auto 1fr 20px 20px;\n",
       "}\n",
       "\n",
       ".xr-section-item {\n",
       "  display: contents;\n",
       "}\n",
       "\n",
       ".xr-section-item input {\n",
       "  display: none;\n",
       "}\n",
       "\n",
       ".xr-section-item input + label {\n",
       "  color: var(--xr-disabled-color);\n",
       "}\n",
       "\n",
       ".xr-section-item input:enabled + label {\n",
       "  cursor: pointer;\n",
       "  color: var(--xr-font-color2);\n",
       "}\n",
       "\n",
       ".xr-section-item input:enabled + label:hover {\n",
       "  color: var(--xr-font-color0);\n",
       "}\n",
       "\n",
       ".xr-section-summary {\n",
       "  grid-column: 1;\n",
       "  color: var(--xr-font-color2);\n",
       "  font-weight: 500;\n",
       "}\n",
       "\n",
       ".xr-section-summary > span {\n",
       "  display: inline-block;\n",
       "  padding-left: 0.5em;\n",
       "}\n",
       "\n",
       ".xr-section-summary-in:disabled + label {\n",
       "  color: var(--xr-font-color2);\n",
       "}\n",
       "\n",
       ".xr-section-summary-in + label:before {\n",
       "  display: inline-block;\n",
       "  content: '►';\n",
       "  font-size: 11px;\n",
       "  width: 15px;\n",
       "  text-align: center;\n",
       "}\n",
       "\n",
       ".xr-section-summary-in:disabled + label:before {\n",
       "  color: var(--xr-disabled-color);\n",
       "}\n",
       "\n",
       ".xr-section-summary-in:checked + label:before {\n",
       "  content: '▼';\n",
       "}\n",
       "\n",
       ".xr-section-summary-in:checked + label > span {\n",
       "  display: none;\n",
       "}\n",
       "\n",
       ".xr-section-summary,\n",
       ".xr-section-inline-details {\n",
       "  padding-top: 4px;\n",
       "  padding-bottom: 4px;\n",
       "}\n",
       "\n",
       ".xr-section-inline-details {\n",
       "  grid-column: 2 / -1;\n",
       "}\n",
       "\n",
       ".xr-section-details {\n",
       "  display: none;\n",
       "  grid-column: 1 / -1;\n",
       "  margin-bottom: 5px;\n",
       "}\n",
       "\n",
       ".xr-section-summary-in:checked ~ .xr-section-details {\n",
       "  display: contents;\n",
       "}\n",
       "\n",
       ".xr-array-wrap {\n",
       "  grid-column: 1 / -1;\n",
       "  display: grid;\n",
       "  grid-template-columns: 20px auto;\n",
       "}\n",
       "\n",
       ".xr-array-wrap > label {\n",
       "  grid-column: 1;\n",
       "  vertical-align: top;\n",
       "}\n",
       "\n",
       ".xr-preview {\n",
       "  color: var(--xr-font-color3);\n",
       "}\n",
       "\n",
       ".xr-array-preview,\n",
       ".xr-array-data {\n",
       "  padding: 0 5px !important;\n",
       "  grid-column: 2;\n",
       "}\n",
       "\n",
       ".xr-array-data,\n",
       ".xr-array-in:checked ~ .xr-array-preview {\n",
       "  display: none;\n",
       "}\n",
       "\n",
       ".xr-array-in:checked ~ .xr-array-data,\n",
       ".xr-array-preview {\n",
       "  display: inline-block;\n",
       "}\n",
       "\n",
       ".xr-dim-list {\n",
       "  display: inline-block !important;\n",
       "  list-style: none;\n",
       "  padding: 0 !important;\n",
       "  margin: 0;\n",
       "}\n",
       "\n",
       ".xr-dim-list li {\n",
       "  display: inline-block;\n",
       "  padding: 0;\n",
       "  margin: 0;\n",
       "}\n",
       "\n",
       ".xr-dim-list:before {\n",
       "  content: '(';\n",
       "}\n",
       "\n",
       ".xr-dim-list:after {\n",
       "  content: ')';\n",
       "}\n",
       "\n",
       ".xr-dim-list li:not(:last-child):after {\n",
       "  content: ',';\n",
       "  padding-right: 5px;\n",
       "}\n",
       "\n",
       ".xr-has-index {\n",
       "  font-weight: bold;\n",
       "}\n",
       "\n",
       ".xr-var-list,\n",
       ".xr-var-item {\n",
       "  display: contents;\n",
       "}\n",
       "\n",
       ".xr-var-item > div,\n",
       ".xr-var-item label,\n",
       ".xr-var-item > .xr-var-name span {\n",
       "  background-color: var(--xr-background-color-row-even);\n",
       "  margin-bottom: 0;\n",
       "}\n",
       "\n",
       ".xr-var-item > .xr-var-name:hover span {\n",
       "  padding-right: 5px;\n",
       "}\n",
       "\n",
       ".xr-var-list > li:nth-child(odd) > div,\n",
       ".xr-var-list > li:nth-child(odd) > label,\n",
       ".xr-var-list > li:nth-child(odd) > .xr-var-name span {\n",
       "  background-color: var(--xr-background-color-row-odd);\n",
       "}\n",
       "\n",
       ".xr-var-name {\n",
       "  grid-column: 1;\n",
       "}\n",
       "\n",
       ".xr-var-dims {\n",
       "  grid-column: 2;\n",
       "}\n",
       "\n",
       ".xr-var-dtype {\n",
       "  grid-column: 3;\n",
       "  text-align: right;\n",
       "  color: var(--xr-font-color2);\n",
       "}\n",
       "\n",
       ".xr-var-preview {\n",
       "  grid-column: 4;\n",
       "}\n",
       "\n",
       ".xr-var-name,\n",
       ".xr-var-dims,\n",
       ".xr-var-dtype,\n",
       ".xr-preview,\n",
       ".xr-attrs dt {\n",
       "  white-space: nowrap;\n",
       "  overflow: hidden;\n",
       "  text-overflow: ellipsis;\n",
       "  padding-right: 10px;\n",
       "}\n",
       "\n",
       ".xr-var-name:hover,\n",
       ".xr-var-dims:hover,\n",
       ".xr-var-dtype:hover,\n",
       ".xr-attrs dt:hover {\n",
       "  overflow: visible;\n",
       "  width: auto;\n",
       "  z-index: 1;\n",
       "}\n",
       "\n",
       ".xr-var-attrs,\n",
       ".xr-var-data {\n",
       "  display: none;\n",
       "  background-color: var(--xr-background-color) !important;\n",
       "  padding-bottom: 5px !important;\n",
       "}\n",
       "\n",
       ".xr-var-attrs-in:checked ~ .xr-var-attrs,\n",
       ".xr-var-data-in:checked ~ .xr-var-data {\n",
       "  display: block;\n",
       "}\n",
       "\n",
       ".xr-var-data > table {\n",
       "  float: right;\n",
       "}\n",
       "\n",
       ".xr-var-name span,\n",
       ".xr-var-data,\n",
       ".xr-attrs {\n",
       "  padding-left: 25px !important;\n",
       "}\n",
       "\n",
       ".xr-attrs,\n",
       ".xr-var-attrs,\n",
       ".xr-var-data {\n",
       "  grid-column: 1 / -1;\n",
       "}\n",
       "\n",
       "dl.xr-attrs {\n",
       "  padding: 0;\n",
       "  margin: 0;\n",
       "  display: grid;\n",
       "  grid-template-columns: 125px auto;\n",
       "}\n",
       "\n",
       ".xr-attrs dt,\n",
       ".xr-attrs dd {\n",
       "  padding: 0;\n",
       "  margin: 0;\n",
       "  float: left;\n",
       "  padding-right: 10px;\n",
       "  width: auto;\n",
       "}\n",
       "\n",
       ".xr-attrs dt {\n",
       "  font-weight: normal;\n",
       "  grid-column: 1;\n",
       "}\n",
       "\n",
       ".xr-attrs dt:hover span {\n",
       "  display: inline-block;\n",
       "  background: var(--xr-background-color);\n",
       "  padding-right: 10px;\n",
       "}\n",
       "\n",
       ".xr-attrs dd {\n",
       "  grid-column: 2;\n",
       "  white-space: pre-wrap;\n",
       "  word-break: break-all;\n",
       "}\n",
       "\n",
       ".xr-icon-database,\n",
       ".xr-icon-file-text2 {\n",
       "  display: inline-block;\n",
       "  vertical-align: middle;\n",
       "  width: 1em;\n",
       "  height: 1.5em !important;\n",
       "  stroke-width: 0;\n",
       "  stroke: currentColor;\n",
       "  fill: currentColor;\n",
       "}\n",
       "</style><pre class='xr-text-repr-fallback'>&lt;xarray.Dataset&gt;\n",
       "Dimensions:      (time: 617, y: 1340, x: 1548)\n",
       "Coordinates:\n",
       "  * time         (time) datetime64[ns] 1987-01-11T10:46:40.272006 ... 2021-11...\n",
       "  * y            (y) float64 1.788e+06 1.788e+06 ... 1.748e+06 1.748e+06\n",
       "  * x            (x) float64 3.085e+05 3.086e+05 ... 3.549e+05 3.549e+05\n",
       "    spatial_ref  int32 32628\n",
       "Data variables:\n",
       "    mndwi        (time, y, x) float32 dask.array&lt;chunksize=(1, 1340, 1548), meta=np.ndarray&gt;\n",
       "Attributes:\n",
       "    crs:           epsg:32628\n",
       "    grid_mapping:  spatial_ref</pre><div class='xr-wrap' hidden><div class='xr-header'><div class='xr-obj-type'>xarray.Dataset</div></div><ul class='xr-sections'><li class='xr-section-item'><input id='section-c7b7a89d-9876-415c-9eaf-2354697c730d' class='xr-section-summary-in' type='checkbox' disabled ><label for='section-c7b7a89d-9876-415c-9eaf-2354697c730d' class='xr-section-summary'  title='Expand/collapse section'>Dimensions:</label><div class='xr-section-inline-details'><ul class='xr-dim-list'><li><span class='xr-has-index'>time</span>: 617</li><li><span class='xr-has-index'>y</span>: 1340</li><li><span class='xr-has-index'>x</span>: 1548</li></ul></div><div class='xr-section-details'></div></li><li class='xr-section-item'><input id='section-047fabe0-0fb7-4770-9642-e71a733a8d5c' class='xr-section-summary-in' type='checkbox'  checked><label for='section-047fabe0-0fb7-4770-9642-e71a733a8d5c' class='xr-section-summary' >Coordinates: <span>(4)</span></label><div class='xr-section-inline-details'></div><div class='xr-section-details'><ul class='xr-var-list'><li class='xr-var-item'><div class='xr-var-name'><span class='xr-has-index'>time</span></div><div class='xr-var-dims'>(time)</div><div class='xr-var-dtype'>datetime64[ns]</div><div class='xr-var-preview xr-preview'>1987-01-11T10:46:40.272006 ... 2...</div><input id='attrs-7302dcd3-b7af-4d4b-bfcc-b7dbf2178dfe' class='xr-var-attrs-in' type='checkbox' ><label for='attrs-7302dcd3-b7af-4d4b-bfcc-b7dbf2178dfe' title='Show/Hide attributes'><svg class='icon xr-icon-file-text2'><use xlink:href='#icon-file-text2'></use></svg></label><input id='data-6fbc58e9-5929-4b12-a715-82838ce48fdf' class='xr-var-data-in' type='checkbox'><label for='data-6fbc58e9-5929-4b12-a715-82838ce48fdf' title='Show/Hide data repr'><svg class='icon xr-icon-database'><use xlink:href='#icon-database'></use></svg></label><div class='xr-var-attrs'><dl class='xr-attrs'><dt><span>units :</span></dt><dd>seconds since 1970-01-01 00:00:00</dd></dl></div><div class='xr-var-data'><pre>array([&#x27;1987-01-11T10:46:40.272006000&#x27;, &#x27;1987-01-27T10:47:07.144025000&#x27;,\n",
       "       &#x27;1987-04-17T10:50:04.577056000&#x27;, ..., &#x27;2021-10-15T10:21:50.723590000&#x27;,\n",
       "       &#x27;2021-10-23T11:27:30.346841000&#x27;, &#x27;2021-11-08T11:27:27.972489000&#x27;],\n",
       "      dtype=&#x27;datetime64[ns]&#x27;)</pre></div></li><li class='xr-var-item'><div class='xr-var-name'><span class='xr-has-index'>y</span></div><div class='xr-var-dims'>(y)</div><div class='xr-var-dtype'>float64</div><div class='xr-var-preview xr-preview'>1.788e+06 1.788e+06 ... 1.748e+06</div><input id='attrs-93d8e533-d323-442f-b73a-2b2f1207628d' class='xr-var-attrs-in' type='checkbox' ><label for='attrs-93d8e533-d323-442f-b73a-2b2f1207628d' title='Show/Hide attributes'><svg class='icon xr-icon-file-text2'><use xlink:href='#icon-file-text2'></use></svg></label><input id='data-03614e0e-3d9c-4e2a-bfa0-7757b0f12a47' class='xr-var-data-in' type='checkbox'><label for='data-03614e0e-3d9c-4e2a-bfa0-7757b0f12a47' title='Show/Hide data repr'><svg class='icon xr-icon-database'><use xlink:href='#icon-database'></use></svg></label><div class='xr-var-attrs'><dl class='xr-attrs'><dt><span>units :</span></dt><dd>metre</dd><dt><span>resolution :</span></dt><dd>-30.0</dd><dt><span>crs :</span></dt><dd>epsg:32628</dd></dl></div><div class='xr-var-data'><pre>array([1787790., 1787760., 1787730., ..., 1747680., 1747650., 1747620.])</pre></div></li><li class='xr-var-item'><div class='xr-var-name'><span class='xr-has-index'>x</span></div><div class='xr-var-dims'>(x)</div><div class='xr-var-dtype'>float64</div><div class='xr-var-preview xr-preview'>3.085e+05 3.086e+05 ... 3.549e+05</div><input id='attrs-281ca77b-97fb-4314-a468-f2a1a20af827' class='xr-var-attrs-in' type='checkbox' ><label for='attrs-281ca77b-97fb-4314-a468-f2a1a20af827' title='Show/Hide attributes'><svg class='icon xr-icon-file-text2'><use xlink:href='#icon-file-text2'></use></svg></label><input id='data-81459a67-8f95-48e8-a7fb-c8f199273950' class='xr-var-data-in' type='checkbox'><label for='data-81459a67-8f95-48e8-a7fb-c8f199273950' title='Show/Hide data repr'><svg class='icon xr-icon-database'><use xlink:href='#icon-database'></use></svg></label><div class='xr-var-attrs'><dl class='xr-attrs'><dt><span>units :</span></dt><dd>metre</dd><dt><span>resolution :</span></dt><dd>30.0</dd><dt><span>crs :</span></dt><dd>epsg:32628</dd></dl></div><div class='xr-var-data'><pre>array([308520., 308550., 308580., ..., 354870., 354900., 354930.])</pre></div></li><li class='xr-var-item'><div class='xr-var-name'><span>spatial_ref</span></div><div class='xr-var-dims'>()</div><div class='xr-var-dtype'>int32</div><div class='xr-var-preview xr-preview'>32628</div><input id='attrs-517da4e4-53ad-4991-918b-7088a3cf7beb' class='xr-var-attrs-in' type='checkbox' ><label for='attrs-517da4e4-53ad-4991-918b-7088a3cf7beb' title='Show/Hide attributes'><svg class='icon xr-icon-file-text2'><use xlink:href='#icon-file-text2'></use></svg></label><input id='data-e39cb805-f274-4830-a4c1-38e7d7194c87' class='xr-var-data-in' type='checkbox'><label for='data-e39cb805-f274-4830-a4c1-38e7d7194c87' title='Show/Hide data repr'><svg class='icon xr-icon-database'><use xlink:href='#icon-database'></use></svg></label><div class='xr-var-attrs'><dl class='xr-attrs'><dt><span>spatial_ref :</span></dt><dd>PROJCS[&quot;WGS 84 / UTM zone 28N&quot;,GEOGCS[&quot;WGS 84&quot;,DATUM[&quot;WGS_1984&quot;,SPHEROID[&quot;WGS 84&quot;,6378137,298.257223563,AUTHORITY[&quot;EPSG&quot;,&quot;7030&quot;]],AUTHORITY[&quot;EPSG&quot;,&quot;6326&quot;]],PRIMEM[&quot;Greenwich&quot;,0,AUTHORITY[&quot;EPSG&quot;,&quot;8901&quot;]],UNIT[&quot;degree&quot;,0.0174532925199433,AUTHORITY[&quot;EPSG&quot;,&quot;9122&quot;]],AUTHORITY[&quot;EPSG&quot;,&quot;4326&quot;]],PROJECTION[&quot;Transverse_Mercator&quot;],PARAMETER[&quot;latitude_of_origin&quot;,0],PARAMETER[&quot;central_meridian&quot;,-15],PARAMETER[&quot;scale_factor&quot;,0.9996],PARAMETER[&quot;false_easting&quot;,500000],PARAMETER[&quot;false_northing&quot;,0],UNIT[&quot;metre&quot;,1,AUTHORITY[&quot;EPSG&quot;,&quot;9001&quot;]],AXIS[&quot;Easting&quot;,EAST],AXIS[&quot;Northing&quot;,NORTH],AUTHORITY[&quot;EPSG&quot;,&quot;32628&quot;]]</dd><dt><span>grid_mapping_name :</span></dt><dd>transverse_mercator</dd></dl></div><div class='xr-var-data'><pre>array(32628, dtype=int32)</pre></div></li></ul></div></li><li class='xr-section-item'><input id='section-4521d768-23d4-4b5a-a6e3-77147fb5b497' class='xr-section-summary-in' type='checkbox'  checked><label for='section-4521d768-23d4-4b5a-a6e3-77147fb5b497' class='xr-section-summary' >Data variables: <span>(1)</span></label><div class='xr-section-inline-details'></div><div class='xr-section-details'><ul class='xr-var-list'><li class='xr-var-item'><div class='xr-var-name'><span>mndwi</span></div><div class='xr-var-dims'>(time, y, x)</div><div class='xr-var-dtype'>float32</div><div class='xr-var-preview xr-preview'>dask.array&lt;chunksize=(1, 1340, 1548), meta=np.ndarray&gt;</div><input id='attrs-860b9054-a501-4ea7-ac80-a29222a85533' class='xr-var-attrs-in' type='checkbox' ><label for='attrs-860b9054-a501-4ea7-ac80-a29222a85533' title='Show/Hide attributes'><svg class='icon xr-icon-file-text2'><use xlink:href='#icon-file-text2'></use></svg></label><input id='data-90a1517c-62c7-45ad-83c7-8ce4701cd58f' class='xr-var-data-in' type='checkbox'><label for='data-90a1517c-62c7-45ad-83c7-8ce4701cd58f' title='Show/Hide data repr'><svg class='icon xr-icon-database'><use xlink:href='#icon-database'></use></svg></label><div class='xr-var-attrs'><dl class='xr-attrs'><dt><span>crs :</span></dt><dd>epsg:32628</dd><dt><span>units :</span></dt><dd>1</dd><dt><span>nodata :</span></dt><dd>nan</dd></dl></div><div class='xr-var-data'><table>\n",
       "<tr>\n",
       "<td>\n",
       "<table>\n",
       "  <thead>\n",
       "    <tr><td> </td><th> Array </th><th> Chunk </th></tr>\n",
       "  </thead>\n",
       "  <tbody>\n",
       "    <tr><th> Bytes </th><td> 5.12 GB </td> <td> 8.30 MB </td></tr>\n",
       "    <tr><th> Shape </th><td> (617, 1340, 1548) </td> <td> (1, 1340, 1548) </td></tr>\n",
       "    <tr><th> Count </th><td> 39490 Tasks </td><td> 617 Chunks </td></tr>\n",
       "    <tr><th> Type </th><td> float32 </td><td> numpy.ndarray </td></tr>\n",
       "  </tbody>\n",
       "</table>\n",
       "</td>\n",
       "<td>\n",
       "<svg width=\"208\" height=\"182\" style=\"stroke:rgb(0,0,0);stroke-width:1\" >\n",
       "\n",
       "  <!-- Horizontal lines -->\n",
       "  <line x1=\"10\" y1=\"0\" x2=\"38\" y2=\"28\" style=\"stroke-width:2\" />\n",
       "  <line x1=\"10\" y1=\"103\" x2=\"38\" y2=\"132\" style=\"stroke-width:2\" />\n",
       "\n",
       "  <!-- Vertical lines -->\n",
       "  <line x1=\"10\" y1=\"0\" x2=\"10\" y2=\"103\" style=\"stroke-width:2\" />\n",
       "  <line x1=\"11\" y1=\"1\" x2=\"11\" y2=\"105\" />\n",
       "  <line x1=\"12\" y1=\"2\" x2=\"12\" y2=\"106\" />\n",
       "  <line x1=\"14\" y1=\"4\" x2=\"14\" y2=\"108\" />\n",
       "  <line x1=\"15\" y1=\"5\" x2=\"15\" y2=\"109\" />\n",
       "  <line x1=\"17\" y1=\"7\" x2=\"17\" y2=\"111\" />\n",
       "  <line x1=\"18\" y1=\"8\" x2=\"18\" y2=\"112\" />\n",
       "  <line x1=\"20\" y1=\"10\" x2=\"20\" y2=\"114\" />\n",
       "  <line x1=\"21\" y1=\"11\" x2=\"21\" y2=\"115\" />\n",
       "  <line x1=\"23\" y1=\"13\" x2=\"23\" y2=\"117\" />\n",
       "  <line x1=\"24\" y1=\"14\" x2=\"24\" y2=\"118\" />\n",
       "  <line x1=\"26\" y1=\"16\" x2=\"26\" y2=\"120\" />\n",
       "  <line x1=\"27\" y1=\"17\" x2=\"27\" y2=\"121\" />\n",
       "  <line x1=\"29\" y1=\"19\" x2=\"29\" y2=\"123\" />\n",
       "  <line x1=\"30\" y1=\"20\" x2=\"30\" y2=\"124\" />\n",
       "  <line x1=\"32\" y1=\"22\" x2=\"32\" y2=\"126\" />\n",
       "  <line x1=\"33\" y1=\"23\" x2=\"33\" y2=\"127\" />\n",
       "  <line x1=\"35\" y1=\"25\" x2=\"35\" y2=\"129\" />\n",
       "  <line x1=\"36\" y1=\"26\" x2=\"36\" y2=\"130\" />\n",
       "  <line x1=\"38\" y1=\"28\" x2=\"38\" y2=\"132\" style=\"stroke-width:2\" />\n",
       "\n",
       "  <!-- Colored Rectangle -->\n",
       "  <polygon points=\"10.0,0.0 38.13497492020064,28.13497492020064 38.13497492020064,132.0109439124487 10.0,103.87596899224806\" style=\"fill:#8B4903A0;stroke-width:0\"/>\n",
       "\n",
       "  <!-- Horizontal lines -->\n",
       "  <line x1=\"10\" y1=\"0\" x2=\"130\" y2=\"0\" style=\"stroke-width:2\" />\n",
       "  <line x1=\"11\" y1=\"1\" x2=\"131\" y2=\"1\" />\n",
       "  <line x1=\"12\" y1=\"2\" x2=\"132\" y2=\"2\" />\n",
       "  <line x1=\"14\" y1=\"4\" x2=\"134\" y2=\"4\" />\n",
       "  <line x1=\"15\" y1=\"5\" x2=\"135\" y2=\"5\" />\n",
       "  <line x1=\"17\" y1=\"7\" x2=\"137\" y2=\"7\" />\n",
       "  <line x1=\"18\" y1=\"8\" x2=\"138\" y2=\"8\" />\n",
       "  <line x1=\"20\" y1=\"10\" x2=\"140\" y2=\"10\" />\n",
       "  <line x1=\"21\" y1=\"11\" x2=\"141\" y2=\"11\" />\n",
       "  <line x1=\"23\" y1=\"13\" x2=\"143\" y2=\"13\" />\n",
       "  <line x1=\"24\" y1=\"14\" x2=\"144\" y2=\"14\" />\n",
       "  <line x1=\"26\" y1=\"16\" x2=\"146\" y2=\"16\" />\n",
       "  <line x1=\"27\" y1=\"17\" x2=\"147\" y2=\"17\" />\n",
       "  <line x1=\"29\" y1=\"19\" x2=\"149\" y2=\"19\" />\n",
       "  <line x1=\"30\" y1=\"20\" x2=\"150\" y2=\"20\" />\n",
       "  <line x1=\"32\" y1=\"22\" x2=\"152\" y2=\"22\" />\n",
       "  <line x1=\"33\" y1=\"23\" x2=\"153\" y2=\"23\" />\n",
       "  <line x1=\"35\" y1=\"25\" x2=\"155\" y2=\"25\" />\n",
       "  <line x1=\"36\" y1=\"26\" x2=\"156\" y2=\"26\" />\n",
       "  <line x1=\"38\" y1=\"28\" x2=\"158\" y2=\"28\" style=\"stroke-width:2\" />\n",
       "\n",
       "  <!-- Vertical lines -->\n",
       "  <line x1=\"10\" y1=\"0\" x2=\"38\" y2=\"28\" style=\"stroke-width:2\" />\n",
       "  <line x1=\"130\" y1=\"0\" x2=\"158\" y2=\"28\" style=\"stroke-width:2\" />\n",
       "\n",
       "  <!-- Colored Rectangle -->\n",
       "  <polygon points=\"10.0,0.0 130.0,0.0 158.13497492020065,28.13497492020064 38.13497492020064,28.13497492020064\" style=\"fill:#8B4903A0;stroke-width:0\"/>\n",
       "\n",
       "  <!-- Horizontal lines -->\n",
       "  <line x1=\"38\" y1=\"28\" x2=\"158\" y2=\"28\" style=\"stroke-width:2\" />\n",
       "  <line x1=\"38\" y1=\"132\" x2=\"158\" y2=\"132\" style=\"stroke-width:2\" />\n",
       "\n",
       "  <!-- Vertical lines -->\n",
       "  <line x1=\"38\" y1=\"28\" x2=\"38\" y2=\"132\" style=\"stroke-width:2\" />\n",
       "  <line x1=\"158\" y1=\"28\" x2=\"158\" y2=\"132\" style=\"stroke-width:2\" />\n",
       "\n",
       "  <!-- Colored Rectangle -->\n",
       "  <polygon points=\"38.13497492020064,28.13497492020064 158.13497492020065,28.13497492020064 158.13497492020065,132.0109439124487 38.13497492020064,132.0109439124487\" style=\"fill:#ECB172A0;stroke-width:0\"/>\n",
       "\n",
       "  <!-- Text -->\n",
       "  <text x=\"98.134975\" y=\"152.010944\" font-size=\"1.0rem\" font-weight=\"100\" text-anchor=\"middle\" >1548</text>\n",
       "  <text x=\"178.134975\" y=\"80.072959\" font-size=\"1.0rem\" font-weight=\"100\" text-anchor=\"middle\" transform=\"rotate(-90,178.134975,80.072959)\">1340</text>\n",
       "  <text x=\"14.067487\" y=\"137.943456\" font-size=\"1.0rem\" font-weight=\"100\" text-anchor=\"middle\" transform=\"rotate(45,14.067487,137.943456)\">617</text>\n",
       "</svg>\n",
       "</td>\n",
       "</tr>\n",
       "</table></div></li></ul></div></li><li class='xr-section-item'><input id='section-b43fd7d5-dd85-4072-a77e-196f18cff2bc' class='xr-section-summary-in' type='checkbox'  checked><label for='section-b43fd7d5-dd85-4072-a77e-196f18cff2bc' class='xr-section-summary' >Attributes: <span>(2)</span></label><div class='xr-section-inline-details'></div><div class='xr-section-details'><dl class='xr-attrs'><dt><span>crs :</span></dt><dd>epsg:32628</dd><dt><span>grid_mapping :</span></dt><dd>spatial_ref</dd></dl></div></li></ul></div></div>"
      ],
      "text/plain": [
       "<xarray.Dataset>\n",
       "Dimensions:      (time: 617, y: 1340, x: 1548)\n",
       "Coordinates:\n",
       "  * time         (time) datetime64[ns] 1987-01-11T10:46:40.272006 ... 2021-11...\n",
       "  * y            (y) float64 1.788e+06 1.788e+06 ... 1.748e+06 1.748e+06\n",
       "  * x            (x) float64 3.085e+05 3.086e+05 ... 3.549e+05 3.549e+05\n",
       "    spatial_ref  int32 32628\n",
       "Data variables:\n",
       "    mndwi        (time, y, x) float32 dask.array<chunksize=(1, 1340, 1548), meta=np.ndarray>\n",
       "Attributes:\n",
       "    crs:           epsg:32628\n",
       "    grid_mapping:  spatial_ref"
      ]
     },
     "execution_count": 7,
     "metadata": {},
     "output_type": "execute_result"
    }
   ],
   "source": [
    "# Load MNDWI virtual product\n",
    "ds = dea_coastlines.raster.load_water_index(\n",
    "    dc,\n",
    "    query,\n",
    "    yaml_path=config['Virtual product']['virtual_product_path'],\n",
    "    product_name=config['Virtual product']['virtual_product_name'])\n",
    "ds"
   ]
  },
  {
   "cell_type": "markdown",
   "metadata": {},
   "source": [
    "## Tidal modelling\n",
    "### Model tides at point locations\n",
    "Model tides at each point in a provided `geopandas.GeoDataFrame` based on all timesteps observed by Landsat. This returns a new `geopandas.GeoDataFrame` with a \"time\" index \n",
    "(matching every time step in our Landsat data), and a \"tide_m\" column giving the \n",
    "tide heights at each point location at that time."
   ]
  },
  {
   "cell_type": "code",
   "execution_count": 8,
   "metadata": {},
   "outputs": [
    {
     "data": {
      "text/plain": [
       "<AxesSubplot:>"
      ]
     },
     "execution_count": 8,
     "metadata": {},
     "output_type": "execute_result"
    },
    {
     "data": {
      "image/png": "[encoded data removed]",
      "text/plain": [
       "<Figure size 432x288 with 1 Axes>"
      ]
     },
     "metadata": {
      "needs_background": "light"
     },
     "output_type": "display_data"
    }
   ],
   "source": [
    "tidepoints_gdf = dea_coastlines.raster.model_tide_points(ds, points_gdf)\n",
    "tidepoints_gdf.plot()"
   ]
  },
  {
   "cell_type": "markdown",
   "metadata": {},
   "source": [
    "### Interpolate tides into each satellite timestep\n",
    "For each satellite timestep, spatially interpolate our modelled tide height points into the spatial extent of our satellite image, and add this new data as a new variable in our satellite dataset. This allows each satellite pixel to be analysed and filtered/masked based on the tide height at the exact moment of satellite image acquisition. "
   ]
  },
  {
   "cell_type": "code",
   "execution_count": 9,
   "metadata": {},
   "outputs": [
    {
     "name": "stdout",
     "output_type": "stream",
     "text": [
      "Parallelising 63 processes\n",
      "2021-11-08 11:27:27                                                             2009-05-23 11:17:30                                                             2009-07-02 11:15:41                                                             2012-11-07 11:22:54                                                             2012-11-23 11:23:03                                                             2014-12-23 11:27:11                                                             2015-01-08 11:27:07                                                             2015-02-09 11:26:56                                                             2015-02-25 11:26:52                                                             \r"
     ]
    }
   ],
   "source": [
    "# Interpolate tides for each timestep in `ds`\n",
    "ds['tide_m'] = dea_coastlines.raster.multiprocess_apply(\n",
    "    ds=ds,\n",
    "    dim='time',\n",
    "    func=partial(dea_coastlines.raster.interpolate_tide,\n",
    "                 tidepoints_gdf=tidepoints_gdf))"
   ]
  },
  {
   "cell_type": "markdown",
   "metadata": {},
   "source": [
    "Plot example interpolated tide surface for a single timestep:"
   ]
  },
  {
   "cell_type": "code",
   "execution_count": 10,
   "metadata": {},
   "outputs": [
    {
     "data": {
      "image/png": "[encoded data removed]",
      "text/plain": [
       "<Figure size 1296x864 with 2 Axes>"
      ]
     },
     "metadata": {
      "needs_background": "light"
     },
     "output_type": "display_data"
    }
   ],
   "source": [
    "import matplotlib.pyplot as plt\n",
    "\n",
    "# Plot\n",
    "ds_i = ds['tide_m'].isel(time=-1).compute()\n",
    "ds_i.plot.imshow(robust=True,\n",
    "                 cmap='viridis',\n",
    "                 size=12,\n",
    "                 vmin=ds_i.min().item(),\n",
    "                 vmax=ds_i.max().item())\n",
    "tidepoints_gdf.loc[str(ds_i.time.values)[0:10]].plot(ax=plt.gca(),\n",
    "                                                     column='tide_m',\n",
    "                                                     cmap='viridis',\n",
    "                                                     markersize=100,\n",
    "                                                     edgecolor='black',\n",
    "                                                     vmin=ds_i.min().item(),\n",
    "                                                     vmax=ds_i.max().item())\n",
    "gridcell_gdf.to_crs(tidepoints_gdf.crs).plot(ax=plt.gca(),\n",
    "                                             facecolor='none',\n",
    "                                             edgecolor='black');"
   ]
  },
  {
   "cell_type": "markdown",
   "metadata": {},
   "source": [
    "### Calculate per-pixel tide cutoffs\n",
    "Based on the entire time-series of tide heights, compute the max and min satellite-observed tide height for each pixel, then calculate tide cutoffs used to restrict our data to satellite observations centred over mid-tide (0 m Above Mean Sea Level)."
   ]
  },
  {
   "cell_type": "code",
   "execution_count": 11,
   "metadata": {},
   "outputs": [],
   "source": [
    "# Determine tide cutoff\n",
    "tide_cutoff_buff = (\n",
    "    (ds['tide_m'].max(dim='time') - ds['tide_m'].min(dim='time')) * 0.25)\n",
    "tide_cutoff_min = 0.0 - tide_cutoff_buff\n",
    "tide_cutoff_max = 0.0 + tide_cutoff_buff"
   ]
  },
  {
   "cell_type": "markdown",
   "metadata": {},
   "source": [
    "## Generate yearly composites\n",
    "Export tidally-masked MNDWI median composites for each year, and three-yearly composites used to gapfill poor data coverage areas."
   ]
  },
  {
   "cell_type": "code",
   "execution_count": 12,
   "metadata": {},
   "outputs": [
    {
     "name": "stdout",
     "output_type": "stream",
     "text": [
      "Processing 1987\n"
     ]
    },
    {
     "name": "stderr",
     "output_type": "stream",
     "text": [
      "CPLReleaseMutex: Error = 1 (Operation not permitted)\n"
     ]
    },
    {
     "name": "stdout",
     "output_type": "stream",
     "text": [
      "Processing 1988\n",
      "Processing 1989\n",
      "Processing 1990\n",
      "Processing 1994\n",
      "Processing 1995\n",
      "Processing 1998\n",
      "Processing 1999\n",
      "Processing 2000\n",
      "Processing 2001\n",
      "Processing 2002\n",
      "Processing 2003\n",
      "Processing 2004\n",
      "Processing 2005\n",
      "Processing 2006\n",
      "Processing 2007\n",
      "Processing 2008\n",
      "Processing 2009\n",
      "Processing 2010\n",
      "Processing 2011\n",
      "Processing 2012\n",
      "Processing 2013\n",
      "Processing 2014\n",
      "Processing 2015\n",
      "Processing 2016\n",
      "Processing 2017\n",
      "Processing 2018\n",
      "Processing 2019\n",
      "Processing 2020\n",
      "Processing 2021\n"
     ]
    }
   ],
   "source": [
    "# If output folder doesn't exist, create it\n",
    "output_dir = f'data/interim/raster/{raster_version}/{study_area}_{raster_version}'\n",
    "os.makedirs(output_dir, exist_ok=True)\n",
    "\n",
    "# Iterate through each year and export annual and 3-year gapfill composites\n",
    "dea_coastlines.raster.export_annual_gapfill(ds, output_dir, tide_cutoff_min,\n",
    "                                            tide_cutoff_max)"
   ]
  },
  {
   "cell_type": "code",
   "execution_count": null,
   "metadata": {},
   "outputs": [],
   "source": [
    "# Load data for the subsequent year\n",
    "future_ds = dea_coastlines.raster.load_tidal_subset(ds.sel(time=str(1988 + 1)),\n",
    "                                                    tide_cutoff_min=tide_cutoff_min,\n",
    "                                                    tide_cutoff_max=tide_cutoff_max)"
   ]
  },
  {
   "cell_type": "code",
   "execution_count": null,
   "metadata": {},
   "outputs": [],
   "source": [
    "future_ds"
   ]
  },
  {
   "cell_type": "code",
   "execution_count": null,
   "metadata": {},
   "outputs": [],
   "source": [
    "year = 1988\n",
    "\n",
    "\n",
    "# Load data for the subsequent year\n",
    "future_ds = dea_coastlines.raster.load_tidal_subset(ds.sel(time=str(year + 1)), \n",
    "                              tide_cutoff_min=tide_cutoff_min,\n",
    "                              tide_cutoff_max=tide_cutoff_max)\n",
    "\n",
    "\n",
    "\n",
    "# blank_ds = ds.isel(time=[0]).where(False).copy()"
   ]
  },
  {
   "cell_type": "code",
   "execution_count": null,
   "metadata": {},
   "outputs": [],
   "source": [
    "blank_ds"
   ]
  },
  {
   "cell_type": "code",
   "execution_count": null,
   "metadata": {},
   "outputs": [],
   "source": [
    "# import numpy as np\n",
    "# current_ds.mndwi[:,:] = np.nan\n",
    "\n",
    "\n",
    "\n",
    "ds = xr.Dataset({\n",
    "    'mndwi': xr.DataArray(\n",
    "                data   = np.random.random(6),   # enter data here\n",
    "                dims   = ['time'],\n",
    "                coords = ds.coords\n",
    "                ),\n",
    "    'LWdown': xr.DataArray(\n",
    "                data   = np.random.random(6),   # enter data here\n",
    "                dims   = ['time'],\n",
    "                coords = ds.coords,\n",
    "                )\n",
    "            },\n",
    "        attrs = {'example_attr': 'this is a global attribute'}\n",
    "    )"
   ]
  },
  {
   "cell_type": "code",
   "execution_count": null,
   "metadata": {},
   "outputs": [],
   "source": [
    "\n",
    "            "
   ]
  },
  {
   "cell_type": "code",
   "execution_count": null,
   "metadata": {},
   "outputs": [],
   "source": [
    "np.ones((1, ds.geobox.shape[0], ds.geobox.shape[1])).shape"
   ]
  },
  {
   "cell_type": "code",
   "execution_count": null,
   "metadata": {},
   "outputs": [],
   "source": [
    "ds.coords"
   ]
  },
  {
   "cell_type": "code",
   "execution_count": null,
   "metadata": {},
   "outputs": [],
   "source": [
    "\n",
    "\n",
    "dea_coastlines.raster.tidal_composite(current_ds, \n",
    "                label=year,\n",
    "                label_dim='year',\n",
    "                output_dir=output_dir, \n",
    "                export_geotiff=True)        \n"
   ]
  },
  {
   "cell_type": "markdown",
   "metadata": {},
   "source": [
    "### Close Dask client"
   ]
  },
  {
   "cell_type": "code",
   "execution_count": 13,
   "metadata": {},
   "outputs": [],
   "source": [
    "client.close()"
   ]
  },
  {
   "cell_type": "markdown",
   "metadata": {},
   "source": [
    "***\n",
    "\n",
    "## Additional information"
   ]
  },
  {
   "cell_type": "markdown",
   "metadata": {},
   "source": [
    "**License:** The code in this notebook is licensed under the [Apache License, Version 2.0](https://www.apache.org/licenses/LICENSE-2.0). \n",
    "Digital Earth Australia data is licensed under the [Creative Commons by Attribution 4.0](https://creativecommons.org/licenses/by/4.0/) license.\n",
    "\n",
    "**Contact:** For assistance with any of the Python code or Jupyter Notebooks in this repository, please post a [Github issue](https://github.com/GeoscienceAustralia/DEACoastLines/issues/new). For questions or more information about this product, sign up to the [Open Data Cube Slack](https://join.slack.com/t/opendatacube/shared_invite/zt-d6hu7l35-CGDhSxiSmTwacKNuXWFUkg) and post on the [`#dea-coastlines`](https://app.slack.com/client/T0L4V0TFT/C018X6J9HLY/details/) channel.\n",
    "\n",
    "**Last modified:** November 2021"
   ]
  }
 ],
 "metadata": {
  "kernelspec": {
   "display_name": "Python 3 (ipykernel)",
   "language": "python",
   "name": "python3"
  },
  "language_info": {
   "codemirror_mode": {
    "name": "ipython",
    "version": 3
   },
   "file_extension": ".py",
   "mimetype": "text/x-python",
   "name": "python",
   "nbconvert_exporter": "python",
   "pygments_lexer": "ipython3",
   "version": "3.8.10"
  },
  "widgets": {
   "application/vnd.jupyter.widget-state+json": {
    "state": {},
    "version_major": 2,
    "version_minor": 0
   }
  }
 },
 "nbformat": 4,
 "nbformat_minor": 4
}
