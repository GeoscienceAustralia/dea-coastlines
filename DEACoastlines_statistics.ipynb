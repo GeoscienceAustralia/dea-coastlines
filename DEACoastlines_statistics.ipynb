{
 "cells": [
  {
   "cell_type": "markdown",
   "metadata": {},
   "source": [
    "# DEA Coastlines vector statistics <img align=\"right\" src=\"https://github.com/GeoscienceAustralia/dea-notebooks/raw/develop/Supplementary_data/dea_logo.jpg\">\n",
    "\n",
    "This code conducts vector subpixel coastline extraction for DEA Coastlines:\n",
    "\n",
    "* Apply morphological extraction algorithms to mask annual median composite rasters to a valid coastal region\n",
    "* Extract waterline vectors using subpixel waterline extraction ([Bishop-Taylor et al. 2019b](https://doi.org/10.3390/rs11242984))\n",
    "* Compute rates of coastal change at every 30 m along Australia's non-rocky coastlines using linear regression\n",
    "\n",
    "This is an interactive version of the code intended for prototyping; to run this analysis at scale, use the [`deacoastlines_statistics.py`](deacoastlines_statistics.py) Python script.\n",
    "\n",
    "**Compatability:**\n",
    "```\n",
    "module use /g/data/v10/public/modules/modulefiles\n",
    "module load dea/20200713\n",
    "pip install --user ruptures\n",
    "pip install --user git+https://github.com/mattijn/topojson/\n",
    "```\n",
    "---"
   ]
  },
  {
   "cell_type": "markdown",
   "metadata": {},
   "source": [
    "### Load packages\n",
    "\n",
    "First we import all required Python packages, and then start the vector coastline extraction process."
   ]
  },
  {
   "cell_type": "code",
   "execution_count": null,
   "metadata": {},
   "outputs": [],
   "source": [
    "!pip install topojson\n",
    "!pip install ruptures"
   ]
  },
  {
   "cell_type": "code",
   "execution_count": 2,
   "metadata": {},
   "outputs": [],
   "source": [
    "%matplotlib inline\n",
    "%load_ext line_profiler\n",
    "%load_ext autoreload\n",
    "%autoreload 2\n",
    "\n",
    "import deacoastlines_statistics as deacl_stats\n",
    "\n",
    "import os\n",
    "import sys\n",
    "import geopandas as gpd\n",
    "from shapely.geometry import box\n",
    "from rasterio.transform import array_bounds\n",
    "import pandas as pd\n",
    "import shutil\n",
    "import matplotlib.pyplot as plt\n"
   ]
  },
  {
   "cell_type": "markdown",
   "metadata": {},
   "source": [
    "## Load in data"
   ]
  },
  {
   "cell_type": "code",
   "execution_count": 5,
   "metadata": {},
   "outputs": [],
   "source": [
    "# Read in contours\n",
    "study_area = 137\n",
    "# study_area = 6931\n",
    "# study_area = 8529\n",
    "# study_area = 8531\n",
    "# study_area = 4208\n",
    "raster_version = 'v0.0.2'\n",
    "vector_version = 'v0.0.2'\n",
    "water_index = 'mndwi'\n",
    "index_threshold = 0\n",
    "baseline_year = '2020'\n"
   ]
  },
  {
   "cell_type": "markdown",
   "metadata": {},
   "source": [
    "## Load DEA CoastLines rasters"
   ]
  },
  {
   "cell_type": "code",
   "execution_count": 6,
   "metadata": {},
   "outputs": [
    {
     "name": "stdout",
     "output_type": "stream",
     "text": [
      "<xarray.Dataset>\n",
      "Dimensions:  (x: 1528, y: 1348, year: 31)\n",
      "Coordinates:\n",
      "  * year     (year) int64 1985 1986 1987 1988 1989 ... 2016 2017 2018 2019 2020\n",
      "  * y        (y) float64 2.019e+06 2.019e+06 2.019e+06 ... 1.979e+06 1.979e+06\n",
      "  * x        (x) float64 3.809e+05 3.809e+05 3.809e+05 ... 4.267e+05 4.267e+05\n",
      "Data variables:\n",
      "    mndwi    (year, y, x) float32 nan nan nan ... -0.47124493 -0.4770105\n",
      "    tide_m   (year, y, x) float32 0.15873776 0.15874194 ... -0.14653248\n",
      "    count    (year, y, x) int16 0 0 0 0 0 0 0 0 0 ... 24 24 24 24 24 24 25 25 25\n",
      "    stdev    (year, y, x) float32 nan nan nan ... 0.040198106 0.034263596\n",
      "Attributes:\n",
      "    transform:      | 30.00, 0.00, 380865.00|\\n| 0.00,-30.00, 2019435.00|\\n| ...\n",
      "    crs:            +init=epsg:32628\n",
      "    res:            (30.0, 30.0)\n",
      "    is_tiled:       1\n",
      "    nodatavals:     (nan,)\n",
      "    scales:         (1.0,)\n",
      "    offsets:        (0.0,)\n",
      "    AREA_OR_POINT:  Area\n"
     ]
    }
   ],
   "source": [
    "# Load yearly and gapfill data\n",
    "yearly_ds, gapfill_ds = deacl_stats.load_rasters(raster_version, \n",
    "                                                 study_area, \n",
    "                                                 water_index,\n",
    "                                                 1985)\n",
    "print(yearly_ds)\n",
    "\n",
    "# Create output vector folder\n",
    "output_dir = f'output_data/{study_area}_{raster_version}/vectors'\n",
    "os.makedirs(f'{output_dir}/shapefiles', exist_ok=True)"
   ]
  },
  {
   "cell_type": "markdown",
   "metadata": {},
   "source": [
    "## Load vector data"
   ]
  },
  {
   "cell_type": "code",
   "execution_count": 7,
   "metadata": {},
   "outputs": [
    {
     "name": "stderr",
     "output_type": "stream",
     "text": [
      "/env/lib/python3.6/site-packages/geopandas/geodataframe.py:422: RuntimeWarning: Sequential read of iterator was interrupted. Resetting iterator. This can negatively impact the performance.\n",
      "  for feature in features_lst:\n"
     ]
    }
   ],
   "source": [
    "# Get bounding box to load data for\n",
    "bbox = gpd.GeoSeries(yearly_ds.geobox.extent.geom, crs=yearly_ds.geobox.crs)\n",
    "\n",
    "# Tide points\n",
    "tide_points_gdf = (gpd.read_file('input_data/5km_points_africa_coastal.geojson', \n",
    "                            bbox=bbox).to_crs(yearly_ds.crs))\n",
    "\n",
    "# Study area polygon\n",
    "comp_gdf = (gpd.read_file('input_data/32km_grid_africa_coastal.geojson', \n",
    "                          bbox=bbox)\n",
    "            .set_index('id')\n",
    "            .to_crs(str(yearly_ds.crs)))\n",
    "\n",
    "# Mask to study area\n",
    "study_area_poly = comp_gdf.loc[study_area]\n"
   ]
  },
  {
   "cell_type": "markdown",
   "metadata": {},
   "source": [
    "## Extract shoreline contours\n",
    "\n",
    "### Extract ocean-masked contours"
   ]
  },
  {
   "cell_type": "code",
   "execution_count": null,
   "metadata": {},
   "outputs": [],
   "source": [
    "# africa_mask = deacl_stats.africa_masking(ds=yearly_ds, \n",
    "#                               shp_path='input_data/africa_final1_dd84.shp', \n",
    "#                               opening=0, \n",
    "#                               closing=10)\n",
    "\n",
    "# from datacube.utils.geometry import assign_crs\n",
    "# from datacube.utils.cog import write_cog\n",
    "# import numpy as np\n",
    "\n",
    "# write_cog(assign_crs(africa_mask, yearly_ds.crs).astype(np.int16),\n",
    "#               fname=f'africa_mask.tif',\n",
    "#               overwrite=True)"
   ]
  },
  {
   "cell_type": "code",
   "execution_count": 8,
   "metadata": {},
   "outputs": [
    {
     "name": "stderr",
     "output_type": "stream",
     "text": [
      "/env/lib/python3.6/site-packages/geopandas/geodataframe.py:422: RuntimeWarning: Sequential read of iterator was interrupted. Resetting iterator. This can negatively impact the performance.\n",
      "  for feature in features_lst:\n"
     ]
    }
   ],
   "source": [
    "# Mask dataset to focus on coastal zone only\n",
    "masked_ds = deacl_stats.contours_preprocess(\n",
    "    yearly_ds,\n",
    "    gapfill_ds,\n",
    "    water_index,\n",
    "    index_threshold,\n",
    "    tide_points_gdf,\n",
    "    output_path=f'output_data/{study_area}_{raster_version}',\n",
    "    buffer_pixels=30) "
   ]
  },
  {
   "cell_type": "code",
   "execution_count": null,
   "metadata": {},
   "outputs": [],
   "source": [
    "# write_cog(assign_crs(masked_ds, yearly_ds.crs).astype(np.int16),\n",
    "#               fname=f'coastal_mask.tif',\n",
    "#               overwrite=True)"
   ]
  },
  {
   "cell_type": "code",
   "execution_count": null,
   "metadata": {},
   "outputs": [],
   "source": [
    "# from datacube.utils.cog import write_cog\n",
    "\n",
    "# write_cog(assign_crs(masked_ds.sel(year=2019), yearly_ds.crs).astype(np.float32),\n",
    "#               fname=f'2019_masked.tif',\n",
    "#               overwrite=True)\n"
   ]
  },
  {
   "cell_type": "code",
   "execution_count": 9,
   "metadata": {},
   "outputs": [
    {
     "name": "stdout",
     "output_type": "stream",
     "text": [
      "Operating in single z-value, multiple arrays mode\n",
      "Writing contours to temp.geojson\n"
     ]
    }
   ],
   "source": [
    "# Extract contours\n",
    "contours_gdf = (deacl_stats.subpixel_contours(da=masked_ds,\n",
    "                                              z_values=index_threshold,\n",
    "                                              min_vertices=10,\n",
    "                                              dim='year',\n",
    "                                              output_path=f'temp.geojson')\n",
    "                .set_index('year'))"
   ]
  },
  {
   "cell_type": "markdown",
   "metadata": {},
   "source": [
    "## Compute statistics\n",
    "### Create stats points on baseline contour"
   ]
  },
  {
   "cell_type": "code",
   "execution_count": null,
   "metadata": {},
   "outputs": [],
   "source": [
    "# Extract statistics modelling points along baseline contour\n",
    "points_gdf = deacl_stats.points_on_line(contours_gdf, \n",
    "                                        baseline_year, \n",
    "                                        distance=30)\n",
    "\n",
    "# # Clip to remove rocky shoreline points\n",
    "# points_gdf = deacl_stats.rocky_shores_clip(points_gdf, \n",
    "#                                            smartline_gdf, \n",
    "#                                            buffer=50)\n"
   ]
  },
  {
   "cell_type": "markdown",
   "metadata": {},
   "source": [
    "### Measure annual coastline movements"
   ]
  },
  {
   "cell_type": "code",
   "execution_count": null,
   "metadata": {},
   "outputs": [],
   "source": [
    "if points_gdf is not None:  \n",
    "\n",
    "    # Calculate annual movements and residual tide heights for every \n",
    "    # contour compared to the baseline year\n",
    "    points_gdf = deacl_stats.annual_movements(points_gdf,\n",
    "                                              contours_gdf,\n",
    "                                              yearly_ds,                                     \n",
    "                                              baseline_year,\n",
    "                                              water_index)"
   ]
  },
  {
   "cell_type": "markdown",
   "metadata": {},
   "source": [
    "### Calculate regressions"
   ]
  },
  {
   "cell_type": "code",
   "execution_count": null,
   "metadata": {},
   "outputs": [],
   "source": [
    "if points_gdf is not None:\n",
    "\n",
    "    # Apply regression function to each row in dataset\n",
    "    points_gdf = deacl_stats.calculate_regressions(points_gdf,\n",
    "                                                   contours_gdf,\n",
    "#                                                    climate_df,\n",
    "                                                  )\n",
    "    \n",
    "# Add in retreat/growth helper columns (used for web services)\n",
    "points_gdf['retreat'] = points_gdf.rate_time < 0 \n",
    "points_gdf['growth'] = points_gdf.rate_time > 0\n",
    "\n",
    "# Add Shoreline Change Envelope (SCE), Net Shoreline Movement \n",
    "# (NSM) and Max/Min years\n",
    "# stats_list = ['sce', 'nsm', 'max_year', 'min_year', 'breaks']\n",
    "# points_gdf = points_gdf.apply(\n",
    "#     lambda x: deacl_stats.all_time_stats(x), axis=1)"
   ]
  },
  {
   "cell_type": "code",
   "execution_count": null,
   "metadata": {},
   "outputs": [],
   "source": [
    "# points_gdf.to_crs('EPSG:4326').to_file(f'test_stats.geojson', driver='GeoJSON')"
   ]
  },
  {
   "cell_type": "markdown",
   "metadata": {},
   "source": [
    "## Export files\n",
    "\n",
    "### Export stats files"
   ]
  },
  {
   "cell_type": "code",
   "execution_count": null,
   "metadata": {},
   "outputs": [],
   "source": [
    "if points_gdf is not None:\n",
    "    \n",
    "    # Set up scheme to optimise file size\n",
    "    schema_dict = {key: 'float:8.2' for key in points_gdf.columns\n",
    "                   if key != 'geometry'}\n",
    "    schema_dict.update({'sig_time': 'float:8.3',\n",
    "                        'outl_time': 'str:80',\n",
    "#                         'sig_soi': 'float:8.3',\n",
    "#                         'outl_soi': 'str:80',\n",
    "                        'retreat': 'bool', \n",
    "                        'growth': 'bool',\n",
    "#                         'max_year': 'int:4',\n",
    "#                         'min_year': 'int:4',\n",
    "#                         'breaks': 'str:80',\n",
    "                       })\n",
    "    col_schema = schema_dict.items()\n",
    "\n",
    "    # Clip stats to study area extent, remove rocky shores\n",
    "    stats_path = f'{output_dir}/stats_{study_area}_{vector_version}_{water_index}_{index_threshold:.2f}'\n",
    "    points_gdf = points_gdf[points_gdf.intersects(study_area_poly['geometry'])]\n",
    "\n",
    "    # Export to GeoJSON\n",
    "    points_gdf.to_crs('EPSG:4326').to_file(f'{stats_path}.geojson', \n",
    "                                           driver='GeoJSON')\n",
    "\n",
    "    # Export as ESRI shapefiles\n",
    "    stats_path = stats_path.replace('vectors', 'vectors/shapefiles')\n",
    "    points_gdf.to_file(f'{stats_path}.shp',\n",
    "                       schema={'properties': col_schema,\n",
    "                               'geometry': 'Point'})"
   ]
  },
  {
   "cell_type": "markdown",
   "metadata": {},
   "source": [
    "### Export contours"
   ]
  },
  {
   "cell_type": "code",
   "execution_count": null,
   "metadata": {},
   "outputs": [],
   "source": [
    "# Assign certainty to contours based on underlying masks\n",
    "# contours_gdf = deacl_stats.contour_certainty(\n",
    "#     contours_gdf, \n",
    "#     output_path=f'output_data/{study_area}_{raster_version}')\n",
    "\n",
    "# Clip annual shoreline contours to study area extent\n",
    "contour_path = f'{output_dir}/contours_{study_area}_{vector_version}_' \\\n",
    "               f'{water_index}_{index_threshold:.2f}'\n",
    "contours_gdf['geometry'] = contours_gdf.intersection(study_area_poly['geometry'])\n",
    "contours_gdf.reset_index().to_crs('EPSG:4326').to_file(f'{contour_path}.geojson', \n",
    "                                                       driver='GeoJSON')\n",
    "\n",
    "# Export stats and contours as ESRI shapefiles\n",
    "contour_path = contour_path.replace('vectors', 'vectors/shapefiles')\n",
    "contours_gdf.reset_index().to_file(f'{contour_path}.shp')"
   ]
  },
  {
   "cell_type": "markdown",
   "metadata": {},
   "source": [
    "## Run from file"
   ]
  },
  {
   "cell_type": "code",
   "execution_count": null,
   "metadata": {},
   "outputs": [],
   "source": [
    "import glob\n",
    "dirs = glob.glob(f'output_data/*{vector_version}')\n",
    "all_tiles = set([dir_i.split('data/')[1].split('_')[0] for dir_i in dirs])\n",
    "\n",
    "processed_paths = glob.glob(f'output_data/*/vectors/stats_*_{vector_version}_mndwi_0.00.geojson')\n",
    "processed_tiles = set([os.path.basename(tile).split('_')[1] for tile in processed_paths])\n",
    "missing_tiles = all_tiles - processed_tiles\n",
    "print(f'{len(all_tiles)} total tiles\\n{len(processed_tiles)} processed tiles\\n{len(missing_tiles)} missing tiles')\n",
    "print(missing_tiles)"
   ]
  },
  {
   "cell_type": "code",
   "execution_count": 1,
   "metadata": {},
   "outputs": [
    {
     "name": "stderr",
     "output_type": "stream",
     "text": [
      "/env/lib/python3.6/site-packages/geopandas/_compat.py:88: UserWarning: The Shapely GEOS version (3.7.2-CAPI-1.11.0 ) is incompatible with the GEOS version PyGEOS was compiled with (3.9.1-CAPI-1.14.2). Conversions between both will be slow.\n",
      "  shapely_geos_version, geos_capi_version_string\n"
     ]
    },
    {
     "name": "stdout",
     "output_type": "stream",
     "text": [
      "87\n"
     ]
    },
    {
     "name": "stderr",
     "output_type": "stream",
     "text": [
      "/env/lib/python3.6/site-packages/geopandas/geodataframe.py:422: RuntimeWarning: Sequential read of iterator was interrupted. Resetting iterator. This can negatively impact the performance.\n",
      "  for feature in features_lst:\n",
      "/env/lib/python3.6/site-packages/geopandas/geodataframe.py:422: RuntimeWarning: Sequential read of iterator was interrupted. Resetting iterator. This can negatively impact the performance.\n",
      "  for feature in features_lst:\n"
     ]
    },
    {
     "name": "stdout",
     "output_type": "stream",
     "text": [
      "Operating in single z-value, multiple arrays mode\n",
      "Dropping 0\n",
      "Comparing annual movements with time\n"
     ]
    }
   ],
   "source": [
    "from deacoastlines_statistics import main\n",
    "\n",
    "tiles = [87]\n",
    "# tiles = missing_tiles\n",
    "\n",
    "for tile in tiles:\n",
    "    print(tile)\n",
    "    main(['out', tile, 'v0.0.1', 'v0.0.1'])"
   ]
  },
  {
   "cell_type": "markdown",
   "metadata": {},
   "source": [
    "## Generate continental summary layer"
   ]
  },
  {
   "cell_type": "code",
   "execution_count": 1,
   "metadata": {},
   "outputs": [
    {
     "name": "stderr",
     "output_type": "stream",
     "text": [
      "/env/lib/python3.6/site-packages/geopandas/_compat.py:88: UserWarning: The Shapely GEOS version (3.7.2-CAPI-1.11.0 ) is incompatible with the GEOS version PyGEOS was compiled with (3.9.1-CAPI-1.14.2). Conversions between both will be slow.\n",
      "  shapely_geos_version, geos_capi_version_string\n"
     ]
    },
    {
     "name": "stdout",
     "output_type": "stream",
     "text": [
      "Combining annual coastlines\n",
      "Combining rates of change statistics\n",
      "Generating hotspots\n"
     ]
    },
    {
     "data": {
      "application/vnd.jupyter.widget-view+json": {
       "model_id": "8858acd3d2dc4569afd88ce931943ccd",
       "version_major": 2,
       "version_minor": 0
      },
      "text/plain": [
       "Building index:   0%|          | 0/133579 [00:00<?, ?it/s]"
      ]
     },
     "metadata": {},
     "output_type": "display_data"
    },
    {
     "data": {
      "application/vnd.jupyter.widget-view+json": {
       "model_id": "246f09f3f12e44eeb34cc151974b1ed0",
       "version_major": 2,
       "version_minor": 0
      },
      "text/plain": [
       "Processing points:   0%|          | 0/1642 [00:00<?, ?it/s]"
      ]
     },
     "metadata": {},
     "output_type": "display_data"
    }
   ],
   "source": [
    "from deacoastlines_summary import main\n",
    "main(['out', 'v0.0.1', 'v0.0.1', '0.00', True, True, 2500])  # 2500 default summary"
   ]
  },
  {
   "cell_type": "code",
   "execution_count": null,
   "metadata": {},
   "outputs": [],
   "source": []
  },
  {
   "cell_type": "markdown",
   "metadata": {},
   "source": [
    "### Identify missed tiles"
   ]
  },
  {
   "cell_type": "code",
   "execution_count": null,
   "metadata": {},
   "outputs": [],
   "source": [
    "# # all_tiles = '2083 660 2423 3436 3437 3641 3539 3538 2374 2169 3089 2320 3640 2373 2372 2271 2270 2784 1969 2377 2379 2830 1813 676 780 678 677 2891 2890 2077 2789 2380 2278 2790 2889 1192 880 670 669 2282 984 567 559 773 774 3193 1098 1090 988 1088 1091 563 461 462 1982 1981 1880 1879 1779 1778 882 1092 1097 460 3297 3298 1089 987 565 568 778 881 985 776 675 3502 3400 661 1979 3500 1472 1575 2385 3501 3294 560 459 458 3399 3296 1301 1200 1199 2381 1405 1303 862 761 760 777 569 463 2082 1980 674 468 570 571 3091 3397 2183 2080 2582 3192 2179 2079 2078 3233 2788 4150 2626 2482 3131 3029 3132 2990 2785 467 566 464 2280 466 465 2688 1404 1302 2013 2218 2217 2115 2116 1711 2787 2687 2827 2886 2786 3031 3030 2929 2928 2319 2829 2828 2726 2523 2015 1913 1912 2421 1609 1608 1811 2625 1507 1506 4819 2588 2587 2383 2384 1298 1196 564 2181 1299 1197 1710 1297 1198 1096 764 662 865 2487 664 663 2382 562 561 1677 1676 1474 1371 1295 1296 1093 986 964 966 965 1066 1271 1270 1169 1168 5237 4107 3798 3800 4209 4208 3805 4307 4104 3799 4413 4311 4514 4003 4002 3901 3900 4207 5337 5432 3807 3705 3603 3602 5233 4308 4616 3905 4309 5134 5235 3804 3702 3701 3803 3802 5543 4511 4409 4512 5441 5339 5023 4921 5440 5437 4614 5335 5433 5436 5435 5334 5333 5331 5332 5127 4923 5330 4717 5328 5226 4310 4615 3806 5131 5029 5329 5024 5031 5133 5132 5230 5128 5232 4820 4718 4006 3904 3902 4922 4005 5231 5129 8627 8626 8625 8533 8531 8530 8529 8527 8434 8433 8432 8431 8430 8429 8428 8427 8426 8423 8422 8421 8419 8418 8335 8334 8333 8332 8331 8330 8329 8234 8233 8232 8231 8228 8227 8216 8215 8214 8211 8210 8133 8132 8131 8113 8111 8108 8107 8032 8030 8008 8007 8006 7929 7928 7906 7905 7904 7900 7832 7831 7828 7800 7799 7797 7731 7729 7727 7696 7632 7631 7630 7629 7628 7593 7592 7531 7530 7529 7490 7489 7385 7384 7285 7284 7283 7282 7276 7275 7178 7177 7176 7175 7174 7172 7061 6969 6968 6965 6958 6957 6867 6866 6863 6862 6861 6860 6857 6856 6761 6760 6759 6758 6757 6756 6754 6753 6657 6656 6557 6554 6553 6551 6550 6461 6460 6459 6458 6457 6361 6360 6357 6356 6355 6354 6260 6258 6160 6057 5956 5849 5749 5647 5646 5545 6728 6414 6923 4769 4768 4458 4560 5077 5076 5481 5792 5690 5793 5691 5478 5479 5480 4048 3946 3945 5689 5587 5586 5584 5482 5585 5483 6724 7029 6927 6932 5485 5384 5180 5179 5379 5282 5375 5381 5278 4047 4150 4355 3844 3843 4970 5693 4251 4149 3742 3741 4871 4457 4456 4354 4252 4763 5795 5376 7030 5378 5275 7135 6929 7132 5796 4971 4869 5174 5073 4766 4664 4767 4665 6828 4663 4870 7124 5794 5692 5176 4867 4765 4764 5074 4973 4972 4660 4558 7123 6309 7023 7022 7225 6717 7429 6714 7033 6925 6411 7327 6103 6612 7134 7133 7031 6818 6512 6410 6920 6921 6614 6819 6001 6000 5899 5898 6308 6307 6206 6205 6725 6620 6519 6514 6412 7229 7230 6823 6722 6518 6621 6830 6515 7026 7028 7027 6931 6721 6622 7231 6625 6413 6727 7233 7131 6623 6726 6624 6829 6517 6516 6618 6619 1473 763 2988 2481 2081 3398 8528 8532 8031 7281 4661 5279 5280 6613 6716 5277 6453 6555 6549 6755 6864 7798 8213 7930 7931 7830 7730 7024 7025 7127 7130 6930 7932 6824 6926 6715 5281 5383 5484 5380 5177 5377 5276 5175 4868 3335 2727 2728 2422 2524 2014 1812 1193 673 1372 1574 2182 2180 2486 2888 4004 4412 4513 5130 6820 7032 8112 5852 2584 5030 5228 4106 3903 3704 2989 5338 4411 4105 1067 2484 1195 2485 2586 2685 2686 2281 762 5126 5125 5227 1194 7901 8109 7129 671 672 864 8212 7903 5851 5544 5236 6651 6358 7902 7071 3090 2683 863 7232 779 2483 2583 2585 2684 2887 3295 3703 4206 4410 4559 4662 5075 5178 5229 5382 5850 5853 5952 5953 5954 5955 6158 6159 6259 6261 6353 6359 6454 6455 6456 6511 6552 6556 6652 6653 6654 6858 6865 6922 7070 7128 7173 7279 7280 7386 7387 7388 7695 8004 8005 8110 8316 8317 8318 8319 8420 8524 8525 8526'\n",
    "# # all_tiles = set(all_tiles.split(' '))\n",
    "\n",
    "\n",
    "# # Original tiles\n",
    "# import glob\n",
    "# vector_version = 'v1.1.3'\n",
    "# all_paths = glob.glob(f'output_data/*/vectors/contours_*_{vector_version}_mndwi_0.00.geojson')\n",
    "# all_tiles = set([os.path.basename(tile).split('_')[1] for tile in all_paths])\n",
    "\n",
    "# vector_version = 'v1.1.1'\n",
    "# processed_paths = glob.glob(f'output_data/*/vectors/contours_*_{vector_version}_mndwi_0.00.geojson')\n",
    "# processed_tiles = set([os.path.basename(tile).split('_')[1] for tile in processed_paths])\n",
    "# missing_tiles = all_tiles - processed_tiles\n",
    "# print(f'{len(all_tiles)} total tiles\\n{len(processed_tiles)} processed tiles\\n{len(missing_tiles)} missing tiles')"
   ]
  },
  {
   "cell_type": "code",
   "execution_count": null,
   "metadata": {},
   "outputs": [],
   "source": [
    "# ' '.join(sorted(missing_tiles))"
   ]
  },
  {
   "cell_type": "markdown",
   "metadata": {},
   "source": [
    "***\n",
    "\n",
    "## Additional information"
   ]
  },
  {
   "cell_type": "markdown",
   "metadata": {},
   "source": [
    "**License:** The code in this notebook is licensed under the [Apache License, Version 2.0](https://www.apache.org/licenses/LICENSE-2.0). \n",
    "Digital Earth Australia data is licensed under the [Creative Commons by Attribution 4.0](https://creativecommons.org/licenses/by/4.0/) license.\n",
    "\n",
    "**Contact:** For assistance with any of the Python code or Jupyter Notebooks in this repository, please post a [Github issue](https://github.com/GeoscienceAustralia/DEACoastLines/issues/new). For questions or more information about this product, sign up to the [Open Data Cube Slack](https://join.slack.com/t/opendatacube/shared_invite/zt-d6hu7l35-CGDhSxiSmTwacKNuXWFUkg) and post on the [`#dea-coastlines`](https://app.slack.com/client/T0L4V0TFT/C018X6J9HLY/details/) channel.\n",
    "\n",
    "**Last modified:** July 2021"
   ]
  }
 ],
 "metadata": {
  "kernelspec": {
   "display_name": "Python 3",
   "language": "python",
   "name": "python3"
  },
  "language_info": {
   "codemirror_mode": {
    "name": "ipython",
    "version": 3
   },
   "file_extension": ".py",
   "mimetype": "text/x-python",
   "name": "python",
   "nbconvert_exporter": "python",
   "pygments_lexer": "ipython3",
   "version": "3.6.9"
  },
  "widgets": {
   "application/vnd.jupyter.widget-state+json": {
    "state": {},
    "version_major": 2,
    "version_minor": 0
   }
  }
 },
 "nbformat": 4,
 "nbformat_minor": 4
}
